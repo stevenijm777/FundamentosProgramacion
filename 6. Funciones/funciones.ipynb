{
 "cells": [
  {
   "cell_type": "code",
   "execution_count": null,
   "id": "004a33c6",
   "metadata": {},
   "outputs": [],
   "source": [
    "#Realizar una calculadora\n"
   ]
  },
  {
   "cell_type": "code",
   "execution_count": 30,
   "id": "6e8d3ac4",
   "metadata": {},
   "outputs": [],
   "source": [
    "#archivo funciones\n",
    "# asignar una variable con un valor por defecto\n",
    "def suma(num1=0,num2=0):# num1= 5 num\n",
    "    total = num1+num2\n",
    "    return total"
   ]
  },
  {
   "cell_type": "code",
   "execution_count": 31,
   "id": "935662ab",
   "metadata": {},
   "outputs": [],
   "source": [
    "#Program principal \n",
    "num1 = 5\n",
    "num2 = 7\n",
    "num3 = 4\n"
   ]
  },
  {
   "cell_type": "code",
   "execution_count": 32,
   "id": "b5ad20b8",
   "metadata": {
    "scrolled": true
   },
   "outputs": [
    {
     "data": {
      "text/plain": [
       "12"
      ]
     },
     "execution_count": 32,
     "metadata": {},
     "output_type": "execute_result"
    }
   ],
   "source": [
    "# llamar una funcion\n",
    "# poner lo que retorna la funcion =  el nombre y argumentos de funcion\n",
    "\n",
    "total = suma(num1,num2)\n",
    "total"
   ]
  },
  {
   "cell_type": "code",
   "execution_count": 33,
   "id": "0a12ea3b",
   "metadata": {
    "scrolled": true
   },
   "outputs": [
    {
     "data": {
      "text/plain": [
       "15"
      ]
     },
     "execution_count": 33,
     "metadata": {},
     "output_type": "execute_result"
    }
   ],
   "source": [
    "total = suma(num1)\n",
    "total"
   ]
  },
  {
   "cell_type": "code",
   "execution_count": 41,
   "id": "abb3ac04",
   "metadata": {},
   "outputs": [],
   "source": [
    "def diferencia(num1=0,num2=0):\n",
    "    total = num1-num2\n",
    "    return total"
   ]
  },
  {
   "cell_type": "code",
   "execution_count": 42,
   "id": "3cb684c4",
   "metadata": {},
   "outputs": [
    {
     "data": {
      "text/plain": [
       "-15"
      ]
     },
     "execution_count": 42,
     "metadata": {},
     "output_type": "execute_result"
    }
   ],
   "source": [
    "# 20-15\n",
    "x= 15\n",
    "y= 20\n",
    "total = diferencia(num2=x)\n",
    "total"
   ]
  },
  {
   "cell_type": "code",
   "execution_count": 39,
   "id": "15c64555",
   "metadata": {},
   "outputs": [
    {
     "data": {
      "text/plain": [
       "-5"
      ]
     },
     "execution_count": 39,
     "metadata": {},
     "output_type": "execute_result"
    }
   ],
   "source": [
    "diferencia(x,y)"
   ]
  },
  {
   "cell_type": "code",
   "execution_count": 1,
   "id": "6942d681",
   "metadata": {},
   "outputs": [
    {
     "ename": "TypeError",
     "evalue": "object of type 'int' has no len()",
     "output_type": "error",
     "traceback": [
      "\u001b[1;31m---------------------------------------------------------------------------\u001b[0m",
      "\u001b[1;31mTypeError\u001b[0m                                 Traceback (most recent call last)",
      "\u001b[1;32m<ipython-input-1-aea95ceeaef8>\u001b[0m in \u001b[0;36m<module>\u001b[1;34m\u001b[0m\n\u001b[1;32m----> 1\u001b[1;33m \u001b[0mlen\u001b[0m\u001b[1;33m(\u001b[0m\u001b[1;36m11561\u001b[0m\u001b[1;33m)\u001b[0m\u001b[1;33m\u001b[0m\u001b[1;33m\u001b[0m\u001b[0m\n\u001b[0m",
      "\u001b[1;31mTypeError\u001b[0m: object of type 'int' has no len()"
     ]
    }
   ],
   "source": [
    "len(11561)"
   ]
  },
  {
   "cell_type": "code",
   "execution_count": 4,
   "id": "52ab4955",
   "metadata": {},
   "outputs": [
    {
     "name": "stdout",
     "output_type": "stream",
     "text": [
      "4 5 ['a', 2]\n",
      "None\n"
     ]
    }
   ],
   "source": [
    "x = print(\"4\",5,[\"a\",2])\n",
    "print(x)"
   ]
  },
  {
   "cell_type": "code",
   "execution_count": 8,
   "id": "e99b2908",
   "metadata": {},
   "outputs": [],
   "source": [
    "lista = [8,5,9,1,2,4,5]\n",
    "x = lista.append(5)\n"
   ]
  },
  {
   "cell_type": "code",
   "execution_count": 9,
   "id": "56918f36",
   "metadata": {},
   "outputs": [
    {
     "name": "stdout",
     "output_type": "stream",
     "text": [
      "None\n"
     ]
    }
   ],
   "source": [
    "print(x)"
   ]
  },
  {
   "cell_type": "code",
   "execution_count": 10,
   "id": "5ff67852",
   "metadata": {
    "scrolled": true
   },
   "outputs": [
    {
     "name": "stdout",
     "output_type": "stream",
     "text": [
      "[8, 5, 9, 1, 2, 4, 5, 5]\n"
     ]
    }
   ],
   "source": [
    "print(lista)"
   ]
  },
  {
   "cell_type": "code",
   "execution_count": 17,
   "id": "74c21bab",
   "metadata": {},
   "outputs": [],
   "source": [
    "import numpy as np\n",
    "x = np.array([1,2,3])\n",
    "def suma(x):\n",
    "    z=x+1\n",
    "suma(x)\n"
   ]
  },
  {
   "cell_type": "code",
   "execution_count": 18,
   "id": "56f63abb",
   "metadata": {
    "scrolled": false
   },
   "outputs": [
    {
     "name": "stdout",
     "output_type": "stream",
     "text": [
      "[1 2 3]\n"
     ]
    }
   ],
   "source": [
    "print(x)"
   ]
  },
  {
   "cell_type": "code",
   "execution_count": null,
   "id": "451b3dba",
   "metadata": {},
   "outputs": [],
   "source": []
  }
 ],
 "metadata": {
  "kernelspec": {
   "display_name": "Python 3 (ipykernel)",
   "language": "python",
   "name": "python3"
  },
  "language_info": {
   "codemirror_mode": {
    "name": "ipython",
    "version": 3
   },
   "file_extension": ".py",
   "mimetype": "text/x-python",
   "name": "python",
   "nbconvert_exporter": "python",
   "pygments_lexer": "ipython3",
   "version": "3.9.12"
  }
 },
 "nbformat": 4,
 "nbformat_minor": 5
}
