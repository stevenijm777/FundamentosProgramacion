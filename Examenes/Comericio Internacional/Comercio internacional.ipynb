{
 "cells": [
  {
   "cell_type": "code",
   "execution_count": null,
   "id": "3a9e2908",
   "metadata": {
    "scrolled": false
   },
   "outputs": [],
   "source": [
    "import numpy as np\n",
    "compradores=['Italia', 'Francia', 'Peru', 'Colombia', 'Estados Unidos', 'Ecuador', 'China']\n",
    "paises = ['Francia','Colombia','Ecuador']\n",
    "l_inds = [1,3,5]\n",
    "M = np.random.randint(0,10,(3,5))\n",
    "v_comp = np.array(compradores)\n",
    "v_paises = np.array(paises)\n",
    "M"
   ]
  },
  {
   "cell_type": "code",
   "execution_count": null,
   "id": "b54f9997",
   "metadata": {},
   "outputs": [],
   "source": [
    "categorias = ['Maderas','Frutas','Flores']\n",
    "compradores = ['Ecuador','EEUU','Mexico','Venezuela','Honduras','Nicaragua']\n",
    "nomArchivo = \"Datos.csv\"\n",
    "paises=['Italia', 'Francia', 'Peru', 'Colombia', 'Estados Unidos', 'Ecuador', 'China', 'Francia']\n",
    "maderas=['Abeto', 'Arce', 'Caoba', 'Cedro']\n",
    "frutas=['Aguacate', 'Albaricoque', 'Arandano', 'Cacao', 'Carambola']"
   ]
  },
  {
   "cell_type": "markdown",
   "id": "73a5310a",
   "metadata": {},
   "source": [
    "![](introduccion.PNG)"
   ]
  },
  {
   "cell_type": "markdown",
   "id": "ad9b34e0",
   "metadata": {},
   "source": [
    "![](Pregunta1.PNG)"
   ]
  },
  {
   "cell_type": "code",
   "execution_count": null,
   "id": "db3244a9",
   "metadata": {},
   "outputs": [],
   "source": [
    "def calcularTotales(categoria): #\"flores\"\n",
    "  f = open(categoria+\".txt\",\"r\")\n",
    "  f.readline()\n",
    "  dicc = {}\n",
    "  for linea in f:\n",
    "    comprador,vendedor,productos,unidades,ventas,fecha = linea.strip().split(',')\n",
    "    fecha = fecha.split('-')\n",
    "\n",
    "    if (comprador,vendedor,productos) not in dicc:\n",
    "      dicc[(comprador,vendedor,productos)] = float(ventas)\n",
    "    else:\n",
    "      dicc[(comprador,vendedor,productos)] += float(ventas)\n",
    "  f.close()\n",
    "  return dicc"
   ]
  },
  {
   "cell_type": "markdown",
   "id": "7820c235",
   "metadata": {},
   "source": [
    "![](Pregunta2.PNG)"
   ]
  },
  {
   "cell_type": "code",
   "execution_count": null,
   "id": "2e9374d4",
   "metadata": {},
   "outputs": [],
   "source": [
    "def consolidado(nomArchivo,categorias):\n",
    "  f = open(nomArchivo,'w')\n",
    "  PaisesCompradores = []\n",
    "  dicc_categorias = {}\n",
    "  for categoria in categorias:# flores\n",
    "    dicc = calcularTotales(categoria)\n",
    "    f.write('Comprador,Vendedor,Categoria,Producto,VentaTotalesDolares'+'\\n')\n",
    "    for (comprador,vendedor,producto),ventas in dicc.items():     #(USA,Ecu,rosas)\n",
    "      f.write(comprador + ','+vendedor + ','+categoria + ','+ producto + ','+ str(ventas) +'\\n')\n",
    "      if comprador not in PaisesCompradores:\n",
    "        PaisesCompradores.append(comprador)\n",
    "      if categoria not in dicc_categorias:\n",
    "        dicc_categorias[categoria] = [producto]\n",
    "      else:\n",
    "          if producto not in dicc_categorias[categoria]:\n",
    "            dicc_categorias[categoria].append(producto)\n",
    "  for nom_categoria in dicc_categorias:\n",
    "    dicc_categorias[nom_categoria].sort()\n",
    "  f.close()\n",
    "  return dicc_categorias,PaisesCompradores"
   ]
  },
  {
   "cell_type": "code",
   "execution_count": null,
   "id": "5cbd94c2",
   "metadata": {},
   "outputs": [],
   "source": [
    "def columnas(dicCategorias,categorias): # [maderas, frutas, flores]\n",
    "    l_prod = []\n",
    "    for cate in categorias:\n",
    "        l_prod.extend(dicc[cate])\n",
    "    return l_prod\n",
    "        \n",
    "def crearDicc(nomArchivo):\n",
    "    dicc= {}\n",
    "    f = open(nomArchivo,'r')\n",
    "    f.readline()\n",
    "    for linea in f:\n",
    "        comprador,vendedor,categoria,producto,ventas = linea.strip().split(\",\")\n",
    "        ventas = eval(ventas)\n",
    "        if categoria not in dicc:\n",
    "            dicc[categoria] = {(comprador,producto): ventas}\n",
    "        else:\n",
    "            if (comprador,producto) not in dicc[categoria]:\n",
    "                dicc[categoria].update({(comprador,producto): ventas})\n",
    "            else: \n",
    "                dicc[categoria][(comprador,producto)]+= ventas            \n",
    "    f.close()\n",
    "    return dicc\n",
    "  \n",
    "    \n",
    "def crearMatriz(nomArchivo, dicCategorias, compradores, categorias): # \"Datos.csv\",filas, [maderas,frutas,flores]\n",
    "    fils = len(compradores)\n",
    "    l_prod = columnas(dicCategorias)\n",
    "    cols= len(l_prod)\n",
    "    M = np.zeros((filas,cols))\n",
    "    dicc = crearDicc(nomArchivo)\n",
    "    for i in range(fils): # 0\n",
    "        comprador = compradores[i] # rusia\n",
    "        for categoria in categorias: # frutas\n",
    "            for producto in dicCategorias[categoria]: # cacao\n",
    "                ind_col = l_prod.index(producto) # 4\n",
    "                dicP = dicc[categoria] # {(comprador,Producto): ventas}\n",
    "                if (comprador, producto) in dicP:\n",
    "                    ventas = dicP[(comprador, producto)]\n",
    "                else:\n",
    "                    ventas = 0\n",
    "                M[i,ind_col] = ventas\n",
    "    return M,l_prod\n",
    "\n",
    "            "
   ]
  },
  {
   "cell_type": "code",
   "execution_count": null,
   "id": "9b8c54d7",
   "metadata": {},
   "outputs": [],
   "source": [
    "\n",
    "def CrearMatriz(nomArchivo,dicCategorias,compradores,categorias):\n",
    "  productos = []\n",
    "  for categoria in categorias:# madera\n",
    "    l_productos=dicCategorias[categoria] #[\"abeto,abedul....\"]\n",
    "    productos.extend(l_productos)\n",
    "  filas = len(compradores) # 7\n",
    "  columnas =  len(productos)#21\n",
    "  M = np.zeros((filas,columnas))\n",
    "  dicc = {}\n",
    "  f = open(nomArchivo,'r')\n",
    "  f.readline()\n",
    "  for linea in f:\n",
    "    comprador,vendedor,categoria,producto,VentaTotalesDolares =linea.strip().split(\",\")\n",
    "    if (comprador,producto,categoria) not in dicc:\n",
    "      dicc[(comprador,producto,categoria)] = float(VentaTotalesDolares)\n",
    "    else:\n",
    "      dicc[(comprador,producto,categoria)]+=float(VentaTotalesDolares)\n",
    "  f.close()\n",
    "  for i in range(filas): #0\n",
    "    comprador = compradores[i] # rusia\n",
    "    for categoria in categorias:# madera\n",
    "      for producto in dicCategorias[categoria]:# arce\n",
    "        j = productos.index(producto) #1\n",
    "        if (comprador,producto,categoria) in dicc:\n",
    "            ventas = dicc[(comprador,producto,categoria)] #665446846\n",
    "        else:\n",
    "            ventas = 0\n",
    "        M[i,j]=ventas\n",
    "  return M,productos\n"
   ]
  },
  {
   "cell_type": "code",
   "execution_count": null,
   "id": "a78f2234",
   "metadata": {},
   "outputs": [],
   "source": [
    "compradores=['Italia', 'Francia', 'Peru', 'Colombia', 'Estados Unidos', 'Ecuador', 'China', 'Francia']\n",
    "paises = ['Francia','Colombia','Ecuador']\n",
    "# ventas totales de ciertos paises\n",
    "l_indics = []#1, 3,5\n",
    "for pais in paises:\n",
    "    indi = compradores.index(pais) #3\n",
    "    l_indics.append(indi)\n",
    "l_ventas = []    \n",
    "for indice in l_indics:#1\n",
    "    fila = M[indice,:]\n",
    "    suma = fila.sum()\n",
    "    l_ventas.append(suma)\n",
    "\n"
   ]
  },
  {
   "cell_type": "code",
   "execution_count": null,
   "id": "636038e3",
   "metadata": {
    "scrolled": false
   },
   "outputs": [],
   "source": [
    "# Programa Principal\n",
    "dicCategorias,compradores= consolidado(nomArchivo,categorias)\n",
    "print(dicCategorias)\n",
    "print()\n",
    "print(compradores)\n",
    "print(\"dicc\")\n",
    "dicc = crearDicc(\"Datos.csv\")\n"
   ]
  },
  {
   "cell_type": "code",
   "execution_count": null,
   "id": "3961c40e",
   "metadata": {},
   "outputs": [],
   "source": [
    "# cual es la categoria con más ventas\n",
    "#iterar matriz por seccion \n",
    "ini_colum = 0\n",
    "l_ventas_secc= []\n",
    "for categoria in categorias: #madera\n",
    "    productos = diccCategorias[categoria] #[abeto...]\n",
    "    cantidad = len(productos) #5\n",
    "    final_colum  = ini_colum+cantidad\n",
    "    columna = M[:,ini_colum:final_colum]\n",
    "    ini_colum = final_colum\n",
    "    ventas = columna.sum()\n",
    "    l_ventas_secc.append(ventas)\n",
    "v_ventas = np.array(l_ventas_secc)\n",
    "indi = v_ventas.argmax()\n",
    "mayor = categorias[indi]"
   ]
  },
  {
   "cell_type": "code",
   "execution_count": null,
   "id": "52abf552",
   "metadata": {},
   "outputs": [],
   "source": [
    "l_anios = [2020,2021,2022]\n",
    "ini_col = 0\n",
    "for anio in l_anios:\n",
    "    fin_col = ini_col+12\n",
    "    M_anio = M[:,ini_col:fin_col]"
   ]
  },
  {
   "cell_type": "code",
   "execution_count": null,
   "id": "07d2fb28",
   "metadata": {},
   "outputs": [],
   "source": [
    "#top 5 de los \n",
    "\n",
    "filas = M.shape[0]\n",
    "l_ventas = [] #63748838384\n",
    "for  i in range(filas): #0\n",
    "    fila = M[i,:] #[9388 93822873 847757 ...]\n",
    "    suma = fila.sum() #63748838384\n",
    "    l_ventas.append(suma)\n",
    "l_tuplas = []\n",
    "for i in range(len(compradores)):\n",
    "    comprador = compradores[i]\n",
    "    precio = l_ventas[i]\n",
    "    tupla = (precio, comprador)\n",
    "    l_tuplas.append(tupla)\n",
    "l_tuplas.sort(reverse = True)\n",
    "top5 = L_tuplas[:5]"
   ]
  },
  {
   "cell_type": "code",
   "execution_count": null,
   "id": "326666d2",
   "metadata": {},
   "outputs": [],
   "source": []
  },
  {
   "cell_type": "code",
   "execution_count": null,
   "id": "6570874d",
   "metadata": {},
   "outputs": [],
   "source": []
  },
  {
   "cell_type": "code",
   "execution_count": null,
   "id": "d956b181",
   "metadata": {},
   "outputs": [],
   "source": [
    "M,productos = CrearMatriz(nomArchivo,dicCategorias,compradores,categorias)"
   ]
  },
  {
   "cell_type": "code",
   "execution_count": null,
   "id": "4402724b",
   "metadata": {},
   "outputs": [],
   "source": [
    "#1\n",
    "sumaPaises = M.sum(axis=1)\n",
    "Masventas = sumaPaises.argmax() #7\n",
    "print(compradores[Masventas]) #USa"
   ]
  },
  {
   "cell_type": "code",
   "execution_count": null,
   "id": "a661c06e",
   "metadata": {},
   "outputs": [],
   "source": [
    "#2\n",
    "sumaProducto = M.sum(axis=0)\n",
    "menosVentas = sumaProducto.argmin() #6 ('Mora')\n",
    "producto = productos[menosVentas]#mora\n",
    "print(producto)\n",
    "for categoria in categorias:\n",
    "    if producto in dicCategorias[categoria]:\n",
    "        print(categoria)"
   ]
  },
  {
   "cell_type": "code",
   "execution_count": null,
   "id": "9637b88a",
   "metadata": {},
   "outputs": [],
   "source": [
    "#3\n",
    "Lis_paises = []\n",
    "T_paises = M.sum(axis=1) #878678, 8768567, 978778686t5,76665\n",
    "for i in range(len(T_paises)):\n",
    "  total = T_paises[i]\n",
    "  pais  =  compradores[i]\n",
    "  tupla = (total,pais)\n",
    "  Lis_paises.append(tupla)\n",
    "Lis_paises.sort(reverse=True)\n",
    "top5 = Lis_paises[:5]"
   ]
  },
  {
   "cell_type": "code",
   "execution_count": null,
   "id": "f8e9e8de",
   "metadata": {},
   "outputs": [],
   "source": [
    "#4\n",
    "ventasProductos = []\n",
    "#validar\n",
    "#1. inicializas la variable q está en la condicion\n",
    "NombreProduc = input('Ingrese el nombre de un producto: ')\n",
    "while not(NombreProduc in productos):\n",
    "  #2. mensaje de advertencia\n",
    "  print(\"el producto ingresado no está en la lista de productos\")\n",
    "  #3. actualizar la variable que està en la condicion\n",
    "  NombreProduc = input('Ingrese el nombre de un producto: ')\n",
    "ind_col = productos.index(NombreProduc)\n",
    "v_producto = M[:,ind_col]\n",
    "for i in range(len(compradores)):\n",
    "  pais = compradores[i]\n",
    "  venta = v_producto[i]\n",
    "  tupla = (venta,pais)\n",
    "  ventasProductos.append(tupla)\n",
    "ventasProductos.sort(reverse=True)"
   ]
  },
  {
   "cell_type": "code",
   "execution_count": null,
   "id": "65e7ce49",
   "metadata": {},
   "outputs": [],
   "source": [
    "#5\n",
    "Pais = input('Ingrese un Pais: ')\n",
    "while not (Pais in compradores):\n",
    "  print('El Pais ingresado no esta en compradores, por favor ingrese de nuevo')\n",
    "  Pais = input('Ingrese un Pais: ')\n",
    "ind_fila = compradores.index(Pais)\n",
    "v_productos= np.array(productos)\n",
    "v_pais = M[ind_fila,:]\n",
    "condicion = v_pais ==0\n",
    "prod_Pais = v_productos[condicion]\n",
    "d_cat_no_comprados = []\n",
    "for categoria in categorias:\n",
    "  for producto in prod_Pais:\n",
    "    if producto in dicCategorias[categoria]:\n",
    "      if categoria not in d_cat_no_comprados:\n",
    "        d_cat_no_comprados[categoria]= [producto]\n",
    "      else:\n",
    "        d_cat_no_comprados[categoria].append(producto)\n",
    "print(d_cat_no_comprados)  "
   ]
  },
  {
   "cell_type": "code",
   "execution_count": null,
   "id": "ce061741",
   "metadata": {},
   "outputs": [],
   "source": [
    "#6\n",
    "l_ventas = []\n",
    "ini_col = 0 # 9\n",
    "for categoria in categorias:# flores\n",
    "  prod_cats = dicCategorias[categoria] # [girasol, flor roja ....]\n",
    "  fin_col = ini_col+len(prod_cats) # 13\n",
    "  M_catg = M[:,ini_col:fin_col] \n",
    "  t_ventas = M_catg.sum()\n",
    "  l_ventas.append(t_ventas)\n",
    "  ini_col = fin_col\n",
    "v_ventas = np.array(l_ventas)\n",
    "ind_v_catg = v_ventas.argmax()  #1\n",
    "catg_Mejor = categorias[ind_v_catg]\n",
    "print(catg_Mejor)"
   ]
  },
  {
   "cell_type": "markdown",
   "id": "cc300d06",
   "metadata": {},
   "source": [
    "![](ProgramaPrincipal.PNG)"
   ]
  },
  {
   "cell_type": "markdown",
   "id": "201df33a",
   "metadata": {},
   "source": [
    "![](Pregunta3.PNG)"
   ]
  },
  {
   "cell_type": "code",
   "execution_count": null,
   "id": "cb405458",
   "metadata": {},
   "outputs": [],
   "source": [
    "def sacar_Categoria(M,categorias,categoria,dicc):\n",
    "    ini_colu = 0\n",
    "    lista = []\n",
    "    for cate in categorias:#frutas\n",
    "        produc = dicc[cate] #\n",
    "        cant = len(produc)#3\n",
    "        fina_col = ini_colu+cant #10\n",
    "        M_peq =M[:,ini_colu:fina_col] #segunda parte\n",
    "        ini_colu = fina_col #7\n",
    "        lista.append(M_peq)\n",
    "    ind =categorias.index(categoria)   #2\n",
    "    return lista[ind]\n",
    "        \n"
   ]
  },
  {
   "cell_type": "code",
   "execution_count": null,
   "id": "d6f05797",
   "metadata": {},
   "outputs": [],
   "source": [
    "# 7\n",
    "columna = M.shape[1]\n",
    "for cate in categoria:\n",
    "    \n",
    "\n",
    "maxi = secc_flores.max()\n",
    "for ju in range(columna):\n",
    "    valores = seccion_fru\n",
    "    comp = valores==maxi\n",
    "\n",
    "                       \n",
    "\n"
   ]
  }
 ],
 "metadata": {
  "kernelspec": {
   "display_name": "Python 3",
   "language": "python",
   "name": "python3"
  },
  "language_info": {
   "codemirror_mode": {
    "name": "ipython",
    "version": 3
   },
   "file_extension": ".py",
   "mimetype": "text/x-python",
   "name": "python",
   "nbconvert_exporter": "python",
   "pygments_lexer": "ipython3",
   "version": "3.9.5"
  }
 },
 "nbformat": 4,
 "nbformat_minor": 5
}
