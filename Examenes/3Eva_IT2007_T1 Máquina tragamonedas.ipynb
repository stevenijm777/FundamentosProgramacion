{
 "cells": [
  {
   "cell_type": "markdown",
   "id": "119197a9",
   "metadata": {},
   "source": [
    "# 3Eva_IT2007_T1 Máquina tragamonedas"
   ]
  },
  {
   "cell_type": "markdown",
   "id": "128a861f",
   "metadata": {},
   "source": [
    "Tema 1. (20 puntos) Simular una máquina tragamonedas consiste en generar tres números del 0 al 9, la misma que paga la siguiente cantidad de monedas de acuerdo a la situación:\n",
    "\n",
    "tragamonedas\n",
    "\n",
    "* 20 monedas por un trío (los tres números iguales)\n",
    "* 10 monedas por un par (dos de los tres números iguales)\n",
    "\n",
    "Cada jugada tiene un costo de 5 monedas, y la máquina siempre empieza con 15 monedas (para suplir el caso de que en la primera jugada salga un trío).\n",
    "\n",
    "Escriba un programa que permita a un jugador ingresar la cantidad de monedas que dispone para el juego, realizar jugadas consecutivas y detenerse por insuficientes monedas ya sean del jugador o de la máquina para un próximo premio por tríos."
   ]
  },
  {
   "cell_type": "code",
   "execution_count": 2,
   "id": "0c0a1ab8",
   "metadata": {},
   "outputs": [
    {
     "data": {
      "text/plain": [
       "'111'"
      ]
     },
     "execution_count": 2,
     "metadata": {},
     "output_type": "execute_result"
    }
   ],
   "source": [
    "# generar un número de 0 a 9\n",
    "import random as rd\n",
    "# generar numero aleatrio\n",
    "num1 = rd.randint(0,9)\n",
    "num2 = rd.randint(0,9)\n",
    "num3 = rd.randint(0,9)\n",
    "num = str(num1) + str(num2) + str(num3)\n",
    "num"
   ]
  },
  {
   "cell_type": "code",
   "execution_count": 3,
   "id": "45b1e99e",
   "metadata": {
    "scrolled": false
   },
   "outputs": [
    {
     "data": {
      "text/plain": [
       "407"
      ]
     },
     "execution_count": 3,
     "metadata": {},
     "output_type": "execute_result"
    }
   ],
   "source": [
    "num = rd.randint(100,999)\n",
    "num"
   ]
  },
  {
   "cell_type": "code",
   "execution_count": 15,
   "id": "ba344670",
   "metadata": {},
   "outputs": [],
   "source": [
    "maquina = 15 # cantidad de monedas inicial de la maquina\n",
    "\n",
    "persona = int(input(\"Ingrese la cantidad de monedas: \")) # 25"
   ]
  },
  {
   "cell_type": "code",
   "execution_count": null,
   "id": "7bd73005",
   "metadata": {},
   "outputs": [],
   "source": [
    "while not(persona < 5 or maquina < 5):\n",
    "    persona -= 5\n",
    "    maquina += 5\n",
    "    print(\"se ingresa con cant persona\",persona)\n",
    "    print(\"se ingresa con maquina\", maquina)\n",
    "    # generar los 3 números aleatorios\n",
    "    num1 = rd.randint(0,9) # 2\n",
    "    num2 = rd.randint(0,9) # 1\n",
    "    num3 = rd.randint(0,9) # 3\n",
    "    # mostrar los numers\n",
    "    num = str(num1)+ str(num2)+str(num3)\n",
    "    print(num)\n",
    "    # 20 monedas (3 nueros iguales)\n",
    "    if (num1 == num2 == num3):\n",
    "        persona += 20\n",
    "        maquina -= 20\n",
    "    # 10 monedas (2 nueros iguales  \n",
    "    elif (num1 == num2 or num1 == num3 or num2 == num3):\n",
    "        persona += 10\n",
    "        maquina -=10\n",
    "    print(\"cant persona\",persona)\n",
    "    print(\"maquina\", maquina)\n",
    "    print(cont)\n",
    "if (persona<5):\n",
    "    print(\"gano maquina\")\n",
    "else:\n",
    "    print(\"gano persona\")"
   ]
  }
 ],
 "metadata": {
  "kernelspec": {
   "display_name": "Python 3 (ipykernel)",
   "language": "python",
   "name": "python3"
  },
  "language_info": {
   "codemirror_mode": {
    "name": "ipython",
    "version": 3
   },
   "file_extension": ".py",
   "mimetype": "text/x-python",
   "name": "python",
   "nbconvert_exporter": "python",
   "pygments_lexer": "ipython3",
   "version": "3.10.4"
  }
 },
 "nbformat": 4,
 "nbformat_minor": 5
}
