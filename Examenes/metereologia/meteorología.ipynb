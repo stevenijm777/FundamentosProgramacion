{
 "cells": [
  {
   "cell_type": "code",
   "execution_count": 6,
   "id": "2cc999c3",
   "metadata": {},
   "outputs": [],
   "source": [
    "import numpy as np\n",
    "years=[2012, 2013, 2014, 2015, 2016, 2017, 2018, 2019, 2020]\n",
    "huracanes={2012: ('Paula', 'Romina', 'Sasha', 'Federico', 'Claudia', 'María'),\n",
    "           2013: ('Donato', 'Sara', 'Flavio', 'Maurizio'),\n",
    "           2014: ('Simón', 'Fabrizio', 'Ariel', 'Lucía', 'Ana', 'Enzo'),\n",
    "           2015: ('Emma', 'Santino', 'Silas', 'Benjamín'),\n",
    "           2016: ('Carlo', 'Dante', 'Valeria', 'Santiago', 'Geronimo', 'Isabella'), 2017: ('Ángel', 'Thiago', 'Matías', 'Julián'), 2018: ('Alba', 'Sofía', 'Guido', 'Filippo', 'Luigi'), 2019: ('Andrea', 'Irene', 'Piero', 'Julia', 'Romeo'), 2020: ('Lorenzo', 'Leonardo', 'Marco', 'Erick', 'Martina', 'Daniela')}\n",
    "\n",
    "#rangos=[(1,20),(50,300),(50,300),(0,150),(0,10)]\n",
    "columnas=['Paula', 'Romina', 'Sasha', 'Federico', 'Claudia', 'María', 'Donato', 'Sara', 'Flavio', 'Maurizio', 'Simón', 'Fabrizio', 'Ariel', 'Lucía', 'Ana', 'Enzo', 'Emma', 'Santino', 'Silas', 'Benjamín', 'Carlo', 'Dante', 'Valeria', 'Santiago', 'Geronimo', 'Isabella', 'Ángel', 'Thiago', 'Matías', 'Julián', 'Alba', 'Sofía', 'Guido', 'Filippo', 'Luigi', 'Andrea', 'Irene', 'Piero', 'Julia', 'Romeo', 'Lorenzo', 'Leonardo', 'Marco', 'Erick', 'Martina', 'Daniela']\n",
    "M=np.array([[2.0, 2.0, 12.0, 5.0, 5.0, 15.0, 13.0, 15.0, 2.0, 15.0, 2.0, 4.0, 3.0, 4.0, 11.0, 6.0, 5.0, 17.0, 4.0, 5.0, 8.0, 18.0, 10.0, 6.0, 3.0, 6.0, 2.0, 2.0, 5.0, 10.0, 13.0, 5.0, 6.0, 7.0, 13.0, 11.0, 9.0, 11.0, 18.0, 6.0, 7.0, 8.0, 10.0, 2.0, 11.0, 9.0],\n",
    "            [248.0, 101.0, 114.0, 99.0, 204.0, 218.0, 92.0, 168.0, 204.0, 165.0, 238.0, 159.0, 285.0, 248.0, 188.0, 245.0, 126.0, 292.0, 236.0, 264.0, 67.0, 226.0, 146.0, 98.0, 158.0, 126.0, 169.0, 245.0, 232.0, 266.0, 129.0, 88.0, 255.0, 275.0, 202.0, 236.0, 57.0, 223.0, 69.0, 213.0, 291.0, 88.0, 92.0, 213.0, 166.0, 93.0],\n",
    "            [133.0, 132.0, 137.0, 64.0, 89.0, 199.0, 222.0, 104.0, 247.0, 202.0, 117.0, 281.0, 214.0, 156.0, 234.0, 274.0, 126.0, 256.0, 159.0, 142.0, 196.0, 299.0, 261.0, 62.0, 201.0, 272.0, 237.0, 189.0, 132.0, 197.0, 288.0, 147.0, 137.0, 205.0, 85.0, 292.0, 180.0, 284.0, 100.0, 246.0, 168.0, 120.0, 293.0, 104.0, 260.0, 201.0],\n",
    "            [29.0, 20.0, 85.0, 54.0, 93.0, 8.0, 16.0, 10.0, 21.0, 71.0, 124.0, 117.0, 87.0, 22.0, 120.0, 59.0, 34.0, 129.0, 0.0, 127.0, 133.0, 92.0, 9.0, 66.0, 79.0, 34.0, 139.0, 108.0, 103.0, 95.0, 98.0, 113.0, 59.0, 95.0, 57.0, 25.0, 36.0, 105.0, 48.0, 138.0, 42.0, 13.0, 117.0, 37.0, 47.0, 75.0],\n",
    "            [7.0, 0.0, 7.0, 5.0, 2.0, 1.0, 8.0, 1.0, 7.0, 8.0, 6.0, 0.0, 5.0, 5.0, 0.0, 8.0, 3.0, 1.0, 0.0, 9.0, 1.0, 8.0, 8.0, 6.0, 5.0, 6.0, 9.0, 2.0, 7.0, 8.0, 4.0, 5.0, 4.0, 8.0, 8.0, 7.0, 3.0, 7.0, 7.0, 9.0, 7.0, 9.0, 8.0, 0.0, 0.0, 7.0]])\n"
   ]
  },
  {
   "cell_type": "markdown",
   "id": "902442c2",
   "metadata": {},
   "source": [
    "![](introducion.PNG)"
   ]
  },
  {
   "cell_type": "markdown",
   "id": "46464ef0",
   "metadata": {},
   "source": [
    "![](introduccion.PNG)"
   ]
  },
  {
   "cell_type": "markdown",
   "id": "9e05866f",
   "metadata": {},
   "source": [
    "![](huracanes.PNG)"
   ]
  },
  {
   "cell_type": "markdown",
   "id": "8fb8fe7a",
   "metadata": {},
   "source": [
    "![](1.PNG)"
   ]
  },
  {
   "cell_type": "code",
   "execution_count": null,
   "id": "60b4bea2",
   "metadata": {},
   "outputs": [],
   "source": [
    "# 1.\n",
    "def total_marejada(M,cat): # 3\n",
    "  velocidad_v = M[2,:]  \n",
    "  marejada = M[4,:]\n",
    "  valor_cond = []\n",
    "  # iterar paralelamente\n",
    "  for i in range(len(marejada)): #se debe iterar cada valor de la fila \n",
    "    num = velocidad_v[i]\n",
    "    if cat ==1:\n",
    "      if num < 100:\n",
    "        valor_mare= marejada[i]\n",
    "        valor_cond.append(valor_mare)\n",
    "    elif cat ==2:\n",
    "      if num >100 and num <150:\n",
    "        valor_mare= marejada[i]\n",
    "        valor_cond.append(valor_mare)\n",
    "    elif cat == 3:\n",
    "      if num >150 and num <200:\n",
    "        valor_mare= marejada[i]\n",
    "        valor_cond.append(valor_mare)\n",
    "    elif cat ==4:\n",
    "      if num >200 and num <250:\n",
    "        valor_mare= marejada[i]\n",
    "        valor_cond.append(valor_mare)\n",
    "    else:\n",
    "      if num >250:\n",
    "        valor_mare= marejada[i]\n",
    "        valor_cond.append(valor_mare)\n",
    "  suma = sum(valor_cond)\n",
    "  return suma"
   ]
  },
  {
   "cell_type": "markdown",
   "id": "ee641917",
   "metadata": {},
   "source": [
    "![](2.PNG)"
   ]
  },
  {
   "cell_type": "code",
   "execution_count": 7,
   "id": "a1025df8",
   "metadata": {},
   "outputs": [],
   "source": [
    "#2.\n",
    "def indices_anio(huracanes,anio): #2017\n",
    "  anios = list(huracanes.keys()) # [2015 2017 2016]\n",
    "  anios.sort() #[2015 2016 2017]\n",
    "  ini_col = 0 #7\n",
    "  for anio_ord in anios: #2017\n",
    "    hura_anio = huracanes[anio_ord] # [X,V,Z,B]\n",
    "    fin_col = ini_col + len(hura_anio) # 11\n",
    "    if anio_ord == anio:\n",
    "      return ini_col,fin_col\n",
    "    ini_col = fin_col"
   ]
  },
  {
   "cell_type": "markdown",
   "id": "f4612cbf",
   "metadata": {},
   "source": [
    "![](3.PNG)"
   ]
  },
  {
   "cell_type": "code",
   "execution_count": 8,
   "id": "c0d9be73",
   "metadata": {},
   "outputs": [],
   "source": [
    "def velocidad_superior(M,huracanes,anio): #2012\n",
    "  ini_col,fin_col = indices_anio(huracanes,anio) #0,3\n",
    "  vd_anio = M[0,ini_col:fin_col] #[2 8 13]\n",
    "  prom_anio = vd_anio.mean()\n",
    "  hura_Mayor = vd_anio[vd_anio>prom_anio]\n",
    "  cant_hura = len(hura_Mayot)\n",
    "  return cant_hura"
   ]
  },
  {
   "cell_type": "markdown",
   "id": "f7092dac",
   "metadata": {},
   "source": [
    "![](4.PNG)"
   ]
  },
  {
   "cell_type": "code",
   "execution_count": 9,
   "id": "1a91c70f",
   "metadata": {},
   "outputs": [],
   "source": [
    "def Ace(M,huracanes,anio): #2020\n",
    "  ini_col,fin_col = indices_anio(huracanes,anio) #M  #25,28\n",
    "  velocidad_v = M[2,ini_col:fin_col] #189,120,197\n",
    "  suma_VV = [] #[9 4 1]\n",
    "  for valor in velocidad_v: #189 = 2\n",
    "    VVn = valor ** 2 # 9\n",
    "    suma_VV.append(VVn)\n",
    "  cantidadEnergia = 10**-4 * sum(suma_VV)\n",
    "  return cantidadEnergia"
   ]
  },
  {
   "cell_type": "markdown",
   "id": "7fc75d89",
   "metadata": {},
   "source": [
    "![](5.PNG)"
   ]
  },
  {
   "cell_type": "code",
   "execution_count": 10,
   "id": "a1df0469",
   "metadata": {},
   "outputs": [],
   "source": [
    "def lluvia(M,huracanes,nombre_huracan,anio): #Thiago #2020\n",
    "  ini_col,fin_col = indices_anio(huracanes,anio) #25,28 (no incluye el 26)\n",
    "  lluvia = M[3,ini_col:fin_col] #108,208,107\n",
    "  nombres = huracanes[anio] #thiago,fernanda,julian\n",
    "  indice = nombres.index(nombre_huracan) #0\n",
    "  cant_lluvia = lluvia[indice] #108\n",
    "  return cant_lluvia"
   ]
  }
 ],
 "metadata": {
  "kernelspec": {
   "display_name": "Python 3",
   "language": "python",
   "name": "python3"
  },
  "language_info": {
   "codemirror_mode": {
    "name": "ipython",
    "version": 3
   },
   "file_extension": ".py",
   "mimetype": "text/x-python",
   "name": "python",
   "nbconvert_exporter": "python",
   "pygments_lexer": "ipython3",
   "version": "3.9.5"
  }
 },
 "nbformat": 4,
 "nbformat_minor": 5
}
