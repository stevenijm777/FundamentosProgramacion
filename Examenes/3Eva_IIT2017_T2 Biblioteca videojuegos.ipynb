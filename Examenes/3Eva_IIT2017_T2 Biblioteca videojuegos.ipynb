{
 "cells": [
  {
   "cell_type": "markdown",
   "id": "ce5e618c",
   "metadata": {},
   "source": [
    "videojuegos.csv\n",
    "Nombre, Año, Consola, Calificación, Tags (separados por ;)\n",
    "The Legend of Zelda,86,Famicon Disk System,3.5,RPG;Link;Zelda;Hyrile;Triforce\n",
    "Double Dragon,87,Arcade,3.7,Beat-em up; Billy;Jimmy;Puñete\n",
    "The Legend of Zelda,88,NES,4.3,RPG;Link;Zelda;Hyrule;Triforce\n",
    "Halo 5:Guardians,15,Xbox One,4,FPS;Master Chief;Cortana;Covenant\n",
    "Mario,88,NITENDO,3.3,RPG;Link;Zelda;Hyrule;Triforce\n",
    "..."
   ]
  },
  {
   "cell_type": "code",
   "execution_count": null,
   "id": "8e4eceba",
   "metadata": {},
   "outputs": [],
   "source": [
    "#http://blog.espol.edu.ec/ccpg1001/3eva_iit2017_t2-biblioteca-video\n",
    "import numpy as np\n",
    "def diccJuegos(nomArchivo,categoria,decada):\n",
    "  dicc = {}\n",
    "  f=open(nomArchivo,\"r\")\n",
    "  f.readline()\n",
    "  for linea in f:\n",
    "    nombre,año, consola, calificacion, tags=linea.strip().split(\",\")\n",
    "    categorias = tags.split(\";\")[0]  #RPG\n",
    "\t\tdecada = int(str(decada)[-2:])  #\"80\"\n",
    "\t\tif (categoria in categorias) and decada <= int(año) < decada + 10:\n",
    "      diccP = {categoria:{consola:int(calificacion)}}\n",
    "      if nombre not in dicc:\n",
    "        dicc[nombre]= diccP\n",
    "        dicc[\"tags\"]=tags.split(\";\")\n",
    "      else:\n",
    "        dicc[nombre][categoria].update({consola: int(calificacion)})  \n",
    "  return dicc"
   ]
  },
  {
   "cell_type": "code",
   "execution_count": null,
   "id": "6e8320bb",
   "metadata": {},
   "outputs": [],
   "source": [
    "def juegosConsolas(nomArchivo, categoria, decada):  # \"RPG\",1970\n",
    "  dicc = diccJuegos(nomArchivo,categoria,decada)\n",
    "  juegos = list(dicc.keys())\n",
    "  l_consolas = []\n",
    "  for juego in juegos:\n",
    "    consolas= dicc[juego][categoria].keys()\n",
    "    for consola in consolas:\n",
    "      if consola not in l_consolas:\n",
    "        l_consolas.append(consola)\n",
    "\treturn (juegos, l_consolas)"
   ]
  },
  {
   "cell_type": "code",
   "execution_count": null,
   "id": "44613a90",
   "metadata": {},
   "outputs": [],
   "source": [
    "def crearMatriz(nomArchivo, categoria, decada): #RPG, 1980\n",
    "  juegos,consolas = juegosConsolas(nomArchivo, categoria, decada)\n",
    "  filas = len(juegos)\n",
    "  cols = len(consolas)\n",
    "  M = np.zeros((filas,cols))\n",
    "  f = open(nomArchivo,\"r\")\n",
    "  f.readline()\n",
    "  for linea in f: # Mario,88,NITENDO,3.3,RPG;Link;Zelda;Hyrule;Triforce\n",
    "    nombre, año, consola, calificacion, tags = linea.strip().split(\",\")\n",
    "    if nombre in juegos:\n",
    "      ind_fila= juegos.index(nombre) # 1\n",
    "      ind_col = consolas.index(consola) # 1\n",
    "      M[ind_fila, ind_col]+=int(calificacion)\n",
    "  return M"
   ]
  },
  {
   "cell_type": "code",
   "execution_count": null,
   "id": "f9ee6aa6",
   "metadata": {},
   "outputs": [],
   "source": [
    "def mejoresJuegos(nomArchivo, categoria, decada):#RGB, 1980\n",
    "  juegos,consolas = juegosConsolas(nomArchivo, categoria, decada)\n",
    "  M = crearMatriz(nomArchivo, categoria, decada)\n",
    "  f= open(\"Mejores.txt\",\"w\")\n",
    "  # iterar por fila\n",
    "  lista = []\n",
    "  for fila in range(len(juegos)): # 0\n",
    "    juego = M[fila,:] #[3.5 0 4.3]\n",
    "    condicion =  juego!=0\n",
    "    calificaciones = juego[condicion] # [3.5 4.3]\n",
    "    prom = calificaciones.mean()\n",
    "    nombre = juegos[fila]\n",
    "    tupla = (prom,nombre)\n",
    "    lista.append(tupla)\n",
    "  lista.sort(reverse=True)\n",
    "  top5 = lista[0:5]\n",
    "  for promedio, nomJuego in top5:\n",
    "    f.write(nomJuego+\",\"+promedio+\"\\n\")\n",
    "  f.close()"
   ]
  },
  {
   "cell_type": "code",
   "execution_count": null,
   "id": "2dd131c9",
   "metadata": {},
   "outputs": [],
   "source": [
    "def colecciones(nomArchivo, palabras):\n",
    "  f = open(nomArchivo,\"r\")\n",
    "  f.readline()\n",
    "  juegosUnicos=set()\n",
    "  for linea in f:\n",
    "    nombre, año, consola, calificacion, tags = linea.strip().split(\",\")\n",
    "    l_tags = tags.split(\";\")\n",
    "    if l_tags == palabras:\n",
    "      juegosUnicos.add(nombre)\n",
    "  listaJuegos=list(juegosUnicos)\n",
    "  return listaJuegos"
   ]
  },
  {
   "cell_type": "code",
   "execution_count": null,
   "id": "cbe1e669",
   "metadata": {},
   "outputs": [],
   "source": [
    "#Main\n",
    "listajuegos,listaConso=juegosConsolas(\"videojuegos.csv\",\"RPG\",1980)\n",
    "print(listajuegos)\n",
    "\n",
    "print(listaConso)\n"
   ]
  }
 ],
 "metadata": {
  "kernelspec": {
   "display_name": "Python 3 (ipykernel)",
   "language": "python",
   "name": "python3"
  },
  "language_info": {
   "codemirror_mode": {
    "name": "ipython",
    "version": 3
   },
   "file_extension": ".py",
   "mimetype": "text/x-python",
   "name": "python",
   "nbconvert_exporter": "python",
   "pygments_lexer": "ipython3",
   "version": "3.9.12"
  }
 },
 "nbformat": 4,
 "nbformat_minor": 5
}
