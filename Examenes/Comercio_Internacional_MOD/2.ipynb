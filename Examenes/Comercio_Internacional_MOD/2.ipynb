{
 "cells": [
  {
   "cell_type": "markdown",
   "id": "73a5310a",
   "metadata": {},
   "source": [
    "![](introduccion.PNG)"
   ]
  },
  {
   "cell_type": "markdown",
   "id": "ad9b34e0",
   "metadata": {},
   "source": [
    "![](Pregunta1.PNG)"
   ]
  },
  {
   "cell_type": "code",
   "execution_count": 1,
   "id": "79b058b0",
   "metadata": {},
   "outputs": [],
   "source": [
    "def calculaTotales(categoria): # \"Flores\"\n",
    "    dic = {}\n",
    "    f = open(categoria+\".txt\")\n",
    "    f.readline()\n",
    "    for line in f:\n",
    "        datos = line.strip().split(\",\") # []\n",
    "        comprador = datos[0]\n",
    "        vendedor = datos[1]\n",
    "        prod = datos[2]\n",
    "        ventas = float(datos[4])\n",
    "        if (comprador, vendedor, prod) not in dic:\n",
    "            dic[(comprador, vendedor, prod)] = ventas\n",
    "        else:\n",
    "            dic[(comprador, vendedor, prod)] += ventas\n",
    "    return dic"
   ]
  },
  {
   "cell_type": "markdown",
   "id": "7820c235",
   "metadata": {},
   "source": [
    "![](Pregunta2.PNG)"
   ]
  },
  {
   "cell_type": "code",
   "execution_count": 3,
   "id": "53cb7596",
   "metadata": {},
   "outputs": [],
   "source": [
    "def consolidado(nomArchivo, categorias): # \"datos.csv\" [Flores, Maderas, Frutas]\n",
    "    dic = {}\n",
    "    l_paises = []\n",
    "    f = open(nomArchivo, 'w')\n",
    "    f.write(\"Comprador,Vendedor,Categoria,Producto,VentasTotalesDolares\")\n",
    "    for categoria in categorias:\n",
    "        totales = calculaTotales(categoria)\n",
    "        l_productos = []\n",
    "        for (comprador,vendedor,producto), ventas in totales.items():\n",
    "            line = comprador+','+vendedor+','+categoria+\",\"+producto+','+str(ventas)\n",
    "            if producto not in l_productos:\n",
    "                l_productos.append(producto)\n",
    "            if comprador not in l_paises:\n",
    "                l_paises.append(comprador)\n",
    "            f.write(line+\"\\n\")\n",
    "        l_productos.sort()\n",
    "        dic[categoria] = l_productos\n",
    "    f.close()\n",
    "    return dic, l_paises"
   ]
  },
  {
   "cell_type": "markdown",
   "id": "26f030c0",
   "metadata": {},
   "source": [
    "![](Pregunta3.PNG)"
   ]
  },
  {
   "cell_type": "code",
   "execution_count": 4,
   "id": "33badb37",
   "metadata": {},
   "outputs": [],
   "source": [
    "def load_Productos(dicCategorias, categorias):\n",
    "    l_prods = []\n",
    "    for categoria in categorias:\n",
    "        l_productos = dicCategorias[categoria]\n",
    "        l_prods.extend(l_productos)\n",
    "    return l_prods"
   ]
  },
  {
   "cell_type": "code",
   "execution_count": 5,
   "id": "2c48ac26",
   "metadata": {},
   "outputs": [],
   "source": [
    "def dicVentas(nomArchivo):\n",
    "    dic = {}\n",
    "    f = open(nomArchivo)\n",
    "    f.readline()\n",
    "    for line in f:\n",
    "        comprador,vendedor,categoria,producto,ventas = line.strip().split(\",\")\n",
    "        if categoria not in dic:\n",
    "            dic[categoria] = {(comprador, producto) : float(ventas)}\n",
    "        else:\n",
    "            if (comprador, producto) not in dic[categoria]:\n",
    "                dic[categoria][(comprador, producto)] = float(ventas)\n",
    "            else:\n",
    "                dic[categoria][(comprador, producto)] +=float(ventas)\n",
    "    f.close()\n",
    "    return dic    "
   ]
  },
  {
   "cell_type": "code",
   "execution_count": 6,
   "id": "86921fc5",
   "metadata": {},
   "outputs": [],
   "source": [
    "def crearMatriz(nomArchivo, dicCategorias, compradores, categorias):\n",
    "    productos = load_Productos(dicCategorias, categorias)\n",
    "    fils = len(compradores)\n",
    "    cols = len(productos)\n",
    "    M = np.zeros((fils, cols))\n",
    "    d_Ventas = dicVentas(nomArchivo)\n",
    "    for categoria in categorias:\n",
    "        for (comprador, producto), ventas in d_Ventas[categoria].items():\n",
    "            ind_fila = compradores.index(comprador) \n",
    "            ind_col = productos.index(producto)\n",
    "            M[ind_fila, ind_col]  = ventas\n",
    "    return M, productos"
   ]
  },
  {
   "cell_type": "markdown",
   "id": "cc300d06",
   "metadata": {},
   "source": [
    "![](ProgramaPrincipal.PNG)"
   ]
  },
  {
   "cell_type": "markdown",
   "id": "0018f8b5",
   "metadata": {},
   "source": [
    "Finalmente, cree un programa principal para responder a las siguientes preguntas:"
   ]
  },
  {
   "cell_type": "code",
   "execution_count": 7,
   "id": "0523fd4c",
   "metadata": {
    "scrolled": true
   },
   "outputs": [],
   "source": [
    "import numpy as np\n",
    "categorias = ['Maderas', 'Frutas', 'Flores']\n",
    "nomArchivo = 'Datos.csv'\n",
    "dicCategorias, l_compradores= consolidado(nomArchivo, categorias)\n",
    "M, productos = crearMatriz(nomArchivo, dicCategorias, l_compradores, categorias)"
   ]
  },
  {
   "cell_type": "code",
   "execution_count": 13,
   "id": "be8d8cb7",
   "metadata": {},
   "outputs": [
    {
     "name": "stdout",
     "output_type": "stream",
     "text": [
      "['Abeto', 'Arce', 'Caoba', 'Cedro', 'Cerezo']\n",
      "['Rusia', 'Peru', 'Colombia', 'Mexico', 'Italia']\n"
     ]
    }
   ],
   "source": [
    "print(productos[:5])\n",
    "print(l_compradores[:5])"
   ]
  },
  {
   "cell_type": "code",
   "execution_count": 12,
   "id": "7b360ad9",
   "metadata": {
    "scrolled": true
   },
   "outputs": [
    {
     "data": {
      "text/plain": [
       "array([[ 67819.69, 163367.57,  22549.88,  27318.63,  20220.26],\n",
       "       [ 22802.49,      0.  ,  99107.22,  75575.91, 132115.17],\n",
       "       [ 42127.16, 197692.17,      0.  , 303727.48,      0.  ],\n",
       "       [     0.  ,  68395.  ,  97312.82, 237987.6 , 103849.44],\n",
       "       [ 53335.9 , 161169.23,  27808.93, 189850.07,  37379.93]])"
      ]
     },
     "execution_count": 12,
     "metadata": {},
     "output_type": "execute_result"
    }
   ],
   "source": [
    "M[:5,:5]"
   ]
  },
  {
   "cell_type": "markdown",
   "id": "bf0e3790",
   "metadata": {},
   "source": [
    "1. Cuál es el pais con mas ventas en total?"
   ]
  },
  {
   "cell_type": "code",
   "execution_count": null,
   "id": "3baa5801",
   "metadata": {},
   "outputs": [],
   "source": []
  },
  {
   "cell_type": "code",
   "execution_count": null,
   "id": "ed51b38e",
   "metadata": {},
   "outputs": [],
   "source": []
  },
  {
   "cell_type": "code",
   "execution_count": null,
   "id": "8017381b",
   "metadata": {},
   "outputs": [],
   "source": []
  },
  {
   "cell_type": "markdown",
   "id": "8f949038",
   "metadata": {},
   "source": [
    "2. Cual es el producto con menos ventas en total y a que categoria pertence?"
   ]
  },
  {
   "cell_type": "code",
   "execution_count": null,
   "id": "5b68080b",
   "metadata": {},
   "outputs": [],
   "source": []
  },
  {
   "cell_type": "code",
   "execution_count": null,
   "id": "7468f3ab",
   "metadata": {},
   "outputs": [],
   "source": []
  },
  {
   "cell_type": "code",
   "execution_count": null,
   "id": "0a49cb20",
   "metadata": {
    "scrolled": true
   },
   "outputs": [],
   "source": []
  },
  {
   "cell_type": "code",
   "execution_count": null,
   "id": "5d6aa21d",
   "metadata": {
    "scrolled": true
   },
   "outputs": [],
   "source": []
  },
  {
   "cell_type": "code",
   "execution_count": null,
   "id": "18c8d486",
   "metadata": {},
   "outputs": [],
   "source": []
  },
  {
   "cell_type": "code",
   "execution_count": null,
   "id": "d41ea30d",
   "metadata": {},
   "outputs": [],
   "source": []
  },
  {
   "cell_type": "code",
   "execution_count": null,
   "id": "2a642409",
   "metadata": {},
   "outputs": [],
   "source": []
  },
  {
   "cell_type": "markdown",
   "id": "0dff9d6c",
   "metadata": {},
   "source": [
    "3. Top 5 de los países con más ventas considerando todos los productos."
   ]
  },
  {
   "cell_type": "code",
   "execution_count": null,
   "id": "ac9906ec",
   "metadata": {
    "scrolled": false
   },
   "outputs": [],
   "source": []
  },
  {
   "cell_type": "code",
   "execution_count": null,
   "id": "7b083950",
   "metadata": {},
   "outputs": [],
   "source": []
  },
  {
   "cell_type": "code",
   "execution_count": null,
   "id": "886102da",
   "metadata": {
    "scrolled": true
   },
   "outputs": [],
   "source": []
  },
  {
   "cell_type": "code",
   "execution_count": null,
   "id": "3252432d",
   "metadata": {},
   "outputs": [],
   "source": []
  },
  {
   "cell_type": "code",
   "execution_count": null,
   "id": "b8163096",
   "metadata": {
    "scrolled": true
   },
   "outputs": [],
   "source": []
  },
  {
   "cell_type": "code",
   "execution_count": null,
   "id": "0745f0b4",
   "metadata": {},
   "outputs": [],
   "source": []
  },
  {
   "cell_type": "markdown",
   "id": "0eb6f5af",
   "metadata": {},
   "source": [
    "4. Solicite al usuario el nombre de un producto y muestre por pantalla los países ordenados acuerdo a las ventas para ese producto."
   ]
  },
  {
   "cell_type": "code",
   "execution_count": null,
   "id": "b8375517",
   "metadata": {
    "scrolled": false
   },
   "outputs": [],
   "source": []
  },
  {
   "cell_type": "code",
   "execution_count": null,
   "id": "5d99650d",
   "metadata": {
    "scrolled": true
   },
   "outputs": [],
   "source": []
  },
  {
   "cell_type": "code",
   "execution_count": null,
   "id": "dea4a038",
   "metadata": {
    "scrolled": true
   },
   "outputs": [],
   "source": []
  },
  {
   "cell_type": "code",
   "execution_count": null,
   "id": "88d79f59",
   "metadata": {
    "scrolled": true
   },
   "outputs": [],
   "source": []
  },
  {
   "cell_type": "markdown",
   "id": "a2cb8889",
   "metadata": {},
   "source": [
    "5. Solicite al usuario un pais y muestre por pantalla que productos *no a comprado* en cada categoria-"
   ]
  },
  {
   "cell_type": "code",
   "execution_count": null,
   "id": "9cf56b0d",
   "metadata": {
    "scrolled": true
   },
   "outputs": [],
   "source": []
  },
  {
   "cell_type": "code",
   "execution_count": null,
   "id": "2789f658",
   "metadata": {},
   "outputs": [],
   "source": []
  },
  {
   "cell_type": "code",
   "execution_count": null,
   "id": "9bdda4c9",
   "metadata": {},
   "outputs": [],
   "source": []
  },
  {
   "cell_type": "markdown",
   "id": "c600cbbd",
   "metadata": {},
   "source": [
    "6. Cuál es la categoria con más ventas."
   ]
  },
  {
   "cell_type": "code",
   "execution_count": null,
   "id": "b21445c9",
   "metadata": {},
   "outputs": [],
   "source": []
  },
  {
   "cell_type": "code",
   "execution_count": null,
   "id": "0f922911",
   "metadata": {},
   "outputs": [],
   "source": []
  },
  {
   "cell_type": "code",
   "execution_count": null,
   "id": "b6279b5e",
   "metadata": {
    "scrolled": true
   },
   "outputs": [],
   "source": []
  },
  {
   "cell_type": "markdown",
   "id": "de11a84b",
   "metadata": {},
   "source": [
    "\n",
    "7. Para cada pais muestre por pantalla con que productos de categoria Frutas superan a su producto más vendido en la categoria Flores. Si un pais no tiene ningun producto de Frutas que cumpla la condicion debe mostrar por pantalla un mensaje adecuado.\n"
   ]
  },
  {
   "cell_type": "markdown",
   "id": "201df33a",
   "metadata": {},
   "source": [
    "![](Pregunta3.PNG)"
   ]
  },
  {
   "cell_type": "code",
   "execution_count": null,
   "id": "aff9a1d9",
   "metadata": {},
   "outputs": [],
   "source": []
  },
  {
   "cell_type": "code",
   "execution_count": null,
   "id": "ca51c881",
   "metadata": {
    "scrolled": true
   },
   "outputs": [],
   "source": []
  },
  {
   "cell_type": "code",
   "execution_count": null,
   "id": "0114355a",
   "metadata": {},
   "outputs": [],
   "source": []
  },
  {
   "cell_type": "code",
   "execution_count": null,
   "id": "4ce2152e",
   "metadata": {
    "scrolled": true
   },
   "outputs": [],
   "source": []
  },
  {
   "cell_type": "code",
   "execution_count": null,
   "id": "f8f5a480",
   "metadata": {
    "scrolled": false
   },
   "outputs": [],
   "source": []
  },
  {
   "cell_type": "code",
   "execution_count": null,
   "id": "93e02f33",
   "metadata": {},
   "outputs": [],
   "source": []
  }
 ],
 "metadata": {
  "kernelspec": {
   "display_name": "Python 3 (ipykernel)",
   "language": "python",
   "name": "python3"
  },
  "language_info": {
   "codemirror_mode": {
    "name": "ipython",
    "version": 3
   },
   "file_extension": ".py",
   "mimetype": "text/x-python",
   "name": "python",
   "nbconvert_exporter": "python",
   "pygments_lexer": "ipython3",
   "version": "3.9.12"
  }
 },
 "nbformat": 4,
 "nbformat_minor": 5
}
