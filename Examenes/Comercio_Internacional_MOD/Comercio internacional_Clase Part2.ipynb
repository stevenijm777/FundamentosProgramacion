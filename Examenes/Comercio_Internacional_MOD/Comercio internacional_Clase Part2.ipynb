{
 "cells": [
  {
   "cell_type": "markdown",
   "id": "73a5310a",
   "metadata": {},
   "source": [
    "![](introduccion.PNG)"
   ]
  },
  {
   "cell_type": "markdown",
   "id": "ad9b34e0",
   "metadata": {},
   "source": [
    "![](Pregunta1.PNG)"
   ]
  },
  {
   "cell_type": "code",
   "execution_count": 43,
   "id": "07363c2c",
   "metadata": {},
   "outputs": [],
   "source": [
    "def caculaTotales(categoria): # 'Flores'\n",
    "    totales = {}\n",
    "    f = open(categoria+'.txt', 'r')\n",
    "    f.readline()\n",
    "    for linea in f:\n",
    "        comprador,vendedor,producto,Unidadesvendidas,ventas,Fecha = linea.strip().split(',')\n",
    "        if (comprador,vendedor,producto) not in totales:\n",
    "            totales[(comprador,vendedor,producto)] = float(ventas)\n",
    "        else:\n",
    "            totales[(comprador,vendedor,producto)] += float(ventas)\n",
    "    return totales\n"
   ]
  },
  {
   "cell_type": "markdown",
   "id": "7820c235",
   "metadata": {},
   "source": [
    "![](Pregunta2.PNG)"
   ]
  },
  {
   "cell_type": "code",
   "execution_count": 51,
   "id": "f0f4d703",
   "metadata": {},
   "outputs": [],
   "source": [
    "def consolidado(nomArchivo, categorias): # 'Datos.csv' ['Maderas','Flores','Frutas']\n",
    "    dicCategorias = {}\n",
    "    f = open(nomArchivo,'w')\n",
    "    for categoria in categorias: # MAderas\n",
    "        totales = caculaTotales(categoria)\n",
    "        productos = []\n",
    "        for (comprador,vendedor,producto),ventas in totales.items():\n",
    "            if producto not in productos:\n",
    "                productos.append(producto)\n",
    "            linea = comprador+','+vendedor+','+categoria+','+producto+','+str(ventas)+'\\n'\n",
    "            f.write(linea)\n",
    "        dicCategorias[categoria] = productos\n",
    "    f.close()\n",
    "    for categoria in dicCategorias: # Flores\n",
    "        dicCategorias[categoria].sort()\n",
    "    return dicCategorias"
   ]
  },
  {
   "cell_type": "code",
   "execution_count": 61,
   "id": "192b1005",
   "metadata": {},
   "outputs": [],
   "source": [
    "def l_productos(dicCategorias, categorias):\n",
    "    productos = []\n",
    "    for categoria in categorias:\n",
    "        productos_cate = dicCategorias[categoria]\n",
    "        productos.extend(productos_cate)\n",
    "    return productos  "
   ]
  },
  {
   "cell_type": "code",
   "execution_count": 62,
   "id": "6476c3e7",
   "metadata": {},
   "outputs": [],
   "source": [
    "def crearDicc(nomArchivo): # 'Datos.csv'\n",
    "    dicc = {}\n",
    "    f = open(nomArchivo, 'r')\n",
    "    for linea in f: # Ecuador,Alemania,Flores,Narcisos,4523.18\n",
    "        comprador,vendedor,categoria,producto,ventas = linea.strip().split(',')\n",
    "        if categoria not in dicc:\n",
    "            dicc[categoria]  = {(comprador, producto) : float(ventas)}\n",
    "        else:\n",
    "            if (comprador, producto) not in dicc[categoria]:\n",
    "                dicc[categoria][(comprador, producto)] = float(ventas)\n",
    "            else:\n",
    "                dicc[categoria][(comprador, producto)] += float(ventas)\n",
    "    f.close()\n",
    "    return dicc     "
   ]
  },
  {
   "cell_type": "code",
   "execution_count": 63,
   "id": "b8a439a7",
   "metadata": {},
   "outputs": [],
   "source": [
    "def crearMatriz(nomArchivo, dicCategorias, compradores, categorias):\n",
    "    productos = l_productos(dicCategorias, categorias)\n",
    "    fils = len(compradores)\n",
    "    cols = len(productos)\n",
    "    M = np.zeros((fils,cols))\n",
    "    dicc = crearDicc(nomArchivo)\n",
    "    for categoria in categorias:\n",
    "        for (comprador, producto), ventas in dicc[categoria].items():\n",
    "            ind_fila = compradores.index(comprador)\n",
    "            ind_colu = productos.index(producto)\n",
    "            M[ind_fila, ind_colu] = ventas\n",
    "    return M, productos"
   ]
  },
  {
   "cell_type": "markdown",
   "id": "201df33a",
   "metadata": {},
   "source": [
    "![](Pregunta3.PNG)"
   ]
  },
  {
   "cell_type": "markdown",
   "id": "cc300d06",
   "metadata": {},
   "source": [
    "![](ProgramaPrincipal.PNG)"
   ]
  },
  {
   "cell_type": "markdown",
   "id": "0018f8b5",
   "metadata": {},
   "source": [
    "Finalmente, cree un programa principal para responder a las siguientes preguntas:"
   ]
  },
  {
   "cell_type": "code",
   "execution_count": 64,
   "id": "82144876",
   "metadata": {
    "scrolled": true
   },
   "outputs": [],
   "source": [
    "import numpy as np"
   ]
  },
  {
   "cell_type": "code",
   "execution_count": 65,
   "id": "ab08ab1f",
   "metadata": {},
   "outputs": [],
   "source": [
    "def l_compradores(categorias):\n",
    "    compradores = []\n",
    "    for categoria in categorias:\n",
    "        f = open(categoria + '.txt', 'r')\n",
    "        f.readline()\n",
    "        for linea in f:\n",
    "            datos = linea.strip().split(',') \n",
    "            comprador = datos[0]\n",
    "            if comprador not in compradores:\n",
    "                compradores.append(comprador)\n",
    "    return compradores"
   ]
  },
  {
   "cell_type": "code",
   "execution_count": 66,
   "id": "880bf470",
   "metadata": {},
   "outputs": [],
   "source": [
    "categorias = ['Maderas', 'Frutas', 'Flores']\n",
    "nomArchivo = 'Datos.csv'\n",
    "dicCategorias= consolidado(nomArchivo, categorias)\n",
    "compradores = l_compradores(categorias)\n",
    "M, productos = crearMatriz(nomArchivo, dicCategorias, compradores, categorias)"
   ]
  },
  {
   "cell_type": "markdown",
   "id": "bf0e3790",
   "metadata": {},
   "source": [
    "1. Cuál es el pais con mas ventas en total?"
   ]
  },
  {
   "cell_type": "code",
   "execution_count": 94,
   "id": "0e28bb0b",
   "metadata": {},
   "outputs": [
    {
     "name": "stdout",
     "output_type": "stream",
     "text": [
      "el pais con mas ventas en total es Rusia\n"
     ]
    }
   ],
   "source": [
    "# iterar la matriz por fila\n",
    "filas = M.shape[0] # 10\n",
    "total_pais = np.zeros(filas) # [0 0 0 0 0 0 0 0 ... ]\n",
    "for i in range(filas): # [0,1 ,2...9]\n",
    "    fila  = M[i, :]\n",
    "    suma = fila.sum()\n",
    "    total_pais[i] = suma    \n",
    "# cual es el mayor \n",
    "ind = np.argmax(total_pais)\n",
    "mayor_pais = compradores[ind]\n",
    "print('el pais con mas ventas en total es {}'.format(mayor_pais))"
   ]
  },
  {
   "cell_type": "markdown",
   "id": "8f949038",
   "metadata": {},
   "source": [
    "2. Cual es el producto con menos ventas en total y a que categoria pertence?"
   ]
  },
  {
   "cell_type": "code",
   "execution_count": 95,
   "id": "e2de5d78",
   "metadata": {},
   "outputs": [],
   "source": [
    "def categoria_producto(dicCategorias, producto):\n",
    "    for categoria,l_productos in dicCategorias.items():\n",
    "        if producto in l_productos:\n",
    "            return categoria"
   ]
  },
  {
   "cell_type": "code",
   "execution_count": 96,
   "id": "47a78f5f",
   "metadata": {},
   "outputs": [
    {
     "name": "stdout",
     "output_type": "stream",
     "text": [
      "Abeto\n",
      "Maderas\n"
     ]
    }
   ],
   "source": [
    "# iterar la matriz por columna\n",
    "colus = M.shape[1]\n",
    "v_prds_total = np.zeros(colus)\n",
    "for j in range(colus):\n",
    "    colu = M[:,j]\n",
    "    total = colu.sum()\n",
    "    v_prds_total[j] = total\n",
    "ind_min = np.argmin(v_prds_total)\n",
    "producto_menor = productos[ind_min]\n",
    "cate_prod = categoria_producto(dicCategorias, producto_menor)\n",
    "print(producto_menor)\n",
    "print(cate_prod)"
   ]
  },
  {
   "cell_type": "markdown",
   "id": "0dff9d6c",
   "metadata": {},
   "source": [
    "3. Top 5 de los países con más ventas considerando todos los productos."
   ]
  },
  {
   "cell_type": "code",
   "execution_count": 97,
   "id": "11dc90f2",
   "metadata": {},
   "outputs": [
    {
     "data": {
      "text/plain": [
       "array([2969415.37, 3135062.07, 3378674.53, 2665481.13, 3737620.97,\n",
       "       4024418.21, 2402009.56, 2071550.8 , 3672705.14, 2891092.69])"
      ]
     },
     "execution_count": 97,
     "metadata": {},
     "output_type": "execute_result"
    }
   ],
   "source": [
    "total_pais"
   ]
  },
  {
   "cell_type": "code",
   "execution_count": 99,
   "id": "f2fe511c",
   "metadata": {},
   "outputs": [
    {
     "data": {
      "text/plain": [
       "[(4024418.2100000004, 'Alemania'),\n",
       " (3737620.9699999997, 'Italia'),\n",
       " (3672705.1400000006, 'China'),\n",
       " (3378674.53, 'Colombia'),\n",
       " (3135062.0700000003, 'Peru')]"
      ]
     },
     "execution_count": 99,
     "metadata": {},
     "output_type": "execute_result"
    }
   ],
   "source": [
    "# top en listas\n",
    "l_tuplas = []\n",
    "for i in range(len(total_pais)):\n",
    "    pais = compradores[i]\n",
    "    ventas_pais = total_pais[i]\n",
    "    tupla = (ventas_pais, pais)\n",
    "    l_tuplas.append(tupla)\n",
    "l_tuplas.sort(reverse = True)\n",
    "top5 = l_tuplas[:5]\n",
    "top5"
   ]
  },
  {
   "cell_type": "code",
   "execution_count": 106,
   "id": "72016813",
   "metadata": {
    "scrolled": true
   },
   "outputs": [
    {
     "data": {
      "text/plain": [
       "array([5, 4, 8, 2, 1], dtype=int64)"
      ]
     },
     "execution_count": 106,
     "metadata": {},
     "output_type": "execute_result"
    }
   ],
   "source": [
    "# top con numpy\n",
    "top5_pais = total_pais.argsort()[::-1][:5]\n",
    "top5_pais"
   ]
  },
  {
   "cell_type": "code",
   "execution_count": 107,
   "id": "e3021134",
   "metadata": {
    "scrolled": true
   },
   "outputs": [
    {
     "data": {
      "text/plain": [
       "array(['Alemania', 'Italia', 'China', 'Colombia', 'Peru'], dtype='<U14')"
      ]
     },
     "execution_count": 107,
     "metadata": {},
     "output_type": "execute_result"
    }
   ],
   "source": [
    "v_compradores = np.array(compradores)\n",
    "v_compradores[top5_pais]"
   ]
  },
  {
   "cell_type": "code",
   "execution_count": 81,
   "id": "c5a2ef6a",
   "metadata": {},
   "outputs": [
    {
     "data": {
      "text/plain": [
       "[(1736308.0299999998, 'Corazon Sangrante'),\n",
       " (1733278.35, 'Cedro'),\n",
       " (1680456.36, 'Margaritas'),\n",
       " (1496277.33, 'Papaya'),\n",
       " (1451324.06, 'Roble'),\n",
       " (1390944.69, 'Manzana'),\n",
       " (1282728.0, 'Naranja'),\n",
       " (1215744.9400000002, 'Arce'),\n",
       " (1156863.54, 'Dalias'),\n",
       " (1119902.6300000001, 'Narcisos'),\n",
       " (1118244.42, 'Kaki'),\n",
       " (1098933.8099999998, 'Ciclamen'),\n",
       " (1050320.35, 'Frambuesa'),\n",
       " (1045616.75, 'Rosas'),\n",
       " (1001147.6499999999, 'Fresno'),\n",
       " (961579.62, 'Mandarina'),\n",
       " (915047.62, 'Grosella'),\n",
       " (913676.4299999999, 'Cacao'),\n",
       " (891065.75, 'Peonias'),\n",
       " (861529.87, 'Haya'),\n",
       " (830185.8799999999, 'Cereza'),\n",
       " (794714.58, 'Nogal'),\n",
       " (794697.21, 'Caoba'),\n",
       " (784084.6700000002, 'Cerezo'),\n",
       " (731311.39, 'Azaleas'),\n",
       " (722247.87, 'Tulipanes'),\n",
       " (704273.83, 'Pino'),\n",
       " (650857.37, 'Limon'),\n",
       " (511006.91000000003, 'Lirios'),\n",
       " (303660.56000000006, 'Abeto')]"
      ]
     },
     "execution_count": 81,
     "metadata": {},
     "output_type": "execute_result"
    }
   ],
   "source": [
    "l_tuplas"
   ]
  },
  {
   "cell_type": "markdown",
   "id": "0eb6f5af",
   "metadata": {},
   "source": [
    "4. Solicite al usuario el nombre de un producto y muestre por pantalla los países ordenados acuerdo a las ventas para ese producto."
   ]
  },
  {
   "cell_type": "code",
   "execution_count": 109,
   "id": "b25b0445",
   "metadata": {},
   "outputs": [
    {
     "name": "stdout",
     "output_type": "stream",
     "text": [
      "Ingrese el nombre un productoAbeto\n"
     ]
    }
   ],
   "source": [
    "nombre_producto = input('Ingrese el nombre un producto ')"
   ]
  },
  {
   "cell_type": "code",
   "execution_count": 110,
   "id": "4e6aba26",
   "metadata": {
    "scrolled": true
   },
   "outputs": [],
   "source": [
    "ind_col = productos.index(nombre_producto)\n",
    "v_producto = M[:,ind_col]\n",
    "v_producto\n",
    "v_inds = v_producto.argsort()[::-1]"
   ]
  },
  {
   "cell_type": "code",
   "execution_count": 113,
   "id": "87e8ad59",
   "metadata": {
    "scrolled": true
   },
   "outputs": [
    {
     "data": {
      "text/plain": [
       "array(['Rusia', 'Italia', 'China', 'Colombia', 'Alemania',\n",
       "       'Estados Unidos', 'Peru', 'Ecuador', 'Francia', 'Mexico'],\n",
       "      dtype='<U14')"
      ]
     },
     "execution_count": 113,
     "metadata": {},
     "output_type": "execute_result"
    }
   ],
   "source": [
    "v_compradores[v_inds]"
   ]
  },
  {
   "cell_type": "markdown",
   "id": "a2cb8889",
   "metadata": {},
   "source": [
    "5. Solicite al usuario un pais y muestre por pantalla que productos *no a comprado* en cada categoria-"
   ]
  },
  {
   "cell_type": "code",
   "execution_count": 114,
   "id": "01fbef6b",
   "metadata": {},
   "outputs": [
    {
     "name": "stdout",
     "output_type": "stream",
     "text": [
      "Ingrese un pais Peru\n"
     ]
    }
   ],
   "source": [
    "pais = input('Ingrese un pais ')"
   ]
  },
  {
   "cell_type": "code",
   "execution_count": 117,
   "id": "68b21ba6",
   "metadata": {},
   "outputs": [],
   "source": [
    "# iterar una matriz por bloque\n",
    "ini_col = 0\n",
    "for categoria in categorias:\n",
    "    fin_col = ini_col + len(dicCategorias[categoria])\n",
    "    m_categoria = M[:,ini_col: fin_col]\n",
    "    print(categoria)\n",
    "    print(m_categoria)\n",
    "    ini_col = fin_col"
   ]
  },
  {
   "cell_type": "code",
   "execution_count": null,
   "id": "25ce21fc",
   "metadata": {},
   "outputs": [],
   "source": [
    "ind_pais = compradores.index(pais)\n",
    "ini_col = 0\n",
    "for categoria in categorias:\n",
    "    fin_col = ini_col + len(dicCategorias[categoria])\n",
    "    prods_cate = np.array(productos[ini_col: fin_col])\n",
    "    m_categoria = M[ind_pais,ini_col: fin_col]\n",
    "    condicion = m_categoria == 0\n",
    "    print(categoria)\n",
    "    print(prods_cate[condicion])\n",
    "    ini_col = fin_col"
   ]
  },
  {
   "cell_type": "markdown",
   "id": "c600cbbd",
   "metadata": {},
   "source": [
    "6. Cuál es la categoria con más ventas."
   ]
  },
  {
   "cell_type": "code",
   "execution_count": 120,
   "id": "b584b870",
   "metadata": {},
   "outputs": [
    {
     "name": "stdout",
     "output_type": "stream",
     "text": [
      "[9644455.72, 10609861.71, 10693713.04]\n",
      "['Maderas', 'Frutas', 'Flores']\n"
     ]
    },
    {
     "data": {
      "text/plain": [
       "'Maderas'"
      ]
     },
     "execution_count": 120,
     "metadata": {},
     "output_type": "execute_result"
    }
   ],
   "source": [
    "# iterar una matriz por bloque\n",
    "ini_col = 0\n",
    "cate_T = []\n",
    "for categoria in categorias:\n",
    "    fin_col = ini_col + len(dicCategorias[categoria])\n",
    "    m_categoria = M[:,ini_col: fin_col]\n",
    "    suma = m_categoria.sum()\n",
    "    cate_T.append(suma)\n",
    "    ini_col = fin_col\n",
    "print(cate_T)\n",
    "print(categorias)\n",
    "v_cate_T = np.array(cate_T)\n",
    "v_categorias = np.array(categorias)\n",
    "cate_mayor = v_categorias[np.argmin(cate_T)]\n",
    "cate_mayor"
   ]
  },
  {
   "cell_type": "markdown",
   "id": "de11a84b",
   "metadata": {},
   "source": [
    "\n",
    "7. Para cada pais muestre por pantalla con que productos de categoria Frutas superan a su producto más vendido en la categoria Flores. Si un pais no tiene ningun producto de Frutas que cumpla la condicion debe mostrar por pantalla un mensaje adecuado.\n"
   ]
  },
  {
   "cell_type": "code",
   "execution_count": 121,
   "id": "f6d3b8dc",
   "metadata": {},
   "outputs": [],
   "source": [
    "def matriz_Categoria(M,dicCategorias,categorias, nomcategoria):\n",
    "    # iterar una matriz por bloque\n",
    "    ini_col = 0\n",
    "    for categoria in categorias:\n",
    "        fin_col = ini_col + len(dicCategorias[categoria])\n",
    "        if categoria == nomcategoria:\n",
    "            m_categoria = M[:,ini_col: fin_col]\n",
    "            return m_categoria\n",
    "        ini_col = fin_col"
   ]
  },
  {
   "cell_type": "code",
   "execution_count": 126,
   "id": "68dcbe55",
   "metadata": {
    "scrolled": true
   },
   "outputs": [
    {
     "data": {
      "text/plain": [
       "array([[     0.  , 100541.68, 473287.04, 166199.86,      0.  ,      0.  ,\n",
       "         38707.69,      0.  , 283804.62,      0.  ],\n",
       "       [259464.47,  28525.65,  85025.77,  92134.21, 143323.39,  64546.41,\n",
       "         70636.36,      0.  ,  76769.99,      0.  ],\n",
       "       [113019.48, 261862.88, 198866.07,  14606.85, 138183.95, 166164.87,\n",
       "          1671.13, 126325.59,  76166.63, 203473.4 ],\n",
       "       [     0.  ,  69799.35,      0.  ,  23942.69, 126927.19,      0.  ,\n",
       "        264691.47,      0.  ,      0.  ,      0.  ],\n",
       "       [ 41667.34, 108641.83,      0.  ,  33088.67,  13630.6 , 416831.13,\n",
       "        189078.16, 264523.19,      0.  , 172353.71],\n",
       "       [164167.44,  79202.5 , 495600.93, 194193.56,  18186.4 , 328188.62,\n",
       "        213086.14, 122287.46,  61174.45, 162760.35],\n",
       "       [ 51377.33,  71766.98, 265443.61,  35007.93,      0.  , 240162.86,\n",
       "        109402.51,  57904.68,  29293.57,  42677.94],\n",
       "       [  9053.84,      0.  ,      0.  ,  73381.88,      0.  ,  92768.84,\n",
       "             0.  ,      0.  , 157285.02,      0.  ],\n",
       "       [     0.  , 348286.64,  94334.66, 405115.06,  43425.99, 106817.58,\n",
       "        133408.72,  78317.91, 361122.47,  80603.  ],\n",
       "       [ 92561.49,  30306.3 , 123749.95, 119192.83,  27329.39, 264976.05,\n",
       "         99220.45, 241706.92,      0.  ,  60379.47]])"
      ]
     },
     "execution_count": 126,
     "metadata": {},
     "output_type": "execute_result"
    }
   ],
   "source": [
    "m_Flores = matriz_Categoria(M,dicCategorias,categorias, 'Flores')\n",
    "m_Flores"
   ]
  },
  {
   "cell_type": "code",
   "execution_count": 132,
   "id": "e05a05f6",
   "metadata": {
    "scrolled": true
   },
   "outputs": [],
   "source": [
    "max_Flores = m_Flores.max(axis = 1)"
   ]
  },
  {
   "cell_type": "code",
   "execution_count": 131,
   "id": "2636e028",
   "metadata": {
    "scrolled": false
   },
   "outputs": [
    {
     "data": {
      "text/plain": [
       "array([[150398.65,      0.  , 107595.04, 173163.25,      0.  ,      0.  ,\n",
       "        215631.53,      0.  , 329251.02,  45391.11],\n",
       "       [204520.35,  86941.53,  84749.42, 269919.62, 147610.63,      0.  ,\n",
       "          5427.37, 196812.34,  84815.93, 258909.92],\n",
       "       [ 52753.65,  95323.67, 214239.43,      0.  , 228597.4 ,      0.  ,\n",
       "         56856.75, 131060.77,  93743.34, 117118.6 ],\n",
       "       [136497.85,  13681.29, 211485.56, 219972.24, 174445.35, 152721.77,\n",
       "        203544.86,      0.  ,   5607.74, 257595.56],\n",
       "       [164235.84, 141349.9 ,  16356.79,  33785.8 ,  16348.8 ,      0.  ,\n",
       "        146182.53, 130169.83, 193870.98, 132210.71],\n",
       "       [ 28296.4 ,  39340.56, 217142.92, 183427.91,  67773.35, 291424.92,\n",
       "        137680.31,  89707.81, 164059.12, 135945.23],\n",
       "       [100409.76, 130123.41,      0.  ,  34778.8 ,   9312.98,  30856.96,\n",
       "          8288.56, 267408.27,  40494.81,  78940.11],\n",
       "       [     0.  ,      0.  , 172699.4 ,      0.  , 148841.72,  72617.63,\n",
       "         25176.32, 401200.83, 113073.71,  95657.3 ],\n",
       "       [ 38633.33, 322764.04,      0.  ,      0.  , 113531.33,      0.  ,\n",
       "             0.  ,  94134.92,      0.  , 297024.46],\n",
       "       [ 37930.6 ,    661.48,  26051.79,      0.  , 211782.86, 103236.09,\n",
       "        162791.39,  80449.92, 257811.35,  77484.33]])"
      ]
     },
     "execution_count": 131,
     "metadata": {},
     "output_type": "execute_result"
    }
   ],
   "source": [
    "m_Frutas = matriz_Categoria(M,dicCategorias,categorias, 'Frutas')\n",
    "m_Frutas"
   ]
  },
  {
   "cell_type": "code",
   "execution_count": 137,
   "id": "b41c7082",
   "metadata": {
    "scrolled": true
   },
   "outputs": [],
   "source": [
    "m_condicion = m_Frutas > max_Flores"
   ]
  },
  {
   "cell_type": "code",
   "execution_count": 140,
   "id": "e74f180b",
   "metadata": {},
   "outputs": [
    {
     "name": "stdout",
     "output_type": "stream",
     "text": [
      "Rusia\n",
      "no hay\n",
      "Peru\n",
      "['Grosella' 'Manzana']\n",
      "Colombia\n",
      "no hay\n",
      "Mexico\n",
      "no hay\n",
      "Italia\n",
      "no hay\n",
      "Alemania\n",
      "no hay\n",
      "Ecuador\n",
      "['Manzana']\n",
      "Estados Unidos\n",
      "['Manzana']\n",
      "China\n",
      "['Cereza' 'Papaya']\n",
      "Francia\n",
      "no hay\n"
     ]
    }
   ],
   "source": [
    "v_prods_frutas = np.array(dicCategorias['Frutas'])\n",
    "for i in range(len(compradores)):\n",
    "    fila = m_condicion[i,:]#[False, False, False, False, False, False, False, False, False, False]\n",
    "    v_prods_frutas[fila]\n",
    "    print(compradores[i])\n",
    "    if len(v_prods_frutas[fila])==0:\n",
    "        print('no hay')\n",
    "    else:\n",
    "        print(v_prods_frutas[fila])\n",
    "    "
   ]
  }
 ],
 "metadata": {
  "kernelspec": {
   "display_name": "Python 3 (ipykernel)",
   "language": "python",
   "name": "python3"
  },
  "language_info": {
   "codemirror_mode": {
    "name": "ipython",
    "version": 3
   },
   "file_extension": ".py",
   "mimetype": "text/x-python",
   "name": "python",
   "nbconvert_exporter": "python",
   "pygments_lexer": "ipython3",
   "version": "3.9.12"
  }
 },
 "nbformat": 4,
 "nbformat_minor": 5
}
