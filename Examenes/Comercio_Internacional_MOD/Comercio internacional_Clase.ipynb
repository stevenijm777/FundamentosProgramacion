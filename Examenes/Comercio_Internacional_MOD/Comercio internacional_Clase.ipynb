{
 "cells": [
  {
   "cell_type": "markdown",
   "id": "73a5310a",
   "metadata": {},
   "source": [
    "![](introduccion.PNG)"
   ]
  },
  {
   "cell_type": "markdown",
   "id": "ad9b34e0",
   "metadata": {},
   "source": [
    "![](Pregunta1.PNG)"
   ]
  },
  {
   "cell_type": "code",
   "execution_count": 43,
   "id": "79b058b0",
   "metadata": {},
   "outputs": [],
   "source": [
    "\n"
   ]
  },
  {
   "cell_type": "markdown",
   "id": "7820c235",
   "metadata": {},
   "source": [
    "![](Pregunta2.PNG)"
   ]
  },
  {
   "cell_type": "code",
   "execution_count": 51,
   "id": "53cb7596",
   "metadata": {},
   "outputs": [],
   "source": []
  },
  {
   "cell_type": "code",
   "execution_count": 61,
   "id": "f63076ef",
   "metadata": {},
   "outputs": [],
   "source": []
  },
  {
   "cell_type": "code",
   "execution_count": 62,
   "id": "86921fc5",
   "metadata": {},
   "outputs": [],
   "source": []
  },
  {
   "cell_type": "code",
   "execution_count": 63,
   "id": "33badb37",
   "metadata": {},
   "outputs": [],
   "source": []
  },
  {
   "cell_type": "markdown",
   "id": "cc300d06",
   "metadata": {},
   "source": [
    "![](ProgramaPrincipal.PNG)"
   ]
  },
  {
   "cell_type": "markdown",
   "id": "0018f8b5",
   "metadata": {},
   "source": [
    "Finalmente, cree un programa principal para responder a las siguientes preguntas:"
   ]
  },
  {
   "cell_type": "code",
   "execution_count": 141,
   "id": "0523fd4c",
   "metadata": {
    "scrolled": true
   },
   "outputs": [],
   "source": []
  },
  {
   "cell_type": "code",
   "execution_count": 142,
   "id": "c26d5a05",
   "metadata": {},
   "outputs": [],
   "source": []
  },
  {
   "cell_type": "code",
   "execution_count": 143,
   "id": "7b360ad9",
   "metadata": {},
   "outputs": [],
   "source": []
  },
  {
   "cell_type": "code",
   "execution_count": 144,
   "id": "1bc21640",
   "metadata": {
    "scrolled": true
   },
   "outputs": [
    {
     "data": {
      "text/plain": [
       "['Rusia',\n",
       " 'Peru',\n",
       " 'Colombia',\n",
       " 'Mexico',\n",
       " 'Italia',\n",
       " 'Alemania',\n",
       " 'Ecuador',\n",
       " 'Estados Unidos',\n",
       " 'China',\n",
       " 'Francia']"
      ]
     },
     "execution_count": 144,
     "metadata": {},
     "output_type": "execute_result"
    }
   ],
   "source": []
  },
  {
   "cell_type": "code",
   "execution_count": 148,
   "id": "6926c53a",
   "metadata": {},
   "outputs": [
    {
     "data": {
      "text/plain": [
       "array([[ 67819.69, 163367.57,  22549.88,  27318.63,  20220.26],\n",
       "       [ 22802.49,      0.  ,  99107.22,  75575.91, 132115.17],\n",
       "       [ 42127.16, 197692.17,      0.  , 303727.48,      0.  ],\n",
       "       [     0.  ,  68395.  ,  97312.82, 237987.6 , 103849.44],\n",
       "       [ 53335.9 , 161169.23,  27808.93, 189850.07,  37379.93]])"
      ]
     },
     "execution_count": 148,
     "metadata": {},
     "output_type": "execute_result"
    }
   ],
   "source": []
  },
  {
   "cell_type": "markdown",
   "id": "bf0e3790",
   "metadata": {},
   "source": [
    "1. Cuál es el pais con mas ventas en total?"
   ]
  },
  {
   "cell_type": "code",
   "execution_count": 149,
   "id": "3baa5801",
   "metadata": {},
   "outputs": [],
   "source": []
  },
  {
   "cell_type": "code",
   "execution_count": 155,
   "id": "ed51b38e",
   "metadata": {},
   "outputs": [],
   "source": []
  },
  {
   "cell_type": "code",
   "execution_count": 152,
   "id": "8017381b",
   "metadata": {},
   "outputs": [
    {
     "data": {
      "text/plain": [
       "array([2969415.37, 3135062.07, 3378674.53, 2665481.13, 3737620.97,\n",
       "       4024418.21, 2402009.56, 2071550.8 , 3672705.14, 2891092.69])"
      ]
     },
     "execution_count": 152,
     "metadata": {},
     "output_type": "execute_result"
    }
   ],
   "source": []
  },
  {
   "cell_type": "markdown",
   "id": "8f949038",
   "metadata": {},
   "source": [
    "2. Cual es el producto con menos ventas en total y a que categoria pertence?"
   ]
  },
  {
   "cell_type": "code",
   "execution_count": null,
   "id": "5b68080b",
   "metadata": {},
   "outputs": [],
   "source": []
  },
  {
   "cell_type": "code",
   "execution_count": 158,
   "id": "7468f3ab",
   "metadata": {},
   "outputs": [],
   "source": []
  },
  {
   "cell_type": "code",
   "execution_count": 159,
   "id": "0a49cb20",
   "metadata": {
    "scrolled": true
   },
   "outputs": [
    {
     "data": {
      "text/plain": [
       "array([ 303660.56, 1215744.94,  794697.21, 1733278.35,  784084.67,\n",
       "       1001147.65,  861529.87,  794714.58,  704273.83, 1451324.06,\n",
       "        913676.43,  830185.88, 1050320.35,  915047.62, 1118244.42,\n",
       "        650857.37,  961579.62, 1390944.69, 1282728.  , 1496277.33,\n",
       "        731311.39, 1098933.81, 1736308.03, 1156863.54,  511006.91,\n",
       "       1680456.36, 1119902.63,  891065.75, 1045616.75,  722247.87])"
      ]
     },
     "execution_count": 159,
     "metadata": {},
     "output_type": "execute_result"
    }
   ],
   "source": []
  },
  {
   "cell_type": "code",
   "execution_count": 162,
   "id": "5d6aa21d",
   "metadata": {
    "scrolled": true
   },
   "outputs": [],
   "source": []
  },
  {
   "cell_type": "code",
   "execution_count": 163,
   "id": "18c8d486",
   "metadata": {},
   "outputs": [],
   "source": []
  },
  {
   "cell_type": "code",
   "execution_count": 165,
   "id": "d41ea30d",
   "metadata": {},
   "outputs": [
    {
     "data": {
      "text/plain": [
       "'Maderas'"
      ]
     },
     "execution_count": 165,
     "metadata": {},
     "output_type": "execute_result"
    }
   ],
   "source": []
  },
  {
   "cell_type": "code",
   "execution_count": 166,
   "id": "2a642409",
   "metadata": {},
   "outputs": [
    {
     "name": "stdout",
     "output_type": "stream",
     "text": [
      "El producto con menos ventas en total es Abeto y a que categoria pertence es Maderas\n"
     ]
    }
   ],
   "source": []
  },
  {
   "cell_type": "markdown",
   "id": "0dff9d6c",
   "metadata": {},
   "source": [
    "3. Top 5 de los países con más ventas considerando todos los productos."
   ]
  },
  {
   "cell_type": "code",
   "execution_count": 167,
   "id": "ac9906ec",
   "metadata": {
    "scrolled": false
   },
   "outputs": [
    {
     "data": {
      "text/plain": [
       "array([2969415.37, 3135062.07, 3378674.53, 2665481.13, 3737620.97,\n",
       "       4024418.21, 2402009.56, 2071550.8 , 3672705.14, 2891092.69])"
      ]
     },
     "execution_count": 167,
     "metadata": {},
     "output_type": "execute_result"
    }
   ],
   "source": []
  },
  {
   "cell_type": "code",
   "execution_count": 168,
   "id": "7b083950",
   "metadata": {},
   "outputs": [
    {
     "data": {
      "text/plain": [
       "['Rusia',\n",
       " 'Peru',\n",
       " 'Colombia',\n",
       " 'Mexico',\n",
       " 'Italia',\n",
       " 'Alemania',\n",
       " 'Ecuador',\n",
       " 'Estados Unidos',\n",
       " 'China',\n",
       " 'Francia']"
      ]
     },
     "execution_count": 168,
     "metadata": {},
     "output_type": "execute_result"
    }
   ],
   "source": []
  },
  {
   "cell_type": "code",
   "execution_count": 173,
   "id": "886102da",
   "metadata": {
    "scrolled": true
   },
   "outputs": [
    {
     "data": {
      "text/plain": [
       "[(4024418.2100000004, 'Alemania'),\n",
       " (3737620.9699999997, 'Italia'),\n",
       " (3672705.1400000006, 'China'),\n",
       " (3378674.53, 'Colombia'),\n",
       " (3135062.0700000003, 'Peru')]"
      ]
     },
     "execution_count": 173,
     "metadata": {},
     "output_type": "execute_result"
    }
   ],
   "source": []
  },
  {
   "cell_type": "code",
   "execution_count": 179,
   "id": "3252432d",
   "metadata": {},
   "outputs": [
    {
     "data": {
      "text/plain": [
       "array(['Rusia', 'Peru', 'Colombia', 'Mexico', 'Italia', 'Alemania',\n",
       "       'Ecuador', 'Estados Unidos', 'China', 'Francia'], dtype='<U14')"
      ]
     },
     "execution_count": 179,
     "metadata": {},
     "output_type": "execute_result"
    }
   ],
   "source": []
  },
  {
   "cell_type": "code",
   "execution_count": 181,
   "id": "b8163096",
   "metadata": {
    "scrolled": true
   },
   "outputs": [],
   "source": []
  },
  {
   "cell_type": "code",
   "execution_count": 182,
   "id": "0745f0b4",
   "metadata": {},
   "outputs": [
    {
     "data": {
      "text/plain": [
       "array(['Alemania', 'Italia', 'China', 'Colombia', 'Peru'], dtype='<U14')"
      ]
     },
     "execution_count": 182,
     "metadata": {},
     "output_type": "execute_result"
    }
   ],
   "source": []
  },
  {
   "cell_type": "markdown",
   "id": "0eb6f5af",
   "metadata": {},
   "source": [
    "4. Solicite al usuario el nombre de un producto y muestre por pantalla los países ordenados acuerdo a las ventas para ese producto."
   ]
  },
  {
   "cell_type": "code",
   "execution_count": 183,
   "id": "b8375517",
   "metadata": {
    "scrolled": false
   },
   "outputs": [
    {
     "name": "stdout",
     "output_type": "stream",
     "text": [
      "Ingrese un producto: Abeto\n"
     ]
    }
   ],
   "source": []
  },
  {
   "cell_type": "code",
   "execution_count": 193,
   "id": "5d99650d",
   "metadata": {
    "scrolled": true
   },
   "outputs": [
    {
     "data": {
      "text/plain": [
       "array(['Rusia', 'Italia', 'China', 'Colombia', 'Alemania',\n",
       "       'Estados Unidos', 'Peru', 'Ecuador', 'Francia', 'Mexico'],\n",
       "      dtype='<U14')"
      ]
     },
     "execution_count": 193,
     "metadata": {},
     "output_type": "execute_result"
    }
   ],
   "source": []
  },
  {
   "cell_type": "code",
   "execution_count": 188,
   "id": "dea4a038",
   "metadata": {
    "scrolled": true
   },
   "outputs": [
    {
     "data": {
      "text/plain": [
       "array([0, 4, 8, 2, 5, 7, 1, 6, 9, 3], dtype=int64)"
      ]
     },
     "execution_count": 188,
     "metadata": {},
     "output_type": "execute_result"
    }
   ],
   "source": []
  },
  {
   "cell_type": "code",
   "execution_count": 192,
   "id": "88d79f59",
   "metadata": {
    "scrolled": true
   },
   "outputs": [
    {
     "data": {
      "text/plain": [
       "array(['Rusia', 'Italia', 'China', 'Colombia', 'Alemania',\n",
       "       'Estados Unidos', 'Peru', 'Ecuador', 'Francia', 'Mexico'],\n",
       "      dtype='<U14')"
      ]
     },
     "execution_count": 192,
     "metadata": {},
     "output_type": "execute_result"
    }
   ],
   "source": []
  },
  {
   "cell_type": "markdown",
   "id": "a2cb8889",
   "metadata": {},
   "source": [
    "5. Solicite al usuario un pais y muestre por pantalla que productos *no a comprado* en cada categoria-"
   ]
  },
  {
   "cell_type": "code",
   "execution_count": 194,
   "id": "9cf56b0d",
   "metadata": {
    "scrolled": true
   },
   "outputs": [
    {
     "name": "stdout",
     "output_type": "stream",
     "text": [
      "Ingrese un pais: Colombia\n"
     ]
    }
   ],
   "source": []
  },
  {
   "cell_type": "code",
   "execution_count": 197,
   "id": "2789f658",
   "metadata": {},
   "outputs": [],
   "source": []
  },
  {
   "cell_type": "code",
   "execution_count": 199,
   "id": "9bdda4c9",
   "metadata": {},
   "outputs": [
    {
     "name": "stdout",
     "output_type": "stream",
     "text": [
      "Maderas\n",
      "['Caoba' 'Cerezo' 'Nogal' 'Pino']\n",
      "Frutas\n",
      "['Grosella' 'Limon']\n",
      "Flores\n",
      "[]\n"
     ]
    }
   ],
   "source": []
  },
  {
   "cell_type": "markdown",
   "id": "c600cbbd",
   "metadata": {},
   "source": [
    "6. Cuál es la categoria con más ventas."
   ]
  },
  {
   "cell_type": "code",
   "execution_count": 200,
   "id": "b21445c9",
   "metadata": {},
   "outputs": [],
   "source": []
  },
  {
   "cell_type": "code",
   "execution_count": 201,
   "id": "0f922911",
   "metadata": {},
   "outputs": [
    {
     "data": {
      "text/plain": [
       "array([ 9644455.72, 10609861.71, 10693713.04])"
      ]
     },
     "execution_count": 201,
     "metadata": {},
     "output_type": "execute_result"
    }
   ],
   "source": []
  },
  {
   "cell_type": "code",
   "execution_count": 204,
   "id": "b6279b5e",
   "metadata": {
    "scrolled": true
   },
   "outputs": [
    {
     "data": {
      "text/plain": [
       "'Flores'"
      ]
     },
     "execution_count": 204,
     "metadata": {},
     "output_type": "execute_result"
    }
   ],
   "source": []
  },
  {
   "cell_type": "markdown",
   "id": "de11a84b",
   "metadata": {},
   "source": [
    "\n",
    "7. Para cada pais muestre por pantalla con que productos de categoria Frutas superan a su producto más vendido en la categoria Flores. Si un pais no tiene ningun producto de Frutas que cumpla la condicion debe mostrar por pantalla un mensaje adecuado.\n"
   ]
  },
  {
   "cell_type": "markdown",
   "id": "201df33a",
   "metadata": {},
   "source": [
    "![](Pregunta3.PNG)"
   ]
  },
  {
   "cell_type": "code",
   "execution_count": 205,
   "id": "aff9a1d9",
   "metadata": {},
   "outputs": [],
   "source": [
    "def matrizCategoria(M,dicCategorias,categorias, nomCategoria): # Flores\n",
    "    # Iterar una matriz por bloque \n",
    "    ini_col = 0\n",
    "    for categoria in categorias: # maderas\n",
    "        l_prods_cate = dicCategorias[categoria] #\n",
    "        fin_col = ini_col + len(l_prods_cate) # 4\n",
    "        m_categoria = M[:,ini_col: fin_col]\n",
    "        if nomCategoria == categoria:\n",
    "            return m_categoria\n",
    "        ini_col = fin_col  "
   ]
  },
  {
   "cell_type": "code",
   "execution_count": 214,
   "id": "ca51c881",
   "metadata": {
    "scrolled": true
   },
   "outputs": [],
   "source": [
    "# producto más vendidos en la categoria Flores\n",
    "mFlores = matrizCategoria(M,dicCategorias,categorias, 'Flores')\n",
    "max_Flores = mFlores.max(axis = 1)"
   ]
  },
  {
   "cell_type": "code",
   "execution_count": 215,
   "id": "0114355a",
   "metadata": {},
   "outputs": [],
   "source": [
    "mFrutas = matrizCategoria(M,dicCategorias,categorias, 'Frutas')"
   ]
  },
  {
   "cell_type": "code",
   "execution_count": 224,
   "id": "4ce2152e",
   "metadata": {
    "scrolled": true
   },
   "outputs": [
    {
     "data": {
      "text/plain": [
       "array(['Cacao', 'Cereza', 'Frambuesa', 'Grosella', 'Kaki', 'Limon',\n",
       "       'Mandarina', 'Manzana', 'Naranja', 'Papaya'], dtype='<U9')"
      ]
     },
     "execution_count": 224,
     "metadata": {},
     "output_type": "execute_result"
    }
   ],
   "source": [
    "v_prods_frutas = np.array(dicCategorias['Frutas'])\n",
    "v_prods_frutas"
   ]
  },
  {
   "cell_type": "code",
   "execution_count": 225,
   "id": "f8f5a480",
   "metadata": {
    "scrolled": false
   },
   "outputs": [],
   "source": [
    "m_condicion = mFrutas > max_Flores"
   ]
  },
  {
   "cell_type": "code",
   "execution_count": 228,
   "id": "93e02f33",
   "metadata": {},
   "outputs": [
    {
     "name": "stdout",
     "output_type": "stream",
     "text": [
      "Rusia\n",
      "no hay\n",
      "Peru\n",
      "['Grosella' 'Manzana']\n",
      "Colombia\n",
      "no hay\n",
      "Mexico\n",
      "no hay\n",
      "Italia\n",
      "no hay\n",
      "Alemania\n",
      "no hay\n",
      "Ecuador\n",
      "['Manzana']\n",
      "Estados Unidos\n",
      "['Manzana']\n",
      "China\n",
      "['Cereza' 'Papaya']\n",
      "Francia\n",
      "no hay\n"
     ]
    }
   ],
   "source": [
    "for i in range(m_condicion.shape[0]):\n",
    "    fila = m_condicion[i,:]\n",
    "    prods_frutas_cond = v_prods_frutas[fila] # []\n",
    "    pais = compradores[i]\n",
    "    print(pais)\n",
    "    if len(prods_frutas_cond)== 0:\n",
    "        print('no hay')\n",
    "    else:\n",
    "        print(prods_frutas_cond)"
   ]
  }
 ],
 "metadata": {
  "kernelspec": {
   "display_name": "Python 3 (ipykernel)",
   "language": "python",
   "name": "python3"
  },
  "language_info": {
   "codemirror_mode": {
    "name": "ipython",
    "version": 3
   },
   "file_extension": ".py",
   "mimetype": "text/x-python",
   "name": "python",
   "nbconvert_exporter": "python",
   "pygments_lexer": "ipython3",
   "version": "3.9.12"
  }
 },
 "nbformat": 4,
 "nbformat_minor": 5
}
