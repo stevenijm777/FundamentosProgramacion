{
 "cells": [
  {
   "cell_type": "markdown",
   "id": "dba50765",
   "metadata": {},
   "source": [
    "# Tema 1 Fabrica Papa Noel\n",
    "https://www.dspace.espol.edu.ec/retrieve/102370/EXA-2017-2S-FUNDAMENTOS%20DE%20PROGRAMACIÓN-7-1Par.pdf"
   ]
  },
  {
   "cell_type": "code",
   "execution_count": 3,
   "id": "04b0f0c0",
   "metadata": {},
   "outputs": [
    {
     "name": "stdout",
     "output_type": "stream",
     "text": [
      "[978, 1000, 696, 535]\n"
     ]
    }
   ],
   "source": [
    "tareas = [\"pintar soldados\", 'hornear galletas', 'armar muñecos', 'cortar papel de regalo']\n",
    "inicio = [678, 200, 240, 423]\n",
    "duración = [300, 800, 456, 112]\n",
    "minutos_dias = 1440 # cantidad de minutos en un día\n",
    "finalizacion = []\n",
    "# iterar listas paralelas\n",
    "for i in range(0,len(inicio),1):\n",
    "    ini = inicio[i]\n",
    "    dura = duración[i]\n",
    "    fin = ini+dura\n",
    "    finalizacion.append(fin)\n",
    "print(finalizacion)"
   ]
  },
  {
   "cell_type": "code",
   "execution_count": 4,
   "id": "40d71c3d",
   "metadata": {},
   "outputs": [],
   "source": [
    "# ya vengo\n",
    "inicio.sort()"
   ]
  },
  {
   "cell_type": "code",
   "execution_count": 5,
   "id": "8f98e89d",
   "metadata": {},
   "outputs": [
    {
     "data": {
      "text/plain": [
       "[200, 240, 423, 678]"
      ]
     },
     "execution_count": 5,
     "metadata": {},
     "output_type": "execute_result"
    }
   ],
   "source": [
    "inicio"
   ]
  },
  {
   "cell_type": "code",
   "execution_count": 10,
   "id": "ca3a96ce",
   "metadata": {
    "scrolled": true
   },
   "outputs": [
    {
     "name": "stdout",
     "output_type": "stream",
     "text": [
      "[(535, 'cortar papel de regalo'), (696, 'armar muñecos'), (978, 'pintar soldados'), (1000, 'hornear galletas')]\n"
     ]
    }
   ],
   "source": [
    "# ordenar listas paralelas\n",
    "#2.3\n",
    "#crear una lista de tuplas\n",
    "l_tuplas = []\n",
    "# iterar por indice paralelamente\n",
    "for i in range(0,len(tareas),1):\n",
    "    tarea = tareas[i]\n",
    "    fin = finalizacion[i]\n",
    "    #2.1 creo una tupla\n",
    "    tupla = fin, tarea\n",
    "    l_tuplas.append(tupla)\n",
    "l_tuplas\n",
    "# ordeno la lista de tuplas\n",
    "l_tuplas.sort()\n",
    "print(l_tuplas)"
   ]
  },
  {
   "cell_type": "code",
   "execution_count": 13,
   "id": "80d77643",
   "metadata": {},
   "outputs": [
    {
     "data": {
      "text/plain": [
       "[(978, 'pintar soldados'),\n",
       " (1000, 'hornear galletas'),\n",
       " (696, 'armar muñecos'),\n",
       " (535, 'cortar papel de regalo')]"
      ]
     },
     "execution_count": 13,
     "metadata": {},
     "output_type": "execute_result"
    }
   ],
   "source": [
    "list(zip(finalizacion,tareas))"
   ]
  },
  {
   "cell_type": "code",
   "execution_count": 14,
   "id": "0dc6c624",
   "metadata": {},
   "outputs": [
    {
     "data": {
      "text/plain": [
       "3209"
      ]
     },
     "execution_count": 14,
     "metadata": {},
     "output_type": "execute_result"
    }
   ],
   "source": [
    "sum(finalizacion)"
   ]
  },
  {
   "cell_type": "code",
   "execution_count": 18,
   "id": "1915270b",
   "metadata": {
    "scrolled": true
   },
   "outputs": [
    {
     "name": "stdout",
     "output_type": "stream",
     "text": [
      "1. cortar papel de regalo\n",
      "535\n",
      "2. armar muñecos\n",
      "1231\n",
      "3. pintar soldados\n",
      "2209\n"
     ]
    }
   ],
   "source": [
    "total = 0 #535\n",
    "i = 0 #1\n",
    "while not(total >= 1440):\n",
    "    fin,tarea = l_tuplas[i]\n",
    "    print(\"{}. {}\".format(i+1,tarea))\n",
    "    total += fin\n",
    "    print(total)\n",
    "    i+=1"
   ]
  },
  {
   "cell_type": "code",
   "execution_count": 21,
   "id": "1df6dc23",
   "metadata": {
    "scrolled": true
   },
   "outputs": [
    {
     "name": "stdout",
     "output_type": "stream",
     "text": [
      "\n",
      "+--------------+\n",
      "|Tareas del día|\n",
      "+--------------+\n",
      "1. cortar papel de regalo\n",
      "535\n",
      "2. armar muñecos\n",
      "1231\n",
      "3. pintar soldados\n",
      "2209\n"
     ]
    }
   ],
   "source": [
    "tareas = [\"pintar soldados\", 'hornear galletas', 'armar muñecos', 'cortar papel de regalo']\n",
    "inicio = [678, 200, 240, 423]\n",
    "duración = [300, 800, 456, 112]\n",
    "minutos_dias = 1440 # cantidad de minutos en un día\n",
    "finalizacion = []\n",
    "# iterar listas paralelas\n",
    "for i in range(0,len(inicio),1):\n",
    "    ini = inicio[i]\n",
    "    dura = duración[i]\n",
    "    fin = ini+dura\n",
    "    finalizacion.append(fin)\n",
    "l_tuplas = []\n",
    "for i in range(0,len(tareas),1):\n",
    "    tarea = tareas[i]\n",
    "    fin = finalizacion[i]\n",
    "    tupla = fin, tarea\n",
    "    l_tuplas.append(tupla)\n",
    "l_tuplas\n",
    "l_tuplas.sort()\n",
    "print(\"\"\"\n",
    "+--------------+\n",
    "|Tareas del día|\n",
    "+--------------+\"\"\")\n",
    "total = 0 #535\n",
    "i = 0 #1\n",
    "while not(total >= 1440):\n",
    "    fin,tarea = l_tuplas[i]\n",
    "    print(\"{}. {}\".format(i+1,tarea))\n",
    "    total += fin\n",
    "    print(total)\n",
    "    i+=1\n",
    "        \n",
    "        "
   ]
  },
  {
   "cell_type": "code",
   "execution_count": null,
   "id": "d7b8bb18",
   "metadata": {},
   "outputs": [],
   "source": []
  }
 ],
 "metadata": {
  "kernelspec": {
   "display_name": "Python 3 (ipykernel)",
   "language": "python",
   "name": "python3"
  },
  "language_info": {
   "codemirror_mode": {
    "name": "ipython",
    "version": 3
   },
   "file_extension": ".py",
   "mimetype": "text/x-python",
   "name": "python",
   "nbconvert_exporter": "python",
   "pygments_lexer": "ipython3",
   "version": "3.9.12"
  }
 },
 "nbformat": 4,
 "nbformat_minor": 5
}
