{
 "cells": [
  {
   "cell_type": "markdown",
   "id": "40e78736",
   "metadata": {},
   "source": [
    "http://blog.espol.edu.ec/ccpg1001/1eva_iit2015_t3-recorrido-turistico-en-ciudad/\n",
    "\n",
    "1ra Evaluación II Término 2015-2016, Marzo 7, 2016 /CCPG1001"
   ]
  },
  {
   "cell_type": "code",
   "execution_count": 1,
   "id": "c9e46323",
   "metadata": {},
   "outputs": [],
   "source": [
    "import random as rd"
   ]
  },
  {
   "cell_type": "code",
   "execution_count": 2,
   "id": "04360f66",
   "metadata": {},
   "outputs": [],
   "source": [
    "def generarCatalogo():\n",
    "    codigos = list(range(1,9)) # [1, 2, 3, 4, 5, 6, 7, 8]\n",
    "    nombres = [\"Malecón 2000\", \"Las Peñas\", \"BarcoPirata Morgan\",\"Recorrido Panorámico\", \"Museos\", \"Parque Histórico\", \"Mall del Sol\", \"IMAX\"]\n",
    "    tiempos = [2, 3, 2, 2, 3, 4, 3, 3]\n",
    "    costos = [6.5, 6, 12.25, 12, 10, 10, 6, 8.15]\n",
    "    catalogo = (codigos, nombres, tiempos, costos)\n",
    "    return catalogo"
   ]
  },
  {
   "cell_type": "code",
   "execution_count": 3,
   "id": "b679b368",
   "metadata": {},
   "outputs": [],
   "source": [
    "def generarTour():\n",
    "    tour = []\n",
    "    i = 0\n",
    "    while (i<4):\n",
    "        num = rd.randint(1,8)\n",
    "        if num not in tour:\n",
    "            tour.append(num)\n",
    "            i+=1\n",
    "    return tour        "
   ]
  },
  {
   "cell_type": "code",
   "execution_count": 4,
   "id": "92a375b5",
   "metadata": {},
   "outputs": [],
   "source": [
    "def duracionActividad(catalogo, codigo): # [], 2\n",
    "    codigos = catalogo[0]\n",
    "    duraciones = catalogo[2]\n",
    "    #iterar una lista paralelamente\n",
    "    for i in range(len(codigos)):\n",
    "        cod = codigos[i]\n",
    "        duracion = duraciones[i]\n",
    "        if cod == codigo:\n",
    "            return duracion"
   ]
  },
  {
   "cell_type": "code",
   "execution_count": 5,
   "id": "e9a72dc3",
   "metadata": {},
   "outputs": [],
   "source": [
    "def inicioActividad(codigo, hora): #3 13\n",
    "    l_horas = range(10,22,1)\n",
    "    hh = horaCerca(hora, l_horas)\n",
    "    # Parque historico maximo 14:00\n",
    "    if codigo == 6:\n",
    "        if hh > 14:\n",
    "            hh = -1\n",
    "    # pirata Morga inicia 14:00\n",
    "    elif codigo == 3:\n",
    "        if hh <14:\n",
    "            hh = 14\n",
    "    # Imax 12:00 15:00 18:00\n",
    "    elif codigo == 8:\n",
    "        if hh <= 12:\n",
    "            hh = 12\n",
    "        elif hh <= 15:\n",
    "            hh = 15\n",
    "        elif hh <= 18:\n",
    "            hh = 18\n",
    "    # museo maximo 18:00\n",
    "    elif codigo == 18:\n",
    "        if hh>18:\n",
    "            hh = -1    \n",
    "    return hh"
   ]
  },
  {
   "cell_type": "code",
   "execution_count": 6,
   "id": "bf680813",
   "metadata": {},
   "outputs": [],
   "source": [
    "def horaCerca(hora, l_horas): # 10, [10, 11, 12, 13, 14, 15, 16, 17, 18, 19, 20, 21]\n",
    "    for hh in l_horas: #10\n",
    "        if hora <= hh:\n",
    "            return hh\n",
    "    return -1 "
   ]
  },
  {
   "cell_type": "code",
   "execution_count": 7,
   "id": "71031b76",
   "metadata": {},
   "outputs": [],
   "source": [
    "def verificarTour(catalgo, tour):# [5, 3, 4, 7]\n",
    "    hora = 10\n",
    "    for codigo in tour: #\n",
    "        hh = inicioActividad(codigo, hora)\n",
    "        duracion = duracionActividad(catalogo, codigo)\n",
    "        if hh == -1:\n",
    "            return False\n",
    "        elif (hh+duracion>22):\n",
    "            return False\n",
    "    return True"
   ]
  },
  {
   "cell_type": "code",
   "execution_count": 8,
   "id": "99d0f4ee",
   "metadata": {},
   "outputs": [],
   "source": [
    "def calcularCostoTotal(catalogo, tour): # tour = [5, 3, 4, 7]\n",
    "    codigos = catalogo[0]\n",
    "    costos = catalogo[3]\n",
    "    totales = []\n",
    "    for codigo in tour:\n",
    "        ind = codigos.index(codigo)\n",
    "        costo = costos[ind]\n",
    "        totales.append(costo)\n",
    "    totalCosto = sum(totales)  \n",
    "    return totalCosto"
   ]
  },
  {
   "cell_type": "code",
   "execution_count": 9,
   "id": "89a24e45",
   "metadata": {},
   "outputs": [],
   "source": [
    "def calcularTiempoTotal(catalogo, tour):\n",
    "    codigos = catalogo[0]\n",
    "    duraciones = catalogo[2]\n",
    "    horas = []\n",
    "    hora = 10\n",
    "    for codigo in tour:\n",
    "        ind = codigos.index(codigo)\n",
    "        hh = inicioActividad(codigo, hora) # 10\n",
    "        duracion = duraciones[ind] \n",
    "        hora = hh + duracion\n",
    "        horas.append(hora)\n",
    "    horaFin = horas[-1]\n",
    "    totalDuracion = horaFin - 10\n",
    "    return totalDuracion"
   ]
  },
  {
   "cell_type": "code",
   "execution_count": 10,
   "id": "0ae0caeb",
   "metadata": {},
   "outputs": [],
   "source": [
    "catalogo = generarCatalogo()"
   ]
  },
  {
   "cell_type": "code",
   "execution_count": 11,
   "id": "3f6063c9",
   "metadata": {
    "scrolled": false
   },
   "outputs": [],
   "source": [
    "tour = generarTour()\n",
    "verifica  = verificarTour(catalogo, tour)\n",
    "while not(verifica):\n",
    "    tour = generarTour()\n",
    "    verifica  = verificarTour(catalogo, tour)"
   ]
  },
  {
   "cell_type": "code",
   "execution_count": 12,
   "id": "d220a14e",
   "metadata": {
    "scrolled": true
   },
   "outputs": [],
   "source": [
    "tour = [5, 3, 4, 7]"
   ]
  },
  {
   "cell_type": "markdown",
   "id": "684c58a9",
   "metadata": {},
   "source": [
    "10:00 Visita a Museos\n",
    "14:00 Río Guayas en el Pirata Morgan\n",
    "16:00 Recorrido Panorámico\n",
    "18:00 Compras en Mall del Sol\n",
    "\n",
    "El tour comenzaráa las 10:00 horas y \n",
    "terminará a las 21:00 horas.\n",
    "Tiempo total de recorrido: 11 horas\n",
    "Costo total: $ 40.25"
   ]
  },
  {
   "cell_type": "code",
   "execution_count": 13,
   "id": "505728f9",
   "metadata": {
    "scrolled": false
   },
   "outputs": [
    {
     "name": "stdout",
     "output_type": "stream",
     "text": [
      "10:00 Museos\n",
      "14:00 BarcoPirata Morgan\n",
      "16:00 Recorrido Panorámico\n",
      "18:00 Mall del Sol\n",
      "\n",
      "El tour comenzará a las 10:00 horas y \n",
      "terminará a las 21:00 horas.\n",
      "Tiempo total de recorrido: 11 horas\n",
      "Costo total: $ 40.25\n"
     ]
    }
   ],
   "source": [
    "codigos, nombres, tiempos, costos = catalogo\n",
    "hora = 10 # 16\n",
    "horas = []\n",
    "for codigo in tour:\n",
    "    ind = codigos.index(codigo) #4\n",
    "    nombre = nombres[ind]\n",
    "    duracion = tiempos[ind]\n",
    "    hh  = inicioActividad(codigo, hora) # 14\n",
    "    horas.append(hh)\n",
    "    hora = hh + duracion \n",
    "    horas.append(hora)\n",
    "    print(\"{}:00 {}\".format(hh, nombre))\n",
    "costoTotal  = calcularCostoTotal(catalogo, tour)\n",
    "tiempoTotal = calcularTiempoTotal(catalogo, tour)\n",
    "print(\"\"\"\n",
    "El tour comenzará a las {}:00 horas y \n",
    "terminará a las {}:00 horas.\n",
    "Tiempo total de recorrido: {} horas\n",
    "Costo total: $ {:.2f}\"\"\".format(horas[0],\n",
    "                               horas[-1], \n",
    "                               tiempoTotal, costoTotal))"
   ]
  }
 ],
 "metadata": {
  "kernelspec": {
   "display_name": "Python 3 (ipykernel)",
   "language": "python",
   "name": "python3"
  },
  "language_info": {
   "codemirror_mode": {
    "name": "ipython",
    "version": 3
   },
   "file_extension": ".py",
   "mimetype": "text/x-python",
   "name": "python",
   "nbconvert_exporter": "python",
   "pygments_lexer": "ipython3",
   "version": "3.10.4"
  }
 },
 "nbformat": 4,
 "nbformat_minor": 5
}
