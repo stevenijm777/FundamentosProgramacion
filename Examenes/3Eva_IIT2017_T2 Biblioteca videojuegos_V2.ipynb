{
 "cells": [
  {
   "cell_type": "markdown",
   "id": "03ae4bbe",
   "metadata": {},
   "source": [
    "videojuegos.csv\n",
    "Nombre, Año, Consola, Calificación, Tags (separados por ;)\n",
    "The Legend of Zelda,86,Famicon Disk System,3.5,RPG;Link;Zelda;Hyrile;Triforce\n",
    "Double Dragon,87,Arcade,3.7,Beat-em up; Billy;Jimmy;Puñete\n",
    "The Legend of Zelda,88,NES,4.3,RPG;Link;Zelda;Hyrule;Triforce\n",
    "...\n",
    "Halo 5:Guardians,15,Famicon Disk System,4,FPS;Master Chief;Cortana;Covenant"
   ]
  },
  {
   "cell_type": "markdown",
   "id": "9e8537a4",
   "metadata": {},
   "source": [
    "[15 puntos] La función juegosConsolas(nomArchivo, categoria, decada) que recibe el nombre del\n",
    "archivo con la información de los videojuegos, una categoría y un número de cuatro dígitos\n",
    "representando una década de años. La función retorna una tupla con 2 elementos. El primer\n",
    "elemento es la lista con valores únicos de todos los juegos de esa década para esa categoría. El\n",
    "segundo elemento es la lista con valores únicos de todas las consolas que tienen juegos para esa\n",
    "década y categoría.\n",
    "Por ejemplo, llamar a juegosConsolas('videojuegos.csv', 1980, 'RPG') retorna:\n",
    "(['The Legend of Zelda', 'Phantasy Star', ...],['NES', 'Famicon Disk System', ...])"
   ]
  },
  {
   "cell_type": "code",
   "execution_count": null,
   "id": "12da2814",
   "metadata": {},
   "outputs": [],
   "source": [
    "def juegosConsolas(nomArchivo, categoria, decada): #videojuegos.csv, RPG, 1980\n",
    "    nombres = []\n",
    "    consolas = []\n",
    "    dec = str(decada)[2] # '8'\n",
    "    f =open(nomArchivo)\n",
    "    f.readline()\n",
    "    for line in f:\n",
    "        Nombre, Anio, Consola, Calificación, Tags = line.strip().split(',')\n",
    "#The Legend of Zelda,86,Famicon Disk System,3.5,RPG;Link;Zelda;Hyrile;Triforce\n",
    "        anio = Anio[0]\n",
    "        tags = Tags.split(';')\n",
    "        cate = tags[0]\n",
    "        if cate == categoria and dec == anio:\n",
    "            if Nombre not in nombres:\n",
    "                nombres.append(Nombre)\n",
    "            if Consola not in consolas:\n",
    "                consolas.append(Consola)               \n",
    "    f.close()\n",
    "    return (nombres,consolas)"
   ]
  },
  {
   "cell_type": "markdown",
   "id": "1de06031",
   "metadata": {},
   "source": [
    "La función crearMatriz(nomArchivo, categoria, decada) que recibe el nombre del\n",
    "archivo con la información de los videojuegos, el nombre de una categoría de videojuegos y un\n",
    "número de cuatro dígitos representando una década de años. La función deberá leer el archivo y\n",
    "retornar una matriz donde las filas representan los juegos de categoria para la decada, las\n",
    "columnas representan las consolas que tienen juegos de categoria para la decada y las celdas son\n",
    "las calificaciones de cada juego para cada consola. Si un juego no existe para una consola, su\n",
    "calificación deberá ser cero (0).\n"
   ]
  },
  {
   "cell_type": "code",
   "execution_count": null,
   "id": "221ea4e0",
   "metadata": {},
   "outputs": [],
   "source": [
    "def calificacio_juego(nomArchivo,decada,categoria):\n",
    "    dicc = {}\n",
    "    decada = decada[2]\n",
    "    f =open(nomArchivo)\n",
    "    f.readline()\n",
    "    for line in f:\n",
    "        Nombre, Anio, Consola, Calificacion, Tags = line.strip().split(',')\n",
    "#The Legend of Zelda,86,Famicon Disk System,3.5,RPG;Link;Zelda;Hyrile;Triforce\n",
    "        anio = Anio[0]\n",
    "        tags = Tags.split(';')\n",
    "        cate = tags[0]\n",
    "        if cate == categoria and dec == anio:\n",
    "            if Nombre not in dicc:\n",
    "                dicc[Nombre] = {Consola:Calificacion}\n",
    "            else:\n",
    "                dicc[Nombre].update(Consola:Calificacion)\n",
    "    f.close()\n",
    "    return dicc\n",
    "\n",
    "\n",
    "def crearMatriz(nomArchivo,categoria,decada):\n",
    "    nombres,consolas = juegosConsolas(nomArchivo, categoria, decada)\n",
    "    dicc = calificacio_juego(nomArchivo,decada,categoria) #{Legend{RPG:3.5}}\n",
    "    fila = len(nombres)\n",
    "    colum = len(consolas)\n",
    "    M = np.zeros((fila,colum))\n",
    "    for i in range(len(nombres)):\n",
    "        nombre = nombres[i]\n",
    "        for j in range(len(consolas)):\n",
    "            consola = consolas[j]\n",
    "            if consola not in dicc[nombre]:\n",
    "                calif = 0\n",
    "            else:\n",
    "                calif = dicc[nombre][consola]\n",
    "            M[i,j] = calif\n",
    "    return M"
   ]
  },
  {
   "cell_type": "code",
   "execution_count": 7,
   "id": "19dbe4f3",
   "metadata": {},
   "outputs": [],
   "source": [
    "import numpy as np\n",
    "M = np.zeros((3,4))\n",
    "M[0,1]=5"
   ]
  },
  {
   "cell_type": "code",
   "execution_count": 8,
   "id": "9c1c04b4",
   "metadata": {
    "scrolled": true
   },
   "outputs": [
    {
     "data": {
      "text/plain": [
       "array([[0., 5., 0., 0.],\n",
       "       [0., 0., 0., 0.],\n",
       "       [0., 0., 0., 0.]])"
      ]
     },
     "execution_count": 8,
     "metadata": {},
     "output_type": "execute_result"
    }
   ],
   "source": [
    "M"
   ]
  },
  {
   "cell_type": "markdown",
   "id": "1632ab6e",
   "metadata": {},
   "source": [
    "3. [18 puntos] La función mejoresJuegos(nomArchivo, categoria, decada) que recibe el nombre del\n",
    "archivo con la información de los videojuegos, el nombre de una categoría de videojuegos y un\n",
    "número de cuatro dígitos representando una década de años. La función deberá generar el archivo\n",
    "“Mejores.txt” con los cinco mejores juegos de la decada para la categoria, ordenados de mayor a\n",
    "menor por su calificación promedio. Para calcular el promedio de un juego, considere únicamente\n",
    "las consolas en las que fue lanzado (no considere los valores cero). El archivo tendrá la siguiente\n",
    "estructura:\n",
    "Nombre,Promedio_calificación\n"
   ]
  },
  {
   "cell_type": "code",
   "execution_count": null,
   "id": "3b05d8fe",
   "metadata": {},
   "outputs": [],
   "source": [
    "def mejoresJuegos(nomArchivo, categoria, decada):\n",
    "    M =crearMatriz(nomArchivo,categoria,decada)\n",
    "    nombres,consolas = juegosConsolas(nomArchivo, categoria, decada)\n",
    "    l_proms = []\n",
    "    fila = M.shape[0]\n",
    "    for i in range(fila):\n",
    "        valor = M[i,:]\n",
    "        suma = valor.sum()\n",
    "        v_cond = valor !=0\n",
    "        cant = v_cond.count(True) #4\n",
    "        prom = suma/cant\n",
    "        l_proms.append(prom)\n",
    "    v_prom = np.array(l_proms)\n",
    "    v_ind_ord = v_prom.argsort()[::-1]\n",
    "    v_ord_Prom = v_prom[v_ind_ord][:5]\n",
    "    v_nom = np.array(nombres)\n",
    "    v_ord_Nom = v_nom[v_ind_ord][:5]\n",
    "    #Nombre,Promedio_calificación       \n",
    "    f = open('Mejores'+'.txt','w')\n",
    "    for i in range(len(v_ordePr)):\n",
    "        prom = v_ord_Prom[i]\n",
    "        nom = v_ord_Nom[i]\n",
    "        f.write(nom+','+str(prom)+'\\n')\n",
    "    f.close()"
   ]
  }
 ],
 "metadata": {
  "kernelspec": {
   "display_name": "Python 3 (ipykernel)",
   "language": "python",
   "name": "python3"
  },
  "language_info": {
   "codemirror_mode": {
    "name": "ipython",
    "version": 3
   },
   "file_extension": ".py",
   "mimetype": "text/x-python",
   "name": "python",
   "nbconvert_exporter": "python",
   "pygments_lexer": "ipython3",
   "version": "3.9.12"
  }
 },
 "nbformat": 4,
 "nbformat_minor": 5
}
