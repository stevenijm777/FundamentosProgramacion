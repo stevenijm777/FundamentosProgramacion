{
 "cells": [
  {
   "cell_type": "code",
   "execution_count": 18,
   "id": "41f905c5",
   "metadata": {},
   "outputs": [
    {
     "name": "stdout",
     "output_type": "stream",
     "text": [
      "Ingrese la cantidad de monedas: 20\n"
     ]
    }
   ],
   "source": [
    "import random as rd\n",
    "\n",
    "# cantidad monedas de la persona \n",
    "persona = int(input(\"Ingrese la cantidad de monedas: \"))\n",
    "maquina = 15"
   ]
  },
  {
   "cell_type": "code",
   "execution_count": 21,
   "id": "b236e2e5",
   "metadata": {
    "scrolled": true
   },
   "outputs": [
    {
     "name": "stdout",
     "output_type": "stream",
     "text": [
      "gano maquina\n"
     ]
    }
   ],
   "source": [
    "cont = 0\n",
    "while not(persona < 5 or maquina < 5):\n",
    "    cont+=1\n",
    "    persona -= 5\n",
    "    maquina += 5\n",
    "    print(\"se ingresa con cant persona\",persona)\n",
    "    print(\"se ingresa con maquina\", maquina)\n",
    "    # generar los 3 números aleatorios\n",
    "    num1 = rd.randint(0,9) # 2\n",
    "    num2 = rd.randint(0,9) # 1\n",
    "    num3 = rd.randint(0,9) # 3\n",
    "    # mostrar los numers\n",
    "    num = str(num1)+ str(num2)+str(num3)\n",
    "    print(num)\n",
    "    # 20 monedas (3 nueros iguales)\n",
    "    if (num1 == num2 == num3):\n",
    "        persona += 20\n",
    "        maquina -= 20\n",
    "    # 10 monedas (2 nueros iguales  \n",
    "    elif (num1 == num2 or num1 == num3 or num2 == num3):\n",
    "        persona += 10\n",
    "        maquina -=10\n",
    "    print(\"cant persona\",persona)\n",
    "    print(\"maquina\", maquina)\n",
    "    print(cont)\n",
    "if (persona<5):\n",
    "    print(\"gano maquina\")\n",
    "else:\n",
    "    print(\"gano persona\")"
   ]
  },
  {
   "cell_type": "code",
   "execution_count": 22,
   "id": "44db52d2",
   "metadata": {},
   "outputs": [],
   "source": [
    "    num1 = rd.randint(0,9) # 3\n",
    "    num2 = rd.randint(0,9) # 4\n",
    "    num3 = rd.randint(0,9) # 5\n",
    "    # 20 monedas (e nueros iguales)\n",
    "    if (num1 == num2 == num3):\n",
    "        print(si)"
   ]
  },
  {
   "cell_type": "code",
   "execution_count": null,
   "id": "856718bc",
   "metadata": {},
   "outputs": [],
   "source": []
  }
 ],
 "metadata": {
  "kernelspec": {
   "display_name": "Python 3 (ipykernel)",
   "language": "python",
   "name": "python3"
  },
  "language_info": {
   "codemirror_mode": {
    "name": "ipython",
    "version": 3
   },
   "file_extension": ".py",
   "mimetype": "text/x-python",
   "name": "python",
   "nbconvert_exporter": "python",
   "pygments_lexer": "ipython3",
   "version": "3.9.12"
  }
 },
 "nbformat": 4,
 "nbformat_minor": 5
}
