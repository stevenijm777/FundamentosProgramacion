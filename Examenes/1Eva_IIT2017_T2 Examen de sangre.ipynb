{
 "cells": [
  {
   "cell_type": "markdown",
   "id": "2682fd94",
   "metadata": {},
   "source": [
    "# 1Eva_IIT2017_T2 Examen de sangre\n",
    "http://blog.espol.edu.ec/ccpg1001/1eva_iit2017_t2-examen-de-sangre/"
   ]
  },
  {
   "cell_type": "markdown",
   "id": "795ed28e",
   "metadata": {},
   "source": [
    "resultado =\"Resultado de Laboratorio ‘Su Salud’ Nombre del paciente: José Aimas E-mail del paciente: jose.aimas@gmail.com Resultados del laboratorio: INR 1.25 segundos BGT 180.12 mmol/dL HGB 13 g/dL ESR 3.2 mm/hora RBC 4000024.2 cel/ul TA 1.5 ng/dL WBC 123233.23 cel/uL. Los valores de éste informe no representan un diagnóstico. Firma médico responsable: Dr. Juan Pozo\""
   ]
  },
  {
   "cell_type": "code",
   "execution_count": 9,
   "id": "d6c77ff3",
   "metadata": {},
   "outputs": [],
   "source": [
    "resultado =\"Resultado de Laboratorio ‘Su Salud’ Nombre del paciente: José Aimas E-mail del paciente: jose.aimas@gmail.com Resultados del laboratorio: INR 1.25 segundos BGT 180.12 mmol/dL HGB 13 g/dL ESR 3.2 mm/hora RBC 4000024.2 cel/ul TA 1.5 ng/dL WBC 123233.23 cel/uL. Los valores de éste informe no representan un diagnóstico. Firma médico responsable: Dr. Juan Pozo\""
   ]
  },
  {
   "cell_type": "code",
   "execution_count": 5,
   "id": "d5539f9e",
   "metadata": {
    "scrolled": false
   },
   "outputs": [
    {
     "data": {
      "text/plain": [
       "True"
      ]
     },
     "execution_count": 5,
     "metadata": {},
     "output_type": "execute_result"
    }
   ],
   "source": [
    "\"HOLA \".isupper()"
   ]
  },
  {
   "cell_type": "code",
   "execution_count": 8,
   "id": "f276a536",
   "metadata": {
    "scrolled": true
   },
   "outputs": [
    {
     "name": "stdout",
     "output_type": "stream",
     "text": [
      "INFORME DE LABORATORIO\n",
      "**********************\n"
     ]
    }
   ],
   "source": [
    "encabezado  = \"INFORME DE LABORATORIO\"\n",
    "print(encabezado)\n",
    "print(\"*\"* len(encabezado))"
   ]
  },
  {
   "cell_type": "code",
   "execution_count": 17,
   "id": "e6f0daf9",
   "metadata": {
    "scrolled": false
   },
   "outputs": [],
   "source": [
    "palabras = resultado.split(\" \")"
   ]
  },
  {
   "cell_type": "code",
   "execution_count": 36,
   "id": "6477e53e",
   "metadata": {},
   "outputs": [
    {
     "data": {
      "text/plain": [
       "['Resultado',\n",
       " 'de',\n",
       " 'Laboratorio',\n",
       " '‘Su',\n",
       " 'Salud’',\n",
       " 'Nombre',\n",
       " 'del',\n",
       " 'paciente:',\n",
       " 'José',\n",
       " 'Aimas',\n",
       " 'E-mail',\n",
       " 'del',\n",
       " 'paciente:',\n",
       " 'jose.aimas@gmail.com',\n",
       " 'Resultados',\n",
       " 'del',\n",
       " 'laboratorio:',\n",
       " 'INR',\n",
       " '1.25',\n",
       " 'segundos',\n",
       " 'BGT',\n",
       " '180.12',\n",
       " 'mmol/dL',\n",
       " 'HGB',\n",
       " '13',\n",
       " 'g/dL',\n",
       " 'ESR',\n",
       " '3.2',\n",
       " 'mm/hora',\n",
       " 'RBC',\n",
       " '4000024.2',\n",
       " 'cel/ul',\n",
       " 'TA',\n",
       " '1.5',\n",
       " 'ng/dL',\n",
       " 'WBC',\n",
       " '123233.23',\n",
       " 'cel/uL.',\n",
       " 'Los',\n",
       " 'valores',\n",
       " 'de',\n",
       " 'éste',\n",
       " 'informe',\n",
       " 'no',\n",
       " 'representan',\n",
       " 'un',\n",
       " 'diagnóstico.',\n",
       " 'Firma',\n",
       " 'médico',\n",
       " 'responsable:',\n",
       " 'Dr.',\n",
       " 'Juan',\n",
       " 'Pozo']"
      ]
     },
     "execution_count": 36,
     "metadata": {},
     "output_type": "execute_result"
    }
   ],
   "source": [
    "palabras"
   ]
  },
  {
   "cell_type": "code",
   "execution_count": 16,
   "id": "74fdb436",
   "metadata": {},
   "outputs": [
    {
     "name": "stdout",
     "output_type": "stream",
     "text": [
      "['INR', 'BGT', 'HGB', 'ESR', 'RBC', 'TA', 'WBC']\n",
      "[1.25, 180.12, 13.0, 3.2, 4000024.2, 1.5, 123233.23]\n",
      "['segundos', 'mmol/dL', 'g/dL', 'mm/hora', 'cel/ul', 'ng/dL', 'cel/uL.']\n"
     ]
    }
   ],
   "source": [
    "indicadores = []\n",
    "cantidades = []\n",
    "unidades =[]\n",
    "\n",
    "for palabra in palabras:\n",
    "    if palabra.isupper(): # INR\n",
    "        indicador = palabra        \n",
    "        ind = palabras.index(palabra) #17\n",
    "        cantidad = float(palabras[ind+1])\n",
    "        unidad = palabras[ind+2]\n",
    "        indicadores.append(indicador)\n",
    "        cantidades.append(cantidad)\n",
    "        unidades.append(unidad)\n",
    "print(indicadores) \n",
    "print(cantidades)\n",
    "print(unidades)"
   ]
  },
  {
   "cell_type": "markdown",
   "id": "5f66438f",
   "metadata": {},
   "source": [
    "Se recomienda al paciente ir al endocrinólogo si su nivel de azúcar (BGT), está por encima de los 150 mmol/dL."
   ]
  },
  {
   "cell_type": "code",
   "execution_count": 24,
   "id": "f58bff97",
   "metadata": {},
   "outputs": [
    {
     "ename": "SyntaxError",
     "evalue": "invalid syntax (2206107411.py, line 2)",
     "output_type": "error",
     "traceback": [
      "\u001b[1;36m  Input \u001b[1;32mIn [24]\u001b[1;36m\u001b[0m\n\u001b[1;33m    if indicador == \"BGT\"\u001b[0m\n\u001b[1;37m                         ^\u001b[0m\n\u001b[1;31mSyntaxError\u001b[0m\u001b[1;31m:\u001b[0m invalid syntax\n"
     ]
    }
   ],
   "source": [
    "for indicador in indicadores:\n",
    "    if indicador == \"BGT\"\n",
    "        indi= indicadores.index(indicador)#1\n",
    "        cantidad1= cantidades[indi]\n",
    "        if cantidad>150:\n",
    "            print(\"** Su nivel de azúcar es alto, se recomienda ir al endocrinólogo .\n",
    "\")"
   ]
  },
  {
   "cell_type": "code",
   "execution_count": 31,
   "id": "fcf206c5",
   "metadata": {},
   "outputs": [
    {
     "name": "stdout",
     "output_type": "stream",
     "text": [
      "INR                1.25         segundos            \n",
      "BGT               180.12        mmol/dL             \n",
      "HGB               13.00         g/dL                \n",
      "ESR                3.20         mm/hora             \n",
      "RBC             4000024.20      cel/ul              \n",
      "TA                 1.50         ng/dL               \n",
      "WBC             123233.23       cel/uL.             \n"
     ]
    }
   ],
   "source": [
    "for i in range(0,len(indicadores),1): #0\n",
    "    indicador = indicadores[i]\n",
    "    cantidad = cantidades[i]\n",
    "    unidad = unidades[i]\n",
    "    print(\"{:<10} {:^20.2f} {:<20}\".format(indicador, cantidad, unidad))\n",
    "    "
   ]
  },
  {
   "cell_type": "code",
   "execution_count": 37,
   "id": "e6a93f8d",
   "metadata": {},
   "outputs": [
    {
     "name": "stdout",
     "output_type": "stream",
     "text": [
      "INFORME DE LABORATORIO\n",
      "**********************\n",
      "INR                1.25         segundos            \n",
      "BGT               180.12        mmol/dL             \n",
      "HGB               13.00         g/dL                \n",
      "ESR                3.20         mm/hora             \n",
      "RBC             4000024.20      cel/ul              \n",
      "TA                 1.50         ng/dL               \n",
      "WBC             123233.23       cel/uL.             \n",
      "Medico:  Juan Pozo\n",
      "** Su nivel de azúcar es alto, se recomienda ir al endocrinólogo .\n"
     ]
    }
   ],
   "source": [
    "encabezado  = \"INFORME DE LABORATORIO\"\n",
    "print(encabezado)\n",
    "print(\"*\"* len(encabezado))\n",
    "palabras = resultado.split(\" \")\n",
    "indicadores = []\n",
    "cantidades = []\n",
    "unidades =[]\n",
    "\n",
    "for palabra in palabras:\n",
    "    if palabra.isupper(): # INR\n",
    "        indicador = palabra        \n",
    "        ind = palabras.index(palabra) #17\n",
    "        cantidad = float(palabras[ind+1])\n",
    "        unidad = palabras[ind+2]\n",
    "        indicadores.append(indicador)\n",
    "        cantidades.append(cantidad)\n",
    "        unidades.append(unidad)\n",
    "for i in range(0,len(indicadores),1): #0\n",
    "    indicador = indicadores[i]\n",
    "    cantidad = cantidades[i]\n",
    "    unidad = unidades[i]\n",
    "    print(\"{:<10} {:^20.2f} {:<20}\".format(indicador, cantidad, unidad))\n",
    "for palabra in palabras: # Dr\n",
    "    if palabra== \"Dr.\" :\n",
    "        med= palabras.index(palabra)#indice de Dr\n",
    "        medico= palabras[med+1:] #[\"Juan\", \"Pozo\"]\n",
    "        # obtener un string a partir de una lista\n",
    "        nombre = \" \".join(medico)\n",
    "        print(\"Medico: \", nombre)\n",
    "    \n",
    "for indicador in indicadores:\n",
    "    if indicador == \"BGT\":\n",
    "        indi= indicadores.index(indicador)#1\n",
    "        cantidad1= cantidades[indi]\n",
    "        if cantidad1>150:\n",
    "            print(\"** Su nivel de azúcar es alto, se recomienda ir al endocrinólogo .\")\n",
    "    "
   ]
  }
 ],
 "metadata": {
  "kernelspec": {
   "display_name": "Python 3 (ipykernel)",
   "language": "python",
   "name": "python3"
  },
  "language_info": {
   "codemirror_mode": {
    "name": "ipython",
    "version": 3
   },
   "file_extension": ".py",
   "mimetype": "text/x-python",
   "name": "python",
   "nbconvert_exporter": "python",
   "pygments_lexer": "ipython3",
   "version": "3.9.12"
  }
 },
 "nbformat": 4,
 "nbformat_minor": 5
}
