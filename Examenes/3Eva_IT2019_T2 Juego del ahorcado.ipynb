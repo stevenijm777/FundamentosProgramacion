{
 "cells": [
  {
   "cell_type": "markdown",
   "id": "acd0413a",
   "metadata": {},
   "source": [
    "http://blog.espol.edu.ec/ccpg1001/3eva_it2019_t2-juego-del-ahorcado/"
   ]
  },
  {
   "cell_type": "code",
   "execution_count": null,
   "id": "2de3bff5",
   "metadata": {},
   "outputs": [],
   "source": [
    "#variables y funciones definidas\n",
    "C = ['Transportes', 'Alimentos', 'Deportes', ...],\n",
    "puntajes = {'Transportes':{'a':10, 't':4, 'f':5},\n",
    "            'Deportes': {'a':3, 'z':5, 't':10,},\n",
    "             }\n",
    "def perteneceCategoria(palabra,categoria):\n",
    "    ...\n",
    "    ...\n",
    "#La función perteneceCategoria(palabra, categoria) que retorna True si palabra pertenece a la categoria, False en caso contrario."
   ]
  },
  {
   "cell_type": "code",
   "execution_count": null,
   "id": "44b74501",
   "metadata": {},
   "outputs": [],
   "source": [
    "# Programa \n",
    "turnos = 0\n",
    "pals_ingresadas = []\n",
    "puntaje_total= []\n",
    "while not(turnos==5):\n",
    "    categoria = rd.choise(C) # 'Transportes'\n",
    "    palabra = input('Ingrese una palabra para la categoria {}:  '.format(categoria)) # auto\n",
    "    condicion =  perteneceCategoria(palabra, categoria) # True\n",
    "    puntaje_pal = []#[10,4,4,5]\n",
    "    if condicion and palabra not in palabrasIngresadas: \n",
    "    # iteracion de cada letra en la palabra\n",
    "    for letra in palabra: #o\n",
    "        valor = puntajes[categoria][letra] #5\n",
    "        puntaje_pal.append(valor)"
   ]
  },
  {
   "cell_type": "code",
   "execution_count": null,
   "id": "6af82ce0",
   "metadata": {},
   "outputs": [],
   "source": [
    "contador = 0\n",
    "palabrasIngresadas = [] # \n",
    "totalPalabras = []\n",
    "while contador !=5:\n",
    "  categoria = rd.choise(C) # deporte\n",
    "  palabra = input('Ingrese una palabra para la categoria {}:  '.format(categoria)) # manzana\n",
    "  condicion =  perteneceCategoria(palabra, categoria) #true\n",
    "  puntaje_pal = []#[]\n",
    "  if condicion and palabra not in palabrasIngresadas: \n",
    "    # iteracion de cada letrita en la palabra\n",
    "    for letra in palabra: #n\n",
    "      valor = puntajes[categoria][letra] #10\n",
    "      puntaje_pal.append(valor)\n",
    "  totalPalabras.append(sum(puntaje_pal))\n",
    "  print(\"Puntaje de la palabra: {}, puntaje acumulado {} \".format(sum(puntaje_pal),sum(totalPalabras)))\n",
    "  palabrasIngresadas.append(palabra)\n",
    "if sum(totalPalabras) >= 500:\n",
    "  print('Felicidades ud ha GANADO')\n",
    "else:\n",
    "  print('PERDIO')\n"
   ]
  }
 ],
 "metadata": {
  "kernelspec": {
   "display_name": "Python 3 (ipykernel)",
   "language": "python",
   "name": "python3"
  },
  "language_info": {
   "codemirror_mode": {
    "name": "ipython",
    "version": 3
   },
   "file_extension": ".py",
   "mimetype": "text/x-python",
   "name": "python",
   "nbconvert_exporter": "python",
   "pygments_lexer": "ipython3",
   "version": "3.10.4"
  }
 },
 "nbformat": 4,
 "nbformat_minor": 5
}
