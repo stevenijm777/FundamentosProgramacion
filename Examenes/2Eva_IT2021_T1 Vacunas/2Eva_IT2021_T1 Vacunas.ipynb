{
 "cells": [
  {
   "cell_type": "markdown",
   "id": "cbf8559d",
   "metadata": {},
   "source": [
    "![](intro.PNG)"
   ]
  },
  {
   "cell_type": "markdown",
   "id": "15167e56",
   "metadata": {},
   "source": [
    "![](nomArchivo.PNG)"
   ]
  },
  {
   "cell_type": "markdown",
   "id": "0121f5c0",
   "metadata": {},
   "source": [
    "![](dicc.PNG)"
   ]
  },
  {
   "cell_type": "code",
   "execution_count": null,
   "id": "28e9c10a",
   "metadata": {},
   "outputs": [],
   "source": [
    "def crearDicc(datos,mes): #11\n",
    "    dicc = {}\n",
    "    for dato in datos:\n",
    "        info = dato.strip().split(\",\")\n",
    "        ciudad = info[0]\n",
    "        fechas = info[1]\n",
    "        MES = fechas.split(\"-\")[1] #\n",
    "        if MES[0] == \"0\":\n",
    "            MES = int(MES[1])\n",
    "        else:\n",
    "            MES = int(MES)\n",
    "        if mes == MES:\n",
    "            vacunas_ciu = info[2].split(\"|\")\n",
    "            for vacuna in vacunas_ciu:\n",
    "                vac, cant_vac = vacuna.split(\":\")\n",
    "                cant_vac = int(cant_vac)\n",
    "                if vac not in dicc:\n",
    "                    dicc[vac] = {ciudad: cant_vac}\n",
    "                else:\n",
    "                    if ciudad not in dicc[vac]:\n",
    "                        dicc[vac].update({ciudad: cant_vac})\n",
    "                    else:\n",
    "                        dicc[vac][ciudad] += cant_vac\n",
    "    return dicc"
   ]
  },
  {
   "cell_type": "code",
   "execution_count": null,
   "id": "9fef4523",
   "metadata": {},
   "outputs": [],
   "source": [
    "def crearMatriz(v_ciudades,v_vacunas,dicc):\n",
    "    M = np.zeros((len(v_vacunas), len(v_ciudades)))\n",
    "    vacunas = v_vacunas.tolist()\n",
    "    ciudades = v_ciudades.tolist()\n",
    "    for fila in v_vacunas:\n",
    "        for col in v_ciudades:\n",
    "            valor = dicc[fila][col]\n",
    "            ind_fila = vacunas.index(fila)\n",
    "            ind_col = ciudades.index(col)\n",
    "            M[ind_fila, ind_col] = valor\n",
    "    return M"
   ]
  },
  {
   "cell_type": "markdown",
   "id": "c671ada7",
   "metadata": {},
   "source": [
    "![](1.PNG)"
   ]
  },
  {
   "cell_type": "code",
   "execution_count": null,
   "id": "dd9b8238",
   "metadata": {},
   "outputs": [],
   "source": [
    "def cargarDatos(nomArchivo, mes):  # 05\n",
    "    f = open(nomArchivo, \"r\")\n",
    "    l_lineas = f.readlines()\n",
    "    cont_iguales = 0\n",
    "    cant_pob = []\n",
    "    for i in range(len(l_lineas)):  # 0\n",
    "        linea = l_lineas[i]\n",
    "        if linea.startswith(\"==\"):\n",
    "            cont_iguales += 1\n",
    "            if cont_iguales == 1:\n",
    "                vacunas = l_lineas[i + 1].strip().split(\":\")\n",
    "                vacunas = vacunas[1].split(\",\")\n",
    "                ciudades = l_lineas[i + 2].strip().split(\":\")[1].split(\",\")\n",
    "                v_vacunas = np.array(vacunas)\n",
    "                v_ciudades = np.array(ciudades)\n",
    "            elif cont_iguales == 2:\n",
    "                poblacion = l_lineas[i+1].strip().split(\";\")\n",
    "                for pob in poblacion: # Bogota:10000000\n",
    "                    cant = pob.split(\":\")[1]\n",
    "                    cant_pob.append(cant)\n",
    "            else:\n",
    "                datos = l_lineas[i+1:]\n",
    "                dicc = crearDicc(datos,mes)\n",
    "    M = crearMatriz(v_ciudades,v_vacunas,dicc)\n",
    "    v_poblacion = np.array(cant_pob)\n",
    "    return v_ciudades, v_vacunas, v_poblacion, M "
   ]
  },
  {
   "cell_type": "markdown",
   "id": "816f8268",
   "metadata": {},
   "source": [
    "![](2.PNG)"
   ]
  },
  {
   "cell_type": "code",
   "execution_count": null,
   "id": "2cce19d9",
   "metadata": {},
   "outputs": [],
   "source": [
    "def totalVacunados(nomArchivo,mesIni,mesFin): #5,7\n",
    "  v_ciudades, v_vacunas, v_poblacion, M  = cargarDatos(nomArchivo, mesIni) #5\n",
    "  meses = list(range(mesIni+1, mesFin+1)) # [6, 7]\n",
    "  for mes in meses:#7\n",
    "    v_ciudades, v_vacunas, v_poblacion, M2  = cargarDatos(nomArchivo, mes) #6\n",
    "    M+=M2\n",
    "  return M"
   ]
  },
  {
   "cell_type": "markdown",
   "id": "2235cc96",
   "metadata": {},
   "source": [
    "![](3.PNG)"
   ]
  },
  {
   "cell_type": "code",
   "execution_count": null,
   "id": "5cfc4f14",
   "metadata": {},
   "outputs": [],
   "source": [
    "def  masVacunados(nomArchivo,mes,N): #MES =3, #N =3\n",
    "  v_ciudades, v_vacunas, v_poblacion, M  = cargarDatos(nomArchivo, mes)\n",
    "  fila = M.shape[1] #vacunas 4\n",
    "  mjoresCiudades = []\n",
    "  mjr_ciudad_Vacuna = []\n",
    "  for i in range(fila):\n",
    "    vacunas = M[i,:]\n",
    "    lista = []\n",
    "  # mostrar un top n \n",
    "    for ind in range(len(vacunas)):#0\n",
    "      cant_V = vacunas[ind]\n",
    "      ciudad = v_ciudades[ind]\n",
    "      lista.append((cant_V,ciudad))\n",
    "    # ordenar de menor a mayor\n",
    "  #lista.sort()\n",
    "  # ordenar de mayor a menor\n",
    "    lista.sort(reverse = True)\n",
    "    ciudades_N = lista[0:N]\n",
    "    mjoresCiudades.append(ciudades_N)\n",
    "  for lista_vacuna in mjoresCiudades: #[(230,Bogota),(135,SAsdas)]\n",
    "      lista_vacuna.sort()# [(135,sasda),(230,bogota)]\n",
    "      l_ciudades_M= []#[sads,bogota]\n",
    "      for cant_V,ciudad in lista_vacuna:\n",
    "        l_ciudades_M.append(ciudad)\n",
    "      mjr_ciudad_Vacuna.append(np.array(l_ciudades_M))\n",
    "  t_m_ciudad = tuple(mjr_ciudad_Vacuna)\n",
    "  return t_m_ciudad"
   ]
  },
  {
   "cell_type": "markdown",
   "id": "e608a982",
   "metadata": {},
   "source": [
    "![](4.PNG)"
   ]
  },
  {
   "cell_type": "code",
   "execution_count": null,
   "id": "20184919",
   "metadata": {},
   "outputs": [],
   "source": [
    "def Region(dRegiones,vCiudades): #quito,merida,new york...\n",
    "  CiudadesReg = []\n",
    "  for Ciudad in vCiudades: #quito\n",
    "    for regiones,dicc in dRegiones.items(): #latinamerica  #{colombia: [bogota],Ecu: Quito,...}\n",
    "      for pais,ciudades in dicc.items(): #Ecu:[ quito...\n",
    "        if Ciudad in ciudades: #T\n",
    "          CiudadesReg.append(regiones)\n",
    "  v_CiudadesReg = np.array(CiudadesReg)\n",
    "  return v_CiudadesReg\n",
    "          "
   ]
  },
  {
   "cell_type": "code",
   "execution_count": null,
   "id": "505379cd",
   "metadata": {},
   "outputs": [],
   "source": [
    "def Region(dRegiones,vCiudades): #quito,merida,new york...\n",
    "  CiudadesReg = []\n",
    "  for Ciudad in vCiudades: #quito\n",
    "    for region,dicc in dRegiones.items(): #latinamerica  #{colombia: [bogota],Ecu: Quito,...}\n",
    "      for pais,ciudades in dicc.items(): #Ecu:[ quito...\n",
    "        if Ciudad in ciudades: #T\n",
    "          CiudadesReg.append(region)\n",
    "  v_CiudadesReg = np.array(CiudadesReg)\n",
    "  return v_CiudadesReg        "
   ]
  },
  {
   "cell_type": "code",
   "execution_count": null,
   "id": "70a1a222",
   "metadata": {},
   "outputs": [],
   "source": [
    "def Region(dRegiones,vCiudades): #quito,merida,new york...\n",
    "    CiudadesReg = [\"X\"]*len(vCiudades)\n",
    "    l_ciudades = vCiudades.tolist()\n",
    "    for region,dicc in dRegiones.items(): #latinamerica  #{colombia: [bogota],Ecu: Quito,...}\n",
    "        for pais,ciudades in dicc.items(): #Ecu:[ quito...\n",
    "            for ciudad in ciudades: # quito\n",
    "                if ciudad in l_ciudades:\n",
    "                    ind = l_ciudades.index(ciudad) #0\n",
    "                    CiudadesReg[ind] = region\n",
    "    v_CiudadesReg = np.array(CiudadesReg)\n",
    "    return v_CiudadesReg  "
   ]
  },
  {
   "cell_type": "code",
   "execution_count": 11,
   "id": "f31ae2e6",
   "metadata": {},
   "outputs": [
    {
     "name": "stdout",
     "output_type": "stream",
     "text": [
      "['X', 'X', 'X', 'X']\n",
      "['latinoamerica', 'X', 'X', 'X']\n",
      "['latinoamerica', 'X', 'Norteamerica', 'X']\n"
     ]
    }
   ],
   "source": [
    "import numpy as np \n",
    "ciudades = [\"lima\",\"quito\",\"new york\",\"Guayaquil\"]\n",
    "lista = [\"X\"]* len(ciudades)\n",
    "print(lista)\n",
    "lista[0] = \"latinoamerica\"\n",
    "print(lista)\n",
    "lista[2] = \"Norteamerica\"\n",
    "print(lista)"
   ]
  },
  {
   "cell_type": "markdown",
   "id": "aef33468",
   "metadata": {},
   "source": [
    "![](ProgramaPrincipal.PNG)"
   ]
  },
  {
   "cell_type": "code",
   "execution_count": null,
   "id": "008da287",
   "metadata": {},
   "outputs": [],
   "source": [
    "#1\n",
    "nomArchivo = \"vacunacion.txt\"\n",
    "mesIni = 1 #enero\n",
    "mesFin= 8 #agosto\n",
    "mes = 1\n",
    "M = totalVacunados(nomArchivo,mesIni,mesFin)"
   ]
  },
  {
   "cell_type": "code",
   "execution_count": null,
   "id": "db50be1d",
   "metadata": {},
   "outputs": [],
   "source": [
    "#2\n",
    "v_ciudades, v_vacunas, v_poblacion, M2 = cargarDatos(nomArchivo, mes)\n",
    "porcen = [] #bogota,merida\n",
    "sumaVacunados = M.sum(axis=0) #2732322,826363673,87287376,87223...\n",
    "for i in range(len(sumaVacunados)): #20 ciudades\n",
    "  cantidad = sumaVacunados[i] #87287376 3\n",
    "  ciudad = v_ciudades[i] #cmerida 2=3\n",
    "  porcentaje = cantidad/v_poblacion[i] #87287376/ 626374 3 \n",
    "  if porcentaje > 25: #T\n",
    "      porcen.append(ciudad)\n",
    "for ciudad in porcen: ##bogota,merida\n",
    "  print(ciudad)  ##bogota,merida"
   ]
  },
  {
   "cell_type": "code",
   "execution_count": null,
   "id": "147fc754",
   "metadata": {},
   "outputs": [],
   "source": [
    "v_ciudades, v_vacunas, v_poblacion, M2 = cargarDatos(nomArchivo, mes) # v_P = [100,100,100]\n",
    "sumaVacunados = M.sum(axis=0) # [25 35 20]\n",
    "porcentajes = sumaVacunados/v_poblacion # [0.25 0.35 0.20]\n",
    "condicion  = porcentajes > 0.25 # [F T F]\n",
    "ciudades= v_ciudades[condicion] # [Bogota NY]\n",
    "print(ciudades)"
   ]
  },
  {
   "cell_type": "code",
   "execution_count": null,
   "id": "fda5be98",
   "metadata": {},
   "outputs": [],
   "source": [
    "mesA = 4\n",
    "mesJ = 7\n",
    "M_abril = cargarDatos(nomArchivo, mesA)[3]\n",
    "M_Junio = cargarDatos(nomArchivo, mesJ)[3]\n",
    "T_M_abril_Ciudad = M_abril.sum(axis=0)\n",
    "T_M_Junio_Ciudad = M_Junio.sum(axis=0)\n",
    "Diferencias = []\n",
    "for ciudad in ciudades: # bogota\n",
    "    ind_col =  v_ciudades.index(ciudad) #2\n",
    "    can_abril = T_M_abril_Ciudad[ind_col]\n",
    "    cant_Junio  = T_M_Junio_Ciudad[ind_col]\n",
    "    Diferencias.append(can_abril-cant_Junio)\n",
    "print(Diferencias)"
   ]
  },
  {
   "cell_type": "code",
   "execution_count": null,
   "id": "d11e8e27",
   "metadata": {},
   "outputs": [],
   "source": [
    "def indices_region(dicRegiones,vCiudades,region):#LN\n",
    "    v_regiones = Region(dRegiones,vCiudades) #[LA LA LA LN LN LN LN A A A A A]\n",
    "    l_reguiones = [] #[LA,LN,A]\n",
    "    tam_Region = [] # [3,4,5]\n",
    "    for region in v_regiones: #LN\n",
    "         if region not in l_regiones:\n",
    "                l_regiones.append(region)\n",
    "                tam_region.append(1)\n",
    "        else:\n",
    "            ind = l_regiones.index(region)#0\n",
    "            tam_region[ind]+=1\n",
    "    ini_col = 0 #3\n",
    "    for i in range(len(tam_region)): #1\n",
    "        nom_region = l_regiones[i] # LN\n",
    "        cant_c_region = tam_region[i] # 4\n",
    "        fin_col = ini_col + cant_c_region #7\n",
    "        if nom_region == region:\n",
    "            return ini_col,fin_col\n",
    "        ini_col = fin_col"
   ]
  },
  {
   "cell_type": "markdown",
   "id": "5b2fb811",
   "metadata": {},
   "source": [
    "![](reporte.PNG)"
   ]
  },
  {
   "cell_type": "code",
   "execution_count": null,
   "id": "0286df79",
   "metadata": {},
   "outputs": [],
   "source": [
    "Matriz=totalVacunados(nomArchivo,1,8)\n",
    "regiones = [\"norteamerica\",\"Africa\"]\n",
    "ind_fila = v_vacunas.index(\"Aztrazenas\")\n",
    "l_cant = [] #[2 2]\n",
    "for region in regiones:\n",
    "    ini_col,fin_col = indices_region(dicRegiones,v_ciudades,region) #3 , 7\n",
    "    v_region = Matriz[ind_fila,ini_col:fin_col]\n",
    "    condicion = v_region >32000\n",
    "    cant = len(v_region[condicion]) #[5 7] #2\n",
    "    l_cant.appen(cant)\n",
    "f = open(\"reporte.txt\",\"w\")\n",
    "for i in range(len(regiones)):                     \n",
    "    region = regiones[i]\n",
    "    cant = regiones[i]\n",
    "    f.write(region+\"\\n\")\n",
    "    linea = \"=\"*len(region)\n",
    "    f.write(linea+\"\\n\")\n",
    "    f.write(\"cantidad 32000 vac en {} total ciudades\\n\".format(region,cant))\n",
    "    f.write(\"\\n\")\n",
    "f.close()\n",
    "    \n",
    "    "
   ]
  }
 ],
 "metadata": {
  "kernelspec": {
   "display_name": "Python 3",
   "language": "python",
   "name": "python3"
  },
  "language_info": {
   "codemirror_mode": {
    "name": "ipython",
    "version": 3
   },
   "file_extension": ".py",
   "mimetype": "text/x-python",
   "name": "python",
   "nbconvert_exporter": "python",
   "pygments_lexer": "ipython3",
   "version": "3.9.5"
  }
 },
 "nbformat": 4,
 "nbformat_minor": 5
}
