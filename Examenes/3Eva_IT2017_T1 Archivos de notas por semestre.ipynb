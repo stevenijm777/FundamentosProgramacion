{
 "cells": [
  {
   "cell_type": "code",
   "execution_count": 1,
   "id": "d0add241",
   "metadata": {},
   "outputs": [],
   "source": [
    "import numpy as np"
   ]
  },
  {
   "cell_type": "code",
   "execution_count": null,
   "id": "6653d088",
   "metadata": {},
   "outputs": [],
   "source": [
    "notas =\n",
    "{201321454: {'2013-II': [('Química', 45, 57, 73, 'AP'),\n",
    "                         ('Fundamentos de Programación', \n",
    "                            11,9,9, 'RP')],\n",
    "             '2015-I': [('Economía', 12, 21, 33, 'RP'),\n",
    "                        ('Fundamentos de Programación', \n",
    "                            45,76,89, 'AP')],\n",
    "             ...},\n",
    " 200901456: {'2013-II': [('Física I', 80, 91, 73, 'AP'),\n",
    "                         ...],\n",
    "             ...},\n",
    " ...}"
   ]
  },
  {
   "cell_type": "markdown",
   "id": "f79c6be6",
   "metadata": {},
   "source": [
    "201521342,Fundamentos de Programación,80,95,99,AP\n",
    "201321454,Economía,12,21,33,RP\n",
    "201321454,Fundamentos de Programación,45,76,89,AP\n",
    "…"
   ]
  },
  {
   "cell_type": "code",
   "execution_count": null,
   "id": "75bbf036",
   "metadata": {},
   "outputs": [],
   "source": [
    "def crearDicc_Aprobados(nomArchivo):\n",
    "    dicc = {}\n",
    "    f =open(nomArchivo)\n",
    "    for linea in f: # 201321454,Economía,12,21,33,RP\n",
    "        matricula,materia,nota_parcial,nota_final,nota_mejoramiento,AP_RP = linea.strip().split(',')\n",
    "        matricula = eval(matricula)\n",
    "        nota_parcial = eval(nota_parcial)\n",
    "        nota_final = eval(nota_final)\n",
    "        nota_mejoramiento = eval(nota_mejoramiento)\n",
    "        if matricula not in dicc:\n",
    "            dicc[matricula] = {materia: AP_RP}\n",
    "        else:\n",
    "            dicc[matricula].update({materia: AP_RP})\n",
    "    f.close()\n",
    "    return dicc  "
   ]
  },
  {
   "cell_type": "code",
   "execution_count": 21,
   "id": "bb86be18",
   "metadata": {
    "scrolled": false
   },
   "outputs": [
    {
     "data": {
      "text/plain": [
       "dict_values([{'Economía': 'RP', 'Fundamentos de Programación': 'AP'}, {'Fundamentos de Programación': 'AP'}])"
      ]
     },
     "execution_count": 21,
     "metadata": {},
     "output_type": "execute_result"
    }
   ],
   "source": [
    "d.values()"
   ]
  },
  {
   "cell_type": "code",
   "execution_count": 24,
   "id": "aa09edc7",
   "metadata": {},
   "outputs": [
    {
     "data": {
      "text/plain": [
       "['Economía', 'Fundamentos de Programación']"
      ]
     },
     "execution_count": 24,
     "metadata": {},
     "output_type": "execute_result"
    }
   ],
   "source": [
    "materias = []\n",
    "for matricula in dicc:\n",
    "    for materia in dicc[matricula]: # Economia\n",
    "        if materia not in materias:\n",
    "            materias.append(materia)\n",
    "materias.sort()\n",
    "materias        \n",
    "        "
   ]
  },
  {
   "cell_type": "code",
   "execution_count": 25,
   "id": "2d43b37c",
   "metadata": {},
   "outputs": [],
   "source": [
    "def l_matriculas(dicc):\n",
    "    matriculas = list(dicc.keys())\n",
    "    matriculas.sort()\n",
    "    return matriculas"
   ]
  },
  {
   "cell_type": "code",
   "execution_count": 26,
   "id": "4f9a9f3e",
   "metadata": {},
   "outputs": [],
   "source": [
    "def l_materias(dicc):\n",
    "    materias = []\n",
    "    for matricula in dicc:\n",
    "        for materia in dicc[matricula]: # Economia\n",
    "            if materia not in materias:\n",
    "                materias.append(materia)\n",
    "    materias.sort()\n",
    "    return materias        \n",
    "        "
   ]
  },
  {
   "cell_type": "code",
   "execution_count": 30,
   "id": "fd09987c",
   "metadata": {},
   "outputs": [],
   "source": [
    "dicc = {201321454:{\"Economía\":\"RP\",\"Fundamentos de Programación\":\"AP\"},\n",
    " 201521342:{\"Fundamentos de Programación\":\"AP\"}   \n",
    "}"
   ]
  },
  {
   "cell_type": "code",
   "execution_count": 31,
   "id": "bedf9242",
   "metadata": {},
   "outputs": [],
   "source": [
    "def crear_Matriz_Aprobados(dicc, matriculas, materias):\n",
    "    L = [] # [[RP,AP], [--, AP]]\n",
    "    for matricula in matriculas: # 201521342\n",
    "        fila = [] # [AP, AP]\n",
    "        for materia in materias: # FP\n",
    "            if materia in dicc[matricula]:\n",
    "                estado = dicc[matricula][materia] # AP\n",
    "            else:\n",
    "                estado = \"--\"\n",
    "            fila.append(estado)\n",
    "        L.append(fila)\n",
    "    M = np.array(L)\n",
    "    return M "
   ]
  },
  {
   "cell_type": "code",
   "execution_count": 32,
   "id": "12fffd9d",
   "metadata": {},
   "outputs": [
    {
     "data": {
      "text/plain": [
       "array([['RP', 'AP'],\n",
       "       ['--', 'AP']], dtype='<U2')"
      ]
     },
     "execution_count": 32,
     "metadata": {},
     "output_type": "execute_result"
    }
   ],
   "source": [
    "matriculas = l_matriculas(dicc)\n",
    "materias = l_materias(dicc)\n",
    "M = crear_Matriz_Aprobados(dicc, matriculas, materias)\n",
    "M"
   ]
  },
  {
   "cell_type": "code",
   "execution_count": 14,
   "id": "b13a81e1",
   "metadata": {
    "scrolled": true
   },
   "outputs": [
    {
     "data": {
      "text/plain": [
       "array([['     ', '     ', '     '],\n",
       "       ['     ', '     ', '     '],\n",
       "       ['     ', '     ', '     ']], dtype='<U5')"
      ]
     },
     "execution_count": 14,
     "metadata": {},
     "output_type": "execute_result"
    }
   ],
   "source": [
    "M = np.full((3,3),\"     \")\n",
    "M"
   ]
  },
  {
   "cell_type": "code",
   "execution_count": 16,
   "id": "10d0be86",
   "metadata": {},
   "outputs": [],
   "source": [
    "M[0,0] = \"AP\""
   ]
  },
  {
   "cell_type": "code",
   "execution_count": 17,
   "id": "74765dcb",
   "metadata": {},
   "outputs": [
    {
     "data": {
      "text/plain": [
       "array([['AP', '     ', '     '],\n",
       "       ['     ', '     ', '     '],\n",
       "       ['     ', '     ', '     ']], dtype='<U5')"
      ]
     },
     "execution_count": 17,
     "metadata": {},
     "output_type": "execute_result"
    }
   ],
   "source": [
    "M"
   ]
  },
  {
   "cell_type": "code",
   "execution_count": null,
   "id": "1107095e",
   "metadata": {},
   "outputs": [],
   "source": []
  },
  {
   "cell_type": "code",
   "execution_count": null,
   "id": "5bef2074",
   "metadata": {},
   "outputs": [],
   "source": [
    "# 7\n",
    "columnaInicial = 0\n",
    "for categoria in categorias: #vas bien\n",
    "  productos = dicCategorias[categoria]                                            \n",
    "  fin_columna = columnaInicial+len(productos)\n",
    "  columnaInicial +=1\n",
    "# 1. Sacar toda la matriz de frutas\n",
    "  if categoria == 'Frutas':\n",
    "    frutas = M[:,columnaInicial:fin_columna]\n",
    "# 2. Sacar las max ventas por pais de flores    \n",
    "  if categoria == 'Flores':\n",
    "    flores = M[:,columnaInicial:fin_columna]\n",
    "    v_maxs_pais = M.max(axis=1) #el valor del producto mas vendido por cada pais\n",
    "#3.  Sacar los productos de frutas\n",
    "prods_frutas = dicCategorias[\"Frutas\"]\n",
    "# 4. Iterar la matriz Frutas por fila\n",
    "filas= frutas.shape[0]\n",
    "for i in range(filas):\n",
    "    fila = frutas[i,:]\n",
    "    prod_flores = v_maxs_pais[i] #165465461\n",
    "    condicion = fila > prod_flores # [F F F T F]\n",
    "    prods_fruta_mejor =prods_frutas[condicion] # [Grosella]\n",
    "    if len(prods_fruta_mejor)==0:\n",
    "      print(\"no hay frutas que superen las ventas {} de flores\".format(prod_flores))\n",
    "    else:\n",
    "      print(prods_fruta_mejor)"
   ]
  }
 ],
 "metadata": {
  "kernelspec": {
   "display_name": "Python 3 (ipykernel)",
   "language": "python",
   "name": "python3"
  },
  "language_info": {
   "codemirror_mode": {
    "name": "ipython",
    "version": 3
   },
   "file_extension": ".py",
   "mimetype": "text/x-python",
   "name": "python",
   "nbconvert_exporter": "python",
   "pygments_lexer": "ipython3",
   "version": "3.10.4"
  }
 },
 "nbformat": 4,
 "nbformat_minor": 5
}
