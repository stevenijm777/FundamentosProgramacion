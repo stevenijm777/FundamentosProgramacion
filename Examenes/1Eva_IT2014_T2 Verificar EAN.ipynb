{
 "cells": [
  {
   "cell_type": "code",
   "execution_count": null,
   "id": "bdcb09ac",
   "metadata": {},
   "outputs": [],
   "source": [
    "# http://blog.espol.edu.ec/ccpg1001/1eva_it2014_t2-verificar-ean/"
   ]
  },
  {
   "cell_type": "code",
   "execution_count": 19,
   "id": "ce1adc86",
   "metadata": {},
   "outputs": [
    {
     "name": "stdout",
     "output_type": "stream",
     "text": [
      "['8', '0', '5', '3', '0', '0', '4', '0', '0', '2', '0', '7', '7']\n",
      "suma = 52 \n",
      " decena superior 30 \n",
      " validacion: False\n"
     ]
    }
   ],
   "source": [
    "codigo = 7702004003508\n",
    "l_codigos = list(str(codigo))[::-1] # ['8', '0', '5', '3', '0', '0', '4', '0', '0', '2', '0', '7', '7']\n",
    "u_digito = codigo%10\n",
    "l_total = [] # [0,5]\n",
    "print(l_codigos)\n",
    "for i in range(1,len(l_codigos)):# 2\n",
    "    digit = int(l_codigos[i]) # 5\n",
    "    if i%2==0:\n",
    "        l_total.append(digit)\n",
    "    else:\n",
    "        l_total.append(digit*3)\n",
    "total = sum(l_total) #52\n",
    "digitos = str(total) # \"52\"\n",
    "decena = int(digitos[1]) # 5\n",
    "dec_Sup = (decena*10)+10 # 60\n",
    "digit_Ver = dec_Sup-total # 8\n",
    "if digit_Ver == u_digito:\n",
    "    validacion = True\n",
    "else:\n",
    "    validacion = False\n",
    "print(\"suma = {} \\n decena superior {} \\n validacion: {}\".format(total,dec_Sup,validacion))\n",
    "\n",
    "        \n",
    "        "
   ]
  },
  {
   "cell_type": "code",
   "execution_count": null,
   "id": "46280aaa",
   "metadata": {},
   "outputs": [],
   "source": []
  }
 ],
 "metadata": {
  "kernelspec": {
   "display_name": "Python 3",
   "language": "python",
   "name": "python3"
  },
  "language_info": {
   "codemirror_mode": {
    "name": "ipython",
    "version": 3
   },
   "file_extension": ".py",
   "mimetype": "text/x-python",
   "name": "python",
   "nbconvert_exporter": "python",
   "pygments_lexer": "ipython3",
   "version": "3.9.5"
  }
 },
 "nbformat": 4,
 "nbformat_minor": 5
}
