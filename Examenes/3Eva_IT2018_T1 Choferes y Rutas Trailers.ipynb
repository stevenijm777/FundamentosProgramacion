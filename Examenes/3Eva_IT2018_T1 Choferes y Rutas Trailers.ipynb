{
 "cells": [
  {
   "cell_type": "markdown",
   "id": "311139fc",
   "metadata": {},
   "source": [
    "http://blog.espol.edu.ec/ccpg1001/3eva_it2018_t1-choferes-y-rutas-trailers/"
   ]
  },
  {
   "cell_type": "code",
   "execution_count": null,
   "id": "cc83c272",
   "metadata": {},
   "outputs": [],
   "source": [
    "def cargarArchivos(narchivo):\n",
    "  trabajadores = set()\n",
    "  dicc = {} #{'17-05-2018': {'Guayaquil-Cuenca': ['SMS'], \"Guayaquil-Daule\": [\"EVN\"]}}\n",
    "  f = open(narchivo)\n",
    "  f.readline()\n",
    "  for línea in f: # Guayaquil-Cuenca,SMZ,17-05-2018\n",
    "    id_ruta, id_chofer, fecha= línea.strip().split(\",\")\n",
    "    día,mes,anio = línea.split(\"-\")\n",
    "    trabajadores.add(id_chofer)\n",
    "    if fecha not in dicc:\n",
    "      dicc[fecha]= {id_ruta:{id_chofer}}\n",
    "    else:\n",
    "      if id_ruta not in dicc[fecha]:\n",
    "        dicc[fecha].update({id_ruta:{id_chofer}})\n",
    "      else:\n",
    "        dicc[fecha][id_ruta].add(id_chofer)\n",
    "    f.close()\n",
    "  return (trabajadores,dicc)"
   ]
  },
  {
   "cell_type": "code",
   "execution_count": null,
   "id": "af1ad42d",
   "metadata": {},
   "outputs": [],
   "source": [
    "def  encontrarChoferes(dicc, fecha, losChoferes, id_ruta, n): #02-05-2018 (n = 3) cuenca-guayaquil\n",
    "  choferes = set() #{}\n",
    "  fechas= [] # [01-05-2018,  30-04-2018, 29-04-2018]\n",
    "  cont=1 # 4\n",
    "  while (cont<=n):#F\n",
    "    Fecha = calcularFecha(fecha,cont) # 29-04-2018\n",
    "    fechas.append(Fecha)\n",
    "    cont+=1\n",
    "  choferes_tra = set() #{\"SMS\",\"AGB\",\"PMP\",CCA}\n",
    "  for elem in fecha:# 30-04-2018\n",
    "    c_chofers = dicc[id_ruta][elem] # {\"AGB,PMP\"}\n",
    "    choferes_tra.update(c_chofers)\n",
    "  chofs_No_T = losChoferes - choferes_tra #{Nad, opn}\n",
    "  return chofs_No_T"
   ]
  },
  {
   "cell_type": "code",
   "execution_count": null,
   "id": "7fc15900",
   "metadata": {},
   "outputs": [],
   "source": [
    "def grabarArchivo(fecha, dicc, L_choferes, id_ruta, n): #19-05-2018, 2 , Guayauil_cuenca\n",
    "  chofs_No_T = encontrarChoferes(dicc, fecha, L_choferes,id_ruta, n) #{nad,opn}\n",
    "  f = open(id_ruta+\"_\"+fecha+'.txt','w')\n",
    "  f.write(\"Para la ruta {},los choferes disponibles para la fecha {} que no hayan manejado {} dias anteriores son:\\n\" .format(id_ruta,fecha,n))\n",
    "  for chofer in chofs_No_T: #nad\n",
    "    f.write(chofer+\"\\n\")\n",
    "  f.close()\n"
   ]
  }
 ],
 "metadata": {
  "kernelspec": {
   "display_name": "Python 3",
   "language": "python",
   "name": "python3"
  },
  "language_info": {
   "codemirror_mode": {
    "name": "ipython",
    "version": 3
   },
   "file_extension": ".py",
   "mimetype": "text/x-python",
   "name": "python",
   "nbconvert_exporter": "python",
   "pygments_lexer": "ipython3",
   "version": "3.9.5"
  }
 },
 "nbformat": 4,
 "nbformat_minor": 5
}
