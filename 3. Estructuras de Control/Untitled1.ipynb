{
 "cells": [
  {
   "cell_type": "markdown",
   "id": "0e3d900d",
   "metadata": {},
   "source": [
    "## For\n",
    "* Iterar una n cantidad de veces un codigo\n",
    "* iterar una secuencia"
   ]
  },
  {
   "cell_type": "code",
   "execution_count": 8,
   "id": "2f48bfc9",
   "metadata": {
    "scrolled": true
   },
   "outputs": [
    {
     "data": {
      "text/plain": [
       "[-5, -4, -3, -2, -1]"
      ]
     },
     "execution_count": 8,
     "metadata": {},
     "output_type": "execute_result"
    }
   ],
   "source": [
    "# range(start,stop, step)\n",
    "list(range(-5,0))"
   ]
  },
  {
   "cell_type": "code",
   "execution_count": 9,
   "id": "050dd1e5",
   "metadata": {},
   "outputs": [
    {
     "name": "stdout",
     "output_type": "stream",
     "text": [
      "hola\n",
      "hola\n",
      "hola\n",
      "hola\n",
      "hola\n"
     ]
    }
   ],
   "source": [
    "n = 5 \n",
    "for i in range(n):\n",
    "    print(\"hola\")"
   ]
  },
  {
   "cell_type": "code",
   "execution_count": 14,
   "id": "a2691d6b",
   "metadata": {},
   "outputs": [
    {
     "name": "stdout",
     "output_type": "stream",
     "text": [
      "1\n",
      "2\n",
      "-.-\n",
      "3\n",
      "4\n",
      "-.-\n",
      "5\n",
      "6\n",
      "-.-\n"
     ]
    }
   ],
   "source": [
    "# For anidados\n",
    "cont = 0 # 6\n",
    "for i in range(4): # 2\n",
    "    for j in range(5): # 1\n",
    "        cont+=1\n",
    "        print(cont)\n",
    "    print(\"-.-\")"
   ]
  },
  {
   "cell_type": "code",
   "execution_count": 11,
   "id": "ae544787",
   "metadata": {},
   "outputs": [
    {
     "data": {
      "text/plain": [
       "[0, 1]"
      ]
     },
     "execution_count": 11,
     "metadata": {},
     "output_type": "execute_result"
    }
   ],
   "source": [
    "list(range(2))"
   ]
  },
  {
   "cell_type": "code",
   "execution_count": 16,
   "id": "e26c1c5f",
   "metadata": {},
   "outputs": [
    {
     "name": "stdout",
     "output_type": "stream",
     "text": [
      "andre\n",
      "felipe\n"
     ]
    }
   ],
   "source": [
    "\n",
    "nombres = [\"andre\", \"marco\",\"felipe\"]\n",
    "notas = [10,5,9]\n",
    "# mostrar los estudianes q pasaron\n",
    "for i in range(0,len(notas),1):\n",
    "    nombre = nombres[i]\n",
    "    nota = notas[i]\n",
    "    if nota >=6:\n",
    "        print(nombre)\n",
    "        "
   ]
  },
  {
   "cell_type": "code",
   "execution_count": null,
   "id": "8c5d890c",
   "metadata": {},
   "outputs": [],
   "source": []
  }
 ],
 "metadata": {
  "kernelspec": {
   "display_name": "Python 3 (ipykernel)",
   "language": "python",
   "name": "python3"
  },
  "language_info": {
   "codemirror_mode": {
    "name": "ipython",
    "version": 3
   },
   "file_extension": ".py",
   "mimetype": "text/x-python",
   "name": "python",
   "nbconvert_exporter": "python",
   "pygments_lexer": "ipython3",
   "version": "3.9.12"
  }
 },
 "nbformat": 4,
 "nbformat_minor": 5
}
