{
 "cells": [
  {
   "cell_type": "markdown",
   "id": "4b4be2a2",
   "metadata": {},
   "source": [
    "# While\n",
    "1. Ejecutar un bloque de codigo una n cantidad de veces\n",
    "2. Ejecutar un bloque de codigo hasta q se cumpla una condición\n",
    "3. Validar datos\n",
    "4. Juegos\n",
    "5. Aleatoriedad\n",
    "6. Iterar una lista"
   ]
  },
  {
   "cell_type": "code",
   "execution_count": 1,
   "id": "d6081cb3",
   "metadata": {},
   "outputs": [
    {
     "name": "stdout",
     "output_type": "stream",
     "text": [
      "hola\n",
      "hola\n",
      "hola\n",
      "hola\n",
      "hola\n"
     ]
    }
   ],
   "source": [
    "# iterar un codigo una n cantidad de veces\n",
    "n = 5\n",
    "while (n>0):\n",
    "    print(\"hola\")\n",
    "    n-=1\n",
    "\n",
    "    "
   ]
  },
  {
   "cell_type": "code",
   "execution_count": 3,
   "id": "ea32348e",
   "metadata": {
    "scrolled": true
   },
   "outputs": [
    {
     "name": "stdout",
     "output_type": "stream",
     "text": [
      "hola\n",
      "hola\n",
      "hola\n",
      "hola\n",
      "hola\n"
     ]
    }
   ],
   "source": [
    "n = 5\n",
    "while not(n<=0):\n",
    "    print(\"hola\")\n",
    "    n-=1"
   ]
  },
  {
   "cell_type": "markdown",
   "id": "3c736533",
   "metadata": {},
   "source": [
    "### Escriba un Programa que lance dos dados hasta que la suma sea 7, y mostras cuantas veces se lanzo el par de dado\n"
   ]
  },
  {
   "cell_type": "code",
   "execution_count": 10,
   "id": "166f5371",
   "metadata": {},
   "outputs": [
    {
     "name": "stdout",
     "output_type": "stream",
     "text": [
      "2\n",
      "7\n",
      "2\n"
     ]
    }
   ],
   "source": [
    "import random as rd\n",
    "\n",
    "suma = 0\n",
    "cont = 0\n",
    "while (suma!=7):\n",
    "    dado1 = rd.randint(1,6)\n",
    "    dado2 = rd.randint(1,6)\n",
    "    suma = dado1+dado2\n",
    "    print(suma)\n",
    "    cont+=1\n",
    "print(cont)  "
   ]
  },
  {
   "cell_type": "code",
   "execution_count": null,
   "id": "05fb8ad6",
   "metadata": {},
   "outputs": [],
   "source": []
  }
 ],
 "metadata": {
  "kernelspec": {
   "display_name": "Python 3 (ipykernel)",
   "language": "python",
   "name": "python3"
  },
  "language_info": {
   "codemirror_mode": {
    "name": "ipython",
    "version": 3
   },
   "file_extension": ".py",
   "mimetype": "text/x-python",
   "name": "python",
   "nbconvert_exporter": "python",
   "pygments_lexer": "ipython3",
   "version": "3.9.12"
  }
 },
 "nbformat": 4,
 "nbformat_minor": 5
}
