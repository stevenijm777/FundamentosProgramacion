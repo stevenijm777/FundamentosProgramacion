{
 "cells": [
  {
   "cell_type": "markdown",
   "id": "181285ab",
   "metadata": {},
   "source": [
    "# Estructuras de Control"
   ]
  },
  {
   "cell_type": "markdown",
   "id": "20d5cc13",
   "metadata": {},
   "source": [
    "### Realizar una funcion signo que pida un numero al usuario e imprima el resultado correspondiente\n",
    "### Funcion signo\n",
    "<img src=\"funcion_signo.PNG\" style=\"width:400px;height:400px\"/>"
   ]
  },
  {
   "cell_type": "code",
   "execution_count": 1,
   "id": "5d643c84",
   "metadata": {
    "scrolled": false
   },
   "outputs": [
    {
     "name": "stdout",
     "output_type": "stream",
     "text": [
      "Ingrese un numero: 25\n"
     ]
    }
   ],
   "source": [
    "x = int(input(\"Ingrese un numero: \"))"
   ]
  },
  {
   "cell_type": "code",
   "execution_count": null,
   "id": "a929cd6e",
   "metadata": {},
   "outputs": [],
   "source": [
    "if x > 0:\n",
    "    print(1)\n",
    "elif x==0:\n",
    "    print(0)\n",
    "else:\n",
    "    print(-1)\n",
    "\n",
    "\n"
   ]
  },
  {
   "cell_type": "markdown",
   "id": "dd0979a9",
   "metadata": {},
   "source": [
    "## La Sentencia if"
   ]
  },
  {
   "cell_type": "code",
   "execution_count": null,
   "id": "d73ffb7c",
   "metadata": {
    "scrolled": true
   },
   "outputs": [],
   "source": [
    "if x > 0: # 25\n",
    "    print(1)\n",
    "if x == 0:\n",
    "    print(0)\n",
    "if x < 0:\n",
    "    print(-1)"
   ]
  },
  {
   "cell_type": "markdown",
   "id": "f1144e08",
   "metadata": {},
   "source": [
    "## La Sentencia elif"
   ]
  },
  {
   "cell_type": "code",
   "execution_count": null,
   "id": "38cd6c68",
   "metadata": {},
   "outputs": [],
   "source": [
    "if x > 0: # -25\n",
    "    print(1)\n",
    "elif x == 0:\n",
    "    print(0)\n",
    "elif x < 0:\n",
    "    print(-1)"
   ]
  },
  {
   "cell_type": "markdown",
   "id": "6ebc0902",
   "metadata": {},
   "source": [
    "## La Sentencia else"
   ]
  },
  {
   "cell_type": "code",
   "execution_count": null,
   "id": "b4c26c85",
   "metadata": {},
   "outputs": [],
   "source": [
    "if x > 0:\n",
    "    print(1)\n",
    "elif x == 0:\n",
    "    print(0)\n",
    "else:\n",
    "    print(-1)"
   ]
  },
  {
   "cell_type": "code",
   "execution_count": null,
   "id": "3d26f2de",
   "metadata": {},
   "outputs": [],
   "source": []
  }
 ],
 "metadata": {
  "kernelspec": {
   "display_name": "Python 3 (ipykernel)",
   "language": "python",
   "name": "python3"
  },
  "language_info": {
   "codemirror_mode": {
    "name": "ipython",
    "version": 3
   },
   "file_extension": ".py",
   "mimetype": "text/x-python",
   "name": "python",
   "nbconvert_exporter": "python",
   "pygments_lexer": "ipython3",
   "version": "3.9.12"
  }
 },
 "nbformat": 4,
 "nbformat_minor": 5
}
