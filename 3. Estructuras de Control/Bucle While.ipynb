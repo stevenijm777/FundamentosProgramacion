{
 "cells": [
  {
   "cell_type": "markdown",
   "id": "9ab7e3e3",
   "metadata": {},
   "source": [
    "# While\n",
    "1. Ejecutar un bloque de codigo una n cantidad de veces\n",
    "2. Ejecutar un bloque de codigo hasta q se cumpla una condición\n",
    "3. Validar datos\n",
    "4. Juegos\n",
    "5. Aleatoriedad\n",
    "6. Iterar una lista"
   ]
  },
  {
   "cell_type": "code",
   "execution_count": null,
   "id": "203b9718",
   "metadata": {},
   "outputs": [],
   "source": [
    "# Ejecutar un codigo una n cantidad de veces\n",
    " \n",
    "# imprimir hola 5 veces\n",
    "# cauntos hacen falta\n",
    "n = 5\n",
    "while n>0: \n",
    "    print(\"hola\")\n",
    "    n-=1"
   ]
  },
  {
   "cell_type": "code",
   "execution_count": null,
   "id": "d03ee754",
   "metadata": {},
   "outputs": [],
   "source": [
    "# cotando\n",
    "n = 3\n",
    "cont = 0\n",
    "while cont < n:\n",
    "    print(\"hola\")\n",
    "    cont+=1\n",
    "    "
   ]
  },
  {
   "cell_type": "code",
   "execution_count": null,
   "id": "07120b74",
   "metadata": {},
   "outputs": [],
   "source": [
    "# Ejecutar un bloque de codigo hasta q se cumpla una condición\n",
    " \n",
    "# Escribir un program que lanze un dado hasta que salga el 6 y contar cuantas veces lanzé el dado\n",
    "import random as rd\n",
    "dado = rd.randint(1,6) # 5\n",
    "cont = 1\n",
    "print(dado)\n",
    "while not(dado ==6):\n",
    "    dado = rd.randint(1,6) # 6\n",
    "    print(dado)\n",
    "    cont+=1\n",
    "print(\"cont:\",cont)    \n"
   ]
  },
  {
   "cell_type": "code",
   "execution_count": null,
   "id": "f3a3a00d",
   "metadata": {
    "scrolled": true
   },
   "outputs": [],
   "source": [
    "# Escriba un Programa que lance dos dados hasta que la suma sea 7, y mostras cuantas veces se lanzo el par de dado\n",
    "import random as rd\n",
    "dado1 =rd.randint(1,6) \n",
    "dado2 = rd.randint(1,6)\n",
    "print(dado1,dado2)\n",
    "cont = 1\n",
    "while not(dado1 + dado2 == 7):\n",
    "    dado1 =rd.randint(1,6) \n",
    "    dado2 = rd.randint(1,6)\n",
    "    print(dado1,dado2)\n",
    "    cont += 1\n",
    "print(cont)"
   ]
  },
  {
   "cell_type": "code",
   "execution_count": 1,
   "id": "4a9c58f5",
   "metadata": {},
   "outputs": [
    {
     "name": "stdout",
     "output_type": "stream",
     "text": [
      "ingrese un numero: dfgdf\n",
      "dato no valido\n",
      "Por favor, Ingrese un numero: fghfg\n",
      "dato no valido\n",
      "Por favor, Ingrese un numero: sd\n",
      "dato no valido\n",
      "Por favor, Ingrese un numero: fd\n",
      "dato no valido\n",
      "Por favor, Ingrese un numero: s\n",
      "dato no valido\n",
      "Por favor, Ingrese un numero: d\n",
      "dato no valido\n",
      "Por favor, Ingrese un numero: s\n",
      "dato no valido\n",
      "Por favor, Ingrese un numero: d\n",
      "dato no valido\n",
      "Por favor, Ingrese un numero: 5\n"
     ]
    }
   ],
   "source": [
    "#  Validar datos\n",
    "\n",
    "# Escribe un programa que valide la entrada de numeros\n",
    "num = input(\"ingrese un numero: \") \n",
    "while not(num.isdigit()):\n",
    "    print( \"dato no valido\")\n",
    "    num = input(\"Por favor, Ingrese un numero: \")\n",
    "print(num)"
   ]
  },
  {
   "cell_type": "code",
   "execution_count": null,
   "id": "016a1d7c",
   "metadata": {},
   "outputs": [],
   "source": []
  }
 ],
 "metadata": {
  "kernelspec": {
   "display_name": "Python 3 (ipykernel)",
   "language": "python",
   "name": "python3"
  },
  "language_info": {
   "codemirror_mode": {
    "name": "ipython",
    "version": 3
   },
   "file_extension": ".py",
   "mimetype": "text/x-python",
   "name": "python",
   "nbconvert_exporter": "python",
   "pygments_lexer": "ipython3",
   "version": "3.9.12"
  }
 },
 "nbformat": 4,
 "nbformat_minor": 5
}
