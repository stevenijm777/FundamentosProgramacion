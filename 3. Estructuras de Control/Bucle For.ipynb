{
 "cells": [
  {
   "cell_type": "markdown",
   "id": "786161e9",
   "metadata": {},
   "source": [
    "# La Sentencia For"
   ]
  },
  {
   "cell_type": "markdown",
   "id": "7afe3e72",
   "metadata": {},
   "source": [
    "#### Itera sobre los ítems decualquier secuencia (una lista o una cadena de texto), en el orden que aparecen en la secuencia\n",
    "#### Iterar lineas de codigos\n",
    "#### Ejecutar un codigo una n cantidad de veces conocidas"
   ]
  },
  {
   "cell_type": "code",
   "execution_count": 1,
   "id": "a44f44ba",
   "metadata": {
    "scrolled": true
   },
   "outputs": [
    {
     "name": "stdout",
     "output_type": "stream",
     "text": [
      "[5, 7, 9]\n"
     ]
    }
   ],
   "source": [
    "#range(start,end,step)\n",
    "print(list(range(5,10,2)))"
   ]
  },
  {
   "cell_type": "code",
   "execution_count": 2,
   "id": "cabdfe50",
   "metadata": {},
   "outputs": [
    {
     "name": "stdout",
     "output_type": "stream",
     "text": [
      "hola\n",
      "hola\n",
      "hola\n",
      "hola\n",
      "hola\n"
     ]
    }
   ],
   "source": [
    "# Ejecutar un codigo una n cantidad de veces conococidas\n",
    "n =5\n",
    "for i in range(n):\n",
    "    print(\"hola\")"
   ]
  },
  {
   "cell_type": "code",
   "execution_count": 3,
   "id": "9b9a5541",
   "metadata": {},
   "outputs": [
    {
     "name": "stdout",
     "output_type": "stream",
     "text": [
      "1\n",
      "2\n",
      "3\n",
      "-.--\n",
      "4\n",
      "5\n",
      "6\n",
      "-.--\n",
      "7\n",
      "8\n",
      "9\n",
      "-.--\n"
     ]
    }
   ],
   "source": [
    "cont =0 # 6\n",
    "for n in range(1,4): # [1,2,3] 3\n",
    "    for m in range(1,4): # [1,2,3] 3\n",
    "        cont+=1\n",
    "        print(cont)\n",
    "    print(\"-.--\") "
   ]
  },
  {
   "cell_type": "code",
   "execution_count": null,
   "id": "7cfe2a27",
   "metadata": {},
   "outputs": [],
   "source": [
    "# Midiendo cadenas de texto\n",
    "palabras = ['gato', 'ventana', 'programación']\n",
    "for p in palabras: # ''gato'\n",
    "    print(p, len(p))"
   ]
  },
  {
   "cell_type": "code",
   "execution_count": null,
   "id": "41fed88f",
   "metadata": {
    "scrolled": true
   },
   "outputs": [],
   "source": [
    "\n",
    "for i in range(1,4):# 2\n",
    "    for j in range(1,4):# 1\n",
    "        print((i,j)) # "
   ]
  },
  {
   "cell_type": "markdown",
   "id": "864ccab2",
   "metadata": {},
   "source": [
    "(1,1)\n",
    "(1,2)\n",
    "(1,3)"
   ]
  },
  {
   "cell_type": "code",
   "execution_count": null,
   "id": "80ec11dd",
   "metadata": {
    "scrolled": true
   },
   "outputs": [],
   "source": [
    "palabra = \"programacion 10\"\n",
    "for letra in palabra:\n",
    "    print(letra)"
   ]
  },
  {
   "cell_type": "code",
   "execution_count": null,
   "id": "65e4c16f",
   "metadata": {},
   "outputs": [],
   "source": [
    "# Si la cantidad de caracteres de un texto es mayor a 6 la palabra debe aparecer 2 veces en la lista\n",
    "# resultado: [\"programacion\",\"ventana\",'gato', 'ventana', 'programacion']\n",
    "words = ['gato', 'ventana', 'programación'] # [\"programacion\", \"ventana\",'gato', 'ventana', 'programacion']\n",
    "#words[:] = ['gato', 'ventana', 'programación']\n",
    "copia_words = words[:]\n",
    "\n",
    "for word in copia_words: # \"progrmacion\"\n",
    "    if len(word)>6:\n",
    "        words.insert(0,word)\n",
    "    print(words)"
   ]
  },
  {
   "cell_type": "code",
   "execution_count": null,
   "id": "eeb213d2",
   "metadata": {
    "scrolled": true
   },
   "outputs": [],
   "source": [
    "# Si la cantidad de caracteres de un texto es mayor a 6 la palabra debe aparecer 2 veces en la lista\n",
    "# resultado: ['gato', 'ventana', 'programación']\n",
    "words = ['gato', 'ventana', 'programación']\n",
    "for word in words[:]:\n",
    "    if len(word)>6:\n",
    "        words.insert(0,word)\n",
    "    print(words)"
   ]
  },
  {
   "cell_type": "code",
   "execution_count": null,
   "id": "3fdf6429",
   "metadata": {},
   "outputs": [],
   "source": []
  }
 ],
 "metadata": {
  "kernelspec": {
   "display_name": "Python 3 (ipykernel)",
   "language": "python",
   "name": "python3"
  },
  "language_info": {
   "codemirror_mode": {
    "name": "ipython",
    "version": 3
   },
   "file_extension": ".py",
   "mimetype": "text/x-python",
   "name": "python",
   "nbconvert_exporter": "python",
   "pygments_lexer": "ipython3",
   "version": "3.9.12"
  }
 },
 "nbformat": 4,
 "nbformat_minor": 5
}
