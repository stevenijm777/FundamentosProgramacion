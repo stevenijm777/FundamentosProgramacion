{
 "cells": [
  {
   "cell_type": "code",
   "execution_count": 3,
   "id": "d188e521",
   "metadata": {},
   "outputs": [
    {
     "name": "stdout",
     "output_type": "stream",
     "text": [
      "['jose', 'pepe', 'maria', 'juan', 'paco']\n",
      "[1, 1, 2, 3, 1]\n"
     ]
    }
   ],
   "source": [
    "nombres=[\"paco\",\"pepe\",\"juan\",\"maria\",\"juan\",\"maria\",\"juan\",\"jose\"]\n",
    "# mostrar los nombres y cuantas veces aparecen en la lista\n",
    "nombres_unicos = set(nombres)\n",
    "\n",
    "cant = []\n",
    "for nombre1 in nombres_unicos:\n",
    "    cont = 0\n",
    "    for nombre2 in nombres:\n",
    "        if nombre1==nombre2:\n",
    "            cont+=1\n",
    "    cant.append(cont)\n",
    "print(list(nombres_unicos))\n",
    "print(cant) \n",
    "    "
   ]
  },
  {
   "cell_type": "code",
   "execution_count": null,
   "id": "beecf835",
   "metadata": {},
   "outputs": [],
   "source": []
  }
 ],
 "metadata": {
  "kernelspec": {
   "display_name": "Python 3",
   "language": "python",
   "name": "python3"
  },
  "language_info": {
   "codemirror_mode": {
    "name": "ipython",
    "version": 3
   },
   "file_extension": ".py",
   "mimetype": "text/x-python",
   "name": "python",
   "nbconvert_exporter": "python",
   "pygments_lexer": "ipython3",
   "version": "3.9.5"
  }
 },
 "nbformat": 4,
 "nbformat_minor": 5
}
