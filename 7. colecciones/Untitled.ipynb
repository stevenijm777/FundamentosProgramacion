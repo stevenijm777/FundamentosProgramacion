{
 "cells": [
  {
   "cell_type": "markdown",
   "id": "7a635b00",
   "metadata": {},
   "source": [
    "# Colecciones\n",
    "\n",
    "## Conjunto\n",
    "* no ordenada y sin elementos repetidos\n",
    "* verificacion de pertencia\n",
    "* eliminacion de entradas duplicadas\n",
    "* union, interseccion, y diferencia y diferencia simetrica"
   ]
  },
  {
   "cell_type": "code",
   "execution_count": 6,
   "id": "a053342b",
   "metadata": {
    "scrolled": false
   },
   "outputs": [
    {
     "data": {
      "text/plain": [
       "{'BOG-GYE',\n",
       " 'BOG-UIO',\n",
       " 'GPS-GYE',\n",
       " 'GYE-BOG',\n",
       " 'GYE-GPS',\n",
       " 'GYE-UIO',\n",
       " 'UIO-BOG',\n",
       " 'UIO-GYE'}"
      ]
     },
     "execution_count": 6,
     "metadata": {},
     "output_type": "execute_result"
    }
   ],
   "source": [
    "A = {'BOG-GYE', 'GYE-BOG', 'BOG-UIO', 'UIO-BOG', 'GYE-UIO', 'UIO-GYE', 'GYE-GPS', 'GPS-GYE'}\n",
    "B = {'GYE-UIO', 'UIO-GYE', 'GYE-GPS', 'GPS-GYE', 'GYE-MIA', 'MIA-GYE', 'JFK-GYE', 'GYE-JFK', 'GYE-JFK', 'GYE-JFK', 'GYE-JFK'}\n",
    "A"
   ]
  },
  {
   "cell_type": "code",
   "execution_count": 7,
   "id": "b59a2f33",
   "metadata": {},
   "outputs": [
    {
     "data": {
      "text/plain": [
       "{'GPS-GYE',\n",
       " 'GYE-GPS',\n",
       " 'GYE-JFK',\n",
       " 'GYE-MIA',\n",
       " 'GYE-UIO',\n",
       " 'JFK-GYE',\n",
       " 'MIA-GYE',\n",
       " 'UIO-GYE'}"
      ]
     },
     "execution_count": 7,
     "metadata": {},
     "output_type": "execute_result"
    }
   ],
   "source": [
    "B"
   ]
  },
  {
   "cell_type": "code",
   "execution_count": 8,
   "id": "e28c3e35",
   "metadata": {},
   "outputs": [],
   "source": [
    "cadena = \"Programacion orientada a objetos\"\n",
    "s = set(cadena)"
   ]
  },
  {
   "cell_type": "code",
   "execution_count": 31,
   "id": "7b6bd153",
   "metadata": {},
   "outputs": [],
   "source": [
    "# crear un conjunto vacio\n",
    "conjunto = set()"
   ]
  },
  {
   "cell_type": "code",
   "execution_count": 32,
   "id": "f4eba263",
   "metadata": {},
   "outputs": [],
   "source": [
    "# añadir un elmento\n",
    "conjunto.add(\"Jhon\")"
   ]
  },
  {
   "cell_type": "code",
   "execution_count": 48,
   "id": "409f04e5",
   "metadata": {},
   "outputs": [],
   "source": [
    "#anañdir varios elementos\n",
    "conjunto.update((\"Jhon\",\"Maria\",\"Juan\",\"Titi\"))"
   ]
  },
  {
   "cell_type": "code",
   "execution_count": 43,
   "id": "f9ce3995",
   "metadata": {
    "scrolled": true
   },
   "outputs": [
    {
     "data": {
      "text/plain": [
       "{'Jhon', 'Maria'}"
      ]
     },
     "execution_count": 43,
     "metadata": {},
     "output_type": "execute_result"
    }
   ],
   "source": [
    "conjunto"
   ]
  },
  {
   "cell_type": "code",
   "execution_count": 44,
   "id": "552860cd",
   "metadata": {},
   "outputs": [],
   "source": [
    "# eliminar elementos\n",
    "conjunto.discard(\"Juan\")"
   ]
  },
  {
   "cell_type": "code",
   "execution_count": 58,
   "id": "efb52ca4",
   "metadata": {
    "scrolled": false
   },
   "outputs": [
    {
     "data": {
      "text/plain": [
       "{'Maria'}"
      ]
     },
     "execution_count": 58,
     "metadata": {},
     "output_type": "execute_result"
    }
   ],
   "source": [
    "conjunto"
   ]
  },
  {
   "cell_type": "code",
   "execution_count": 56,
   "id": "d4eceff7",
   "metadata": {},
   "outputs": [],
   "source": [
    "x = conjunto.pop()"
   ]
  },
  {
   "cell_type": "code",
   "execution_count": 57,
   "id": "5c8db10a",
   "metadata": {
    "scrolled": true
   },
   "outputs": [
    {
     "data": {
      "text/plain": [
       "'Jhon'"
      ]
     },
     "execution_count": 57,
     "metadata": {},
     "output_type": "execute_result"
    }
   ],
   "source": [
    "x"
   ]
  },
  {
   "cell_type": "code",
   "execution_count": 62,
   "id": "499e32e0",
   "metadata": {},
   "outputs": [
    {
     "data": {
      "text/plain": [
       "{1}"
      ]
     },
     "execution_count": 62,
     "metadata": {},
     "output_type": "execute_result"
    }
   ],
   "source": [
    "# Comprension de conjuntos\n",
    "letras = {letra*2 for letra in \"Electromagnetismo\" if letra not in \"aeiou\"}\n",
    "letras"
   ]
  },
  {
   "cell_type": "code",
   "execution_count": 64,
   "id": "cbdaf41b",
   "metadata": {},
   "outputs": [
    {
     "data": {
      "text/plain": [
       "[5, 5, 5, 5, 5, 5]"
      ]
     },
     "execution_count": 64,
     "metadata": {},
     "output_type": "execute_result"
    }
   ],
   "source": [
    "letras = [5 for letra in \"Electromagnetismo\" if letra in \"aeiou\"]\n",
    "letras"
   ]
  },
  {
   "cell_type": "code",
   "execution_count": 68,
   "id": "aaa6f545",
   "metadata": {},
   "outputs": [
    {
     "name": "stdout",
     "output_type": "stream",
     "text": [
      "{1, 2, 3, 4}\n",
      "[1, 2, 3, 4]\n"
     ]
    }
   ],
   "source": [
    "# listas --> sets\n",
    "conjunto = set([1,2,3,3,1,2,1,4])\n",
    "print(conjunto)\n",
    "# sets --> listas\n",
    "listas = list(conjunto)\n",
    "print(listas)"
   ]
  },
  {
   "cell_type": "code",
   "execution_count": 70,
   "id": "8a4d8288",
   "metadata": {},
   "outputs": [
    {
     "name": "stdout",
     "output_type": "stream",
     "text": [
      "True\n"
     ]
    }
   ],
   "source": [
    "# conjuntoPequeño.issubset(conjuntoGrande) Si el conjunto pequeño es un subconjunto del grande\n",
    "num_Primos = {2,3,5,7,9,11,13}\n",
    "impar = {1, 3,5,7,9}\n",
    "print(impar.issubset(num_Primos))"
   ]
  },
  {
   "cell_type": "code",
   "execution_count": null,
   "id": "4b7323e5",
   "metadata": {},
   "outputs": [],
   "source": [
    "# conjuntoGrande.issuperset(conjuntoPequeño)\n",
    "num_Primos = {2,3,5,7,9,11,13}\n",
    "impar = {3,5,7,9}\n",
    "print(num_Primos.issuperset(impar))"
   ]
  }
 ],
 "metadata": {
  "kernelspec": {
   "display_name": "Python 3 (ipykernel)",
   "language": "python",
   "name": "python3"
  },
  "language_info": {
   "codemirror_mode": {
    "name": "ipython",
    "version": 3
   },
   "file_extension": ".py",
   "mimetype": "text/x-python",
   "name": "python",
   "nbconvert_exporter": "python",
   "pygments_lexer": "ipython3",
   "version": "3.9.12"
  }
 },
 "nbformat": 4,
 "nbformat_minor": 5
}
