{
 "cells": [
  {
   "cell_type": "markdown",
   "id": "e2598e31",
   "metadata": {},
   "source": [
    "# Tuplas"
   ]
  },
  {
   "cell_type": "code",
   "execution_count": 1,
   "id": "5a6e2785",
   "metadata": {},
   "outputs": [
    {
     "name": "stdout",
     "output_type": "stream",
     "text": [
      "(1, 2, 3)\n",
      "(1, 2, 3)\n",
      "(1, 2, 3)\n",
      "(1, 2, 3)\n",
      "(1, 2, 3)\n",
      "(1, 2, 3)\n"
     ]
    }
   ],
   "source": [
    "# crear tuplas\n",
    "tpla = (1,2,3)\n",
    "tpla2 = 1,2,3\n",
    "print(tpla)\n",
    "print(tpla2)"
   ]
  },
  {
   "cell_type": "code",
   "execution_count": null,
   "id": "5e8ffabb",
   "metadata": {
    "scrolled": false
   },
   "outputs": [],
   "source": [
    "m=(1,2,3)\n",
    "lista = list(m) # descongelo\n",
    "lista.append(4)\n",
    "print(lista)\n",
    "tupla = tuple(lista) # congelo\n",
    "print(tupla)"
   ]
  },
  {
   "cell_type": "code",
   "execution_count": 2,
   "id": "81db0e78",
   "metadata": {},
   "outputs": [
    {
     "data": {
      "text/plain": [
       "(1, 2, 3, 4, 5, 6)"
      ]
     },
     "execution_count": 2,
     "metadata": {},
     "output_type": "execute_result"
    },
    {
     "data": {
      "text/plain": [
       "(1, 2, 3, 4, 5, 6)"
      ]
     },
     "execution_count": 2,
     "metadata": {},
     "output_type": "execute_result"
    },
    {
     "data": {
      "text/plain": [
       "(1, 2, 3, 4, 5, 6)"
      ]
     },
     "execution_count": 2,
     "metadata": {},
     "output_type": "execute_result"
    }
   ],
   "source": [
    "tupla1 = (1,2,3)\n",
    "tupla2 = (4,5,6)\n",
    "tupla3 = tupla1+tupla2\n",
    "tupla3"
   ]
  },
  {
   "cell_type": "code",
   "execution_count": 3,
   "id": "f69e7a04",
   "metadata": {
    "scrolled": false
   },
   "outputs": [
    {
     "data": {
      "text/plain": [
       "(1, 2, 3, 1, 2, 3, 1, 2, 3)"
      ]
     },
     "execution_count": 3,
     "metadata": {},
     "output_type": "execute_result"
    },
    {
     "data": {
      "text/plain": [
       "(1, 2, 3, 1, 2, 3, 1, 2, 3)"
      ]
     },
     "execution_count": 3,
     "metadata": {},
     "output_type": "execute_result"
    },
    {
     "data": {
      "text/plain": [
       "(1, 2, 3, 1, 2, 3, 1, 2, 3)"
      ]
     },
     "execution_count": 3,
     "metadata": {},
     "output_type": "execute_result"
    }
   ],
   "source": [
    "tupla = (1,2,3)\n",
    "tupla2 = tupla*3\n",
    "tupla2"
   ]
  },
  {
   "cell_type": "code",
   "execution_count": null,
   "id": "d3a2d6bd",
   "metadata": {
    "scrolled": true
   },
   "outputs": [],
   "source": [
    "julia= (\"Julia\", \"Roberts\", 1967, \"Duplicity\", 2009, \"Actress\" )\n",
    "julia = julia[:3] + (\"Eat Pray Love\", 2010) + julia[5:]\n",
    "julia"
   ]
  },
  {
   "cell_type": "code",
   "execution_count": null,
   "id": "3371a7d9",
   "metadata": {},
   "outputs": [],
   "source": [
    "dicc = {\"20191548\": \"Marco Zambrano\",\"20184654\":\"Juan Vazconez\"}\n",
    "dicc[\"20191578\"] = \"Juan Vazconez\"\n",
    "dicc[\"20191548\"] = \"Andrés Zambrano\"\n",
    "del dicc\n",
    "\n"
   ]
  },
  {
   "cell_type": "code",
   "execution_count": null,
   "id": "349d15c1",
   "metadata": {},
   "outputs": [],
   "source": [
    "# get\n",
    "# realizar un promgrama que reciba una clave y me muestre el valor y en caso de que la clave\n",
    "# no este en mi diccionario mostrar un mensaje de si esa clave no esta en mi diccionario\n",
    "nombres = {\"pepe\":15,\"juan\":20,\"jose\":17,\"maria\":20}\n",
    "clave = input(\"ingrese una clve a verificar\") # lucia\n",
    "for nombre in nombres: # pepe\n",
    "    valor = nombres[nombre]\n",
    "    print(nombre, valor)\n",
    "print(nombres.get(clave, \"Esta clave no está en mi diccionario\"))\n"
   ]
  },
  {
   "cell_type": "code",
   "execution_count": null,
   "id": "76bd64b7",
   "metadata": {
    "scrolled": false
   },
   "outputs": [],
   "source": [
    "print(list(nombres.keys()))"
   ]
  },
  {
   "cell_type": "code",
   "execution_count": null,
   "id": "009f31fe",
   "metadata": {},
   "outputs": [],
   "source": [
    "print(list(nombres))"
   ]
  },
  {
   "cell_type": "code",
   "execution_count": null,
   "id": "960fe72d",
   "metadata": {},
   "outputs": [],
   "source": [
    "midiccionario= {'Ciudad': 'Guayaquil', 'Nombre': 'Flavio', 'Apellido': 'Danesse', 'Edad': 30, 'FechaNac': '21/10/1986'}\n",
    "print(list(midiccionario.keys()))\n",
    "print(midiccionario.values())"
   ]
  },
  {
   "cell_type": "code",
   "execution_count": null,
   "id": "b536f99f",
   "metadata": {},
   "outputs": [],
   "source": [
    "list(midiccionario.keys())"
   ]
  },
  {
   "cell_type": "code",
   "execution_count": null,
   "id": "4e25457d",
   "metadata": {},
   "outputs": [],
   "source": [
    "midiccionario= {'Ciudad': 'Guayaquil', 'Nombre': 'Flavio', 'Apellido': 'Danesse', 'Edad': 30, 'FechaNac': '21/10/1986'}\n",
    "\n",
    "list(midiccionario)"
   ]
  },
  {
   "cell_type": "code",
   "execution_count": null,
   "id": "7da03797",
   "metadata": {},
   "outputs": [],
   "source": [
    "# Iterando un diccionario\n",
    "d={123: [\"libro\", 20], 234:[\"cuaderno\", 30]}\n",
    "for c in d: # 123\n",
    "    print(c,d[c])"
   ]
  },
  {
   "cell_type": "code",
   "execution_count": null,
   "id": "d1477f09",
   "metadata": {
    "scrolled": false
   },
   "outputs": [],
   "source": [
    "dicc= {}\n",
    "dicc.update({\"clave\":\"valor\"})\n",
    "#dicc[clave] = valor\n",
    "dicc"
   ]
  },
  {
   "cell_type": "code",
   "execution_count": null,
   "id": "98199fa7",
   "metadata": {},
   "outputs": [],
   "source": [
    "# añadiendo una clave y un valor a mi diccionario\n",
    "dicc[\"clave2\"] = \"valor2\"\n",
    "dicc"
   ]
  },
  {
   "cell_type": "code",
   "execution_count": null,
   "id": "67a75b5d",
   "metadata": {},
   "outputs": [],
   "source": []
  }
 ],
 "metadata": {
  "kernelspec": {
   "display_name": "Python 3 (ipykernel)",
   "language": "python",
   "name": "python3"
  },
  "language_info": {
   "codemirror_mode": {
    "name": "ipython",
    "version": 3
   },
   "file_extension": ".py",
   "mimetype": "text/x-python",
   "name": "python",
   "nbconvert_exporter": "python",
   "pygments_lexer": "ipython3",
   "version": "3.9.12"
  }
 },
 "nbformat": 4,
 "nbformat_minor": 5
}
