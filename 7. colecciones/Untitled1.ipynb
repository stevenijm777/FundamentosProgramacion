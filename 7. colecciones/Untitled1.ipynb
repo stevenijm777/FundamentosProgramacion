{
 "cells": [
  {
   "cell_type": "code",
   "execution_count": 4,
   "id": "9fc39125",
   "metadata": {},
   "outputs": [
    {
     "data": {
      "text/plain": [
       "(1, 2, 3, 4)"
      ]
     },
     "execution_count": 4,
     "metadata": {},
     "output_type": "execute_result"
    }
   ],
   "source": [
    "# tuplas\n",
    "m = 1,2,3\n",
    "lista = list(m) # descongelo\n",
    "lista.append(4)\n",
    "m = tuple(lista) # congelar\n",
    "m"
   ]
  },
  {
   "cell_type": "code",
   "execution_count": 7,
   "id": "fa5e1ace",
   "metadata": {},
   "outputs": [
    {
     "data": {
      "text/plain": [
       "(1, 2, 3, 4, 1, 2, 3, 4, 1, 2, 3, 4)"
      ]
     },
     "execution_count": 7,
     "metadata": {},
     "output_type": "execute_result"
    }
   ],
   "source": [
    "m = m*3\n",
    "m"
   ]
  },
  {
   "cell_type": "code",
   "execution_count": 8,
   "id": "643a299e",
   "metadata": {},
   "outputs": [
    {
     "data": {
      "text/plain": [
       "(1, 2, 3, 4, 1, 2, 3, 4, 1, 2, 3, 4)"
      ]
     },
     "execution_count": 8,
     "metadata": {},
     "output_type": "execute_result"
    }
   ],
   "source": [
    "m"
   ]
  },
  {
   "cell_type": "code",
   "execution_count": 9,
   "id": "67e2ae76",
   "metadata": {},
   "outputs": [
    {
     "data": {
      "text/plain": [
       "('Julia', 'Roberts', 1967, 'EAT Pray Love', 2010, 'Actress')"
      ]
     },
     "execution_count": 9,
     "metadata": {},
     "output_type": "execute_result"
    }
   ],
   "source": [
    "julia = (\"Julia\", \"Roberts\", 1967, \"Duplicity\", 2009, \"Actress\" )\n",
    "julia = julia[:3]+ (\"EAT Pray Love\", 2010) + julia[5:]\n",
    "julia"
   ]
  },
  {
   "cell_type": "code",
   "execution_count": 10,
   "id": "0b01c4c3",
   "metadata": {},
   "outputs": [],
   "source": [
    "# Diccionarios\n",
    "# crear un diccionario vacio\n",
    "d = {}\n",
    "dic = dict()\n",
    "# agrega un valor a un dicc\n",
    "dic[\"marco\"] = 18\n"
   ]
  },
  {
   "cell_type": "code",
   "execution_count": 13,
   "id": "e3893792",
   "metadata": {
    "scrolled": true
   },
   "outputs": [],
   "source": [
    "dic.update({\"maria\": 17})"
   ]
  },
  {
   "cell_type": "code",
   "execution_count": 14,
   "id": "065aab76",
   "metadata": {},
   "outputs": [
    {
     "data": {
      "text/plain": [
       "{'marco': 18, 'maria': 17}"
      ]
     },
     "execution_count": 14,
     "metadata": {},
     "output_type": "execute_result"
    }
   ],
   "source": [
    "dic"
   ]
  },
  {
   "cell_type": "code",
   "execution_count": 15,
   "id": "28a1be9f",
   "metadata": {},
   "outputs": [],
   "source": [
    "dic.update({\"maria\": 16})"
   ]
  },
  {
   "cell_type": "code",
   "execution_count": 16,
   "id": "257b74b4",
   "metadata": {},
   "outputs": [
    {
     "data": {
      "text/plain": [
       "{'marco': 18, 'maria': 16}"
      ]
     },
     "execution_count": 16,
     "metadata": {},
     "output_type": "execute_result"
    }
   ],
   "source": [
    "dic\n"
   ]
  },
  {
   "cell_type": "code",
   "execution_count": 17,
   "id": "c5b81df1",
   "metadata": {},
   "outputs": [],
   "source": [
    "dicc = {\"20191548\": \"Marco Zambrano\",\"20184654\":\"Juan Vazconez\"}"
   ]
  },
  {
   "cell_type": "code",
   "execution_count": 18,
   "id": "b19ead5e",
   "metadata": {},
   "outputs": [
    {
     "data": {
      "text/plain": [
       "{'20191548': 'Marco Zambrano', '20184654': 'Juan Vazconez'}"
      ]
     },
     "execution_count": 18,
     "metadata": {},
     "output_type": "execute_result"
    }
   ],
   "source": [
    "dicc"
   ]
  },
  {
   "cell_type": "code",
   "execution_count": 19,
   "id": "5367290b",
   "metadata": {},
   "outputs": [],
   "source": [
    "del dicc"
   ]
  },
  {
   "cell_type": "code",
   "execution_count": 1,
   "id": "529b3690",
   "metadata": {},
   "outputs": [
    {
     "data": {
      "text/plain": [
       "dict_keys(['Ana', 'pablo', 'Juan', 'Marco'])"
      ]
     },
     "execution_count": 1,
     "metadata": {},
     "output_type": "execute_result"
    }
   ],
   "source": [
    "edades ={'Ana': 11, 'pablo': 15, 'Juan': 13, 'Marco': 16}\n",
    "edades.keys()"
   ]
  },
  {
   "cell_type": "code",
   "execution_count": 2,
   "id": "d1b2d6c9",
   "metadata": {},
   "outputs": [
    {
     "data": {
      "text/plain": [
       "dict_values([11, 15, 13, 16])"
      ]
     },
     "execution_count": 2,
     "metadata": {},
     "output_type": "execute_result"
    }
   ],
   "source": [
    "# devuelve una coleccion de los valores del dicc\n",
    "edades.values()"
   ]
  },
  {
   "cell_type": "code",
   "execution_count": null,
   "id": "a022392a",
   "metadata": {},
   "outputs": [],
   "source": [
    "# iterar un dicc por clave\n",
    "for clave in dicc:\n",
    "    valor = dicc[clave]"
   ]
  },
  {
   "cell_type": "code",
   "execution_count": 3,
   "id": "e3025841",
   "metadata": {
    "collapsed": true
   },
   "outputs": [
    {
     "name": "stdout",
     "output_type": "stream",
     "text": [
      "11\n",
      "15\n",
      "13\n",
      "16\n"
     ]
    }
   ],
   "source": [
    "for nombre in edades:\n",
    "    edad = edades[nombre]\n",
    "    print(edad)"
   ]
  },
  {
   "cell_type": "code",
   "execution_count": 5,
   "id": "750bc2d9",
   "metadata": {},
   "outputs": [
    {
     "data": {
      "text/plain": [
       "[('Ana', 11), ('pablo', 15), ('Juan', 13), ('Marco', 16)]"
      ]
     },
     "execution_count": 5,
     "metadata": {},
     "output_type": "execute_result"
    }
   ],
   "source": [
    "list(edades.items())"
   ]
  },
  {
   "cell_type": "code",
   "execution_count": null,
   "id": "fa6d7969",
   "metadata": {},
   "outputs": [],
   "source": [
    "# iterar un dicc por clave y valor\n",
    "for clave, valor in dicc.items():\n",
    "    "
   ]
  },
  {
   "cell_type": "code",
   "execution_count": 6,
   "id": "3681c628",
   "metadata": {},
   "outputs": [
    {
     "name": "stdout",
     "output_type": "stream",
     "text": [
      "11\n",
      "15\n",
      "13\n",
      "16\n"
     ]
    }
   ],
   "source": [
    "for nombre, edad in edades.items():\n",
    "    print(edad)"
   ]
  },
  {
   "cell_type": "code",
   "execution_count": 7,
   "id": "e0669f93",
   "metadata": {},
   "outputs": [
    {
     "data": {
      "text/plain": [
       "{'paco': 1, 'pepe': 1, 'juan': 3, 'maria': 2, 'jose': 1}"
      ]
     },
     "execution_count": 7,
     "metadata": {},
     "output_type": "execute_result"
    }
   ],
   "source": [
    "nombres = [\"paco\",\"pepe\",\"juan\",\"maria\",\"juan\",\"maria\",\"juan\",\"jose\"]\n",
    "dicc = {}\n",
    "cont = 0\n",
    "for nombre in nombres:\n",
    "    if nombre not in dicc:\n",
    "        dicc[nombre] = 1\n",
    "    else:\n",
    "        dicc[nombre] += 1\n",
    "dicc\n",
    "    \n",
    "    "
   ]
  },
  {
   "cell_type": "code",
   "execution_count": 8,
   "id": "87d78a5a",
   "metadata": {},
   "outputs": [
    {
     "name": "stdout",
     "output_type": "stream",
     "text": [
      "True\n"
     ]
    }
   ],
   "source": [
    "if 'paco' in dicc:\n",
    "    print(True)"
   ]
  },
  {
   "cell_type": "code",
   "execution_count": null,
   "id": "f82b9cbc",
   "metadata": {},
   "outputs": [],
   "source": []
  }
 ],
 "metadata": {
  "kernelspec": {
   "display_name": "Python 3 (ipykernel)",
   "language": "python",
   "name": "python3"
  },
  "language_info": {
   "codemirror_mode": {
    "name": "ipython",
    "version": 3
   },
   "file_extension": ".py",
   "mimetype": "text/x-python",
   "name": "python",
   "nbconvert_exporter": "python",
   "pygments_lexer": "ipython3",
   "version": "3.9.12"
  }
 },
 "nbformat": 4,
 "nbformat_minor": 5
}
