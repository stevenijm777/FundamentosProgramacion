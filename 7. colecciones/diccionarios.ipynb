{
 "cells": [
  {
   "cell_type": "code",
   "execution_count": 1,
   "id": "96079a58",
   "metadata": {},
   "outputs": [
    {
     "data": {
      "text/plain": [
       "{'Ana': 11, 'pablo': 15, 'Juan': 13, 'Marco': 16}"
      ]
     },
     "execution_count": 1,
     "metadata": {},
     "output_type": "execute_result"
    }
   ],
   "source": [
    "edades ={\"Ana\":11,\"pablo\":15,\"Juan\":13}\n",
    "# nom_dicc[nueva_Clave] = valor\n",
    "edades[\"Marco\"] =16\n",
    "edades"
   ]
  },
  {
   "cell_type": "code",
   "execution_count": 2,
   "id": "b0a81f28",
   "metadata": {},
   "outputs": [
    {
     "data": {
      "text/plain": [
       "10"
      ]
     },
     "execution_count": 2,
     "metadata": {},
     "output_type": "execute_result"
    }
   ],
   "source": [
    "notas ={\"Ana\":(10,8,7,9),\"pablo\":(10,5,7,9),\"Juan\":(9,8,7,9)}\n",
    "max(notas[\"Ana\"])"
   ]
  },
  {
   "cell_type": "code",
   "execution_count": 3,
   "id": "4505f3b5",
   "metadata": {},
   "outputs": [
    {
     "data": {
      "text/plain": [
       "['Ana', 'Juan', 'Marco', 'pablo']"
      ]
     },
     "execution_count": 3,
     "metadata": {},
     "output_type": "execute_result"
    }
   ],
   "source": [
    "sorted(edades)"
   ]
  },
  {
   "cell_type": "code",
   "execution_count": 4,
   "id": "9ab96bf3",
   "metadata": {
    "scrolled": true
   },
   "outputs": [
    {
     "data": {
      "text/plain": [
       "['Ana', 'pablo', 'Juan']"
      ]
     },
     "execution_count": 4,
     "metadata": {},
     "output_type": "execute_result"
    }
   ],
   "source": [
    "list(notas)"
   ]
  },
  {
   "cell_type": "code",
   "execution_count": 6,
   "id": "6aaa9378",
   "metadata": {},
   "outputs": [
    {
     "data": {
      "text/plain": [
       "['Ana', 'pablo', 'Juan']"
      ]
     },
     "execution_count": 6,
     "metadata": {},
     "output_type": "execute_result"
    }
   ],
   "source": [
    "list(notas.keys())"
   ]
  },
  {
   "cell_type": "code",
   "execution_count": 7,
   "id": "6440d1e8",
   "metadata": {},
   "outputs": [
    {
     "data": {
      "text/plain": [
       "dict_values([(10, 8, 7, 9), (10, 5, 7, 9), (9, 8, 7, 9)])"
      ]
     },
     "execution_count": 7,
     "metadata": {},
     "output_type": "execute_result"
    }
   ],
   "source": [
    "notas.values()"
   ]
  },
  {
   "cell_type": "code",
   "execution_count": 9,
   "id": "abd9a6e8",
   "metadata": {},
   "outputs": [
    {
     "data": {
      "text/plain": [
       "dict_items([('Ana', (10, 8, 7, 9)), ('pablo', (10, 5, 7, 9)), ('Juan', (9, 8, 7, 9))])"
      ]
     },
     "execution_count": 9,
     "metadata": {},
     "output_type": "execute_result"
    }
   ],
   "source": [
    "notas.items()"
   ]
  },
  {
   "cell_type": "code",
   "execution_count": 10,
   "id": "252bf565",
   "metadata": {},
   "outputs": [
    {
     "data": {
      "text/plain": [
       "10"
      ]
     },
     "execution_count": 10,
     "metadata": {},
     "output_type": "execute_result"
    }
   ],
   "source": [
    "notas[\"pablo\"][0]"
   ]
  },
  {
   "cell_type": "code",
   "execution_count": 14,
   "id": "18e0a26e",
   "metadata": {
    "scrolled": true
   },
   "outputs": [
    {
     "name": "stdout",
     "output_type": "stream",
     "text": [
      "Ana tiene 11 años\n",
      "pablo tiene 15 años\n",
      "Juan tiene 13 años\n",
      "Marco tiene 16 años\n"
     ]
    }
   ],
   "source": [
    "edades ={'Ana': 11, 'pablo': 15, 'Juan': 13, 'Marco': 16}\n",
    "#for clave,valor in dicc.items():\n",
    "for nombre,edad in edades.items():\n",
    "    print(\"{} tiene {} años\".format(nombre, edad))"
   ]
  },
  {
   "cell_type": "code",
   "execution_count": 16,
   "id": "7d1cec60",
   "metadata": {},
   "outputs": [
    {
     "name": "stdout",
     "output_type": "stream",
     "text": [
      "{'paco': 1, 'pepe': 1, 'juan': 3, 'maria': 2, 'jose': 1}\n"
     ]
    }
   ],
   "source": [
    "nombres=[\"paco\",\"pepe\",\"juan\",\"maria\",\"juan\",\"maria\",\"juan\",\"jose\"]\n",
    "dicc = {} #{paco:1,pepe:1,juan:3,maria:2}\n",
    "for nombre in nombres: # juan\n",
    "    if nombre not in dicc:\n",
    "        dicc[nombre]=1\n",
    "    else:\n",
    "        dicc[nombre]+=1\n",
    "print(dicc)"
   ]
  },
  {
   "cell_type": "code",
   "execution_count": null,
   "id": "d5e81da3",
   "metadata": {},
   "outputs": [],
   "source": []
  }
 ],
 "metadata": {
  "kernelspec": {
   "display_name": "Python 3",
   "language": "python",
   "name": "python3"
  },
  "language_info": {
   "codemirror_mode": {
    "name": "ipython",
    "version": 3
   },
   "file_extension": ".py",
   "mimetype": "text/x-python",
   "name": "python",
   "nbconvert_exporter": "python",
   "pygments_lexer": "ipython3",
   "version": "3.9.5"
  }
 },
 "nbformat": 4,
 "nbformat_minor": 5
}
