{
 "cells": [
  {
   "cell_type": "markdown",
   "id": "02e8b553",
   "metadata": {},
   "source": [
    "ecu-ur.csv\n",
    "Pais,Jugador,Tarjetas_Amarillas,Tarjetas_Rojas,Goles,Minutos,KM_recorridos\n",
    "...\n",
    "Ecuador,Jose Cifuentes,1,0,0,75,6.3\n",
    "Uruguay,Sebastian Caceres,2,1,0,90,7\n",
    "Ecuador,Leonardo Campana,0,0,1,87,10\n",
    "...\n"
   ]
  },
  {
   "cell_type": "code",
   "execution_count": null,
   "id": "53fb87cb",
   "metadata": {},
   "outputs": [],
   "source": [
    "dic = {'Ecuador': {'Leonardo Campana': {'TA': 0,\n",
    "                                        'TR': 0,\n",
    "                                        'Goles': 1,\n",
    "                                        'Minutos': 87,\n",
    "                                        'KM': 10.0}},\n",
    "       'Uruguay': {'Sebastian Caceres': {'TA': 2,\n",
    "                                         'TR': 1,\n",
    "                                         'Goles': 0,\n",
    "                                         'Minutos': 90,\n",
    "                                         'KM': 7.0}\n",
    "                   }\n",
    "       }"
   ]
  },
  {
   "cell_type": "code",
   "execution_count": null,
   "id": "3b6b7bb4",
   "metadata": {},
   "outputs": [],
   "source": [
    "def actualizaDiccionario(nomArchivo, dic): \n",
    "    f = open(nomArchivo, \"r\")\n",
    "    f.readline() \n",
    "    for line in f: \n",
    "        pais,jugador,TA,TR,goles,minu,KM = line.strip().split(\",\") \n",
    "        TA = int(TA); TR = int(TR) ; goles = int(goles); minu = int(minu); KM = int(KM)\n",
    "        if pais not in dicc:\n",
    "            dicc[pais] = {jugador: {'TA': TA,\n",
    "                                    'TR': TR,\n",
    "                                    'Goles': goles,\n",
    "                                    'Minutos': minu,\n",
    "                                   'KM': Km}}\n",
    "        else:\n",
    "            if jugador not in dic[pais]:\n",
    "                dic[pais][jugador] = {'TA': TA,\n",
    "                                    'TR': TR,\n",
    "                                    'Goles': goles,\n",
    "                                    'Minutos': minu,\n",
    "                                   'KM': Km}\n",
    "            else:\n",
    "                dic[pais][jugador]['TA'] += TA\n",
    "                dic[pais][jugador]['TR'] += TR\n",
    "                dic[pais][jugador]['Goles'] += goles\n",
    "                dic[pais][jugador]['Minutos'] += minu\n",
    "                dic[pais][jugador]['KM'] += KM"
   ]
  },
  {
   "cell_type": "code",
   "execution_count": null,
   "id": "63b5dafe",
   "metadata": {},
   "outputs": [],
   "source": [
    "def buenDeportista(jugador, dic):\n",
    "    for pais in dic: # \n",
    "        if jugador in dic[pais]:\n",
    "            TA = dic[pais][jugador]['TA'] \n",
    "            TR = dic[pais][jugador]['TR'] \n",
    "            TT = TA+TR\n",
    "            minu = dic[pais][jugador]['Minutos'] \n",
    "            if TT/minu < 2/270:\n",
    "                return True\n",
    "            else:\n",
    "                return False     "
   ]
  },
  {
   "cell_type": "code",
   "execution_count": null,
   "id": "f2302d6f",
   "metadata": {},
   "outputs": [],
   "source": [
    "def jugadorAtleta(jugador, dic):\n",
    "    l_kms = []\n",
    "    for pais in dic:\n",
    "        if jugador in dic[pais]:\n",
    "            for player in dic[pais]:\n",
    "                km= dic[pais][jugador]['KM']\n",
    "                l_kms.append(km)\n",
    "            prome= sum(l_kms)/len(l_kms)\n",
    "            km2= dic[pais][jugador]['KM']\n",
    "            goles=dic[pais][jugador]['Goles']\n",
    "            if km2>=prome and goles>=1:\n",
    "                return True\n",
    "            else:\n",
    "                return False"
   ]
  },
  {
   "cell_type": "code",
   "execution_count": null,
   "id": "53f96ffb",
   "metadata": {},
   "outputs": [],
   "source": [
    "def paisBuenasPracticas(pais, dic):\n",
    "    cont = 0\n",
    "    for jugador in dic[pais]: \n",
    "        if buenDeportista(jugador, dic):\n",
    "            cont+=1            \n",
    "    if cont == len(dic[pais].keys()):\n",
    "        return True\n",
    "    else:\n",
    "        return False"
   ]
  },
  {
   "cell_type": "code",
   "execution_count": null,
   "id": "18d0b6f8",
   "metadata": {},
   "outputs": [],
   "source": [
    "# 5.\n",
    "dic = {}\n",
    "for nomArchivo in L:\n",
    "    actualizaDiccionario(nomArchivo, dic)"
   ]
  },
  {
   "cell_type": "code",
   "execution_count": null,
   "id": "b5b590a0",
   "metadata": {},
   "outputs": [],
   "source": [
    "#6.b \n",
    "l_pais = []\n",
    "l_proms = []\n",
    "for pais in dic:\n",
    "    goles = 0\n",
    "    kms = 0\n",
    "    for jugador in dic:\n",
    "        gol = dic[pais][jugador]['Goles']\n",
    "        goles+= gol\n",
    "        km = dic[pais][jugador]['KM']\n",
    "        kms += km\n",
    "    prom = goles/kms\n",
    "    l_pais.append(pais)\n",
    "    l_proms.append(prom)       "
   ]
  },
  {
   "cell_type": "code",
   "execution_count": null,
   "id": "33d79daf",
   "metadata": {},
   "outputs": [],
   "source": [
    "# 7.\n",
    "nominados = []\n",
    "for pais in dic:\n",
    "    if paisBuenasPracticas(pais, dic):\n",
    "        nominados.append(pais)\n",
    "    "
   ]
  },
  {
   "cell_type": "code",
   "execution_count": null,
   "id": "5eda5ba2",
   "metadata": {},
   "outputs": [],
   "source": [
    "# Salida\n",
    "for i in range(l_pais):\n",
    "    print(\"{} goles por Km: {.2f}\".format(l_pais[i], l_proms[i]))\n",
    "print()\n",
    "print(\"Paises nominados\")    \n",
    "for pais in nominados:\n",
    "    print(pais)"
   ]
  }
 ],
 "metadata": {
  "kernelspec": {
   "display_name": "Python 3 (ipykernel)",
   "language": "python",
   "name": "python3"
  },
  "language_info": {
   "codemirror_mode": {
    "name": "ipython",
    "version": 3
   },
   "file_extension": ".py",
   "mimetype": "text/x-python",
   "name": "python",
   "nbconvert_exporter": "python",
   "pygments_lexer": "ipython3",
   "version": "3.9.12"
  }
 },
 "nbformat": 4,
 "nbformat_minor": 5
}
