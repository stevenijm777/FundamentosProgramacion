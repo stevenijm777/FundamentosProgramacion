{
 "cells": [
  {
   "cell_type": "markdown",
   "id": "b782ed92",
   "metadata": {},
   "source": [
    "# Colecciones"
   ]
  },
  {
   "cell_type": "markdown",
   "id": "08b4350d",
   "metadata": {},
   "source": [
    "## Conjunto\n",
    "* no ordenada y sin elementos repetidos.\n",
    "* verificación de pertenencia\n",
    "* eliminación de entradas duplicadas.\n",
    "* unión, intersección, diferencia, y diferencia simétrica.\n",
    "* Los conjuntos no soportan indexamiento ni slicing."
   ]
  },
  {
   "cell_type": "code",
   "execution_count": 10,
   "id": "455f3e90",
   "metadata": {},
   "outputs": [
    {
     "name": "stdout",
     "output_type": "stream",
     "text": [
      "{'GPS-GYE', 'GYE-UIO'}\n"
     ]
    }
   ],
   "source": [
    "print({'BOG-GYE', 'GYE-BOG', 'BOG-UIO', 'UIO-BOG', 'GYE-UIO', 'UIO-GYE', 'GYE-GPS', 'GPS-GYE'}.intersection({'GYE-UIO', 'UIO-GYE' 'GYE-GPS', 'GPS-GYE', 'GYE-MIA', 'MIA-GYE', 'JFK-GYE', 'GYE-JFK'}))"
   ]
  },
  {
   "cell_type": "code",
   "execution_count": null,
   "id": "a04ecbd8",
   "metadata": {},
   "outputs": [],
   "source": []
  },
  {
   "cell_type": "code",
   "execution_count": null,
   "id": "e280801f",
   "metadata": {
    "scrolled": true
   },
   "outputs": [],
   "source": [
    "cadena = \"Programacion primera clase\"\n",
    "# mostrar las letras de mi cadena\n",
    "s = set(cadena)\n",
    "print(s)\n"
   ]
  },
  {
   "cell_type": "code",
   "execution_count": null,
   "id": "666ecd77",
   "metadata": {},
   "outputs": [],
   "source": [
    "# Crear conjunto vacio\n",
    "conjunto = set()\n",
    "conjunto"
   ]
  },
  {
   "cell_type": "code",
   "execution_count": null,
   "id": "16ff347d",
   "metadata": {},
   "outputs": [],
   "source": [
    "#Definir un conjunto\n",
    "nombres = {\"paco\",\"pepe\",\"juan\",\"maria\",\"juan\",\"maria\",\"juan\",\"jose\"}\n",
    "nombres"
   ]
  },
  {
   "cell_type": "code",
   "execution_count": null,
   "id": "f3c58ca1",
   "metadata": {},
   "outputs": [],
   "source": [
    "# Añadir un nuevo elemento\n",
    "nombres.add(\"Jhon\")\n",
    "print(nombres)\n"
   ]
  },
  {
   "cell_type": "code",
   "execution_count": null,
   "id": "2ff6e05d",
   "metadata": {},
   "outputs": [],
   "source": [
    "# Añadir varios elementos\n",
    "nombres.update([\"Jesus\", \"Carlos\",\"Carlos\",\"Adolfo\"])\n",
    "print(nombres)"
   ]
  },
  {
   "cell_type": "code",
   "execution_count": null,
   "id": "4b6c7f30",
   "metadata": {
    "scrolled": true
   },
   "outputs": [],
   "source": [
    "nombres"
   ]
  },
  {
   "cell_type": "code",
   "execution_count": null,
   "id": "5818956a",
   "metadata": {},
   "outputs": [],
   "source": [
    "# Modificando Conjuntos: Eliminar Elementos\n",
    "nombres.remove(\"paco\") \n",
    "nombres"
   ]
  },
  {
   "cell_type": "code",
   "execution_count": null,
   "id": "e2b1dc65",
   "metadata": {},
   "outputs": [],
   "source": [
    "nombres.remove(\"marco\")\n",
    "nombres"
   ]
  },
  {
   "cell_type": "code",
   "execution_count": null,
   "id": "426b950c",
   "metadata": {},
   "outputs": [],
   "source": [
    "nombres.discard(\"paco\")\n",
    "nombres"
   ]
  },
  {
   "cell_type": "code",
   "execution_count": null,
   "id": "99a3b481",
   "metadata": {},
   "outputs": [],
   "source": [
    "nombres.discard(\"Jesus\")\n",
    "nombres"
   ]
  },
  {
   "cell_type": "code",
   "execution_count": null,
   "id": "06c602ff",
   "metadata": {
    "scrolled": true
   },
   "outputs": [],
   "source": [
    "x=nombres.pop()\n",
    "print(nombres)\n",
    "print(x)\n"
   ]
  },
  {
   "cell_type": "code",
   "execution_count": null,
   "id": "718aa504",
   "metadata": {},
   "outputs": [],
   "source": [
    "numeros = {(1,2),(2,3),(3,4)}\n",
    "numeros.discard((2,3))\n",
    "numeros"
   ]
  },
  {
   "cell_type": "code",
   "execution_count": null,
   "id": "ac8a0802",
   "metadata": {},
   "outputs": [],
   "source": [
    "nombres.clear()\n",
    "nombres"
   ]
  },
  {
   "cell_type": "code",
   "execution_count": 9,
   "id": "16b83a22",
   "metadata": {},
   "outputs": [
    {
     "data": {
      "text/plain": [
       "{'c', 'g', 'l', 'm', 'n', 'r', 's', 't'}"
      ]
     },
     "execution_count": 9,
     "metadata": {},
     "output_type": "execute_result"
    }
   ],
   "source": [
    "# Comprension de conjuntos \n",
    "letras = {letra for letra in \"electromagnetismo\" if letra not in \"aeiou\"}\n",
    "letras # {\"l!\",\"c!\"}"
   ]
  },
  {
   "cell_type": "code",
   "execution_count": null,
   "id": "74d1b420",
   "metadata": {},
   "outputs": [],
   "source": [
    "# listas --> sets\n",
    "conjunto = set([1,2,3,3,1,2,1,4])\n",
    "print(conjunto)\n",
    "# sets --> listas\n",
    "listas = list(conjunto)\n",
    "listas"
   ]
  },
  {
   "cell_type": "markdown",
   "id": "5800be0b",
   "metadata": {},
   "source": [
    "#### soporta\n",
    "* len()\n",
    "* max()\n",
    "* min()"
   ]
  },
  {
   "cell_type": "markdown",
   "id": "233811cf",
   "metadata": {},
   "source": [
    "## subconjuntoo y superconjunto"
   ]
  },
  {
   "cell_type": "code",
   "execution_count": 5,
   "id": "d1eb7214",
   "metadata": {
    "scrolled": true
   },
   "outputs": [
    {
     "name": "stdout",
     "output_type": "stream",
     "text": [
      "False\n"
     ]
    }
   ],
   "source": [
    "# conjuntoPequeño.issubset(conjuntoGrande) Si el conjuntoPqueno es un subconjunto del conjuntoGrande\n",
    "num_Primos = {2,3,5,7,9,11,13}\n",
    "impar = {1,3,5,7,9}\n",
    "print(impar.issubset(num_Primos))"
   ]
  },
  {
   "cell_type": "code",
   "execution_count": 6,
   "id": "79ff6252",
   "metadata": {
    "scrolled": false
   },
   "outputs": [
    {
     "name": "stdout",
     "output_type": "stream",
     "text": [
      "True\n"
     ]
    }
   ],
   "source": [
    "# conjuntoGrande.issuperset(conjuntoPequeño)\n",
    "num_Primos = {2,3,5,7,9,11,13}\n",
    "impar = {3,5,7,9}\n",
    "print(num_Primos.issuperset(impar))"
   ]
  },
  {
   "cell_type": "code",
   "execution_count": null,
   "id": "6365cd70",
   "metadata": {},
   "outputs": [],
   "source": []
  }
 ],
 "metadata": {
  "kernelspec": {
   "display_name": "Python 3 (ipykernel)",
   "language": "python",
   "name": "python3"
  },
  "language_info": {
   "codemirror_mode": {
    "name": "ipython",
    "version": 3
   },
   "file_extension": ".py",
   "mimetype": "text/x-python",
   "name": "python",
   "nbconvert_exporter": "python",
   "pygments_lexer": "ipython3",
   "version": "3.9.12"
  }
 },
 "nbformat": 4,
 "nbformat_minor": 5
}
