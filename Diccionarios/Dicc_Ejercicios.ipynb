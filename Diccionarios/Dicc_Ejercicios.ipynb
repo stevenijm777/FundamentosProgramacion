{
 "cells": [
  {
   "cell_type": "code",
   "execution_count": 1,
   "id": "1d85c85e",
   "metadata": {},
   "outputs": [],
   "source": [
    "Dicc = {'pepe': {\"edad\":8,\"nota\":8}, 'jose': {\"edad\":9,\"nota\":7}, 'maria': {\"edad\":9,\"nota\":5}}\n",
    "# iterar por clave\n",
    "for nombre in Dicc: #pepe\n",
    "    nota = Dicc[nombre][\"nota\"] # 8"
   ]
  },
  {
   "cell_type": "code",
   "execution_count": null,
   "id": "d4b430be",
   "metadata": {},
   "outputs": [],
   "source": [
    "# Sacar el promedio de notas\n",
    "notas = []\n",
    "for nombre, datos in Dicc.items():# jose , {\"edad\":9,\"nota\":7}\n",
    "    nota = datos[\"nota\"] # 7\n",
    "    notas.append(nota)\n",
    "promedio = sum(notas)/len(notas)\n",
    "    \n",
    "    "
   ]
  },
  {
   "cell_type": "code",
   "execution_count": 2,
   "id": "2484d862",
   "metadata": {},
   "outputs": [
    {
     "name": "stdout",
     "output_type": "stream",
     "text": [
      "3\n"
     ]
    }
   ],
   "source": [
    "print(len(Dicc))"
   ]
  },
  {
   "cell_type": "code",
   "execution_count": null,
   "id": "efd8783c",
   "metadata": {},
   "outputs": [],
   "source": []
  }
 ],
 "metadata": {
  "kernelspec": {
   "display_name": "Python 3",
   "language": "python",
   "name": "python3"
  },
  "language_info": {
   "codemirror_mode": {
    "name": "ipython",
    "version": 3
   },
   "file_extension": ".py",
   "mimetype": "text/x-python",
   "name": "python",
   "nbconvert_exporter": "python",
   "pygments_lexer": "ipython3",
   "version": "3.9.5"
  }
 },
 "nbformat": 4,
 "nbformat_minor": 5
}
