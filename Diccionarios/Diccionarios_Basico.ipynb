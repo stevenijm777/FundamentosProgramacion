{
 "cells": [
  {
   "cell_type": "markdown",
   "id": "c3aed7e8",
   "metadata": {},
   "source": [
    "# diccionarios"
   ]
  },
  {
   "cell_type": "code",
   "execution_count": 1,
   "id": "2bec0dd2",
   "metadata": {},
   "outputs": [],
   "source": [
    "dicc={}"
   ]
  },
  {
   "cell_type": "code",
   "execution_count": 6,
   "id": "f5d32012",
   "metadata": {
    "scrolled": true
   },
   "outputs": [
    {
     "data": {
      "text/plain": [
       "{('a', 1): 15, 15: 15}"
      ]
     },
     "execution_count": 6,
     "metadata": {},
     "output_type": "execute_result"
    }
   ],
   "source": [
    "dicc[15]=15\n",
    "dicc\n"
   ]
  },
  {
   "cell_type": "code",
   "execution_count": null,
   "id": "dea80d2f",
   "metadata": {},
   "outputs": [],
   "source": [
    "def aniosEmpleados(identificacion,dic_anios_empleado): #367-14-3624,\n",
    "  for anio, identificaciones in dic_anios_empleado.items(): # 5, {}a,b,c,d}\n",
    "    if identificacion in identificaciones:\n",
    "      anio = eval(anio)\n",
    "      return anio #11"
   ]
  },
  {
   "cell_type": "code",
   "execution_count": 10,
   "id": "c3d0f92f",
   "metadata": {},
   "outputs": [
    {
     "name": "stdout",
     "output_type": "stream",
     "text": [
      "{'nombre': 'Maria', 'Apellido': 'Jara', 'edad': 19}\n"
     ]
    }
   ],
   "source": [
    "# Añadir valores a un dicc\n",
    "dicc = {}\n",
    "#1era\n",
    "dicc[\"nombre\"] = \"Maria\"\n",
    "#2da\n",
    "dicc.update({\"Apellido\":\"Jara\"})\n",
    "dicc.update({\"edad\":19})\n",
    "print(dicc)"
   ]
  },
  {
   "cell_type": "code",
   "execution_count": 11,
   "id": "c63ae45e",
   "metadata": {},
   "outputs": [],
   "source": [
    "dicc.update({\"notas\": []})"
   ]
  },
  {
   "cell_type": "code",
   "execution_count": 18,
   "id": "1fd578c9",
   "metadata": {
    "scrolled": true
   },
   "outputs": [
    {
     "data": {
      "text/plain": [
       "{'nombre': 'Maria', 'Apellido': 'Jara', 'edad': 19, 'notas': 25}"
      ]
     },
     "execution_count": 18,
     "metadata": {},
     "output_type": "execute_result"
    }
   ],
   "source": [
    "dicc"
   ]
  },
  {
   "cell_type": "code",
   "execution_count": 17,
   "id": "98f22b13",
   "metadata": {
    "scrolled": false
   },
   "outputs": [],
   "source": [
    "notas = [15,15,25]\n",
    "for nota in notas:\n",
    "    dicc.update({\"notas\":nota})\n"
   ]
  },
  {
   "cell_type": "code",
   "execution_count": 15,
   "id": "8bd5ab81",
   "metadata": {},
   "outputs": [],
   "source": [
    "dicc.update({\"notas\":30})"
   ]
  },
  {
   "cell_type": "code",
   "execution_count": 19,
   "id": "a76bcd78",
   "metadata": {},
   "outputs": [
    {
     "name": "stdout",
     "output_type": "stream",
     "text": [
      "[('pepe', 8), ('jose', 7), ('maria', 9)]\n"
     ]
    }
   ],
   "source": [
    "nombres= [\"pepe\",\"jose\",\"maria\"]\n",
    "notas= [8,7,9]\n",
    "edades= [15,14,16]\n",
    "# {\"pepe\":8,\"jose\":7,\"maria\":9}\n",
    "\n",
    "lista = []\n",
    "#iterar por indice\n",
    "for i in range(len(nombres)):\n",
    "    nombre= nombres[i]\n",
    "    nota= notas[i]\n",
    "    tupla= (nombre, nota)\n",
    "    lista.append(tupla)\n",
    "print(lista)\n"
   ]
  },
  {
   "cell_type": "code",
   "execution_count": 20,
   "id": "de5eaf4d",
   "metadata": {},
   "outputs": [
    {
     "name": "stdout",
     "output_type": "stream",
     "text": [
      "{'pepe': 8, 'jose': 7, 'maria': 9}\n"
     ]
    }
   ],
   "source": [
    "dicc = dict(lista)\n",
    "print(dicc)\n"
   ]
  },
  {
   "cell_type": "code",
   "execution_count": 21,
   "id": "7043db94",
   "metadata": {},
   "outputs": [
    {
     "name": "stdout",
     "output_type": "stream",
     "text": [
      "{'pepe': [8, 15], 'jose': [7, 14], 'maria': [9, 16]}\n"
     ]
    }
   ],
   "source": [
    "d = {}\n",
    "for i in range(len(nombres)):\n",
    "    nombre = nombres[i]\n",
    "    nota = notas[i]\n",
    "    edad = edades[i]\n",
    "    d[nombre] = [nota,edad]\n",
    "print(d)"
   ]
  },
  {
   "cell_type": "code",
   "execution_count": 25,
   "id": "19e2bf33",
   "metadata": {},
   "outputs": [
    {
     "name": "stdout",
     "output_type": "stream",
     "text": [
      "dict_items([('pepe', 8), ('jose', 7), ('maria', 9)])\n",
      "dict_keys(['pepe', 'jose', 'maria'])\n",
      "dict_values([8, 7, 9])\n"
     ]
    }
   ],
   "source": [
    "nombres= [\"pepe\",\"jose\",\"maria\"]\n",
    "notas= [8,7,9]\n",
    "edades= [15,14,16]\n",
    "# {\"pepe\":8,\"jose\":7,\"maria\":\n",
    "dicc = {}\n",
    "for i in range(len(nombres)):\n",
    "    nombre= nombres[i]\n",
    "    nota= notas[i]\n",
    "    #dicc.update({nombre:nota})\n",
    "    dicc[nombre] = nota\n",
    "print(dicc.items())\n",
    "print(dicc.keys())\n",
    "print(dicc.values())\n",
    "    "
   ]
  },
  {
   "cell_type": "code",
   "execution_count": 22,
   "id": "d27a6d4b",
   "metadata": {},
   "outputs": [
    {
     "name": "stdout",
     "output_type": "stream",
     "text": [
      "{'estudiantes': ['pepe', 'jose', 'maria'], 'edades': [15, 14, 16]}\n"
     ]
    }
   ],
   "source": [
    "nombres= [\"pepe\",\"jose\",\"maria\"]\n",
    "edades= [15,14,16]\n",
    "# {\"estudiantes\":[\"pepe\",\"jose\",\"maria\"],\"edades\":[15,14,16]}\n",
    "# {\"estudiantes\":[pepe]}\n",
    "dicc={}\n",
    "for i in range(len(nombres)):\n",
    "    nombre = nombres[i]\n",
    "    edad = edades[i]\n",
    "    if \"estudiantes\" not in dicc:\n",
    "        dicc[\"estudiantes\"]= [nombre]\n",
    "        dicc[\"edades\"]= [edad]\n",
    "    else:\n",
    "        dicc[\"estudiantes\"].append(nombre)\n",
    "        dicc[\"edades\"].append(edad)\n",
    "print(dicc)    \n",
    "    \n",
    "\n",
    "\n",
    "\n",
    "\n",
    "\n"
   ]
  },
  {
   "cell_type": "code",
   "execution_count": 23,
   "id": "a82cee38",
   "metadata": {},
   "outputs": [
    {
     "name": "stdout",
     "output_type": "stream",
     "text": [
      "{'estudiantes': ['pepe', 'pepe', 'jose', 'maria'], 'edades': [15, 15, 14, 16]}\n"
     ]
    }
   ],
   "source": [
    "nombres= [\"pepe\",\"jose\",\"maria\"]\n",
    "notas= [8,7,9]\n",
    "edades= [15,14,16]\n",
    "# {\"estudiantes\":[\"pepe\",\"jose\",\"maria\"],\"edades\":[15,14,16]}\n",
    "dicc= {}# {\"estudiantes\":[\"pepe\"],\"edades\":[15]}\n",
    "#dicc[\"estudiantes\"] = nombres\n",
    "#dicc[\"edades\"] = edades\n",
    "#print(dicc)\n",
    "for i in range(len(notas)):\n",
    "    nombre = nombres[i] #jose\n",
    "    edad = int(edades[i]) # 16\n",
    "    if \"estudiantes\" not in dicc:\n",
    "        dicc[\"estudiantes\"] = [nombre]\n",
    "    if \"edades\" not in dicc:\n",
    "        dicc[\"edades\"] = [edad]\n",
    "    if \"estudiantes\" in dicc:\n",
    "        dicc[\"estudiantes\"].append(nombre)\n",
    "    if \"edades\" in dicc:\n",
    "        dicc[\"edades\"].append(edad)\n",
    "\n",
    "print(dicc)"
   ]
  },
  {
   "cell_type": "code",
   "execution_count": null,
   "id": "2397ce1e",
   "metadata": {},
   "outputs": [],
   "source": [
    "Dicc = {'pepe': 8, 'jose': 5, 'maria': 9}\n",
    "# iterar por clave y valor---> items\n",
    "for nombre,nota in Dicc.items():# pepe,8\n",
    "    if nota>=6:\n",
    "        print(nombre)"
   ]
  },
  {
   "cell_type": "code",
   "execution_count": null,
   "id": "dcc38707",
   "metadata": {},
   "outputs": [],
   "source": [
    "Dicc = {'pepe': {\"edad\":8,\"nota\":8}, 'jose': {\"edad\":9,\"nota\":7}, 'maria': {\"edad\":9,\"nota\":5}}\n",
    "# iterar por clave\n",
    "for nombre in Dicc: #pepe\n",
    "    nota = Dicc[nombre][\"nota\"] # 8\n"
   ]
  },
  {
   "cell_type": "code",
   "execution_count": null,
   "id": "249783ff",
   "metadata": {},
   "outputs": [],
   "source": [
    "Dicc = {'pepe': {\"edad\":8,\"nota\":8}, 'jose': {\"edad\":9,\"nota\":7}, 'maria': {\"edad\":9,\"nota\":5}}\n",
    "# iterar por clave\n",
    "for nombre in Dicc: #pepe\n",
    "    nota = Dicc[nombre][\"nota\"] # 8"
   ]
  },
  {
   "cell_type": "code",
   "execution_count": null,
   "id": "378b13a6",
   "metadata": {},
   "outputs": [],
   "source": [
    "# Sacar el promedio de notas\n",
    "notas = []\n",
    "for nombre, datos in Dicc.items():# jose , {\"edad\":9,\"nota\":7}\n",
    "    nota = datos[\"nota\"] # 7\n",
    "    notas.append(nota)\n",
    "promedio = sum(notas)/len(notas)\n",
    "    \n",
    "    "
   ]
  },
  {
   "cell_type": "code",
   "execution_count": null,
   "id": "d7af7e8a",
   "metadata": {},
   "outputs": [],
   "source": []
  },
  {
   "cell_type": "code",
   "execution_count": 26,
   "id": "1588e0ae",
   "metadata": {
    "scrolled": true
   },
   "outputs": [
    {
     "ename": "NameError",
     "evalue": "name 'Dicc' is not defined",
     "output_type": "error",
     "traceback": [
      "\u001b[1;31m---------------------------------------------------------------------------\u001b[0m",
      "\u001b[1;31mNameError\u001b[0m                                 Traceback (most recent call last)",
      "\u001b[1;32m<ipython-input-26-2faa23f5bfe8>\u001b[0m in \u001b[0;36m<module>\u001b[1;34m\u001b[0m\n\u001b[1;32m----> 1\u001b[1;33m \u001b[1;32mif\u001b[0m \u001b[1;34m\"edad\"\u001b[0m \u001b[1;32min\u001b[0m \u001b[0mDicc\u001b[0m\u001b[1;33m[\u001b[0m\u001b[1;34m\"pepe\"\u001b[0m\u001b[1;33m]\u001b[0m\u001b[1;33m:\u001b[0m\u001b[1;33m\u001b[0m\u001b[1;33m\u001b[0m\u001b[0m\n\u001b[0m\u001b[0;32m      2\u001b[0m     \u001b[0mprint\u001b[0m\u001b[1;33m(\u001b[0m\u001b[1;32mTrue\u001b[0m\u001b[1;33m)\u001b[0m\u001b[1;33m\u001b[0m\u001b[1;33m\u001b[0m\u001b[0m\n\u001b[0;32m      3\u001b[0m \u001b[1;32melse\u001b[0m\u001b[1;33m:\u001b[0m\u001b[1;33m\u001b[0m\u001b[1;33m\u001b[0m\u001b[0m\n\u001b[0;32m      4\u001b[0m     \u001b[0mprint\u001b[0m\u001b[1;33m(\u001b[0m\u001b[1;32mFalse\u001b[0m\u001b[1;33m)\u001b[0m\u001b[1;33m\u001b[0m\u001b[1;33m\u001b[0m\u001b[0m\n",
      "\u001b[1;31mNameError\u001b[0m: name 'Dicc' is not defined"
     ]
    }
   ],
   "source": [
    "if \"edad\" in Dicc[\"pepe\"]:\n",
    "    print(True)\n",
    "else:\n",
    "    print(False)"
   ]
  },
  {
   "cell_type": "code",
   "execution_count": null,
   "id": "f3e569ae",
   "metadata": {
    "scrolled": true
   },
   "outputs": [],
   "source": [
    "if \"pablo\" in Dicc:\n",
    "    print(True)\n",
    "else:\n",
    "    print(False)"
   ]
  },
  {
   "cell_type": "code",
   "execution_count": null,
   "id": "94428bec",
   "metadata": {},
   "outputs": [],
   "source": []
  }
 ],
 "metadata": {
  "kernelspec": {
   "display_name": "Python 3",
   "language": "python",
   "name": "python3"
  },
  "language_info": {
   "codemirror_mode": {
    "name": "ipython",
    "version": 3
   },
   "file_extension": ".py",
   "mimetype": "text/x-python",
   "name": "python",
   "nbconvert_exporter": "python",
   "pygments_lexer": "ipython3",
   "version": "3.9.5"
  }
 },
 "nbformat": 4,
 "nbformat_minor": 5
}
