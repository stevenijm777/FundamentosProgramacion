{
 "cells": [
  {
   "cell_type": "code",
   "execution_count": 4,
   "id": "a92ace8b",
   "metadata": {},
   "outputs": [
    {
     "data": {
      "text/plain": [
       "{'Ecuador': {'Jose Cifuentes': (1.0, 0.0, 0.0, 75.0, 6.3),\n",
       "  'Leonardo Campana': (0.0, 0.0, 1.0, 87.0, 10.0)},\n",
       " 'Uruguay': {'Sebastian Caceres': (2.0, 1.0, 0.0, 90.0, 7.0)}}"
      ]
     },
     "execution_count": 4,
     "metadata": {},
     "output_type": "execute_result"
    }
   ],
   "source": [
    "informacion = \"Ecuador,Jose Cifuentes,1,0,0,75,6.3|Uruguay,Sebastian Caceres,2,1,0,90,7|Ecuador,Leonardo Campana,0,0,1,87,10\"\n",
    "def CrearDicc(informacion):\n",
    "    dicc = {}\n",
    "    info = informacion.split(\"|\") # [\"Ecuador,Jose Cifuentes,1,0,0,75,6.3\",\"Uruguay,Sebastian Caceres,2,1,0,90,7\",\"Ecuador,Leonardo Campana,0,0,1,87,1\n",
    "    for datos in info: # \"Ecuador,Jose Cifuentes,1,0,0,75,6.3\"\n",
    "        datos = datos.split(\",\")\n",
    "        pais = datos[0] #Ecuador\n",
    "        jugador = datos[1]\n",
    "        l_valores = []\n",
    "        valores = datos[2:] # [\"1\",\"0\",\"0\",\"75\",\"6.3\"]\n",
    "        for valor in valores:\n",
    "            l_valores.append(float(valor))\n",
    "        diccP = {}\n",
    "        diccP[jugador]= tuple(l_valores)\n",
    "        if pais not in dicc:\n",
    "            dicc[pais] = diccP\n",
    "        else:\n",
    "            dicc[pais].update(diccP)\n",
    "    return dicc\n",
    "            \n",
    "        \n",
    "        \n",
    "CrearDicc(informacion)\n",
    "    "
   ]
  },
  {
   "cell_type": "code",
   "execution_count": null,
   "id": "44391ac0",
   "metadata": {},
   "outputs": [],
   "source": []
  }
 ],
 "metadata": {
  "kernelspec": {
   "display_name": "Python 3",
   "language": "python",
   "name": "python3"
  },
  "language_info": {
   "codemirror_mode": {
    "name": "ipython",
    "version": 3
   },
   "file_extension": ".py",
   "mimetype": "text/x-python",
   "name": "python",
   "nbconvert_exporter": "python",
   "pygments_lexer": "ipython3",
   "version": "3.9.5"
  }
 },
 "nbformat": 4,
 "nbformat_minor": 5
}
