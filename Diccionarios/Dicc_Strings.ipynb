{
 "cells": [
  {
   "cell_type": "code",
   "execution_count": 1,
   "id": "e9b62ce8",
   "metadata": {},
   "outputs": [
    {
     "data": {
      "text/plain": [
       "'\\nJuan Carlos,20161547,Mate:100-90;Fisica:80-100|\\nLeticia Soledad,2015265,Biologia:70-90;Comunicacion:80-70|\\nPedro Josue,2017482,Mate:80-70;Comunicacion:90-70|\\nChristian Rodolfo,20168485,Quimica:80-60;Biologia:50-70|\\nJuan Carlos,201915675,Biologia:90-90;Fisica:60-70\\n'"
      ]
     },
     "execution_count": 1,
     "metadata": {},
     "output_type": "execute_result"
    }
   ],
   "source": [
    "\"\"\"\n",
    "estudiante1,matricula,materia1:nota1P-nota2P;materia2:nota1P-nota2P;....;materiaN:nota1P-nota2P\n",
    "|estudiante2,matricula,materia3:nota1P-nota2P;materia4:nota1P-nota2P;....;materiaN:nota1P-nota2P\n",
    "|estudiante3,matricula,materia1:nota1P-nota2P;materia4:nota1P-nota2P;....;materiaN:nota1P-nota2P\n",
    "|...\n",
    "|estudianteN,matriculaN,materia2:nota1P-nota2P;materia5:nota1P-nota2P;....;materiaN:nota1P-nota2P\n",
    "\"\"\"\n",
    "informacion = \"Juan Carlos,20161547,Mate:100-90;Fisica:80-100|Leticia Soledad,2015265,Biologia:70-90;Comunicacion:80-70|Pedro Josue,2017482,Mate:80-70;Comunicacion:90-70|Christian Rodolfo,20168485,Quimica:80-60;Biologia:50-70|Juan Carlos,201915675,Biologia:90-90;Fisica:60-70\"\n",
    "\"\"\"\n",
    "Juan Carlos,20161547,Mate:100-90;Fisica:80-100|\n",
    "Leticia Soledad,2015265,Biologia:70-90;Comunicacion:80-70|\n",
    "Pedro Josue,2017482,Mate:80-70;Comunicacion:90-70|\n",
    "Christian Rodolfo,20168485,Quimica:80-60;Biologia:50-70|\n",
    "Juan Carlos,201915675,Biologia:90-90;Fisica:60-70\n",
    "\"\"\""
   ]
  },
  {
   "cell_type": "code",
   "execution_count": 2,
   "id": "5dac3606",
   "metadata": {},
   "outputs": [
    {
     "name": "stdout",
     "output_type": "stream",
     "text": [
      "{'20161547': 'Juan Carlos', '2015265': 'Leticia Soledad', '2017482': 'Pedro Josue', '20168485': 'Christian Rodolfo', '201915675': 'Juan Carlos'}\n"
     ]
    }
   ],
   "source": [
    "# Crear una funcion Estudiantes(info) que reciba una cadena con el formato anterior y devuelva un diccionario con el siguiente formato\n",
    "#{Matricula:estudiante1,Matricula2:estudiante2,...,MatriculaN:estudianteN} \n",
    "informacion = \"Juan Carlos,20161547,Mate:100-90;Fisica:80-100|Leticia Soledad,2015265,Biologia:70-90;Comunicacion:80-70|Pedro Josue,2017482,Mate:80-70;Comunicacion:90-70|Christian Rodolfo,20168485,Quimica:80-60;Biologia:50-70|Juan Carlos,201915675,Biologia:90-90;Fisica:60-70\"\n",
    "def Estudiantes(informacion):\n",
    "    dicc= {}\n",
    "    estudiantes = informacion.split(\"|\")#[\"Juan Carlos,20161547,Mate:100-90;Fisica:80-100\",\"Leticia Soledad,2015265,Biologia:70-90;Comunicacion:80-70]\n",
    "    for datos in estudiantes: # [\"Juan Carlos\",\"0161547\",\"Mate:100-90;Fisica:80-100\"]\n",
    "        estudiante,matricula,materias = datos.split(\",\")\n",
    "        dicc[matricula]=estudiante\n",
    "    return dicc\n",
    "print(Estudiantes(informacion))"
   ]
  },
  {
   "cell_type": "code",
   "execution_count": 3,
   "id": "8b0b2aa5",
   "metadata": {},
   "outputs": [
    {
     "name": "stdout",
     "output_type": "stream",
     "text": [
      "{'20161547': 'Juan Carlos', '2015265': 'Leticia Soledad', '2017482': 'Pedro Josue', '20168485': 'Christian Rodolfo', '201915675': 'Juan Carlos'}\n"
     ]
    }
   ],
   "source": [
    "# Crear una funcion Estudiantes(info) que reciba una cadena con el formato anterior y devuelva un diccionario con el siguiente formato\n",
    "#{Matricula:estudiante1,Matricula2:estudiante2,...,MatriculaN:estudianteN} \n",
    "def Estudiantes(informacion):\n",
    "    dicc = {} # {\"20161547\":\"Juan Carlos\"}\n",
    "    info = informacion.split(\"|\") # ['Juan Carlos,20161547,Mate:100-90;Fisica:80-100', 'Leticia Soledad,2015265,Biologia:70-90;Comunicacion:80-70'...\n",
    "    for datos in info: # 'Leticia Soledad,2015265,Biologia:70-90;Comunicacion:80-70'\n",
    "        #estudiante,matricula,materias = datos.spilt(\",\") # ['Leticia Soledad', '2015265', 'Biologia:70-90;Comunicacion:80-70']\n",
    "        datos = datos.split(\",\") # ['Leticia Soledad', '2015265', 'Biologia:70-90;Comunicacion:80-70']\n",
    "        estudiante = datos[0] # \"Juan Carlos\"\n",
    "        matricula = datos[1] # \"20161547\"\n",
    "        \n",
    "        dicc[matricula] = estudiante\n",
    "    return dicc\n",
    "        \n",
    "    \n",
    "dicc = Estudiantes(informacion)\n",
    "print(dicc)\n",
    "    "
   ]
  },
  {
   "cell_type": "code",
   "execution_count": null,
   "id": "66bd93a7",
   "metadata": {},
   "outputs": [],
   "source": [
    "# Crear un funcion estudiantesPorMateria que reciba una cadena con el formato anterior\n",
    "# y devuelva un diccionario con el siguiente formato\n",
    "#{\"Mate\":[\"Juan Carlos\",\"Pedro Jouse\"]}\n",
    "\"\"\"\n",
    "estudiante1,matricula,materia1:nota1P-nota2P;materia2:nota1P-nota2P;....;materiaN:nota1P-nota2P\n",
    "|estudiante2,matricula,materia3:nota1P-nota2P;materia4:nota1P-nota2P;....;materiaN:nota1P-nota2P\n",
    "|estudiante3,matricula,materia1:nota1P-nota2P;materia4:nota1P-nota2P;....;materiaN:nota1P-nota2P\n",
    "|...\n",
    "|estudianteN,matriculaN,materia2:nota1P-nota2P;materia5:nota1P-nota2P;....;materiaN:nota1P-nota2P\n",
    "\"\"\"\n",
    "informacion = \"Juan Carlos,20161547,Mate:100-90;Fisica:80-100|Leticia Soledad,2015265,Biologia:70-90;Comunicacion:80-70|Pedro Josue,2017482,Mate:80-70;Comunicacion:90-70|Christian Rodolfo,20168485,Quimica:80-60;Biologia:50-70|Juan Carlos,201915675,Biologia:90-90;Fisica:60-70\"\n",
    "\"\"\"\n",
    "Juan Carlos,20161547,Mate:100-90;Fisica:80-100|\n",
    "Leticia Soledad,2015265,Biologia:70-90;Comunicacion:80-70;Mate:70-80|\n",
    "Pedro Josue,2017482,Mate:80-70;Comunicacion:90-70|\n",
    "Christian Rodolfo,20168485,Quimica:80-60;Biologia:50-70|\n",
    "Juan Carlos,201915675,Biologia:90-90;Fisica:60-70\n",
    "\"\"\"\n",
    "# Crear un funcion estudiantesPorMateria que reciba una cadena con el formato anterior\n",
    "# y devuelva un diccionario con el siguiente formato\n",
    "#{\"Mate\":[\"Juan Carlos\",\"Pedro Jouse\"],\"Fisica\":[juan carlos]}\n",
    "def estudiantesPorMateria(informacion):\n",
    "    dicc={}\n",
    "    info=informacion.split(\"|\")\n",
    "    for datos in info:\n",
    "        dato = datos.split(\",\")#[Juan Carlos,20161547,Mate:100-90;Fisica:80-100]\n",
    "        estudiante = dato[0] # Juan Carlos\n",
    "        materias=dato[2].split(\";\")#[Mate:100-90,Fisica:80-100]\n",
    "        for materia in materias:#Mate:100-90\n",
    "            materia,nota= materia.split(\":\")\n",
    "            if materia not in dicc:\n",
    "                dicc[materia]=[estudiante]\n",
    "            else:\n",
    "                dicc[materia].append(estudiante)\n",
    "    return dicc\n",
    "estudiantesPorMateria(informacion)"
   ]
  },
  {
   "cell_type": "code",
   "execution_count": null,
   "id": "6a33f264",
   "metadata": {},
   "outputs": [],
   "source": [
    "# Crear un funcion estudiantesPorMateria que reciba una cadena con el formato anterior\n",
    "# y devuelva un diccionario con el siguiente formato\n",
    "#{\"Mate\":[\"Juan Carlos\",\"Pedro Jouse\"]}\n",
    "\n",
    "def estudiantesPorMateria(informacion):\n",
    "    dicc_Materias = dict()#\n",
    "    info = informacion.split(\"|\")\n",
    "    for datos in info: #\n",
    "        datos = datos.split(\",\") #\n",
    "        #nombre,matricula,materias = datos.split(\",\")\n",
    "        materias = datos[2]\n",
    "        nombre = datos[0]\n",
    "        l_materias = materias.split(\";\") # [Mate:100-90,Fisica:80-100]\n",
    "        for materia in l_materias:\n",
    "            materia,notas = materia.split(\":\") # [Mate,100-90] # materia = Mate\n",
    "            if materia not in dicc_Materias:\n",
    "                dicc_Materias[materia]= [nombre]\n",
    "            else:\n",
    "                dicc_Materias[materia].append(nombre)\n",
    "    return dicc_Materias\n",
    "\n",
    "dicc = estudiantesPorMateria(informacion)\n",
    "print(dicc)                \n",
    "        \n",
    "    "
   ]
  },
  {
   "cell_type": "code",
   "execution_count": null,
   "id": "a8d4874a",
   "metadata": {},
   "outputs": [],
   "source": [
    "# Crear una funcion notaFinalXMatricula que recibe una cadena\n",
    "# y devuelve un diccionario con el sgt formato\n",
    "#{\"matricula1\":[(materia1,promNota)]}\n",
    "# promNota = (nota1+nota2)/2 para cada materia\n",
    "def notaFinalXMatricula(informacion):\n",
    "    diccionario = {}\n",
    "    info = informacion.split(\"|\")\n",
    "    for datos in info:\n",
    "        datos = datos.split(\",\")\n",
    "        matricula = datos[1]\n",
    "        materia = datos [2]\n",
    "        l_materia = materia.split(\";\")\n",
    "        for materia in l_materia:\n",
    "            materia,notas =materia.split(\":\") # materia = Fisica, notas = \"100-90\"\n",
    "            notas = notas.split(\"-\") #[\"100\",\"90\"]\n",
    "            nota1 = int(notas[0]) # 100\n",
    "            nota2 = int(notas[1])\n",
    "            promFinal = (nota1+nota2)/2\n",
    "            if matricula not in diccionario:\n",
    "                diccionario[matricula]= [(materia, promFinal)]\n",
    "            else:\n",
    "                diccionario[matricula].append((materia, promFinal))\n",
    "    return diccionario\n",
    "dicc=notaFinalXMatricula(informacion)\n",
    "print(dicc)\n",
    "\n",
    "            "
   ]
  },
  {
   "cell_type": "code",
   "execution_count": null,
   "id": "4459ed1c",
   "metadata": {},
   "outputs": [],
   "source": [
    "# Crer un funcion Top3Estudiantes que recibe una cadena \n",
    "# y muestre los tres nombres de los estudiantes con mejor promGeneral\n",
    "# promGeneral es la suma del promedio de todas las materias dividadas para la cantidad de materias del estudiante\n",
    "def Top3Estudiantes(informacion):\n",
    "    notasMatriculas = notaFinalXMatricula(informacion)\n",
    "    estudiantes = Estudiantes(informacion)\n",
    "    # iterar por clave\n",
    "    #for matricula in notasMatriculas:\n",
    "        #materias = notasMatriculas[matricula]\n",
    "    # terar por clave,valor\n",
    "    lista= []\n",
    "    for matricula,materias in notasMatriculas.items():\n",
    "        notas= []\n",
    "        for materia,nota in materias:\n",
    "            notas.append(nota)\n",
    "        promGeneral = sum(notas)/len(notas)\n",
    "        nombre = estudiantes[matricula]\n",
    "        lista.append((promGeneral,nombre))\n",
    "    print(lista)\n",
    "    lista.sort(reverse=True)\n",
    "    print(lista)\n",
    "    return lista[:3]\n",
    "print(Top3Estudiantes(informacion))"
   ]
  },
  {
   "cell_type": "code",
   "execution_count": null,
   "id": "0befafa9",
   "metadata": {},
   "outputs": [],
   "source": [
    "# Crer un funcion Top3Estudiantes que recibe una cadena \n",
    "# y muestre los tres nombres de los estudiantes con mejor promGeneral\n",
    "# promGeneral es la suma del promedio de todas las materias dividadas para la cantidad de materias del estudiante\n",
    "def Top3Estudiantes(informacion):\n",
    "    diccXMatricula = notaFinalxMatricula(informacion)\n",
    "    diccEstudiantes = Estudiantes(informacion)#{'20161547':\"Juan Carlos\"}\n",
    "    lista = []\n",
    "    for matricula,materias in diccXMatricula.items():#matricula = '20161547' # materias = [('Mate', 95.0), ('Fisica', 90.0)]\n",
    "        notas= [] #[95.0,90.0]\n",
    "        for materia in materias: #  ('Fisica', 90.0)\n",
    "            nota = materia[1]\n",
    "            notas.append(nota)\n",
    "        promGeneral = sum(notas)/len(notas)\n",
    "        tupla = (promGeneral,matricula)\n",
    "        lista.apped(tupla)\n",
    "    lista.sort(reverse = True) # mayor a menor\n",
    "    top3 = lista[:3]#[]"
   ]
  },
  {
   "cell_type": "code",
   "execution_count": null,
   "id": "415e1109",
   "metadata": {},
   "outputs": [],
   "source": [
    "# Diccionarios dentros de Diccionarios 2 nivel\n",
    "#{materia1:{matricula1:notaFinal,matricula2:notafinal}\n",
    "# materia2:{matricula3:notafinal,matricula4:notafinal}}\n",
    "def CrearDicc(informacion):\n",
    "    dicc= {}\n",
    "    info = informacion.split(\"|\")\n",
    "    for datos in info:\n",
    "        nomEst,matricula,materias = datos.split(\",\")\n",
    "        materias = materias.split(\";\")#[Mate:100-90,Fisica:80-100]\n",
    "        for materia in materias:# Mate:100-90\n",
    "            materia,notas = materia.split(\":\")\n",
    "            notas = notas.split(\"-\")\n",
    "            nota1 = int(notas[0])\n",
    "            nota2 = int(notas[1])\n",
    "            notafinal = (nota1+nota2)/2\n",
    "            diccP = {matricula:notafinal}\n",
    "            if materia not in dicc:\n",
    "                dicc[materia] = diccP\n",
    "            else:\n",
    "                dicc[materia].update(diccP)\n",
    "    return dicc\n",
    "print(CrearDicc(informacion))"
   ]
  },
  {
   "cell_type": "code",
   "execution_count": null,
   "id": "46ac4e29",
   "metadata": {},
   "outputs": [],
   "source": [
    "# Diccionarios dentros de Diccionarios\n",
    "#{materia1:{matricula1:notaFinal,matricula2:notafinal}\n",
    "# materia2:{matricula3:notafinal,matricula4:notafinal}}\n",
    "def crearDicc(informacion):\n",
    "    dicc = dict() #{\"mate\":{2017684:95}}\n",
    "    info = informacion.split(\"|\")\n",
    "    for datos in info:\n",
    "        datos = datos.split(\",\")\n",
    "        matricula = datos[1]\n",
    "        materias = datos[2].split(\";\") #[Mate:100-90,Fisica:80-100]\n",
    "        for materia in materias: # \"Mate:100-90\"\n",
    "            diccPequeño = {}# {2017684:95}\n",
    "            materia,notas = materia.split(\":\") # materia =\"Mate\" # notas = \"100-90\"\n",
    "            notas= notas.split(\"-\")\n",
    "            nota1 = int(notas[0])#\"100\"\n",
    "            nota2 = int(notas[1])\n",
    "            promFinal = (nota1+nota2)/2\n",
    "            diccPequeño[matricula] = promFinal\n",
    "            if materia not in dicc:\n",
    "                dicc[materia]= diccPequeño\n",
    "            else:\n",
    "                dicc[materia].update(diccPequeño)\n",
    "    return dicc\n",
    "dicc= crearDicc(informacion)\n",
    "print(dicc)         \n",
    "        "
   ]
  },
  {
   "cell_type": "code",
   "execution_count": null,
   "id": "3e1b429f",
   "metadata": {},
   "outputs": [],
   "source": []
  }
 ],
 "metadata": {
  "kernelspec": {
   "display_name": "Python 3",
   "language": "python",
   "name": "python3"
  },
  "language_info": {
   "codemirror_mode": {
    "name": "ipython",
    "version": 3
   },
   "file_extension": ".py",
   "mimetype": "text/x-python",
   "name": "python",
   "nbconvert_exporter": "python",
   "pygments_lexer": "ipython3",
   "version": "3.9.5"
  }
 },
 "nbformat": 4,
 "nbformat_minor": 5
}
