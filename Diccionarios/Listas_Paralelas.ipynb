{
 "cells": [
  {
   "cell_type": "markdown",
   "id": "daaca5c2",
   "metadata": {},
   "source": [
    "# ordenar listas paralelas"
   ]
  },
  {
   "cell_type": "code",
   "execution_count": 1,
   "id": "c4a9fcdf",
   "metadata": {},
   "outputs": [],
   "source": [
    "nombres= [\"pepe\",\"jose\",\"maria\"]\n",
    "notas= [8,8,9]\n",
    "edades= [15,15,16]"
   ]
  },
  {
   "cell_type": "code",
   "execution_count": 3,
   "id": "7d7357aa",
   "metadata": {},
   "outputs": [
    {
     "data": {
      "text/plain": [
       "[(16, 9, 'maria'), (15, 8, 'pepe'), (15, 7, 'jose')]"
      ]
     },
     "execution_count": 3,
     "metadata": {},
     "output_type": "execute_result"
    }
   ],
   "source": [
    "# ordenar de mayor a menor por nota y mostrar los nombre\n",
    "# iterarlo por elmento y sacar luego el indice\n",
    "lista = [] # [(8, 'pepe'), (7, 'jose'), (9, 'maria')]\n",
    "for nombre in nombres: # jose\n",
    "    ind = nombres.index(nombre) # 1\n",
    "    nota = notas[ind] # 7\n",
    "    edad = edades[ind]\n",
    "    tupla = (edad,nota,nombre)\n",
    "    lista.append(tupla)\n",
    "lista.sort(reverse=True) # \n",
    "lista\n"
   ]
  },
  {
   "cell_type": "code",
   "execution_count": null,
   "id": "5a51cff0",
   "metadata": {},
   "outputs": [],
   "source": [
    "lista = []\n",
    "# iterarlo por indices\n",
    "for i in range(len(nombres)):\n",
    "    nombre = nombres[i]\n",
    "    nota = notas[i]\n",
    "    tupla = (nota,nombre)\n",
    "    lista.append(tupla)\n",
    "lista.sort(reverse=True)\n",
    "print(lista)"
   ]
  },
  {
   "cell_type": "code",
   "execution_count": null,
   "id": "c4dd65e7",
   "metadata": {},
   "outputs": [],
   "source": []
  }
 ],
 "metadata": {
  "kernelspec": {
   "display_name": "Python 3",
   "language": "python",
   "name": "python3"
  },
  "language_info": {
   "codemirror_mode": {
    "name": "ipython",
    "version": 3
   },
   "file_extension": ".py",
   "mimetype": "text/x-python",
   "name": "python",
   "nbconvert_exporter": "python",
   "pygments_lexer": "ipython3",
   "version": "3.9.5"
  }
 },
 "nbformat": 4,
 "nbformat_minor": 5
}
