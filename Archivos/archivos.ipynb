{
 "cells": [
  {
   "cell_type": "code",
   "execution_count": null,
   "id": "876986ef",
   "metadata": {},
   "outputs": [],
   "source": [
    "# abrir un archivo\n",
    "#f = open(\"EcuVSUru.txt\",\"r\")\n",
    "# f.read(n)\n",
    "#pais = f.read(100)\n",
    "# f.readline()\n",
    "#f.readline() # saltar el encabezado\n",
    "#print(pais)\n",
    "#f.close()"
   ]
  },
  {
   "cell_type": "code",
   "execution_count": null,
   "id": "4cb74d58",
   "metadata": {
    "scrolled": true
   },
   "outputs": [],
   "source": [
    "# abrir un archivo\n",
    "f = open(\"EcuVSUru.txt\",\"r\")\n",
    "# f.readline()\n",
    "f.readline() # saltar el encabezado\n",
    "\n",
    "linea1 = f.readline()\n",
    "print(linea1)\n",
    "linea2 = f.readline()\n",
    "print(linea2)\n",
    "\n",
    "f.close()"
   ]
  },
  {
   "cell_type": "code",
   "execution_count": null,
   "id": "0ecd1997",
   "metadata": {
    "scrolled": true
   },
   "outputs": [],
   "source": [
    "file = open(\"EcuVSUru.txt\",\"r\")\n",
    "# file.readlines()\n",
    "file.readline()\n",
    "print(file.readlines())\n",
    "file.close()"
   ]
  },
  {
   "cell_type": "code",
   "execution_count": 1,
   "id": "78831c7d",
   "metadata": {},
   "outputs": [
    {
     "name": "stdout",
     "output_type": "stream",
     "text": [
      "{'Ecuador': {'Jose Cifuentes': (1.0, 0.0, 0.0, 75.0, 6.3), 'Leonardo Campana': (0.0, 0.0, 1.0, 87.0, 10.0)}, 'Uruguay': {'Sebastian Caceres': (2.0, 1.0, 0.0, 90.0, 7.0)}}\n"
     ]
    }
   ],
   "source": [
    "# 1. Abrir archivo\n",
    "dicc = {}\n",
    "with open(\"EcuVSUru.txt\",\"r\") as f:\n",
    "    #2. Saltar el encabezado si es que hay\n",
    "    f.readline() # \"Pais,Jugador,Tarjetas_Amarillas,Tarjetas_Rojas,Goles,Minutos,KM_recorridos\\n\"\n",
    "    # 3. Leer los datos\n",
    "    for linea in f: #\"Ecuador,Jose Cifuentes,1,0,0,75,6.3\\n\"\n",
    "        datos = linea.strip().split(\",\") # [Ecuador,Jose Cifuentes,\"1\",\"0\",\"0\",\"75\",\"6.3\"]\n",
    "        pais = datos[0] #Ecuador\n",
    "        jugador = datos[1]\n",
    "        l_valores = []\n",
    "        valores = datos[2:] # [\"1\",\"0\",\"0\",\"75\",\"6.3\"]\n",
    "        for valor in valores:\n",
    "            l_valores.append(float(valor))\n",
    "        diccP = {}\n",
    "        diccP[jugador]= tuple(l_valores)\n",
    "        if pais not in dicc:\n",
    "            dicc[pais] = diccP\n",
    "        else:\n",
    "            dicc[pais].update(diccP)\n",
    "print(dicc)\n",
    "            "
   ]
  },
  {
   "cell_type": "code",
   "execution_count": 11,
   "id": "e1613b2b",
   "metadata": {},
   "outputs": [],
   "source": [
    "f2 = open(\"archivo2.txt\",\"w\")\n",
    "f2.write(\"Hola Mundo\"+\"\\n\")\n",
    "f2.write(\"Bienvenidos a este curso\"+\"\\n\")\n",
    "lista = [\"pepe,\",\"jose,\",\"juan,\",\"maria\\n\"]\n",
    "notas = [\"9\",\"8\",\"7\",\"8\"]\n",
    "cadena = \",\".join(notas)\n",
    "f2.writelines(lista)\n",
    "f2.write(cadena+\"\\n\")\n",
    "f2.close()"
   ]
  },
  {
   "cell_type": "code",
   "execution_count": 12,
   "id": "928e330e",
   "metadata": {},
   "outputs": [],
   "source": [
    "# \"a\"\n",
    "f3 = open(\"archivo2.txt\",\"a\")\n",
    "f3.write(\"15,16,13,12\")\n",
    "f3.close()"
   ]
  },
  {
   "cell_type": "code",
   "execution_count": null,
   "id": "18c9e3be",
   "metadata": {},
   "outputs": [],
   "source": []
  }
 ],
 "metadata": {
  "kernelspec": {
   "display_name": "Python 3",
   "language": "python",
   "name": "python3"
  },
  "language_info": {
   "codemirror_mode": {
    "name": "ipython",
    "version": 3
   },
   "file_extension": ".py",
   "mimetype": "text/x-python",
   "name": "python",
   "nbconvert_exporter": "python",
   "pygments_lexer": "ipython3",
   "version": "3.9.5"
  }
 },
 "nbformat": 4,
 "nbformat_minor": 5
}
