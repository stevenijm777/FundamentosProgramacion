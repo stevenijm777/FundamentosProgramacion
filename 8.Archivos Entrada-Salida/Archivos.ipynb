{
 "cells": [
  {
   "cell_type": "code",
   "execution_count": null,
   "id": "de59221d",
   "metadata": {},
   "outputs": [],
   "source": [
    "# Escribir una funcion que reciba el nombre de un archivo e imprima los nombres de los jugadores\n",
    "def MostrarJugadores(nomArchivo):\n",
    "    f = open(nomArchivo)\n",
    "    # saltarse el encabeza si existe\n",
    "    f.readline() #saltamos encabezado\n",
    "    f.readline()\n",
    "    #encabezado = f.readline().strip().split(\",\")\n",
    "    for linea in f: #\"Ecuador,Jose Cifuentes,1,0,0,75,6.3\"\n",
    "        #eliminar el salto de linea\n",
    "        datos = linea.strip().split(\",\")\n",
    "        jugador = datos[1]\n",
    "        print(jugador)\n",
    "    f.close()\n",
    "# Escribir una funcion que recibe el nombre de un archivo y crea un archivo por cada jugador\n",
    "# , y en cada archivo se debe mostrar el pais y los goles metidos\n",
    "# con el formato\n",
    "#Pais: Ecuador\n",
    "#Goles Metidos: 2\n",
    "def ArchXjugador(nomArchivo):\n",
    "    with open(nomArchivo,\"r\") as f:\n",
    "        f.readline()\n",
    "        for linea in f:\n",
    "            datos = linea.strip().split(\",\")\n",
    "            jugador = datos[1]\n",
    "            pais = datos[0]\n",
    "            goles = datos[4]\n",
    "            w= open(jugador+\".txt\",\"w\")\n",
    "            linea1= \"Pais: \"+pais\n",
    "            w.write(linea1+\"\\n\")\n",
    "            w.write(\"Goles Metidos: \"+ goles)\n",
    "ArchXjugador(\"jugadores.txt\")\n",
    "\n",
    "\n",
    "MostrarJugadores(\"jugadores.txt\")"
   ]
  }
 ],
 "metadata": {
  "kernelspec": {
   "display_name": "Python 3",
   "language": "python",
   "name": "python3"
  },
  "language_info": {
   "codemirror_mode": {
    "name": "ipython",
    "version": 3
   },
   "file_extension": ".py",
   "mimetype": "text/x-python",
   "name": "python",
   "nbconvert_exporter": "python",
   "pygments_lexer": "ipython3",
   "version": "3.9.5"
  }
 },
 "nbformat": 4,
 "nbformat_minor": 5
}
