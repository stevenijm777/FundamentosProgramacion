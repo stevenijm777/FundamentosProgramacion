{
 "cells": [
  {
   "cell_type": "code",
   "execution_count": 1,
   "id": "b45f3c7b",
   "metadata": {},
   "outputs": [],
   "source": [
    "import os"
   ]
  },
  {
   "cell_type": "code",
   "execution_count": 3,
   "id": "5613069c",
   "metadata": {},
   "outputs": [
    {
     "name": "stdout",
     "output_type": "stream",
     "text": [
      "el archivo no existe\n"
     ]
    }
   ],
   "source": [
    "# Eliminar un archivo verificando si existe\n",
    "if os.path.exists(\"archivo.txt\"):\n",
    "    os.remove(\"aechivo.txt\")\n",
    "else: \n",
    "    print(\"el archivo no existe\")"
   ]
  },
  {
   "cell_type": "code",
   "execution_count": null,
   "id": "9f096dde",
   "metadata": {},
   "outputs": [],
   "source": [
    "# Eliminar un directrio\n",
    "os.rmdir('miCarpeta')"
   ]
  }
 ],
 "metadata": {
  "kernelspec": {
   "display_name": "Python 3 (ipykernel)",
   "language": "python",
   "name": "python3"
  },
  "language_info": {
   "codemirror_mode": {
    "name": "ipython",
    "version": 3
   },
   "file_extension": ".py",
   "mimetype": "text/x-python",
   "name": "python",
   "nbconvert_exporter": "python",
   "pygments_lexer": "ipython3",
   "version": "3.9.12"
  }
 },
 "nbformat": 4,
 "nbformat_minor": 5
}
