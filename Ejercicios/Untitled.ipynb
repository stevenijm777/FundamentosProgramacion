{
 "cells": [
  {
   "cell_type": "code",
   "execution_count": null,
   "id": "089a319a",
   "metadata": {},
   "outputs": [],
   "source": []
  },
  {
   "cell_type": "code",
   "execution_count": null,
   "id": "5e13a31f",
   "metadata": {},
   "outputs": [],
   "source": [
    "\"Con la ayuda de un grupo de amigos y de valientes aliados, Frodo emprende un peligroso viaje con la misión de destruir el Anillo Único. \\n Pero el Señor Oscuro Sauron, quien creara el Anillo, envía a sus servidores para perseguir al grupo. \\n Si Sauron lograra recuperar el Anillo, sería el final de la Tierra Media.\\n Ganadora de cuatro Oscars, este inmortal relato sobre el bien y el mal, la amistad y el sacrificio te transportará a un mundo más allá de tu imaginación.\""
   ]
  },
  {
   "cell_type": "code",
   "execution_count": 7,
   "id": "cf72a647",
   "metadata": {},
   "outputs": [
    {
     "data": {
      "text/plain": [
       "0"
      ]
     },
     "execution_count": 7,
     "metadata": {},
     "output_type": "execute_result"
    }
   ],
   "source": [
    "strin = [\"aaaa\", \"e ee\",\"  i\" , \"o\"  ,\"uuu\"]\n",
    "strin.count(\"aaa a\")"
   ]
  },
  {
   "cell_type": "code",
   "execution_count": null,
   "id": "4aa6baff",
   "metadata": {},
   "outputs": [],
   "source": [
    "def info_texto(texto):\n",
    "  oraciones = texto.split('\\n') #[\"asd sadasd sdasdas\",\"asdas asd asd a 2\"]\n",
    "  return oraciones"
   ]
  },
  {
   "cell_type": "code",
   "execution_count": null,
   "id": "123780a2",
   "metadata": {},
   "outputs": [],
   "source": [
    "def info_texto(texto):\n",
    "  oraciones = texto.split('\\n') #[\"asd sadasd sdasdas\",\"asdas asd asd a 2\"]\n",
    "  return oraciones\n",
    "\n",
    "def contarOraciones(oraciones):\n",
    "  canti_orac = len(oraciones)\n",
    "  return canti_orac\n",
    "\n",
    "def ocurrenciasPalabras(texto,palabra):\n",
    "  oraciones = info_texto(texto)\n",
    "  cant_palab = oraciones.count(palabra)\n",
    "  return cant_palab\n",
    "\n",
    "def ocurrenciasLinea(texto,palabra):  \n",
    "  pass\n",
    "\n",
    "\n",
    "\n",
    "\n",
    "def porcentajeOcurrencia(texto,palabra,):\n",
    "  oraciones = info_texto(texto)\n",
    "  cant_palab = ocurrenciasPalabras(texto,palabra)\n",
    "  canti_orac = contarOraciones(oraciones)\n",
    "  porcentaje = cant_palab/canti_orac*100\n",
    "\n",
    "\n",
    "\n",
    "\n"
   ]
  },
  {
   "cell_type": "code",
   "execution_count": null,
   "id": "f2925c22",
   "metadata": {
    "scrolled": true
   },
   "outputs": [],
   "source": [
    "texto = \"Con la ayuda de un grupo de amigos y de valientes aliados, Frodo emprende un peligroso viaje con la misión de destruir el Anillo Único. \\n Pero el Señor Oscuro Sauron, quien creara el Anillo, envía a sus servidores para perseguir al grupo. \\n Si Sauron lograra recuperar el Anillo, sería el final de la Tierra Media.\\n Ganadora de cuatro Oscars, este inmortal relato sobre el bien y el mal, la amistad y el sacrificio te transportará a un mundo más allá de tu imaginación.\"\n"
   ]
  },
  {
   "cell_type": "code",
   "execution_count": null,
   "id": "d359610d",
   "metadata": {},
   "outputs": [],
   "source": [
    "#Con la ayuda de un grupo de amigos y de valientes aliados, Frodo emprende un peligroso viaje con la misión de destruir el Anillo Único. Pero el Señor Oscuro Sauron, quien creara el Anillo, envía a sus servidores para perseguir al grupo. Si Sauron lograra recuperar el Anillo, sería el final de la Tierra Media. Ganadora de cuatro Oscars, este inmortal relato sobre el bien y el mal, la amistad y el sacrificio te transportará a un mundo más allá de tu imaginación.\n",
    "palabra = input('Ingrese una palabra (perteneciente al texto): ')"
   ]
  },
  {
   "cell_type": "code",
   "execution_count": null,
   "id": "7abce4a3",
   "metadata": {
    "scrolled": true
   },
   "outputs": [],
   "source": [
    "info_texto(texto)"
   ]
  },
  {
   "cell_type": "code",
   "execution_count": 16,
   "id": "a068ea34",
   "metadata": {
    "scrolled": true
   },
   "outputs": [
    {
     "data": {
      "text/plain": [
       "[1, 3]"
      ]
     },
     "execution_count": 16,
     "metadata": {},
     "output_type": "execute_result"
    }
   ],
   "source": [
    "s =[]\n",
    "s.extend([1,3])\n",
    "s"
   ]
  },
  {
   "cell_type": "code",
   "execution_count": null,
   "id": "c8e5e446",
   "metadata": {},
   "outputs": [],
   "source": []
  }
 ],
 "metadata": {
  "kernelspec": {
   "display_name": "Python 3",
   "language": "python",
   "name": "python3"
  },
  "language_info": {
   "codemirror_mode": {
    "name": "ipython",
    "version": 3
   },
   "file_extension": ".py",
   "mimetype": "text/x-python",
   "name": "python",
   "nbconvert_exporter": "python",
   "pygments_lexer": "ipython3",
   "version": "3.9.5"
  }
 },
 "nbformat": 4,
 "nbformat_minor": 5
}
