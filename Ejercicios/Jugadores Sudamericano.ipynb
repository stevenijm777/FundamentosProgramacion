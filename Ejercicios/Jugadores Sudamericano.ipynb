{
 "cells": [
  {
   "cell_type": "markdown",
   "id": "84ed280e",
   "metadata": {},
   "source": [
    "# 3Eva_IIT2018_T2 Jugadores Sudamericano Sub-20"
   ]
  },
  {
   "cell_type": "markdown",
   "id": "91b546e4",
   "metadata": {},
   "source": [
    "6. Realizae un archico por cada pais(pais.txt), con la sigt informacion:\n",
    "\n",
    "a. Porcentaje de jugadores atletas. es decir e número de jugadores atletas dividido para el total de jugadores del país.\n",
    "\n",
    "b. Goles por Km recorrido, es decir el número de goles del país dividido para el total de Km recorridos por todos sus jugadores\n"
   ]
  },
  {
   "cell_type": "code",
   "execution_count": null,
   "id": "5563b5be",
   "metadata": {},
   "outputs": [],
   "source": [
    "# ProgramaPrincipal\n",
    "L = ['br-ur.csv', ...,'ec-vn.csv'] # lista delos nombres de los archivos por partido\n",
    "dicc = {}\n",
    "for nomArchivo in L:\n",
    "  dicc = actualizaDiccionario(nomArchivo,dicc)\n",
    "for pais in dicc:\n",
    "    with open(pais+\".txt\",\"w\") as f:\n",
    "        goles = [1,3,4]\n",
    "        l_km = []\n",
    "        for jugador in dicc[pais]:\n",
    "            gol = dic[pais][jugador][\"goles\"]\n",
    "            km = dic[pais][jugador][\"KM\"]\n",
    "            goles.append(gol)\n",
    "            l_km.append(km)\n",
    "        total = sum(goles)/sum(l_km)\n",
    "        f.write(\"Goles por km son: {}\".format(total))\n",
    "        \n",
    "        "
   ]
  },
  {
   "cell_type": "code",
   "execution_count": null,
   "id": "5dd3d606",
   "metadata": {},
   "outputs": [],
   "source": [
    "# ProgramaPrincipal\n",
    "#L = ['br-ur.csv', ...,'ec-vn.csv'] # lista delos nombres de los archivos por partido\n",
    "L = [\"datos.txt\"]\n",
    "dic = {}\n",
    "for nomArchivo in L:\n",
    "  dic = actualizaDiccionario(nomArchivo,dic)\n",
    "for pais in dic:\n",
    "  with open(pais+\".txt\",\"w\") as f:\n",
    "  # Porcentaje de jugadores atletas. es decir e número de jugadores atletas dividido para el total de jugadores del país.\n",
    "    atletas=[]\n",
    "    for jugador in dic[pais]:\n",
    "      condicion =  JugadorAtleta(jugador,dic) # True\n",
    "      atletas.append(condicion)\n",
    "    num_Atletas = atletas.count(True)\n",
    "    porcentaje = num_Atletas/len(dic[pais])\n",
    "    f.write(\"Porcentajes de Jugadores Atletas: {}%\".format(porcentaje*100))"
   ]
  }
 ],
 "metadata": {
  "kernelspec": {
   "display_name": "Python 3",
   "language": "python",
   "name": "python3"
  },
  "language_info": {
   "codemirror_mode": {
    "name": "ipython",
    "version": 3
   },
   "file_extension": ".py",
   "mimetype": "text/x-python",
   "name": "python",
   "nbconvert_exporter": "python",
   "pygments_lexer": "ipython3",
   "version": "3.9.5"
  }
 },
 "nbformat": 4,
 "nbformat_minor": 5
}
