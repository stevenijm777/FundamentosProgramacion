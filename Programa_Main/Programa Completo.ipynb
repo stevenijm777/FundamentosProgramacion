{
 "cells": [
  {
   "cell_type": "markdown",
   "id": "ccecdeb5",
   "metadata": {},
   "source": [
    "#Tema 4. Escriba un programa para una aplicación de manejo de un archivo con datos de estudiantes.\n",
    "\n",
    "#Los datos que se almacenan en el archivo incluyen:\n",
    "'''\n",
    "Archivo:\n",
    "estudiante\tmateria\tcalificación\n",
    "\n",
    "Código del estudiante (entero de 5 dígitos)\n",
    "Código de la materia (entero de 5 dígitos)\n",
    "Calificación obtenida por el estudiante en la materia (entero de 3 dígitos)'''\n",
    "\n",
    "#El programa debe pedir un nombre para el archivo, abrirlo para agregar datos y ofrecer las siguientes opciones mediante un menú:'''\n",
    "\n"
   ]
  },
  {
   "cell_type": "code",
   "execution_count": null,
   "id": "eb3cb9ac",
   "metadata": {},
   "outputs": [],
   "source": [
    "def hacerArchivo(nombreArchi,codi_estu,codi_mate,calificacion,cont):\n",
    "  f = open(nombreArchi,\"a\")\n",
    "  if cont ==0:\n",
    "    f.write('estudiante   materia   calificación \\n')\n",
    "  f.write('{:<12} {:^10}  {:>15}\\n'.format(codi_estu,codi_estu,calificacion))\n",
    "  f.close() \n",
    "def menu():\n",
    "    #mostrar el menu\n",
    "    print(\"\"\"\n",
    "Menu:\n",
    "1. Ingreso de un nuevo dato\n",
    "2. Dado el código de un estudiante, mostrar sus materias y calificaciones\n",
    "3. Dado el código de una materia, mostrar cada estudiante que la toma y su calificación\n",
    "4. Salir'\n",
    "    \"\"\")\n",
    "\n",
    "def mostrarEstudiante(nombre,nomArchivo):\n",
    "  with open(nomArchivo,\"r\") as f:\n",
    "    f.readline()\n",
    "    for linea in f:\n",
    "        datos = linea.strip().split()\n",
    "        estudiante = int(datos[0])\n",
    "        materia = int(datos[1])\n",
    "        if nombre == estudiante:\n",
    "          print(materia)"
   ]
  },
  {
   "cell_type": "markdown",
   "id": "45b314ab",
   "metadata": {},
   "source": [
    "# Hacer un menu"
   ]
  },
  {
   "cell_type": "code",
   "execution_count": null,
   "id": "62a68dab",
   "metadata": {},
   "outputs": [],
   "source": [
    "def menu():\n",
    "    #mostrar el menu\n",
    "    print(\"\"\"\n",
    "Menu:\n",
    "1. Ingreso de un nuevo dato\n",
    "2. Dado el código de un estudiante, mostrar sus materias y calificaciones\n",
    "3. Dado el código de una materia, mostrar cada estudiante que la toma y su calificación\n",
    "4. Salir'\n",
    "    \"\"\")"
   ]
  },
  {
   "cell_type": "code",
   "execution_count": null,
   "id": "c2047aa7",
   "metadata": {},
   "outputs": [],
   "source": [
    "menu()"
   ]
  },
  {
   "cell_type": "code",
   "execution_count": null,
   "id": "77a0aa38",
   "metadata": {},
   "outputs": [],
   "source": [
    "# Programa principal\n",
    "nombArchivo = input('Ingrese un nombre para su archivo (.txt):  ')\n",
    "menu()\n",
    "cont = 0\n",
    "op = int(input(\"Ingrese una opcion: \")) # 1\n",
    "while op !=4:\n",
    "    if op ==1:\n",
    "        estudiante = int(input('Ingrese el codigo del estudiante: '))\n",
    "        materia = int(input('Ingrese el codigo de la materia: '))\n",
    "        calificacion = int(input('Ingrese la calificacion de la materia: '))\n",
    "        hacerArchivo(nombArchivo,estudiante,materia,calificacion, cont)\n",
    "        cont+=1\n",
    "    elif op == 2:\n",
    "        nombre = int(input('Ingrese el codigo del estudiante: '))\n",
    "        mostrarEstudiante(nombre, nombArchivo)\n",
    "    menu()\n",
    "    op = int(input(\"Ingrese una opcion: \"))\n",
    "\n",
    "print(\"Fin del progama\")    \n"
   ]
  },
  {
   "cell_type": "code",
   "execution_count": null,
   "id": "a8cdd269",
   "metadata": {},
   "outputs": [],
   "source": []
  }
 ],
 "metadata": {
  "kernelspec": {
   "display_name": "Python 3",
   "language": "python",
   "name": "python3"
  },
  "language_info": {
   "codemirror_mode": {
    "name": "ipython",
    "version": 3
   },
   "file_extension": ".py",
   "mimetype": "text/x-python",
   "name": "python",
   "nbconvert_exporter": "python",
   "pygments_lexer": "ipython3",
   "version": "3.9.5"
  }
 },
 "nbformat": 4,
 "nbformat_minor": 5
}
