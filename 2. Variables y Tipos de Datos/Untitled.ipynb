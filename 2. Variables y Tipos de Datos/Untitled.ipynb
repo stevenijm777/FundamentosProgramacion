{
 "cells": [
  {
   "cell_type": "markdown",
   "id": "c1a57558",
   "metadata": {},
   "source": [
    "# Format\n",
    "* Es una mejora del método de concatenación usando sustitución.\n",
    "* Retorna una cadena de caracteres sustituyendo los {} por los argumentos correspondientes."
   ]
  },
  {
   "cell_type": "code",
   "execution_count": null,
   "id": "42fce3d4",
   "metadata": {},
   "outputs": [],
   "source": [
    "print(\"el valor es :\",215465/465)"
   ]
  },
  {
   "cell_type": "code",
   "execution_count": null,
   "id": "158c08da",
   "metadata": {},
   "outputs": [],
   "source": [
    "estudiante = \"Alison\"\n",
    "años = 3\n",
    "print(\"{} estudia en Espol y tiene {} años estudiando\".format(estudiante,años))"
   ]
  },
  {
   "cell_type": "code",
   "execution_count": 5,
   "id": "26812f28",
   "metadata": {},
   "outputs": [
    {
     "name": "stdout",
     "output_type": "stream",
     "text": [
      "2.912\n",
      "Precio final 2.9\n"
     ]
    }
   ],
   "source": [
    "valor = 2.60\n",
    "iva = 0.12\n",
    "total = valor +(valor*iva)\n",
    "print(total)\n",
    "print(\"Precio final {:.1f}\".format(total))"
   ]
  },
  {
   "cell_type": "code",
   "execution_count": null,
   "id": "c96da405",
   "metadata": {},
   "outputs": [],
   "source": []
  }
 ],
 "metadata": {
  "kernelspec": {
   "display_name": "Python 3 (ipykernel)",
   "language": "python",
   "name": "python3"
  },
  "language_info": {
   "codemirror_mode": {
    "name": "ipython",
    "version": 3
   },
   "file_extension": ".py",
   "mimetype": "text/x-python",
   "name": "python",
   "nbconvert_exporter": "python",
   "pygments_lexer": "ipython3",
   "version": "3.9.12"
  }
 },
 "nbformat": 4,
 "nbformat_minor": 5
}
