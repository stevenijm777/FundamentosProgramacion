{
 "cells": [
  {
   "cell_type": "code",
   "execution_count": 6,
   "id": "af5ae9f8",
   "metadata": {},
   "outputs": [],
   "source": [
    "junio = ['Facebook-10Megas',\n",
    "         'Spotify-55Megas',\n",
    "         'Spotify-112Megas',\n",
    "         'Whatsapp-12Megas'\n",
    "         ]"
   ]
  },
  {
   "cell_type": "markdown",
   "id": "360de486",
   "metadata": {},
   "source": [
    "#### Muestre por pantalla la cantidad de “Megas” que ha utilizado durante el mes por cada aplicación."
   ]
  },
  {
   "cell_type": "code",
   "execution_count": 12,
   "id": "0b983795",
   "metadata": {},
   "outputs": [],
   "source": [
    "apps = [] # [\"facebook\", \"S\"]\n",
    "megas = []# [10, 167]\n",
    "# iterar por elemento una secuencia\n",
    "for elem in junio:#\"Whatsapp-12Megas\"\n",
    "    datos = elem.split(\"-\") # ['Spotify', '55Megas']\n",
    "    app = datos[0] # 'Spotify'\n",
    "    mega = int(datos[1][:-5]) # 112\n",
    "    if app not in apps:    \n",
    "        apps.append(app)\n",
    "        megas.append(mega)\n",
    "    else:\n",
    "        ind = apps.index(app) # 1\n",
    "        megas[ind] += mega\n",
    "    "
   ]
  },
  {
   "cell_type": "code",
   "execution_count": 13,
   "id": "ab27fa82",
   "metadata": {
    "scrolled": true
   },
   "outputs": [
    {
     "name": "stdout",
     "output_type": "stream",
     "text": [
      "['Facebook', 'Spotify', 'Whatsapp']\n",
      "[10, 167, 12]\n"
     ]
    }
   ],
   "source": [
    "print(apps)\n",
    "print(megas)"
   ]
  },
  {
   "cell_type": "code",
   "execution_count": 4,
   "id": "363e0ea8",
   "metadata": {
    "scrolled": true
   },
   "outputs": [
    {
     "data": {
      "text/plain": [
       "['Spotify', '55Megas']"
      ]
     },
     "execution_count": 4,
     "metadata": {},
     "output_type": "execute_result"
    }
   ],
   "source": [
    "\"Spotify-55Megas\".split(\"-\")"
   ]
  },
  {
   "cell_type": "code",
   "execution_count": 2,
   "id": "1c33a73a",
   "metadata": {},
   "outputs": [
    {
     "data": {
      "text/plain": [
       "'10'"
      ]
     },
     "execution_count": 2,
     "metadata": {},
     "output_type": "execute_result"
    }
   ],
   "source": [
    "'10Megas'[:-5]"
   ]
  },
  {
   "cell_type": "code",
   "execution_count": 3,
   "id": "8ebd2449",
   "metadata": {},
   "outputs": [
    {
     "data": {
      "text/plain": [
       "'10'"
      ]
     },
     "execution_count": 3,
     "metadata": {},
     "output_type": "execute_result"
    }
   ],
   "source": [
    "\"10Megas\".strip(\"Megas\")"
   ]
  },
  {
   "cell_type": "code",
   "execution_count": 5,
   "id": "4d3eaf88",
   "metadata": {},
   "outputs": [
    {
     "data": {
      "text/plain": [
       "'55112'"
      ]
     },
     "execution_count": 5,
     "metadata": {},
     "output_type": "execute_result"
    }
   ],
   "source": [
    "\"55\"+\"112\""
   ]
  },
  {
   "cell_type": "code",
   "execution_count": null,
   "id": "be4391ea",
   "metadata": {},
   "outputs": [],
   "source": []
  }
 ],
 "metadata": {
  "kernelspec": {
   "display_name": "Python 3 (ipykernel)",
   "language": "python",
   "name": "python3"
  },
  "language_info": {
   "codemirror_mode": {
    "name": "ipython",
    "version": 3
   },
   "file_extension": ".py",
   "mimetype": "text/x-python",
   "name": "python",
   "nbconvert_exporter": "python",
   "pygments_lexer": "ipython3",
   "version": "3.9.12"
  }
 },
 "nbformat": 4,
 "nbformat_minor": 5
}
