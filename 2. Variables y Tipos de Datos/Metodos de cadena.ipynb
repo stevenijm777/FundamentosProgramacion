{
 "cells": [
  {
   "cell_type": "markdown",
   "id": "d78c3503",
   "metadata": {},
   "source": [
    "https://uniwebsidad.com/libros/python/capitulo-6/metodos-de-formato"
   ]
  },
  {
   "cell_type": "code",
   "execution_count": 1,
   "id": "7f958665",
   "metadata": {},
   "outputs": [
    {
     "name": "stdout",
     "output_type": "stream",
     "text": [
      "Ingrese un nombre: Alison\n"
     ]
    }
   ],
   "source": [
    "nombre = input(\"Ingrese un nombre: \")"
   ]
  },
  {
   "cell_type": "markdown",
   "id": "9007ea2b",
   "metadata": {},
   "source": [
    "Alinear una cadena a la derecha con string.rjust(length, character)\n",
    "length: Requerido. La longitud de la cadena devuelta\n",
    "Character : Opcional. Un carácter para llenar el espacio que falta (a la izquierda de la cadena). \n",
    "El valor predeterminado es \"\" (espacio)."
   ]
  },
  {
   "cell_type": "code",
   "execution_count": 2,
   "id": "3ba75fbc",
   "metadata": {},
   "outputs": [
    {
     "name": "stdout",
     "output_type": "stream",
     "text": [
      "Mi nombre es: ---------Alison.\n"
     ]
    }
   ],
   "source": [
    "print(\"Mi nombre es: %s.\" %(nombre.rjust(15, \"-\")))"
   ]
  },
  {
   "cell_type": "code",
   "execution_count": 5,
   "id": "8ef3e0a2",
   "metadata": {},
   "outputs": [
    {
     "data": {
      "text/plain": [
       "'DanielaAvilaDanielaAvilaDanielaAvila'"
      ]
     },
     "execution_count": 5,
     "metadata": {},
     "output_type": "execute_result"
    }
   ],
   "source": [
    "nombre = \"Daniela\"\n",
    "apellido = \"Avila\"\n",
    "cadena = nombre+apellido\n",
    "3*cadena\n"
   ]
  },
  {
   "cell_type": "code",
   "execution_count": 5,
   "id": "26e6e71f",
   "metadata": {
    "scrolled": true
   },
   "outputs": [
    {
     "data": {
      "text/plain": [
       "'a'"
      ]
     },
     "execution_count": 5,
     "metadata": {},
     "output_type": "execute_result"
    }
   ],
   "source": [
    "vocales = \"aeiou\"\n",
    "min(vocales)"
   ]
  },
  {
   "cell_type": "code",
   "execution_count": 15,
   "id": "ce5356c6",
   "metadata": {
    "scrolled": false
   },
   "outputs": [
    {
     "data": {
      "text/plain": [
       "'noicamargorP'"
      ]
     },
     "execution_count": 15,
     "metadata": {},
     "output_type": "execute_result"
    }
   ],
   "source": [
    "palabra = \"Programacion\"\n",
    "palabra[::-1]"
   ]
  },
  {
   "cell_type": "code",
   "execution_count": 13,
   "id": "bdebf79d",
   "metadata": {},
   "outputs": [
    {
     "data": {
      "text/plain": [
       "'ndo'"
      ]
     },
     "execution_count": 13,
     "metadata": {},
     "output_type": "execute_result"
    }
   ],
   "source": [
    "cadena = \"Hola Mundo\"\n",
    "#cadana[star:Stop:step]\n",
    "cadena[-3:]"
   ]
  },
  {
   "cell_type": "code",
   "execution_count": 14,
   "id": "9a31595a",
   "metadata": {},
   "outputs": [],
   "source": [
    "cadena = \"bienvenidos a todos\""
   ]
  },
  {
   "cell_type": "code",
   "execution_count": 15,
   "id": "8cca6819",
   "metadata": {
    "scrolled": true
   },
   "outputs": [
    {
     "data": {
      "text/plain": [
       "'Bienvenidos a todos'"
      ]
     },
     "execution_count": 15,
     "metadata": {},
     "output_type": "execute_result"
    }
   ],
   "source": [
    "# str.capitalize\n",
    "cadena.capitalize()"
   ]
  },
  {
   "cell_type": "code",
   "execution_count": 17,
   "id": "6ef28d5e",
   "metadata": {
    "scrolled": false
   },
   "outputs": [
    {
     "data": {
      "text/plain": [
       "1"
      ]
     },
     "execution_count": 17,
     "metadata": {},
     "output_type": "execute_result"
    }
   ],
   "source": [
    "cadena.count(\"env\")"
   ]
  },
  {
   "cell_type": "code",
   "execution_count": 28,
   "id": "2803106d",
   "metadata": {},
   "outputs": [
    {
     "data": {
      "text/plain": [
       "True"
      ]
     },
     "execution_count": 28,
     "metadata": {},
     "output_type": "execute_result"
    }
   ],
   "source": [
    "string = \"usuario@gmail.com\"\n",
    "string.endswith(\"@gmail.com\")"
   ]
  },
  {
   "cell_type": "code",
   "execution_count": 31,
   "id": "2ba3d7ed",
   "metadata": {
    "scrolled": true
   },
   "outputs": [
    {
     "data": {
      "text/plain": [
       "True"
      ]
     },
     "execution_count": 31,
     "metadata": {},
     "output_type": "execute_result"
    }
   ],
   "source": [
    "sting = \"www.google.com\"\n",
    "sting.startswith(\"www\")"
   ]
  },
  {
   "cell_type": "code",
   "execution_count": 32,
   "id": "0a187e87",
   "metadata": {},
   "outputs": [
    {
     "data": {
      "text/plain": [
       "12"
      ]
     },
     "execution_count": 32,
     "metadata": {},
     "output_type": "execute_result"
    }
   ],
   "source": [
    "cadena.index(\"a\")"
   ]
  },
  {
   "cell_type": "code",
   "execution_count": 20,
   "id": "5533cbb9",
   "metadata": {},
   "outputs": [
    {
     "name": "stdout",
     "output_type": "stream",
     "text": [
      "Programacion\n",
      "Programacion\n",
      "\n"
     ]
    }
   ],
   "source": [
    "#La cadena repetida 5 veces separada por un enter\n",
    "cadena = \"Programacion\"\n",
    "cadena += \"\\n\"\n",
    "cadena += cadena\n",
    "print(cadena)\n"
   ]
  },
  {
   "cell_type": "code",
   "execution_count": null,
   "id": "a073ca48",
   "metadata": {},
   "outputs": [],
   "source": [
    "print(\"\")"
   ]
  }
 ],
 "metadata": {
  "kernelspec": {
   "display_name": "Python 3 (ipykernel)",
   "language": "python",
   "name": "python3"
  },
  "language_info": {
   "codemirror_mode": {
    "name": "ipython",
    "version": 3
   },
   "file_extension": ".py",
   "mimetype": "text/x-python",
   "name": "python",
   "nbconvert_exporter": "python",
   "pygments_lexer": "ipython3",
   "version": "3.9.12"
  }
 },
 "nbformat": 4,
 "nbformat_minor": 5
}
