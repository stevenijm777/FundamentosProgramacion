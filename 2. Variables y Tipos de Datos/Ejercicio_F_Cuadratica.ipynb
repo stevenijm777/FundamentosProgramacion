{
 "cells": [
  {
   "cell_type": "markdown",
   "id": "aa5c64db",
   "metadata": {},
   "source": [
    "### Escriba un programa que reciba tres valores a, b, c que representan los valores de una funcion cuadratica de la forma ax**2+bx+c=0 y obtenerlos los dos valores x posibles"
   ]
  },
  {
   "cell_type": "code",
   "execution_count": null,
   "id": "457c9f9e",
   "metadata": {},
   "outputs": [],
   "source": [
    "a=int(input(\"Ingrese un numero: \"))\n",
    "b=int(input(\"Ingrese un numero: \"))\n",
    "c=int(input(\"Ingrese un numero: \"))\n"
   ]
  }
 ],
 "metadata": {
  "kernelspec": {
   "display_name": "Python 3",
   "language": "python",
   "name": "python3"
  },
  "language_info": {
   "codemirror_mode": {
    "name": "ipython",
    "version": 3
   },
   "file_extension": ".py",
   "mimetype": "text/x-python",
   "name": "python",
   "nbconvert_exporter": "python",
   "pygments_lexer": "ipython3",
   "version": "3.9.5"
  }
 },
 "nbformat": 4,
 "nbformat_minor": 5
}
