{
 "cells": [
  {
   "cell_type": "markdown",
   "id": "7ccd2f81",
   "metadata": {},
   "source": [
    "### Elabore un programa en python que pida al usuario una cantidad de segundos y muestre por pantalla la cantidad de horas minutos y segundos\n",
    "### verificar si un numero es par o impar"
   ]
  },
  {
   "cell_type": "markdown",
   "id": "a70369e9",
   "metadata": {},
   "source": [
    "segundos = int(input(\"Ingrese una cantidad de segundos: \"))"
   ]
  },
  {
   "cell_type": "code",
   "execution_count": null,
   "id": "cff11bfa",
   "metadata": {
    "scrolled": true
   },
   "outputs": [],
   "source": [
    "segundos = 35465"
   ]
  },
  {
   "cell_type": "code",
   "execution_count": null,
   "id": "49f1ec19",
   "metadata": {},
   "outputs": [],
   "source": [
    "horas = segundos//3600\n",
    "residuo1 = segundos%3600\n",
    "residuo1"
   ]
  },
  {
   "cell_type": "code",
   "execution_count": null,
   "id": "398b21dd",
   "metadata": {},
   "outputs": [],
   "source": [
    "minutos = residuo1//60\n",
    "segundos = residuo1%60\n",
    "print(horas,minutos,segundos)"
   ]
  },
  {
   "cell_type": "code",
   "execution_count": null,
   "id": "ff87fc2f",
   "metadata": {},
   "outputs": [],
   "source": [
    "horas = segundos // 3600\n",
    "print(\"cantidad de horas\",horas)"
   ]
  },
  {
   "cell_type": "code",
   "execution_count": null,
   "id": "41640da9",
   "metadata": {
    "scrolled": false
   },
   "outputs": [],
   "source": [
    "residuo1 = segundos%3600"
   ]
  },
  {
   "cell_type": "code",
   "execution_count": null,
   "id": "7d58e3c7",
   "metadata": {},
   "outputs": [],
   "source": [
    "minutos = residuo1//60\n",
    "print(\"minutos: \",minutos)"
   ]
  },
  {
   "cell_type": "code",
   "execution_count": null,
   "id": "80c13137",
   "metadata": {},
   "outputs": [],
   "source": [
    "residuo2 = residuo1%60\n",
    "print(\"segundos: \",residuo2)"
   ]
  },
  {
   "cell_type": "code",
   "execution_count": null,
   "id": "2ed1244a",
   "metadata": {},
   "outputs": [],
   "source": []
  }
 ],
 "metadata": {
  "kernelspec": {
   "display_name": "Python 3 (ipykernel)",
   "language": "python",
   "name": "python3"
  },
  "language_info": {
   "codemirror_mode": {
    "name": "ipython",
    "version": 3
   },
   "file_extension": ".py",
   "mimetype": "text/x-python",
   "name": "python",
   "nbconvert_exporter": "python",
   "pygments_lexer": "ipython3",
   "version": "3.9.12"
  }
 },
 "nbformat": 4,
 "nbformat_minor": 5
}
