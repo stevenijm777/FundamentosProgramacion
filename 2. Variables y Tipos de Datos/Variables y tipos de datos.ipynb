{
 "cells": [
  {
   "cell_type": "markdown",
   "id": "3d15d330",
   "metadata": {},
   "source": [
    "# Tipos de datos\n",
    "\n",
    "### Numericos\n",
    "* int 5\n",
    "* float 5.5\n",
    "* complex -i\n",
    "### Booleanos\n",
    "* True/False\n",
    "### Strings \n",
    "* \"Hola\"\n",
    "* 'mundo'"
   ]
  },
  {
   "cell_type": "markdown",
   "id": "6b953043",
   "metadata": {},
   "source": [
    "### identificar el tipo de dato\n",
    "* La cantidad de hijos de una pareja.\n",
    "* La matrícula de un estudiante.\n",
    "* número de telefono de una persona.\n",
    "* El kilometraje de un auto."
   ]
  },
  {
   "cell_type": "markdown",
   "id": "13504924",
   "metadata": {},
   "source": [
    "# Variables\n",
    "* Sólo puede contener números, letras o el caracter _\n",
    "* No puede iniciar con un número.\n",
    "* No debe coincidir con una palabra reservada del lenguaje."
   ]
  },
  {
   "cell_type": "markdown",
   "id": "41518b4c",
   "metadata": {},
   "source": [
    "#### Buenas prácticas de programación:\n",
    "* Elegir un nombre significativo que tenga relación con el dato que representará.\n",
    "* No utilizar nombres demasiado largos."
   ]
  },
  {
   "cell_type": "code",
   "execution_count": null,
   "id": "96c9f3b4",
   "metadata": {},
   "outputs": [],
   "source": []
  },
  {
   "cell_type": "code",
   "execution_count": null,
   "id": "76b0a7f6",
   "metadata": {},
   "outputs": [],
   "source": [
    "# Asignación en la misma línea:\n",
    "nombre = \"pepe\"; apellido = \"Zambrano\""
   ]
  },
  {
   "cell_type": "code",
   "execution_count": null,
   "id": "4590fde3",
   "metadata": {},
   "outputs": [],
   "source": [
    "# Asignación múltiple:\n",
    "x,y,z = 4,5,7"
   ]
  },
  {
   "cell_type": "code",
   "execution_count": null,
   "id": "6fdee213",
   "metadata": {},
   "outputs": [],
   "source": [
    "y"
   ]
  },
  {
   "cell_type": "code",
   "execution_count": null,
   "id": "ea054aef",
   "metadata": {},
   "outputs": [],
   "source": [
    "# Asignación del mismo valor:\n",
    "ancho = largo = 4"
   ]
  },
  {
   "cell_type": "code",
   "execution_count": null,
   "id": "18be4b71",
   "metadata": {},
   "outputs": [],
   "source": [
    "largo+=1"
   ]
  },
  {
   "cell_type": "code",
   "execution_count": null,
   "id": "07de4e21",
   "metadata": {
    "scrolled": true
   },
   "outputs": [],
   "source": [
    "largo\n"
   ]
  },
  {
   "cell_type": "code",
   "execution_count": null,
   "id": "69d332dc",
   "metadata": {},
   "outputs": [],
   "source": [
    "ancho"
   ]
  },
  {
   "cell_type": "code",
   "execution_count": null,
   "id": "0e56153f",
   "metadata": {},
   "outputs": [],
   "source": [
    "# Asignación del mismo valor:\n",
    "ancho = largo = 4\n",
    "largo = 5\n",
    "ancho"
   ]
  },
  {
   "cell_type": "code",
   "execution_count": 2,
   "id": "853a6943",
   "metadata": {
    "scrolled": false
   },
   "outputs": [
    {
     "name": "stdout",
     "output_type": "stream",
     "text": [
      "30\n",
      "15\n"
     ]
    }
   ],
   "source": [
    "#  Asignación de intercambio:\n",
    "base = 15; altura = 30\n",
    "piso = altura\n",
    "altura = base\n",
    "base = piso\n",
    "print(base)\n",
    "print(altura)"
   ]
  },
  {
   "cell_type": "code",
   "execution_count": 3,
   "id": "19a34457",
   "metadata": {},
   "outputs": [
    {
     "name": "stdout",
     "output_type": "stream",
     "text": [
      "30\n",
      "15\n"
     ]
    }
   ],
   "source": [
    "#  Asignación de intercambio:\n",
    "base = 15; altura = 30\n",
    "base, altura = altura, base\n",
    "print(base)\n",
    "print(altura)"
   ]
  },
  {
   "cell_type": "markdown",
   "id": "2fd42607",
   "metadata": {},
   "source": [
    "# string o cadenas"
   ]
  },
  {
   "cell_type": "code",
   "execution_count": null,
   "id": "c8828b24",
   "metadata": {},
   "outputs": [],
   "source": []
  },
  {
   "cell_type": "code",
   "execution_count": 4,
   "id": "273ee980",
   "metadata": {
    "scrolled": true
   },
   "outputs": [
    {
     "name": "stdout",
     "output_type": "stream",
     "text": [
      "Pablo\n"
     ]
    }
   ],
   "source": [
    "nombre = 'Pablo'\n",
    "print(nombre)"
   ]
  },
  {
   "cell_type": "code",
   "execution_count": 5,
   "id": "e064baad",
   "metadata": {},
   "outputs": [],
   "source": [
    "apellido = \"Martinez\""
   ]
  },
  {
   "cell_type": "code",
   "execution_count": null,
   "id": "780e0e51",
   "metadata": {
    "scrolled": true
   },
   "outputs": [],
   "source": [
    "print(apellido)"
   ]
  },
  {
   "cell_type": "code",
   "execution_count": 6,
   "id": "cedbabe0",
   "metadata": {},
   "outputs": [
    {
     "name": "stdout",
     "output_type": "stream",
     "text": [
      "\"hola Mundo\"\n"
     ]
    }
   ],
   "source": [
    "print('\"hola Mundo\"')"
   ]
  },
  {
   "cell_type": "code",
   "execution_count": null,
   "id": "83b5b8a8",
   "metadata": {},
   "outputs": [],
   "source": []
  }
 ],
 "metadata": {
  "kernelspec": {
   "display_name": "Python 3 (ipykernel)",
   "language": "python",
   "name": "python3"
  },
  "language_info": {
   "codemirror_mode": {
    "name": "ipython",
    "version": 3
   },
   "file_extension": ".py",
   "mimetype": "text/x-python",
   "name": "python",
   "nbconvert_exporter": "python",
   "pygments_lexer": "ipython3",
   "version": "3.9.12"
  }
 },
 "nbformat": 4,
 "nbformat_minor": 5
}
