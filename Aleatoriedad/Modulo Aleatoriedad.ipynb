{
 "cells": [
  {
   "cell_type": "code",
   "execution_count": 1,
   "id": "b9273f0f",
   "metadata": {},
   "outputs": [],
   "source": [
    "import random as rd"
   ]
  },
  {
   "cell_type": "code",
   "execution_count": 8,
   "id": "bf3b9805",
   "metadata": {},
   "outputs": [
    {
     "name": "stdout",
     "output_type": "stream",
     "text": [
      "Juan\n"
     ]
    }
   ],
   "source": [
    "# rd.choice(sequence) devueleve un vlaor aleatorio de la secuencia\n",
    "palabra = \"Programacion\"\n",
    "letra = rd.choice(palabra)\n",
    "letra\n"
   ]
  },
  {
   "cell_type": "code",
   "execution_count": 9,
   "id": "e746e3f8",
   "metadata": {},
   "outputs": [
    {
     "name": "stdout",
     "output_type": "stream",
     "text": [
      "jose\n"
     ]
    }
   ],
   "source": [
    "nombres = (\"pepe\",\"Juan\",\"jose\")\n",
    "nombre = rd.choice(nombres)\n",
    "print(nombre)"
   ]
  },
  {
   "cell_type": "code",
   "execution_count": 16,
   "id": "7c87f539",
   "metadata": {},
   "outputs": [
    {
     "name": "stdout",
     "output_type": "stream",
     "text": [
      "c\n"
     ]
    }
   ],
   "source": [
    "d = {\"a\":1,\"b\":3,\"c\":4}\n",
    "n = rd.choice(list(d))\n",
    "print(n)"
   ]
  },
  {
   "cell_type": "code",
   "execution_count": 18,
   "id": "129f52f0",
   "metadata": {},
   "outputs": [
    {
     "name": "stdout",
     "output_type": "stream",
     "text": [
      "['Maria', 'Juan', 'Jose', 'Pepe']\n",
      "Maria\n"
     ]
    }
   ],
   "source": [
    "# rd.shuffle(lista) modifica la lista y la desordena\n",
    "lista = [\"Juan\",\"Pepe\",\"Maria\",\"Jose\"]\n",
    "rd.shuffle(lista)\n",
    "print(lista)\n",
    "print(lista[0])"
   ]
  },
  {
   "cell_type": "code",
   "execution_count": null,
   "id": "91a73af4",
   "metadata": {},
   "outputs": [],
   "source": [
    "lista = [\"Juan\",\"Pepe\",\"Maria\",\"Jose\"]\n",
    "#           0    1        2      3\n",
    "for i in range(len(lista)):"
   ]
  },
  {
   "cell_type": "code",
   "execution_count": null,
   "id": "0b09e3ee",
   "metadata": {},
   "outputs": [],
   "source": [
    "# rd.randint(a,b) genera un aleatorio en el rango especificado, incluyendo a y b.\n",
    "# lanzar un dado\n",
    "dado = rd.randint(1,6)\n",
    "print(dado)#5\n",
    "turnos = 0\n",
    "gano = False\n",
    "while not(turnos==5) and gano==False:\n",
    "    turno = int(input(\"sdlfkjhsdf: \"))#4\n",
    "    turnos+=1\n",
    "    if turno == dado:\n",
    "        print(\"victoria\")\n",
    "        gano = True\n",
    "        "
   ]
  },
  {
   "cell_type": "code",
   "execution_count": 30,
   "id": "08423170",
   "metadata": {},
   "outputs": [
    {
     "name": "stdout",
     "output_type": "stream",
     "text": [
      "['rueda', 'X', 'X', 'X', 'X', 'X', 'rueda', 'X', 'X', 'X', 'X', 'X', 'X', 'rueda', 'rueda']\n"
     ]
    }
   ],
   "source": [
    "# Para esto genere aleatoriamente una lista de 15 elementos, donde cuatro elementos deben decir “Rueda” y los otros once “X”.\n",
    "lista = [\"rueda\"]*4+[\"X\"]*11\n",
    "rd.shuffle(lista)\n",
    "print(lista)"
   ]
  },
  {
   "cell_type": "code",
   "execution_count": null,
   "id": "104cfe6b",
   "metadata": {},
   "outputs": [],
   "source": []
  }
 ],
 "metadata": {
  "kernelspec": {
   "display_name": "Python 3 (ipykernel)",
   "language": "python",
   "name": "python3"
  },
  "language_info": {
   "codemirror_mode": {
    "name": "ipython",
    "version": 3
   },
   "file_extension": ".py",
   "mimetype": "text/x-python",
   "name": "python",
   "nbconvert_exporter": "python",
   "pygments_lexer": "ipython3",
   "version": "3.9.12"
  }
 },
 "nbformat": 4,
 "nbformat_minor": 5
}
