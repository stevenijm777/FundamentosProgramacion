{
 "cells": [
  {
   "cell_type": "code",
   "execution_count": 12,
   "id": "f6cdac87",
   "metadata": {},
   "outputs": [],
   "source": [
    "\n",
    "from random import *\n"
   ]
  },
  {
   "cell_type": "code",
   "execution_count": 15,
   "id": "373cc785",
   "metadata": {},
   "outputs": [],
   "source": [
    "import random as rd"
   ]
  },
  {
   "cell_type": "code",
   "execution_count": 13,
   "id": "811e39e3",
   "metadata": {
    "scrolled": true
   },
   "outputs": [
    {
     "data": {
      "text/plain": [
       "0"
      ]
     },
     "execution_count": 13,
     "metadata": {},
     "output_type": "execute_result"
    }
   ],
   "source": [
    "# choice(sequence) devolver un valor aleatorio de la secuencia\n",
    "l = list(range(5))\n",
    "choice(l)"
   ]
  },
  {
   "cell_type": "code",
   "execution_count": 14,
   "id": "7b4da2c0",
   "metadata": {},
   "outputs": [
    {
     "name": "stdout",
     "output_type": "stream",
     "text": [
      "['Maria', 'Jose', 'Pepe', 'Juan']\n"
     ]
    }
   ],
   "source": [
    "# rd.shuffle(lista) modifica la lista y la desordena\n",
    "lista = [\"Juan\",\"Pepe\",\"Maria\",\"Jose\"]\n",
    "shuffle(lista)\n",
    "print(lista)"
   ]
  },
  {
   "cell_type": "code",
   "execution_count": 22,
   "id": "95a77543",
   "metadata": {},
   "outputs": [
    {
     "data": {
      "text/plain": [
       "6"
      ]
     },
     "execution_count": 22,
     "metadata": {},
     "output_type": "execute_result"
    }
   ],
   "source": [
    "# rd.randint(a,b) genera un aleatorio en el rango especificado, incluyendo a y b\n",
    "dado = rd.randint(1,6)\n",
    "dado"
   ]
  },
  {
   "cell_type": "markdown",
   "id": "12d0e24d",
   "metadata": {},
   "source": [
    "#### genere aleatoriamente una lista de 10 elementos, donde cuatro elementos deben decir “Rueda” y los otros 6 “X”.\n"
   ]
  },
  {
   "cell_type": "code",
   "execution_count": 28,
   "id": "36fac610",
   "metadata": {},
   "outputs": [
    {
     "data": {
      "text/plain": [
       "['X', 'X', 'rueda', 'X', 'rueda', 'X', 'rueda', 'rueda', 'X', 'X']"
      ]
     },
     "execution_count": 28,
     "metadata": {},
     "output_type": "execute_result"
    }
   ],
   "source": [
    "lista = [\"rueda\",\"rueda\",\"rueda\",\"rueda\", \"X\", \"X\", \"X\",\"X\",\"X\",\"X\"]\n",
    "rd.shuffle(lista)\n",
    "lista"
   ]
  },
  {
   "cell_type": "code",
   "execution_count": null,
   "id": "5c16438a",
   "metadata": {},
   "outputs": [],
   "source": []
  }
 ],
 "metadata": {
  "kernelspec": {
   "display_name": "Python 3 (ipykernel)",
   "language": "python",
   "name": "python3"
  },
  "language_info": {
   "codemirror_mode": {
    "name": "ipython",
    "version": 3
   },
   "file_extension": ".py",
   "mimetype": "text/x-python",
   "name": "python",
   "nbconvert_exporter": "python",
   "pygments_lexer": "ipython3",
   "version": "3.9.12"
  }
 },
 "nbformat": 4,
 "nbformat_minor": 5
}
