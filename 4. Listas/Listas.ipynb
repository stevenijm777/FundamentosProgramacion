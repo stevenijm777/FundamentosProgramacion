{
 "cells": [
  {
   "cell_type": "markdown",
   "id": "9ce57579",
   "metadata": {},
   "source": [
    "# Listas"
   ]
  },
  {
   "cell_type": "code",
   "execution_count": null,
   "id": "f30e7ab0",
   "metadata": {},
   "outputs": [],
   "source": [
    "#range(desde, hasta_sin_incluirlo, saltos)\n",
    "print(list(range(5)))\n",
    "nombres = [\"Pepe\",\"Jose\",\"Marco\",\"Juan\",\"Maria\",\"Andres\"]\n",
    "edades = [17,18,20,15,19,20]\n",
    "print(list(range(len(nombres))))\n",
    "for i in range(len(nombres)):\n",
    "    nombre = nombres[i]\n",
    "    edad = edades[i]\n",
    "    if edad >= 18:\n",
    "        print(nombre)"
   ]
  },
  {
   "cell_type": "code",
   "execution_count": null,
   "id": "7b9262c7",
   "metadata": {},
   "outputs": [],
   "source": [
    "nombres = [\"Pepe\",\"Jose\",\"Marco\",\"Juan\",\"Maria\",\"Andres\"]\n",
    "edades = [17,18,20,15,19,20]\n",
    "for i in range(len(nombres)): # [0,1,2,3,4,5]\n",
    "    nombre = nombres[i] # Pepe\n",
    "    edad = edades[i] # 17"
   ]
  },
  {
   "cell_type": "code",
   "execution_count": 1,
   "id": "1e05d528",
   "metadata": {},
   "outputs": [
    {
     "name": "stdout",
     "output_type": "stream",
     "text": [
      "['Pepe', 'Jose', 'Juan']\n"
     ]
    }
   ],
   "source": [
    "# mostrar los nombres de los que son mayores de 18\n",
    "nombres = [\"Pepe\",\"Jose\",\"Marco\",\"Juan\",\"Maria\",\"Andres\"]\n",
    "edades = [17,18,20,15,19,20]\n",
    "adultos = []\n",
    "for i in range(len(nombres)): # [0,1,2,3,4,5]\n",
    "    nombre = nombres[i] # Pepe\n",
    "    edad = edades[i] # 17\n",
    "    if edad <= 18:\n",
    "        adultos.append(nombre)\n",
    "print(adultos)\n"
   ]
  },
  {
   "cell_type": "code",
   "execution_count": 2,
   "id": "c0fbf4e3",
   "metadata": {
    "scrolled": true
   },
   "outputs": [
    {
     "data": {
      "text/plain": [
       "[(17, 'Pepe'),\n",
       " (18, 'Jose'),\n",
       " (20, 'Marco'),\n",
       " (15, 'Juan'),\n",
       " (19, 'Maria'),\n",
       " (20, 'Andres')]"
      ]
     },
     "execution_count": 2,
     "metadata": {},
     "output_type": "execute_result"
    }
   ],
   "source": [
    "# ordenar por edad\n",
    "nombres = [\"Pepe\",\"Jose\",\"Marco\",\"Juan\",\"Maria\",\"Andres\"]\n",
    "edades = [17,18,20,15,19,20]\n",
    "l_tuplas=[] # [(17, 'Pepe'),(18, 'Jose'), (20, 'Marco'), (15, 'Juan'), (19, 'Maria'), (20, 'Andres')]\n",
    "for i in range(len(nombres)): # [0,1,2,3,4,5]\n",
    "    nombre = nombres[i] # Pepe\n",
    "    edad = edades[i] # 17\n",
    "    tupla = (edad,nombre)\n",
    "    l_tuplas.append(tupla)\n",
    "l_tuplas"
   ]
  },
  {
   "cell_type": "code",
   "execution_count": 5,
   "id": "68c16bc8",
   "metadata": {
    "scrolled": true
   },
   "outputs": [
    {
     "data": {
      "text/plain": [
       "[(15, 'Juan'),\n",
       " (17, 'Pepe'),\n",
       " (18, 'Jose'),\n",
       " (19, 'Maria'),\n",
       " (20, 'Andres'),\n",
       " (20, 'Marco')]"
      ]
     },
     "execution_count": 5,
     "metadata": {},
     "output_type": "execute_result"
    }
   ],
   "source": [
    "l_tuplas.sort()\n",
    "l_tuplas"
   ]
  },
  {
   "cell_type": "code",
   "execution_count": 11,
   "id": "41b24f32",
   "metadata": {},
   "outputs": [
    {
     "data": {
      "text/plain": [
       "[(20, 'Marco'), (20, 'Andres'), (19, 'Maria')]"
      ]
     },
     "execution_count": 11,
     "metadata": {},
     "output_type": "execute_result"
    }
   ],
   "source": [
    "# sacar un top 3 de mayor a menor\n",
    "nombres = [\"Pepe\",\"Jose\",\"Marco\",\"Juan\",\"Maria\",\"Andres\"]\n",
    "edades = [17,18,20,15,19,20]\n",
    "l_tuplas=[] # [(17, 'Pepe'),(18, 'Jose'), (20, 'Marco'), (15, 'Juan'), (19, 'Maria'), (20, 'Andres')]\n",
    "for i in range(len(nombres)): # [0,1,2,3,4,5]\n",
    "    nombre = nombres[i] # Pepe\n",
    "    edad = edades[i] # 17\n",
    "    tupla = (edad,nombre)\n",
    "    l_tuplas.append(tupla)\n",
    "l_tuplas.sort(reverse=True)\n",
    "l_tuplas[:3]"
   ]
  },
  {
   "cell_type": "code",
   "execution_count": null,
   "id": "3ea3c5d0",
   "metadata": {},
   "outputs": [],
   "source": []
  },
  {
   "cell_type": "code",
   "execution_count": null,
   "id": "fb73ee7d",
   "metadata": {},
   "outputs": [],
   "source": [
    "lista1 = [1,2,3]\n",
    "lista2 = [4,5,6]\n",
    "lista1 += lista2\n",
    "\n"
   ]
  },
  {
   "cell_type": "code",
   "execution_count": null,
   "id": "45646104",
   "metadata": {},
   "outputs": [],
   "source": [
    "nombres = [\"Pepe\",\"Jose\",\"Marco\",\"Juan\",\"Maria\",\"Andres\",\"Pepe\",\"Jose\",\"Maria\"]\n",
    "num = nombres.count(\"Pepe\")\n",
    "ind = nombres.index(\"Maria\")\n",
    "ind\n",
    "ind2 = nombres.index(\"Maria\",ind+1)\n",
    "ind2\n",
    "#ind3 = nombres.index(\"Lucho\")\n",
    "nombres.pop()\n",
    "\n",
    "print(nombres)\n"
   ]
  },
  {
   "cell_type": "code",
   "execution_count": null,
   "id": "c7260713",
   "metadata": {
    "scrolled": false
   },
   "outputs": [],
   "source": [
    "numeros = list(range(1,10))\n",
    "numeros[:]\n",
    "print(numeros)\n",
    "ind_Mitad = len(numeros)//2\n",
    "numeros.insert(ind_Mitad,0)\n",
    "print(numeros)"
   ]
  },
  {
   "cell_type": "code",
   "execution_count": null,
   "id": "5fa27e37",
   "metadata": {},
   "outputs": [],
   "source": [
    "a = [1,2,3]\n",
    "b = a[:]\n",
    "a[1] = \"cambio\"\n",
    "print(a)\n",
    "print(b)"
   ]
  },
  {
   "cell_type": "code",
   "execution_count": null,
   "id": "92372068",
   "metadata": {},
   "outputs": [],
   "source": [
    "letras[2:5] = [\"C\",\"D\",\"E\"]\n",
    "letras"
   ]
  },
  {
   "cell_type": "code",
   "execution_count": null,
   "id": "7577acff",
   "metadata": {},
   "outputs": [],
   "source": [
    "letras[2:5] = []\n",
    "letras"
   ]
  },
  {
   "cell_type": "code",
   "execution_count": null,
   "id": "e9e1cdee",
   "metadata": {},
   "outputs": [],
   "source": [
    "letras[:] = []\n",
    "letras"
   ]
  },
  {
   "cell_type": "code",
   "execution_count": null,
   "id": "c767d0e8",
   "metadata": {},
   "outputs": [],
   "source": [
    "nombres = [\"Pepe\",\"Jose\",\"Marco\"]\n",
    "edades = [17,18,20]"
   ]
  },
  {
   "cell_type": "code",
   "execution_count": null,
   "id": "313b2444",
   "metadata": {},
   "outputs": [],
   "source": [
    "X = [nombres, edades]\n",
    "X"
   ]
  },
  {
   "cell_type": "markdown",
   "id": "5a24bd03",
   "metadata": {},
   "source": [
    "## Metodos de lista"
   ]
  },
  {
   "cell_type": "code",
   "execution_count": null,
   "id": "9fa8f76d",
   "metadata": {},
   "outputs": [],
   "source": [
    "#list.extend (iterable)\n",
    "letras.extend({\"h\",\"i\",\"h\",\"i\",\"k\"})\n",
    "print(letras)\n"
   ]
  },
  {
   "cell_type": "code",
   "execution_count": null,
   "id": "55c5ae24",
   "metadata": {},
   "outputs": [],
   "source": [
    "#list.pop ([, i]0)\n",
    "letras.pop()\n",
    "letras\n"
   ]
  },
  {
   "cell_type": "code",
   "execution_count": null,
   "id": "20d1e24b",
   "metadata": {},
   "outputs": [],
   "source": [
    "letras.pop(3)\n",
    "letras"
   ]
  },
  {
   "cell_type": "code",
   "execution_count": null,
   "id": "d029f4a1",
   "metadata": {},
   "outputs": [],
   "source": [
    "letras = ['a', 'b', 'c', 'd', 'e', 'f', 'g']"
   ]
  },
  {
   "cell_type": "code",
   "execution_count": null,
   "id": "4fb0a64a",
   "metadata": {},
   "outputs": [],
   "source": [
    "letra = letras.copy().pop()\n",
    "print(letra)\n",
    "print(letras)"
   ]
  },
  {
   "cell_type": "code",
   "execution_count": null,
   "id": "33bf272e",
   "metadata": {},
   "outputs": [],
   "source": [
    "#list.index (x, start, end)\n",
    "notas = [10,9,8,9,7,10,9,10,9]\n",
    "ind = letras.index(\"d\") # 3\n",
    "ind_nota = notas.index(10,-3) #ultimos 3   7\n",
    "print(ind_nota)\n"
   ]
  },
  {
   "cell_type": "code",
   "execution_count": null,
   "id": "897c3e8c",
   "metadata": {},
   "outputs": [],
   "source": [
    "#list.count (x)\n",
    "cont = notas.count(10)\n",
    "cont"
   ]
  },
  {
   "cell_type": "code",
   "execution_count": null,
   "id": "ebc5f5f3",
   "metadata": {},
   "outputs": [],
   "source": [
    "#list.sort (key=None, reverse=False)\n",
    "notas.sort(reverse=True)\n",
    "notas\n",
    "print(notas[:3])"
   ]
  },
  {
   "cell_type": "code",
   "execution_count": null,
   "id": "689b483b",
   "metadata": {},
   "outputs": [],
   "source": [
    "#list.clear ()\n",
    "letras.clear()\n",
    "letras"
   ]
  },
  {
   "cell_type": "markdown",
   "id": "caf428f1",
   "metadata": {},
   "source": [
    "# Listas Paralelas"
   ]
  },
  {
   "cell_type": "code",
   "execution_count": null,
   "id": "41681213",
   "metadata": {},
   "outputs": [],
   "source": [
    "# iterar lista paralelas\n",
    "\n",
    "# por indice\n",
    "for i in range(len(nombres)):#0\n",
    "    nombre = nombres[i]\n",
    "    edad = edades[i]\n",
    "# por index\n",
    "for nombre in nombres: # Pepe\n",
    "    ind= nombres.index(nombre) # 0\n",
    "    edad = nombres[ind]  "
   ]
  },
  {
   "cell_type": "code",
   "execution_count": null,
   "id": "b957c5e9",
   "metadata": {},
   "outputs": [],
   "source": [
    "nombres = [\"Pepe\",\"Jose\",\"Marco\",\"Juan\",\"Maria\",\"Andres\"]\n",
    "edades =  [17    ,18     ,20    ,15    ,19     ,20]\n",
    "notas = [8,7,9,4,5,3]"
   ]
  },
  {
   "cell_type": "code",
   "execution_count": null,
   "id": "a50e023d",
   "metadata": {},
   "outputs": [],
   "source": [
    "# ordenar listas paralelas \n",
    "lista = [] # [[],[],[]]\n",
    "for i in range(len(nombres)):#0\n",
    "    nombre = nombres[i]\n",
    "    edad = edades[i]\n",
    "    nota = notas[i]\n",
    "    lista.append([edad,nombre,nota])\n",
    "print(lista)\n",
    "# ordenar de menor a mayor\n",
    "#lista.sort()\n",
    "#print(lista)\n",
    "# ordenar de mayor a menor\n",
    "lista.sort(reverse = True)\n",
    "print(lista)"
   ]
  },
  {
   "cell_type": "code",
   "execution_count": 6,
   "id": "a20f66b5",
   "metadata": {
    "scrolled": true
   },
   "outputs": [],
   "source": [
    "#list = zip(lista1,lista2)\n",
    "nombres = [\"Pepe\",\"Jose\",\"Marco\",\"Juan\",\"Maria\",\"Andres\"]\n",
    "edades = [17,18,20,15,19,20]\n",
    "notas = [8,7,9,4,5,3]"
   ]
  },
  {
   "cell_type": "code",
   "execution_count": 7,
   "id": "182302bc",
   "metadata": {
    "scrolled": false
   },
   "outputs": [
    {
     "data": {
      "text/plain": [
       "[(17, 'Pepe'),\n",
       " (18, 'Jose'),\n",
       " (20, 'Marco'),\n",
       " (15, 'Juan'),\n",
       " (19, 'Maria'),\n",
       " (20, 'Andres')]"
      ]
     },
     "execution_count": 7,
     "metadata": {},
     "output_type": "execute_result"
    }
   ],
   "source": [
    "lista2 = list(zip(edades,nombres))\n",
    "lista2"
   ]
  },
  {
   "cell_type": "code",
   "execution_count": null,
   "id": "024443fe",
   "metadata": {},
   "outputs": [],
   "source": [
    "lista2 = list(zip(edades, nombres))\n",
    "print(lista2)\n",
    "lista2.sort(reverse=True)\n",
    "print(lista2)\n",
    "\n",
    "for edad,nombre in lista2[:3]:\n",
    "    print(nombre,edad)"
   ]
  },
  {
   "cell_type": "code",
   "execution_count": null,
   "id": "68116b03",
   "metadata": {},
   "outputs": [],
   "source": [
    "# mostrar un top 3 por notas\n",
    "lista = []\n",
    "for i in range(len(nombres)):#0\n",
    "    nombre = nombres[i]\n",
    "    edad = edades[i]\n",
    "    nota = notas[i]\n",
    "    lista.append((nota,nombre,edad))\n",
    "print(lista)\n",
    "# ordenar de menor a mayor\n",
    "#lista.sort()\n",
    "#print(lista)\n",
    "# ordenar de mayor a menor\n",
    "lista.sort(reverse = True)\n",
    "print(lista[:3])"
   ]
  },
  {
   "cell_type": "code",
   "execution_count": null,
   "id": "824ece61",
   "metadata": {},
   "outputs": [],
   "source": [
    "# mostrar la persona mayor de la lista\n",
    "tupla = lista[0]\n",
    "print(tupla)\n",
    "nom_Mayor = tupla[1]\n",
    "print(nom_Mayor)\n",
    "\n",
    "# mostrar una lista de los nombres que son mayores de edad\n",
    "adultos = []\n",
    "for i in range(len(nombres)):\n",
    "    nombre = nombres[i]\n",
    "    edad = edades[i]\n",
    "    if edad >=18:\n",
    "        adultos.append(nombre)\n",
    "print(adultos)"
   ]
  },
  {
   "cell_type": "code",
   "execution_count": null,
   "id": "7462cf93",
   "metadata": {
    "scrolled": true
   },
   "outputs": [],
   "source": [
    "lista = [\"a\",\"b\",\"c\",1,2,3,\"e\"]\n",
    "lista.sort() #a<3"
   ]
  },
  {
   "cell_type": "code",
   "execution_count": null,
   "id": "38fc9456",
   "metadata": {},
   "outputs": [],
   "source": [
    "string = \"Ecuador,Jose Cifuentes,1,0,0,75,6.3\"\n",
    "datos = string.split(\",\")\n",
    "datos"
   ]
  },
  {
   "cell_type": "code",
   "execution_count": null,
   "id": "0a7e5dd8",
   "metadata": {},
   "outputs": [],
   "source": [
    "# \"caracter\".join(lista)\n",
    "cadena = \"----\".join(datos)\n",
    "cadena"
   ]
  },
  {
   "cell_type": "code",
   "execution_count": 8,
   "id": "9dbc7564",
   "metadata": {
    "scrolled": true
   },
   "outputs": [
    {
     "name": "stdout",
     "output_type": "stream",
     "text": [
      "[(0, 'Pepe'), (1, 'Jose'), (2, 'Marco'), (3, 'Juan'), (4, 'Maria'), (5, 'Andres')]\n"
     ]
    }
   ],
   "source": [
    "# enumerate\n",
    "print(list(enumerate(nombres)))"
   ]
  },
  {
   "cell_type": "code",
   "execution_count": null,
   "id": "422bca6c",
   "metadata": {},
   "outputs": [],
   "source": []
  }
 ],
 "metadata": {
  "kernelspec": {
   "display_name": "Python 3 (ipykernel)",
   "language": "python",
   "name": "python3"
  },
  "language_info": {
   "codemirror_mode": {
    "name": "ipython",
    "version": 3
   },
   "file_extension": ".py",
   "mimetype": "text/x-python",
   "name": "python",
   "nbconvert_exporter": "python",
   "pygments_lexer": "ipython3",
   "version": "3.9.12"
  }
 },
 "nbformat": 4,
 "nbformat_minor": 5
}
