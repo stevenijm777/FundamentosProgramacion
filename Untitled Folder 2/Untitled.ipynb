{
 "cells": [
  {
   "cell_type": "code",
   "execution_count": 5,
   "id": "c455abfd",
   "metadata": {
    "scrolled": false
   },
   "outputs": [
    {
     "name": "stdout",
     "output_type": "stream",
     "text": [
      "['Anio', 'Mes', 'Dia', 'Manchas']\n"
     ]
    }
   ],
   "source": [
    "dato = \"\tAnio\tMes\tDia\tManchas\"\n",
    "print(dato.strip().split('\\t'))\n"
   ]
  },
  {
   "cell_type": "code",
   "execution_count": null,
   "id": "8766da68",
   "metadata": {},
   "outputs": [],
   "source": [
    "#recibe dos fechas y devuelve True Si la fecha 1  es menor fecha final\n",
    "def fech_menor(fechaIni,fechaFin): # (30,1,2021);  (31,2,2021), dicc\n",
    "    dia1, mes1, anio1 = fechaIni\n",
    "    dia2, mes2, anio2 = fechaFin\n",
    "    if mes1 == mes2:\n",
    "        if anio1 == anio2 and dia2 >= dia1:\n",
    "            return True\n",
    "        elif anio1 != anio2 and anio2 >= anio1:\n",
    "            return True\n",
    "        else:\n",
    "            return False\n",
    "    else:\n",
    "        if anio2 > anio1:\n",
    "            return True\n",
    "        elif anio2 == anio1 and mes2 >= mes1:\n",
    "            return True\n",
    "        else:\n",
    "            return False\n",
    "\n",
    "def cant_manchas(dicc,fecha1,fecha2):\n",
    "    d_cant_manchas = {}# {10:2}\n",
    "    for fecha in dicc:  # 2,1,2000\n",
    "        if fech_menor(fecha1, fecha) and fech_menor(fecha, fecha2):\n",
    "            mancha = dicc[fecha] # 10\n",
    "            if mancha not in d_cant_manchas:\n",
    "                d_cant_manchas[mancha] = 1\n",
    "            else:\n",
    "                d_cant_manchas[mancha] += 1\n",
    "    return d_cant_manchas\n",
    "\n",
    "dicc = {\n",
    "    (30,12,1999):5,\n",
    "    (1,1,2000):10,\n",
    "    (1,2,2000):0,\n",
    "    (1,3,2000):10,\n",
    "    (1,4,2000):1,\n",
    "    (1,5,2000):10,\n",
    "    (1, 6, 2000): 10,\n",
    "}\n",
    "#recibe dos fechas y devuelve True Si la fecha 1  es menor fecha final\n",
    "\n",
    "fecha1 = (1,1,2000)\n",
    "fecha2 = (1,5,2000)\n",
    "\n",
    "cant_manchas(dicc,fecha1,fecha2)\n",
    "print(cant_manchas)\n",
    "fech_menor(fecha2,fecha1)\n"
   ]
  }
 ],
 "metadata": {
  "kernelspec": {
   "display_name": "Python 3 (ipykernel)",
   "language": "python",
   "name": "python3"
  },
  "language_info": {
   "codemirror_mode": {
    "name": "ipython",
    "version": 3
   },
   "file_extension": ".py",
   "mimetype": "text/x-python",
   "name": "python",
   "nbconvert_exporter": "python",
   "pygments_lexer": "ipython3",
   "version": "3.10.4"
  }
 },
 "nbformat": 4,
 "nbformat_minor": 5
}
