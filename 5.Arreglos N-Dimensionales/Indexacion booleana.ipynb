{
 "cells": [
  {
   "cell_type": "code",
   "execution_count": 2,
   "id": "bd676b7f",
   "metadata": {},
   "outputs": [],
   "source": [
    "import numpy as np"
   ]
  },
  {
   "cell_type": "code",
   "execution_count": null,
   "id": "ea306b07",
   "metadata": {
    "scrolled": true
   },
   "outputs": [],
   "source": [
    "A = np.random.randint(1,10,(5,3))\n",
    "A"
   ]
  },
  {
   "cell_type": "code",
   "execution_count": null,
   "id": "896aa7c0",
   "metadata": {
    "scrolled": true
   },
   "outputs": [],
   "source": [
    "# axis = 0 para las columnas\n",
    "A.sum(axis = 0)"
   ]
  },
  {
   "cell_type": "code",
   "execution_count": null,
   "id": "8698fd75",
   "metadata": {},
   "outputs": [],
   "source": [
    "# axis = 1 para las filas\n",
    "A.sum(axis = 1)"
   ]
  },
  {
   "cell_type": "code",
   "execution_count": 7,
   "id": "37f5410c",
   "metadata": {
    "scrolled": true
   },
   "outputs": [
    {
     "name": "stdout",
     "output_type": "stream",
     "text": [
      "[False  True  True]\n"
     ]
    }
   ],
   "source": [
    "a = np.array([5,1,6])\n",
    "b = np.array([3,2,7])\n",
    "print(a<b)\n"
   ]
  },
  {
   "cell_type": "code",
   "execution_count": 4,
   "id": "18c1fd89",
   "metadata": {},
   "outputs": [
    {
     "name": "stdout",
     "output_type": "stream",
     "text": [
      "[1 6]\n"
     ]
    }
   ],
   "source": [
    "print(a[a<b])"
   ]
  },
  {
   "cell_type": "code",
   "execution_count": 6,
   "id": "e95bff98",
   "metadata": {},
   "outputs": [],
   "source": [
    "nombres = [\"Jose\",\"Pepe\",\"Maria\",\"Marco\",\"Juan\",\"Jhon\",\"Nathaly\"]\n",
    "edades = np.array([15,14,19,18,17,20,22])\n",
    "condicion = edades>=18\n"
   ]
  },
  {
   "cell_type": "code",
   "execution_count": 12,
   "id": "b55b6740",
   "metadata": {
    "scrolled": true
   },
   "outputs": [
    {
     "name": "stdout",
     "output_type": "stream",
     "text": [
      "['Jose' 'Pepe' 'Maria' 'Marco' 'Juan' 'Jhon' 'Nathaly']\n",
      "['Maria' 'Marco' 'Jhon' 'Nathaly']\n",
      "[19 18 20 22]\n"
     ]
    }
   ],
   "source": [
    "# mostrar quienes son mayores de 18\n",
    "v_nombres = np.array(nombres)\n",
    "print(v_nombres)\n",
    "print(v_nombres[condicion])\n",
    "print(edades[condicion])"
   ]
  },
  {
   "cell_type": "code",
   "execution_count": 11,
   "id": "920d59ec",
   "metadata": {
    "scrolled": true
   },
   "outputs": [
    {
     "name": "stdout",
     "output_type": "stream",
     "text": [
      "(array([0, 1, 3, 4], dtype=int64),)\n"
     ]
    }
   ],
   "source": [
    "#np.where\n",
    "v_inds= np.where(edades<=18)\n",
    "print(v_inds)"
   ]
  },
  {
   "cell_type": "code",
   "execution_count": 13,
   "id": "ccc8d84c",
   "metadata": {
    "scrolled": true
   },
   "outputs": [
    {
     "data": {
      "text/plain": [
       "array(['Jose', 'Pepe', 'Marco', 'Juan'], dtype='<U7')"
      ]
     },
     "execution_count": 13,
     "metadata": {},
     "output_type": "execute_result"
    }
   ],
   "source": [
    "v_nombres[v_inds]"
   ]
  },
  {
   "cell_type": "code",
   "execution_count": 19,
   "id": "f121d9ad",
   "metadata": {},
   "outputs": [
    {
     "data": {
      "text/plain": [
       "array([-1, -1, 19, 18, -1, 20, 22])"
      ]
     },
     "execution_count": 19,
     "metadata": {},
     "output_type": "execute_result"
    }
   ],
   "source": [
    "#np.where(condicion, cambia los valores si se cumple,)\n",
    "np.where(edades>=18,edades,-1)"
   ]
  },
  {
   "cell_type": "code",
   "execution_count": null,
   "id": "e0eaaaf1",
   "metadata": {},
   "outputs": [],
   "source": [
    "# cuantos son mayores de edad\n",
    "cant = len(v_nombres[condicion])\n",
    "cant"
   ]
  },
  {
   "cell_type": "code",
   "execution_count": null,
   "id": "183e2270",
   "metadata": {
    "scrolled": false
   },
   "outputs": [],
   "source": [
    "A = np.random.randint(1,10,(3,3))\n",
    "B = np.random.randint(1,10,(3,3))\n",
    "print(A)\n",
    "print()\n",
    "print(B)\n",
    "C = np.array([[\"A\",\"B\",\"c\"],[\"D\",\"E\",\"F\"],[\"G\",\"H\",\"I\"]])\n",
    "print()\n",
    "print(C)"
   ]
  },
  {
   "cell_type": "code",
   "execution_count": null,
   "id": "b866e6fc",
   "metadata": {
    "scrolled": true
   },
   "outputs": [],
   "source": [
    "np.any(A ==0)"
   ]
  },
  {
   "cell_type": "code",
   "execution_count": null,
   "id": "0d950bd1",
   "metadata": {
    "scrolled": true
   },
   "outputs": [],
   "source": [
    "A==B # se comparan los elementos que estan en la misma posicion"
   ]
  },
  {
   "cell_type": "code",
   "execution_count": null,
   "id": "78cd552e",
   "metadata": {},
   "outputs": [],
   "source": [
    "C[A==B] # Devuelve el vector con los elementos que estan en la posicion donde se cumple la condicion"
   ]
  },
  {
   "cell_type": "code",
   "execution_count": null,
   "id": "9568773a",
   "metadata": {
    "scrolled": true
   },
   "outputs": [],
   "source": [
    "A[B==A] \n"
   ]
  },
  {
   "cell_type": "code",
   "execution_count": null,
   "id": "62b60f69",
   "metadata": {
    "scrolled": true
   },
   "outputs": [],
   "source": [
    "c = np.ones((3,3))\n",
    "c"
   ]
  },
  {
   "cell_type": "code",
   "execution_count": null,
   "id": "7dee20b4",
   "metadata": {},
   "outputs": [],
   "source": [
    "c==1"
   ]
  },
  {
   "cell_type": "code",
   "execution_count": null,
   "id": "35e63363",
   "metadata": {
    "scrolled": true
   },
   "outputs": [],
   "source": [
    "np.all(c==1)"
   ]
  },
  {
   "cell_type": "code",
   "execution_count": null,
   "id": "0ae76e66",
   "metadata": {
    "scrolled": false
   },
   "outputs": [],
   "source": [
    "#np.where()\n",
    "A = np.random.randint(1,10,10)\n",
    "print(A)\n",
    "print(np.where(A>5))\n",
    "print(np.where(A>5)[0])\n",
    "print(len(np.where(A>5)[0]))\n"
   ]
  },
  {
   "cell_type": "code",
   "execution_count": null,
   "id": "21b9706f",
   "metadata": {},
   "outputs": [],
   "source": [
    "#np.where(condicion)\n",
    "#np.where(condicion,)\n",
    "B= np.array([[4,5],[5,2]])\n",
    "print(B)\n",
    "np.where(B==5)\n"
   ]
  },
  {
   "cell_type": "code",
   "execution_count": null,
   "id": "de79f164",
   "metadata": {
    "scrolled": true
   },
   "outputs": [],
   "source": [
    "M = np.random.randint(0,101,(5,5))\n",
    "M"
   ]
  },
  {
   "cell_type": "code",
   "execution_count": null,
   "id": "cfaecebf",
   "metadata": {
    "scrolled": false
   },
   "outputs": [],
   "source": [
    "M_nueva = np.where(M>50,0,1) # matriz donde el valor de celda es uno si paso la materia, 0 caso contrario\n",
    "print(M_nueva)\n",
    "materias = [\"Matematica\",\"Fisica\",\"Quimica\",\"Biologia\",\"comunicacion\"] # representan las filas \n",
    "estudiantes = [\"Pepe\",\"jose\",\"Mario\",\"Lucas\",\"Maria\"] # representan las columnas"
   ]
  },
  {
   "cell_type": "code",
   "execution_count": null,
   "id": "77845247",
   "metadata": {},
   "outputs": [],
   "source": [
    "# Mostrar las materias que paso cada estudiante\n",
    "# D = { estudiante1 :  [materia1, materia3]}\n",
    "# iterar por estudiante columna\n",
    "d = dict()\n",
    "v_materias = np.array(materias)\n",
    "for j in range(len(estudiantes)):\n",
    "    columna = M_nueva[:,j]\n",
    "    condicion = columna!=0\n",
    "    materias_AP = v_materias[condicion]\n",
    "    estudiante = estudiantes[j]\n",
    "    d[estudiante] = materias_AP.tolist()\n",
    "print(d)"
   ]
  },
  {
   "cell_type": "code",
   "execution_count": null,
   "id": "57d6f2fc",
   "metadata": {},
   "outputs": [],
   "source": []
  },
  {
   "cell_type": "code",
   "execution_count": null,
   "id": "0754ee1f",
   "metadata": {},
   "outputs": [],
   "source": []
  }
 ],
 "metadata": {
  "kernelspec": {
   "display_name": "Python 3",
   "language": "python",
   "name": "python3"
  },
  "language_info": {
   "codemirror_mode": {
    "name": "ipython",
    "version": 3
   },
   "file_extension": ".py",
   "mimetype": "text/x-python",
   "name": "python",
   "nbconvert_exporter": "python",
   "pygments_lexer": "ipython3",
   "version": "3.9.5"
  }
 },
 "nbformat": 4,
 "nbformat_minor": 5
}
