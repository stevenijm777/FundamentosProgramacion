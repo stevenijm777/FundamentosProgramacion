{
 "cells": [
  {
   "cell_type": "markdown",
   "id": "44593a1d",
   "metadata": {},
   "source": [
    "# Numpy"
   ]
  },
  {
   "cell_type": "markdown",
   "id": "cdc3bb05",
   "metadata": {},
   "source": [
    "Los arreglos pueden realizar operaciones con datos numéricos mucho más rápido, y en general son más eficientes que las listas.\n",
    "* Una colección de elementos que son todos del mismo tipo (float o int)\n",
    "* Una o más dimensiones (2)\n",
    "* Que son indexados por una tupla de enteros no negativos."
   ]
  },
  {
   "cell_type": "code",
   "execution_count": 2,
   "id": "7ff043dd",
   "metadata": {},
   "outputs": [],
   "source": [
    "# importar Modulo\n",
    "import numpy as np"
   ]
  },
  {
   "cell_type": "code",
   "execution_count": 2,
   "id": "a71c4dcd",
   "metadata": {
    "scrolled": true
   },
   "outputs": [
    {
     "data": {
      "text/plain": [
       "array([1. , 5. , 7. , 9.5])"
      ]
     },
     "execution_count": 2,
     "metadata": {},
     "output_type": "execute_result"
    }
   ],
   "source": [
    "vector1 = np.array([1,5,7,9.5])\n",
    "vector1"
   ]
  },
  {
   "cell_type": "code",
   "execution_count": 3,
   "id": "866986cd",
   "metadata": {},
   "outputs": [
    {
     "data": {
      "text/plain": [
       "array(['a', 'b', 'c'], dtype='<U1')"
      ]
     },
     "execution_count": 3,
     "metadata": {},
     "output_type": "execute_result"
    }
   ],
   "source": [
    "v = np.array([\"a\",\"b\",\"c\"])\n",
    "v"
   ]
  },
  {
   "cell_type": "code",
   "execution_count": 10,
   "id": "bdce7396",
   "metadata": {
    "scrolled": true
   },
   "outputs": [
    {
     "name": "stdout",
     "output_type": "stream",
     "text": [
      "[ 2  6  8 10]\n",
      "[ 2  6  8 10]\n"
     ]
    }
   ],
   "source": [
    "# crear un vector\n",
    "# np.array(Lista, tipo)\n",
    "vector1 = np.array([1,5,7,9.5],int)\n",
    "vector2 = vector1.copy()\n",
    "vector2+=1\n",
    "print(vector1)\n",
    "print(vector2)"
   ]
  },
  {
   "cell_type": "code",
   "execution_count": null,
   "id": "80840993",
   "metadata": {},
   "outputs": [],
   "source": [
    "# A.tolist()\n",
    "lista = vector1.tolist()\n",
    "lista"
   ]
  },
  {
   "cell_type": "code",
   "execution_count": null,
   "id": "841b65c0",
   "metadata": {},
   "outputs": [],
   "source": [
    "notas= np.array([ 4.13 , 3.76, 3.68, 1.62 , 8.77, 8.70, 8.89, 6.75])\n",
    "notas[-1]"
   ]
  },
  {
   "cell_type": "code",
   "execution_count": 11,
   "id": "30900087",
   "metadata": {
    "scrolled": false
   },
   "outputs": [
    {
     "name": "stdout",
     "output_type": "stream",
     "text": [
      "4\n"
     ]
    }
   ],
   "source": [
    "print(vector1.size)"
   ]
  },
  {
   "cell_type": "code",
   "execution_count": 12,
   "id": "397c7318",
   "metadata": {},
   "outputs": [
    {
     "name": "stdout",
     "output_type": "stream",
     "text": [
      "(4,)\n"
     ]
    }
   ],
   "source": [
    "print(vector1.shape)"
   ]
  },
  {
   "cell_type": "code",
   "execution_count": 13,
   "id": "3810f64e",
   "metadata": {
    "scrolled": true
   },
   "outputs": [
    {
     "data": {
      "text/plain": [
       "[[0.0, 1.0, 2.0, 3.0], [1.0, 1.0, 1.0, 1.0], [2.0, 2.0, 2.0, 2.0]]"
      ]
     },
     "execution_count": 13,
     "metadata": {},
     "output_type": "execute_result"
    }
   ],
   "source": [
    "M = np.array([[0,1,2,3],[1,1,1,1],[2,2,2,2]],float)\n",
    "lista = M.tolist()\n",
    "lista"
   ]
  },
  {
   "cell_type": "code",
   "execution_count": 14,
   "id": "614874f2",
   "metadata": {},
   "outputs": [
    {
     "data": {
      "text/plain": [
       "(3, 4)"
      ]
     },
     "execution_count": 14,
     "metadata": {},
     "output_type": "execute_result"
    }
   ],
   "source": [
    "M.shape"
   ]
  },
  {
   "cell_type": "code",
   "execution_count": 15,
   "id": "ce5804dc",
   "metadata": {
    "scrolled": true
   },
   "outputs": [
    {
     "data": {
      "text/plain": [
       "array([[ 2,  4,  6,  8],\n",
       "       [ 8, 10, 12, 14]])"
      ]
     },
     "execution_count": 15,
     "metadata": {},
     "output_type": "execute_result"
    }
   ],
   "source": [
    "#Matriz\n",
    "M = np.array([[2,4,6,8],[8,10,12,14]])\n",
    "M"
   ]
  },
  {
   "cell_type": "code",
   "execution_count": null,
   "id": "e18ad0f7",
   "metadata": {
    "scrolled": true
   },
   "outputs": [],
   "source": [
    "M.size"
   ]
  },
  {
   "cell_type": "code",
   "execution_count": null,
   "id": "63f12f1a",
   "metadata": {},
   "outputs": [],
   "source": [
    "M.shape"
   ]
  },
  {
   "cell_type": "code",
   "execution_count": 16,
   "id": "13cb82bd",
   "metadata": {},
   "outputs": [
    {
     "data": {
      "text/plain": [
       "array([[0., 0., 0., 0.],\n",
       "       [0., 0., 0., 0.]])"
      ]
     },
     "execution_count": 16,
     "metadata": {},
     "output_type": "execute_result"
    }
   ],
   "source": [
    "C= np.zeros(M.shape)\n",
    "C"
   ]
  },
  {
   "cell_type": "code",
   "execution_count": 18,
   "id": "49f7afa7",
   "metadata": {
    "scrolled": false
   },
   "outputs": [
    {
     "data": {
      "text/plain": [
       "8"
      ]
     },
     "execution_count": 18,
     "metadata": {},
     "output_type": "execute_result"
    }
   ],
   "source": [
    "C.size"
   ]
  },
  {
   "cell_type": "code",
   "execution_count": 17,
   "id": "7ea79e22",
   "metadata": {
    "scrolled": true
   },
   "outputs": [
    {
     "data": {
      "text/plain": [
       "array([0., 0., 0., 0., 0., 0., 0., 0., 0., 0.])"
      ]
     },
     "execution_count": 17,
     "metadata": {},
     "output_type": "execute_result"
    }
   ],
   "source": [
    "np.zeros(10)"
   ]
  },
  {
   "cell_type": "code",
   "execution_count": 23,
   "id": "eb2bd1a7",
   "metadata": {},
   "outputs": [
    {
     "data": {
      "text/plain": [
       "array([1., 1., 1., 1., 1., 1., 1., 1., 1., 1.])"
      ]
     },
     "execution_count": 23,
     "metadata": {},
     "output_type": "execute_result"
    }
   ],
   "source": [
    "np.ones(10)"
   ]
  },
  {
   "cell_type": "code",
   "execution_count": 22,
   "id": "81ce07fb",
   "metadata": {
    "scrolled": false
   },
   "outputs": [
    {
     "data": {
      "text/plain": [
       "array([[10., 10., 10., 10.],\n",
       "       [10., 10., 10., 10.]])"
      ]
     },
     "execution_count": 22,
     "metadata": {},
     "output_type": "execute_result"
    }
   ],
   "source": [
    "np.full(M.shape,10.)"
   ]
  },
  {
   "cell_type": "code",
   "execution_count": 25,
   "id": "6c9da9ce",
   "metadata": {
    "scrolled": true
   },
   "outputs": [
    {
     "data": {
      "text/plain": [
       "array([[868, 597, 992],\n",
       "       [374, 994, 997]])"
      ]
     },
     "execution_count": 25,
     "metadata": {},
     "output_type": "execute_result"
    }
   ],
   "source": [
    "# retorna una matriz \n",
    "# np.random.randint(desde, hasta_sinIncluir, size = (fil,cols))\n",
    "A=np.random.randint(100,1000,(2,3))\n",
    "A"
   ]
  },
  {
   "cell_type": "code",
   "execution_count": 26,
   "id": "435c780a",
   "metadata": {},
   "outputs": [
    {
     "data": {
      "text/plain": [
       "array([0, 2, 1, 2, 0, 1, 0, 1, 1, 1, 2, 0, 1, 0, 1])"
      ]
     },
     "execution_count": 26,
     "metadata": {},
     "output_type": "execute_result"
    }
   ],
   "source": [
    "vector = np.random.randint(3,size=15)\n",
    "vector"
   ]
  },
  {
   "cell_type": "code",
   "execution_count": 27,
   "id": "61d69115",
   "metadata": {
    "scrolled": false
   },
   "outputs": [
    {
     "data": {
      "text/plain": [
       "array([[868, 597],\n",
       "       [992, 374],\n",
       "       [994, 997]])"
      ]
     },
     "execution_count": 27,
     "metadata": {},
     "output_type": "execute_result"
    }
   ],
   "source": [
    "# reordena una matriz\n",
    "B=A.reshape((3,2))\n",
    "B"
   ]
  },
  {
   "cell_type": "code",
   "execution_count": 28,
   "id": "ba4166a9",
   "metadata": {
    "scrolled": false
   },
   "outputs": [
    {
     "data": {
      "text/plain": [
       "array([868, 597, 992, 374, 994, 997])"
      ]
     },
     "execution_count": 28,
     "metadata": {},
     "output_type": "execute_result"
    }
   ],
   "source": [
    "B.reshape((6,))"
   ]
  },
  {
   "cell_type": "code",
   "execution_count": null,
   "id": "fa960ad9",
   "metadata": {
    "scrolled": false
   },
   "outputs": [],
   "source": [
    "C = np.arange(9,0,-1)\n",
    "C"
   ]
  },
  {
   "cell_type": "markdown",
   "id": "567765dd",
   "metadata": {},
   "source": [
    "                 Jose             Juan\n",
    "             1P    |  2P   | 1P    |  2P\n",
    "Matematicas: 71.73 | 91.68 | 81.71 | 61.89\n",
    "    Fisica :"
   ]
  },
  {
   "cell_type": "code",
   "execution_count": 30,
   "id": "7a322f4a",
   "metadata": {
    "scrolled": true
   },
   "outputs": [
    {
     "data": {
      "text/plain": [
       "dtype('int32')"
      ]
     },
     "execution_count": 30,
     "metadata": {},
     "output_type": "execute_result"
    }
   ],
   "source": [
    "B.dtype"
   ]
  },
  {
   "cell_type": "code",
   "execution_count": 5,
   "id": "b593f2a9",
   "metadata": {},
   "outputs": [
    {
     "data": {
      "text/plain": [
       "array([1, 2, 4, 5])"
      ]
     },
     "execution_count": 5,
     "metadata": {},
     "output_type": "execute_result"
    }
   ],
   "source": [
    "A = np.array([1,1,1,1,5,5,5,2,1,5,4,4])\n",
    "B = np.unique(A)\n",
    "B"
   ]
  },
  {
   "cell_type": "code",
   "execution_count": null,
   "id": "265af7db",
   "metadata": {
    "scrolled": true
   },
   "outputs": [],
   "source": [
    "M = np.array([[ 71.73, 91.68, 81.71, 61.89, 21.79, 45.56],\n",
    "              [ 65.4 , 59.2 , 63.6 , 88.4 , 68.7, 56.78 ],\n",
    "              [ 68.4 , 79.2 , 53.6 , 48.4 , 98.7, 56.78 ]])\n",
    "M"
   ]
  },
  {
   "cell_type": "markdown",
   "id": "a3edb8a1",
   "metadata": {},
   "source": [
    "nom_Matriz[ini_Fila:Fin_Fila, Ini_Col:Fin_Col]\n",
    "nom_Matriz[:,:]\n",
    "nom_Matriz[fila,columna] # sacar un elemento de mi matriz\n"
   ]
  },
  {
   "cell_type": "code",
   "execution_count": null,
   "id": "959621b6",
   "metadata": {},
   "outputs": [],
   "source": [
    "# Sacar la segunda fila\n",
    "# Sacar toda una fila\n",
    "# M[fila,:]\n",
    "M[1,:]"
   ]
  },
  {
   "cell_type": "code",
   "execution_count": null,
   "id": "81c17dbf",
   "metadata": {
    "scrolled": true
   },
   "outputs": [],
   "source": [
    "# Sacar toda una columna\n",
    "# M[:,columna]\n",
    "# Sacar la tercera columna\n",
    "M[:,2]"
   ]
  },
  {
   "cell_type": "code",
   "execution_count": null,
   "id": "89ebe00e",
   "metadata": {},
   "outputs": [],
   "source": [
    "# Sacar un elemento de la Matriz\n",
    "# M[fila, columna]\n",
    "M[1,1]"
   ]
  },
  {
   "cell_type": "code",
   "execution_count": null,
   "id": "d5489067",
   "metadata": {},
   "outputs": [],
   "source": [
    "# Sacar una parte de la matriz\n",
    "# Sacar notas de jose\n",
    "M [:,0:2]"
   ]
  },
  {
   "cell_type": "code",
   "execution_count": null,
   "id": "c93c24ec",
   "metadata": {},
   "outputs": [],
   "source": [
    "# Slicing a una Matriz\n",
    "# M[iniFila: finFila, iniCol: finCol]"
   ]
  },
  {
   "cell_type": "code",
   "execution_count": null,
   "id": "b10acd41",
   "metadata": {
    "scrolled": true
   },
   "outputs": [],
   "source": [
    "Matriz = np.random.randint(1,10, size = (5,10))\n",
    "Matriz"
   ]
  },
  {
   "cell_type": "code",
   "execution_count": null,
   "id": "770e0934",
   "metadata": {
    "scrolled": true
   },
   "outputs": [],
   "source": [
    "Matriz[1:3,:]"
   ]
  },
  {
   "cell_type": "code",
   "execution_count": null,
   "id": "0f6a87fc",
   "metadata": {
    "scrolled": false
   },
   "outputs": [],
   "source": [
    "Matriz[3,:]"
   ]
  },
  {
   "cell_type": "code",
   "execution_count": null,
   "id": "c3162201",
   "metadata": {
    "scrolled": true
   },
   "outputs": [],
   "source": [
    "Matriz2 = np.array([[ 1.73, 1.68, 1.71, 1.89, 1.79],\n",
    "                    [ 65.4 , 59.2 , 63.6 , 88.4 , 68.7 ]])\n",
    "Matriz2[:,1:3] -= 10\n",
    "\n",
    "print(\"2....\")\n",
    "print(Matriz2)"
   ]
  }
 ],
 "metadata": {
  "kernelspec": {
   "display_name": "Python 3",
   "language": "python",
   "name": "python3"
  },
  "language_info": {
   "codemirror_mode": {
    "name": "ipython",
    "version": 3
   },
   "file_extension": ".py",
   "mimetype": "text/x-python",
   "name": "python",
   "nbconvert_exporter": "python",
   "pygments_lexer": "ipython3",
   "version": "3.9.5"
  }
 },
 "nbformat": 4,
 "nbformat_minor": 5
}
