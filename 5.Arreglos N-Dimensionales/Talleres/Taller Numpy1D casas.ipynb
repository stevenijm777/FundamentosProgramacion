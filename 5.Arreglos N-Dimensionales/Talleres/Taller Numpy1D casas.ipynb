{
 "cells": [
  {
   "cell_type": "markdown",
   "id": "c048b8b0",
   "metadata": {},
   "source": [
    "# Taller NumPy 1D\n",
    "\n",
    "## Ejercicio 1\n",
    "\n",
    "En este taller usarás lo aprendido en NumPy, para analizar datos. Para esto, se te provee un archivo llamado datos_casas.csv, que contiene las direcciones de casas y los precios. El formato del archivo es:\n",
    "\n",
    "__direccion,area,cuartos,banos,precio,pais__\n",
    "\n",
    "Escribiras un programa que, usando NumPy responda las siguientes preguntas. Primero necesitar:\n",
    "\n",
    "1. ¿Cuál es el precio promedio de todas las casas?\n",
    "\n",
    "2. ¿Cuál es el área total de las casas con 3 cuartos?\n",
    "\n",
    "3. ¿Cuántas casas tienen precios mayores a $100000, y 2 cuartos?\n",
    "\n",
    "4. Muestre las direcciones de las 4 casas más baratas, y sus precios.\n",
    "\n",
    "5. De Las casas con 3 y 4 cuartos, muestre los países de las 2 casas con mayor precio.\n",
    "\n",
    "6. DE las casas que tiene un precio menor al promedio de todas las casas, muestre el promedio de precio y de habitaciones.\n",
    "\n",
    "7.\tDebemos calcular el precio final de ventas de las casas. Para esto se necesitamos aplicar los siguientes impuestos:\n",
    "\n",
    "    * Si la casa cuesta menos de $100 000, solo paga IVA 12%\n",
    "    * Si cuesta más de $100 000, debe aplicar IVA (12%) y plusvalía (15%).\n",
    "Genera un nuevo arreglo con los precios de las casas. Muestre cuál es el precio promedio de las casas una vez aplicado los impuestos.\n",
    "\n",
    "Para cada pregunta, haga que su programa muestre un string con formato, con la respuesta. Por ejemplo, para la primera pregunta, deberá imprimir el mensaje:\n",
    "\n",
    "__\"El precio promedio de todas las casas es $89345.34\"__\n",
    "\n",
    "Para hacer este taller, necesitará leer el archivo, y generar arreglos de NumPy paralelos.\n",
    "\n",
    "Para esto, puedes leer el archivo línea por línea y separar los datos de la línea, y agregarlos a listas, y cuando ya tenga estas listas, puedes convertirlas a arreglos de NumPy usando np.array() un código similar a este:"
   ]
  },
  {
   "cell_type": "code",
   "execution_count": 1,
   "id": "36d13299",
   "metadata": {},
   "outputs": [],
   "source": [
    "import numpy as np"
   ]
  },
  {
   "cell_type": "markdown",
   "id": "b3da2f32",
   "metadata": {},
   "source": [
    "direccion,area,cuartos,banos,precio,pais\n",
    "5 Nancy Parkway,95,5,3,165024,Gambia\n",
    "6 Manufacturers Park,169,4,1,142173,Brazil\n",
    "09 Michigan Circle,210,1,2,177667,Russia\n",
    "8 Eastwood Center,180,3,1,146295,Ukraine\n",
    "5 Coleman Street,181,5,3,164613,Colombia\n",
    "67 Goodland Place,203,2,3,193336,Portugal\n",
    "563 Sachtjen Court,169,2,2,92802,Thailand\n",
    "4 Dayton Circle,117,3,1,91456,Afghanistan"
   ]
  },
  {
   "cell_type": "code",
   "execution_count": null,
   "id": "d52dcf63",
   "metadata": {},
   "outputs": [],
   "source": [
    "def datos(nomArchivo):\n",
    "    l_direcciones = []\n",
    "    l_areas = []\n",
    "    l_cuartos = []\n",
    "    l_banos = []\n",
    "    l_precios = []\n",
    "    l_paises = []\n",
    "    f = open(nomArchivo, \"r\")\n",
    "    f.readline()\n",
    "    for linea in f:\n",
    "        direccion,area,cuartos,banos,precio,pais = linea.strip().split(\",\")\n",
    "        l_direcciones.append(direccion)\n",
    "        l_areas.append(int(area))\n",
    "        l_cuartos.append(int(cuartos))\n",
    "        l_banos.append(int(banos))\n",
    "        l_precios.append(float(precio))\n",
    "        l_paises.append(pais)\n",
    "        l_direcciones = []\n",
    "    v_direcciones = np.array(l_direcciones)\n",
    "    v_areas = np.array(l_areas)\n",
    "    v_cuartos = np.array(l_cuartos)\n",
    "    v_banos = np.array(l_banos)\n",
    "    v_precios = np.array(l_precios)\n",
    "    v_paises = np.array(l_paises)\n",
    "    return v_areas,..."
   ]
  },
  {
   "cell_type": "code",
   "execution_count": null,
   "id": "01c01396",
   "metadata": {},
   "outputs": [],
   "source": [
    "def promedioCasas(v_precios):\n",
    "    v_proms = v_precios.mean()\n",
    "    return v_proms   "
   ]
  },
  {
   "cell_type": "code",
   "execution_count": null,
   "id": "729faea2",
   "metadata": {},
   "outputs": [],
   "source": [
    "def totalAreas(v_areas, v_cuartos, cuarto): # 3\n",
    "    cuar = np.where(v_cuartos == cuarto)\n",
    "    areas = v_areas[cuar]\n",
    "    return areas.sum()"
   ]
  },
  {
   "cell_type": "code",
   "execution_count": null,
   "id": "981929a1",
   "metadata": {},
   "outputs": [],
   "source": [
    "def casasCaras(v_precios, v_cuartos,cuarto): #2\n",
    "    pre = np.where(v_precio >= 10000)\n",
    "    habit = np.where(v_cuartos == cuarto)\n",
    "    cont = 0 \n",
    "    for elem in pre: \n",
    "        if elem in habit:\n",
    "            cont+=1\n",
    "    return cont"
   ]
  },
  {
   "cell_type": "code",
   "execution_count": null,
   "id": "1bc6ac8e",
   "metadata": {},
   "outputs": [],
   "source": [
    "def casasCaras(v_precios, v_cuartos,cuarto, precio): #2 # 10000\n",
    "    cond1 = v_precios >= precio\n",
    "    cond2 = v_cuartos == cuarto\n",
    "    cant = v_precios[cond1 == cond2].size\n",
    "    return cant"
   ]
  },
  {
   "cell_type": "code",
   "execution_count": null,
   "id": "6d9c6d8d",
   "metadata": {},
   "outputs": [],
   "source": [
    "# Muestre las direcciones de las 4 casas más baratas, y sus precios.\n",
    "def casasBaratas(v_precios,v_direciones,n): # n = 4\n",
    "    orden = v_precios.argsort()\n",
    "    top = orden[:n]\n",
    "    d = v_direciones[top]\n",
    "    return d"
   ]
  },
  {
   "cell_type": "code",
   "execution_count": null,
   "id": "d986f87e",
   "metadata": {},
   "outputs": [],
   "source": [
    "#~De Las casas con 3 y 4 cuartos, muestre los países de las 2 casas con mayor precio\n",
    "def casas_cuartos(v_cuartos,num1,num2): # 3,4\n",
    "    ind1 = np.where(c==num1)[0] # ([0 3],)            [0 3]\n",
    "    ind2 = np.where(c==num2)[0] # [2 4]\n",
    "    l_ind1 = ind1.tolist()\n",
    "    l_ind2 = ind2.tolist()\n",
    "    l_ind1.extend(l_ind2)\n",
    "    l_ind1\n",
    "    v_inds = np.array(l_ind1)\n",
    "    return v_inds\n",
    "    "
   ]
  },
  {
   "cell_type": "code",
   "execution_count": 29,
   "id": "749dc6b2",
   "metadata": {
    "scrolled": true
   },
   "outputs": [
    {
     "name": "stdout",
     "output_type": "stream",
     "text": [
      "[3 2 4 3 4]\n",
      "['A' 'B' 'C' 'D' 'F']\n",
      "[127 181 179 125 168]\n"
     ]
    }
   ],
   "source": [
    "c = np.array([3,2,4,3,4]\n",
    "pa = np.array([\"A\",\"B\",\"C\",\"D\",\"F\"])\n",
    "p = np.random.randint(100,200,5)\n",
    "print(c)\n",
    "print(pa)\n",
    "print(p)"
   ]
  },
  {
   "cell_type": "code",
   "execution_count": 36,
   "id": "d158baa2",
   "metadata": {},
   "outputs": [
    {
     "name": "stdout",
     "output_type": "stream",
     "text": [
      "['A' 'D' 'C' 'F']\n",
      "[127 125 179 168]\n"
     ]
    }
   ],
   "source": [
    "c = np.array([3,2,4,3,4])\n",
    "ind1 = np.where(c==3)[0] # ([0 3],)            [0 3]\n",
    "ind2 = np.where(c==4)[0] # [2 4]\n",
    "l_ind1 = ind1.tolist()\n",
    "l_ind2 = ind2.tolist()\n",
    "l_ind1.extend(l_ind2)\n",
    "l_ind1\n",
    "v_inds = np.array(l_ind1)\n",
    "v_inds\n",
    "\n",
    "print(pa[v_inds])\n",
    "print(p[v_inds])"
   ]
  },
  {
   "cell_type": "code",
   "execution_count": 24,
   "id": "c1dd21bb",
   "metadata": {},
   "outputs": [
    {
     "name": "stdout",
     "output_type": "stream",
     "text": [
      "[170 195 195 127 186]\n"
     ]
    }
   ],
   "source": [
    "p= np.random.randint(100,200,5)\n",
    "n = 3\n",
    "d = np.array([\"A\",\"B\",\"C\",\"D\",\"F\"])\n",
    "print(p)"
   ]
  },
  {
   "cell_type": "code",
   "execution_count": 27,
   "id": "09251949",
   "metadata": {},
   "outputs": [
    {
     "name": "stdout",
     "output_type": "stream",
     "text": [
      "['D' 'A' 'F']\n"
     ]
    }
   ],
   "source": [
    "orden = p.argsort()\n",
    "top = orden[:n]\n",
    "print(d[top])"
   ]
  },
  {
   "cell_type": "code",
   "execution_count": 7,
   "id": "c6608852",
   "metadata": {
    "scrolled": true
   },
   "outputs": [
    {
     "name": "stdout",
     "output_type": "stream",
     "text": [
      "(array([0, 7, 9], dtype=int64),)\n",
      "[3 3 3]\n"
     ]
    }
   ],
   "source": [
    "v = np.where(a==3)\n",
    "print(v)\n",
    "print(a[v])\n"
   ]
  },
  {
   "cell_type": "code",
   "execution_count": 5,
   "id": "e47a53a5",
   "metadata": {},
   "outputs": [
    {
     "data": {
      "text/plain": [
       "array([ True, False, False, False, False, False, False,  True, False,\n",
       "        True])"
      ]
     },
     "execution_count": 5,
     "metadata": {},
     "output_type": "execute_result"
    }
   ],
   "source": [
    "z= a==3\n",
    "z"
   ]
  },
  {
   "cell_type": "code",
   "execution_count": 17,
   "id": "179de5b7",
   "metadata": {
    "scrolled": true
   },
   "outputs": [
    {
     "name": "stdout",
     "output_type": "stream",
     "text": [
      "2\n"
     ]
    }
   ],
   "source": [
    "c = np.array([0, 2, 3, 4])\n",
    "h = np.array([2,3])\n",
    "cont = 0 # 2\n",
    "for elem in c: #\n",
    "    if elem in h:\n",
    "        cont+=1\n",
    "print(cont)"
   ]
  },
  {
   "cell_type": "code",
   "execution_count": 23,
   "id": "ba4fe73d",
   "metadata": {},
   "outputs": [
    {
     "name": "stdout",
     "output_type": "stream",
     "text": [
      "[False  True  True  True False]\n",
      "[ True False  True  True  True]\n",
      "\n",
      "[False False  True  True False]\n",
      "2\n"
     ]
    }
   ],
   "source": [
    "c = np.array([3,2,2,2,5])\n",
    "p = np.array([100,25,125,100,200])\n",
    "cond1 = c==2\n",
    "cond2 = p>=75 \n",
    "print(cond1)\n",
    "print(cond2)\n",
    "print()\n",
    "print(cond1 == cond2)\n",
    "x = c[cond1== cond2].size\n",
    "print(x)"
   ]
  },
  {
   "cell_type": "code",
   "execution_count": null,
   "id": "af4ac548",
   "metadata": {},
   "outputs": [],
   "source": []
  }
 ],
 "metadata": {
  "kernelspec": {
   "display_name": "Python 3",
   "language": "python",
   "name": "python3"
  },
  "language_info": {
   "codemirror_mode": {
    "name": "ipython",
    "version": 3
   },
   "file_extension": ".py",
   "mimetype": "text/x-python",
   "name": "python",
   "nbconvert_exporter": "python",
   "pygments_lexer": "ipython3",
   "version": "3.9.5"
  }
 },
 "nbformat": 4,
 "nbformat_minor": 5
}
