{
 "cells": [
  {
   "cell_type": "markdown",
   "id": "927f0435",
   "metadata": {},
   "source": [
    "# Taller NumPy 2D\n",
    "\n",
    "En este taller, tendras dos arreglos 2D de NumPy:\n",
    "\n",
    "* __arr_ventas__: arreglos con ventas en millones de dolares de medicinas en cada pais\n",
    "* __arr_efectos__ efectos secundarios promedio observados en cada pais para cada medicina\n",
    "\n",
    "Ambos arreglos tienen de filas las medicinas, y de columnas los paises. Tambien tienes las siguintes listas:\n",
    "\n",
    "```python\n",
    "medicinas =  ['Ibuprofeno', 'enzalutamida', ...]\n",
    "\n",
    "america = ['Antigua and Barbuda', ...]\n",
    "africa = ['Algeria', ...]\n",
    "asia = ['Afghanistan', ...]\n",
    "oceania = ['Australia', ...]\n",
    "europa = ['Albania', ...]\n",
    "```\n",
    "\n",
    "Los paises en los arreglos estan en el siguiente orden: america, africa, asia, oceania y finalmente los paises de europa. Dentro de cada grupo, el orden de los paises es el mismo que en la lista correspondiente. Por ejemplo:\n",
    "\n",
    "    Antigua y Barbuda ... | Algeria ...  | ... | Albania ... \n",
    "\n",
    "Entonces usando NumPy responde las siguientes preguntas (muestra respueta con formato):\n",
    "\n",
    "1. ¿Cual es el total de ventas de de medicinas para Mexico?\n",
    "\n",
    "2. ¿Cuál es la medicina más vendida y el pais?\n",
    "\n",
    "3. ¿Cuales son las medicinas y paises con menos de 3 efectos secundarios? TIP: recuerda que si aplicas una condicion a un arreglo usando np.where(), la funcion te devolvera una arreglo de coordeandas (tuplas), que puedes usar para indexar el arreglo.\n",
    "\n",
    "4. Muestra el promedio de ventas para el contiente asiatico\n",
    "\n",
    "5. Muestra el nombre la medicina con menos ventas totales (y cuanto vendio)\n",
    "\n",
    "6. Muestra los 5 paises con menos ventas totales de medicinas (solo el nombre)\n",
    "\n",
    "7. Para cada continente, muestra la medicina que mas se vendio. TIP: usa slicing para seleccionar la parte del arreglo que tiene los datos que necesitas.\n",
    "\n",
    "8. Para el continente africano, muestra la medicina que tiene, en promedio, menores efectos secundarios.\n"
   ]
  },
  {
   "cell_type": "code",
   "execution_count": 1,
   "id": "8b408de0",
   "metadata": {},
   "outputs": [],
   "source": [
    "# funciones.py\n",
    "import random as rd\n",
    "import numpy as np\n",
    "\n",
    "def cargarDatos():\n",
    "    rd.seed(5)\n",
    "    meds = []\n",
    "    with open('medicinas.txt', 'r') as datafile:\n",
    "        for linea in datafile:\n",
    "            medicina = linea.strip()\n",
    "            meds.append(medicina)\n",
    "\n",
    "    continentes = {\n",
    "        'Asia': [],\n",
    "        'Africa': [],\n",
    "        'Oceania': [],\n",
    "        'America': [],\n",
    "        'Europe': []\n",
    "    }\n",
    "    with open('paises.txt', 'r') as datafile:\n",
    "        datafile.readline()\n",
    "        for linea in datafile:\n",
    "            data = linea.strip().split(',')\n",
    "            pais = data[1]\n",
    "            continente = data[0]\n",
    "            if 'America' in continente:\n",
    "                continente = 'America'\n",
    "            continentes[continente].append(pais)\n",
    "\n",
    "    paises = continentes['America'] + continentes['Africa'] + continentes['Asia'] + continentes['Oceania']  + continentes['Europe']\n",
    "    arr_ventas = np.zeros((len(meds), len(paises)))\n",
    "    arr_efectos = np.zeros((len(meds), len(paises)))\n",
    "\n",
    "    for i in range(arr_ventas.shape[0]):\n",
    "        for j in range(arr_ventas.shape[1]):\n",
    "            arr_ventas[i, j] = abs(rd.gauss(150000000, 12000000))\n",
    "            arr_efectos[i, j] = abs(rd.gauss(5,4))\n",
    "\n",
    "    return list(meds), continentes['America'], continentes['Africa'], continentes['Asia'], continentes['Oceania'],    continentes['Europe'], arr_ventas, arr_efectos"
   ]
  },
  {
   "cell_type": "code",
   "execution_count": 2,
   "id": "859d7c72",
   "metadata": {},
   "outputs": [],
   "source": [
    "medicinas, america, africa, asia, oceania, europa, arr_ventas, arr_efectos = cargarDatos()"
   ]
  },
  {
   "cell_type": "code",
   "execution_count": 8,
   "id": "470a952d",
   "metadata": {},
   "outputs": [
    {
     "data": {
      "text/plain": [
       "array([[ 0.40735728,  4.17564038,  4.02430907, ...,  3.11646579,\n",
       "        10.0491753 , 11.66369069],\n",
       "       [ 4.77150759,  8.8347162 ,  2.49396545, ...,  1.16739504,\n",
       "         6.5526543 ,  6.47054225],\n",
       "       [ 9.51528196,  9.1269283 ,  2.33679123, ...,  7.06879524,\n",
       "         9.72505037,  9.58303673],\n",
       "       ...,\n",
       "       [ 9.7199847 ,  5.89127206,  9.70423042, ...,  7.35217095,\n",
       "         6.19601789,  2.12344711],\n",
       "       [11.59261654,  1.55190755,  5.11874885, ...,  9.29631064,\n",
       "         8.10446039,  2.56125801],\n",
       "       [ 6.00923476,  3.98044603,  4.3495852 , ...,  4.20651096,\n",
       "         3.03588181,  1.82158221]])"
      ]
     },
     "execution_count": 8,
     "metadata": {},
     "output_type": "execute_result"
    }
   ],
   "source": [
    "arr_efectos"
   ]
  },
  {
   "cell_type": "code",
   "execution_count": 20,
   "id": "7cf94a52",
   "metadata": {
    "scrolled": false
   },
   "outputs": [
    {
     "data": {
      "text/plain": [
       "array([[13, 13,  5,  9,  9, 14],\n",
       "       [ 4,  7,  8, 10, 14,  5],\n",
       "       [ 9,  9, 14,  8,  7,  1],\n",
       "       [ 6,  9, 12,  4,  5, 11]])"
      ]
     },
     "execution_count": 20,
     "metadata": {},
     "output_type": "execute_result"
    }
   ],
   "source": [
    "E = np.random.randint(0,15,(4,6))\n",
    "E"
   ]
  },
  {
   "cell_type": "code",
   "execution_count": 11,
   "id": "4a9d1911",
   "metadata": {
    "scrolled": true
   },
   "outputs": [
    {
     "name": "stdout",
     "output_type": "stream",
     "text": [
      "[0 0 0 1 1 2 2 2 3 3]\n",
      "[2 3 4 0 1 0 3 4 0 4]\n"
     ]
    }
   ],
   "source": [
    "filas,cols = np.where(E<=3)\n",
    "print(filas)\n",
    "print(cols)"
   ]
  },
  {
   "cell_type": "code",
   "execution_count": 15,
   "id": "71408f4b",
   "metadata": {
    "scrolled": true
   },
   "outputs": [
    {
     "data": {
      "text/plain": [
       "array([0, 1, 2, 3, 4], dtype=int64)"
      ]
     },
     "execution_count": 15,
     "metadata": {},
     "output_type": "execute_result"
    }
   ],
   "source": [
    "ind_m = np.unique(filas)\n",
    "ind_p = np.unique(cols)\n",
    "ind_p"
   ]
  },
  {
   "cell_type": "code",
   "execution_count": null,
   "id": "e4e81048",
   "metadata": {},
   "outputs": [],
   "source": []
  },
  {
   "cell_type": "code",
   "execution_count": 3,
   "id": "fe0c40c9",
   "metadata": {},
   "outputs": [
    {
     "name": "stdout",
     "output_type": "stream",
     "text": [
      "El total de ventas de de medicinas para Mexico: 8461652513.551634 \n"
     ]
    }
   ],
   "source": [
    "# 1. ¿Cual es el total de ventas de de medicinas para Mexico?\n",
    "l_paises = america+africa+asia+oceania+europa\n",
    "v_paises = np.array(l_paises)\n",
    "indi_pais = np.where(v_paises == 'Mexico')[0][0] #indice del pais\n",
    "#print(indi_pais)\n",
    "colu_mexi = arr_ventas[:,indi_pais]\n",
    "suma_mexi =  colu_mexi.sum()\n",
    "print('El total de ventas de de medicinas para Mexico: {} '.format(suma_mexi))"
   ]
  },
  {
   "cell_type": "code",
   "execution_count": null,
   "id": "bf478fa6",
   "metadata": {},
   "outputs": [],
   "source": [
    "# 2. ¿Cuál es la medicina más vendida y el pais?\n",
    "# sacar el maximo de la matriz\n",
    "\n",
    "#sacar el maximo\n",
    "maxi = arr_ventas.max() # 95507\n",
    "# iteramos elemento a elemento\n",
    "columna = arr_venta.shape[1]\n",
    "fila = arr_ventas.shape[0]\n",
    "for i in range(fila):\n",
    "    for j in range(columna):\n",
    "        valor = arr_ventas[i,j]\n",
    "        if valor == maxi:\n",
    "            ind_fila = i\n",
    "            ind_col = j\n",
    "medi_mayor = medicinas[ind_fila]\n",
    "pais_mayor = paises[ind_col]\n",
    "   \n",
    "#print(id_mayor)\n",
    "print('La medicina más vendida es {} y el pais es {}'.format(medi_mayor,pais_mayor))\n"
   ]
  },
  {
   "cell_type": "code",
   "execution_count": 21,
   "id": "007ef172",
   "metadata": {},
   "outputs": [
    {
     "name": "stdout",
     "output_type": "stream",
     "text": [
      "['C']\n",
      "['china']\n"
     ]
    }
   ],
   "source": [
    "# 3. ¿Cuales son las medicinas y paises con menos de 3 efectos secundarios? \n",
    "v_filas,v_cols = np.where(E<=3)\n",
    "inds_f = np.unique(v_filas)\n",
    "inds_c = np.unique(v_cols)\n",
    "v_medicinas = np.array(medicinas)\n",
    "print(v_medicinas[inds_f])\n",
    "print(v_paises[inds_c])"
   ]
  },
  {
   "cell_type": "code",
   "execution_count": 23,
   "id": "6380c19b",
   "metadata": {
    "scrolled": true
   },
   "outputs": [
    {
     "name": "stdout",
     "output_type": "stream",
     "text": [
      "[152057, 159192, 127897, 220347, 205813, 207418]\n",
      "[2 0 1 4 5 3]\n",
      "['W' 'Z' 'X']\n",
      "los 5 paises con menos ventas totales de medicinas son :\n"
     ]
    }
   ],
   "source": [
    "#6\n",
    "paises_cantmenores = []\n",
    "col_pais= M.shape[1]\n",
    "for columna in range(col_pais):\n",
    "    vents =  M[:,columna]\n",
    "    sum_vents =  vents.sum()\n",
    "    paises_cantmenores.append(sum_vents)\n",
    "print(paises_cantmenores)\n",
    "vector =  np.array(paises_cantmenores)\n",
    "orden = vector.argsort()\n",
    "print(orden)\n",
    "inds_Top = orden[:3]\n",
    "print(v_paises[inds_Top])\n",
    "print('los 5 paises con menos ventas totales de medicinas son :')"
   ]
  },
  {
   "cell_type": "code",
   "execution_count": 7,
   "id": "b2d66c62",
   "metadata": {
    "scrolled": false
   },
   "outputs": [
    {
     "data": {
      "text/plain": [
       "array([[ 9724, 71051, 15533, 29882, 65788, 69029],\n",
       "       [23193, 31261, 15005, 37179,  7856, 95507],\n",
       "       [44370, 35953, 51063, 66833, 60394, 15213],\n",
       "       [74770, 20927, 46296, 86453, 71775, 27669]])"
      ]
     },
     "execution_count": 7,
     "metadata": {},
     "output_type": "execute_result"
    }
   ],
   "source": [
    "import numpy as np\n",
    "M = np.random.randint(0,100000,(4,6))\n",
    "M"
   ]
  },
  {
   "cell_type": "code",
   "execution_count": 18,
   "id": "103b95c9",
   "metadata": {},
   "outputs": [],
   "source": [
    "medicinas = [\"A\",\"B\",\"C\",\"D\"]\n",
    "america = [\"Z\",\"X\"];africa = [\"W\",\"Y\"]; asia=[\"corea\",\"china\"]\n",
    "paises = america+africa+asia.\n",
    "v_paises = np.array(paises)"
   ]
  },
  {
   "cell_type": "code",
   "execution_count": null,
   "id": "b0b58c99",
   "metadata": {},
   "outputs": [],
   "source": [
    "# Para cada continente, muestra la medicina que mas se vendio. \n",
    "ini_col = 0\n",
    "dicc = {'ámerica':america,'áfrica':africa,'ásia':asia}\n",
    "l_Med_cont = [] # A\n",
    "for continente in dicc: #'ámerica'\n",
    "    continentes =  len(dicc[continentes])\n",
    "    final_columna = ini_col+continentes\n",
    "    ini_col = final_columna\n",
    "    M_cont= M[:,ini_col:final_columna]\n",
    "    l_sumas = []\n",
    "    filas = M_cont.shape[0]\n",
    "    for i in range(filas): #1\n",
    "        fila = M_cont[i,:]\n",
    "        suma = fila.sum() #734223\n",
    "        l_sumas.append(suma)\n",
    "    v_sumas= np.array(l_sumas)\n",
    "    ind = v_sumas.argmax()\n",
    "    medicina = v_medicinas[ind] # A\n",
    "    L_Med_cont.append(medicina)\n",
    "\n",
    "\n",
    "\n",
    "    \n",
    "    "
   ]
  },
  {
   "cell_type": "code",
   "execution_count": null,
   "id": "ee742b48",
   "metadata": {},
   "outputs": [],
   "source": [
    "# Para cada continente, muestra la medicina que mas se vendio. \n",
    "ini_col = 0\n",
    "dicc = {'ámerica':america,'áfrica':africa,'ásia':asia}\n",
    "l_Med_cont = [] # A\n",
    "for continente in dicc: #'ámerica'\n",
    "    continentes =  len(dicc[continentes])\n",
    "    final_columna = ini_col+continentes\n",
    "    ini_col = final_columna\n",
    "    M_cont= M[:,ini_col:final_columna]\n",
    "    v_med_T = M_cont.sum(axis = 1)\n",
    "    i_med_m = v_med_T.argmax()\n",
    "    medicina = v_medicinas[i_med_m]\n",
    "    l_Med_cont.append(medicina)"
   ]
  },
  {
   "cell_type": "code",
   "execution_count": 25,
   "id": "77eabf2b",
   "metadata": {
    "scrolled": true
   },
   "outputs": [
    {
     "data": {
      "text/plain": [
       "array([11, 13, 14, 16])"
      ]
     },
     "execution_count": 25,
     "metadata": {},
     "output_type": "execute_result"
    }
   ],
   "source": [
    "N = np.random.randint(0,10,(4,3))\n",
    "N.sum(axis =1)"
   ]
  },
  {
   "cell_type": "code",
   "execution_count": null,
   "id": "a7470836",
   "metadata": {},
   "outputs": [],
   "source": []
  }
 ],
 "metadata": {
  "kernelspec": {
   "display_name": "Python 3",
   "language": "python",
   "name": "python3"
  },
  "language_info": {
   "codemirror_mode": {
    "name": "ipython",
    "version": 3
   },
   "file_extension": ".py",
   "mimetype": "text/x-python",
   "name": "python",
   "nbconvert_exporter": "python",
   "pygments_lexer": "ipython3",
   "version": "3.9.5"
  }
 },
 "nbformat": 4,
 "nbformat_minor": 5
}
