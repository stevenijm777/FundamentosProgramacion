{
 "cells": [
  {
   "cell_type": "markdown",
   "id": "bd51377c",
   "metadata": {},
   "source": [
    "# Sustentacion Tarea NumPy 2D\n",
    "\n",
    "En este ejercicio, te proveeran datos de gastos de salarios para distintas industrias, para distintos años. A ti te proveeran lo siguiente:\n",
    "\n",
    "* __M__: la matriz de salarios. Las filas son las industrias, y las columnas los años.\n",
    "* __años__: lista de años (etiquetas de columna de M). Los años en la matriz estan en el mismo orden que en la lista.\n",
    "* __industrias__: lista de industrias (etiquetas de fila de M). Las industrias en la matriz están en el mismo orden que en la lista.\n",
    "* __tipo_industrias__: diccionario con las industrias agrupadas por tipos. Las claves claves son los tipos de industrias, y los valores las industrias que pertenecen a ese tipo (lista)\n",
    "\n",
    "```python\n",
    "tipo_industrias = {\n",
    "    'agricultura': ['granjas', 'pesca'],\n",
    "    'mineria': ['petroleo', 'mineria', 'actividades soporte mineria'],\n",
    "    'servicios_basicos': ['servicios basicos'],\n",
    "    ...\n",
    "}\n",
    "```\n",
    "* __orden_tipos_industrias__: lista con los tipos de industrias (que son las claves del diccionario mencionado arriba), en el orden tal como estan en la matriz:\n",
    "\n",
    "```python\n",
    "orden_tipos_industrias = ['agricultura', 'mineria', 'servicios_basicos', 'construccion', 'manufactura_bienes_duraderos', ... ]\n",
    "```\n",
    "\n",
    "Por ejemplo, la lista de arriba nos dice que en la matriz primero estan las industrias de agricultura (granjas y pesca, filas 0 y 1), luego las de mineria (petroleo, mineria, actividades de soporte mineria, en las filas 2, 3 y 4 respectivamente, etc).\n",
    "\n",
    "\n",
    "Entonces, responde las siguientes preguntas y muestra el resultado __CON UN MENSAJE CON FORMATO__ usando __NumPy__:\n",
    "\n",
    "1. ¿Cuál es el total de gastos en salarios para la industria \"educacion\".\n",
    "2. ¿Cual es el promedio de gasto en salarios por industria en el año 2014?\n",
    "3. Para el tipo de industria comercio_por_menor, indique el año de mayor gasto para cada una de las industrias.\n",
    "4. Para la industria \"hospitales\", indique en que años gasto menos en salarios, que el promedio de salarios para dicha industria.\n",
    "5. Para los años 2005 a 2010, determine la industria con menor gasto total en salarios, y cuanto gasto.\n",
    "6. Indique, para cada año, las 6 industrias que mas gastaron en salarios\n",
    "7. Genere una nueva matriz de porcentaje de gasto, donde cada celda indica el porcentaje de gasto total en salarios para cada industria para el año determinado. Muestre el porcentaje de salarios para cada industria para el año 2000."
   ]
  },
  {
   "cell_type": "code",
   "execution_count": null,
   "id": "08faa201",
   "metadata": {},
   "outputs": [],
   "source": [
    "import numpy as np\n",
    "# ya nos dan esto.\n",
    "def cargarDatos():\n",
    "    años = []\n",
    "    industrias = []\n",
    "    tipos = []\n",
    "    datos_matriz = []\n",
    "    tipo_industrias = {}\n",
    "    orden_tipos_industrias = []\n",
    "\n",
    "    with open('datos.csv', 'r') as infile:\n",
    "\n",
    "        linea = infile.readline()\n",
    "        linea = linea.split(\",\")[2:-1]\n",
    "\n",
    "        #años\n",
    "        for año in linea:\n",
    "            año = año.replace('\"','')\n",
    "            años.append(int(año))\n",
    "\n",
    "        for linea in infile:\n",
    "            linea = linea.split(\",\")\n",
    "            tipo = linea[-1].strip().replace(' ', '_')\n",
    "            indusria = linea[1].replace('\"','').strip()\n",
    "\n",
    "            if tipo not in tipo_industrias:\n",
    "                tipo_industrias[tipo] = []\n",
    "                orden_tipos_industrias.append(tipo)\n",
    "            tipo_industrias[tipo].append(indusria.lower())\n",
    "\n",
    "            industrias.append(indusria.replace(\";\", ',').lower())\n",
    "\n",
    "            fila = []\n",
    "            for dato in linea[2:-1]:\n",
    "                dato = int(dato.replace('\"',''))\n",
    "                fila.append(dato)\n",
    "            datos_matriz.append(fila)\n",
    "\n",
    "    M = np.array(datos_matriz)\n",
    "    return M, años, tipo_industrias, orden_tipos_industrias, industrias\n"
   ]
  },
  {
   "cell_type": "code",
   "execution_count": null,
   "id": "36e3668f",
   "metadata": {},
   "outputs": [],
   "source": [
    "M, años, tipo_industrias, orden_tipos_industrias, industrias = cargarDatos()"
   ]
  },
  {
   "cell_type": "code",
   "execution_count": null,
   "id": "6cac4918",
   "metadata": {},
   "outputs": [],
   "source": [
    "print('\\nM = ')\n",
    "print(M)\n",
    "print('\\naños = ')\n",
    "print(años)\n",
    "print('\\nindustrias')\n",
    "print(industrias)\n",
    "print('\\ntipo_industrias = ')\n",
    "print(tipo_industrias)\n",
    "print('\\norden_tipos_industrias = ')\n",
    "print(orden_tipos_industrias)\n"
   ]
  },
  {
   "cell_type": "code",
   "execution_count": null,
   "id": "9880d203",
   "metadata": {},
   "outputs": [],
   "source": [
    "# Devuelve la matriz dependiendo de la industria\n",
    "def m_industria(industria,orden_tipos_industrias, industrias,tipo_industrias,M):\n",
    "    #            EDUCACION   [TIPOS_INDUSTRIAS] ,  [filas]  , dicc\n",
    "    ini_fila = 0\n",
    "    lista_M =[]\n",
    "    for tipo_industria in orden_tipos_industrias:# 'agricultura'\n",
    "        l_indust = tipos_industrias[tipo_industria] #['granjas', 'pesca']\n",
    "        cantidad = len(l_indust) #2\n",
    "        fin_fila = ini_fila+cantidad\n",
    "        M_peq = M[ini_fila:fin_fila,:]\n",
    "        ini_fila = fin_fila\n",
    "        lista_M.append(M_peq)\n",
    "    return lista_M[ind]          "
   ]
  },
  {
   "cell_type": "code",
   "execution_count": null,
   "id": "791c029c",
   "metadata": {},
   "outputs": [],
   "source": [
    "#1. ¿Cuál es el total de gastos en salarios para la industria \"educacion\".\n",
    "def m_industria(industria,orden_tipos_industrias, industrias,tipo_industrias,M):\n",
    "    #            EDUCACION   [TIPOS_INDUSTRIAS] ,  [filas]  , dicc\n",
    "    ini_fila = 0\n",
    "    for tipo_industria in orden_tipos_industrias:# 'agricultura'\n",
    "        l_indust = tipos_industrias[tipo_industria] #['granjas', 'pesca']\n",
    "        cantidad = len(l_indust) #2\n",
    "        fin_fila = ini_fila+cantidad\n",
    "        if tipo_industria == industria:\n",
    "            M_peq = M[ini_fila:fin_fila,:]\n",
    "            return M_peq\n",
    "        ini_fila = fin_fila"
   ]
  },
  {
   "cell_type": "code",
   "execution_count": null,
   "id": "9cb1e77c",
   "metadata": {},
   "outputs": [],
   "source": [
    "#1. ¿Cuál es el total de gastos en salarios para la industria \"educacion\".\n",
    "industria = \"educacion\"\n",
    "M_indst = m_industria(industria,orden_tipos_industrias, industrias,tipo_industrias,M)\n",
    "total_indst = M_indst.sum()"
   ]
  },
  {
   "cell_type": "markdown",
   "id": "03826ac0",
   "metadata": {},
   "source": [
    "¿Cual es el promedio de gasto en salarios por industria en el año 2014?"
   ]
  },
  {
   "cell_type": "code",
   "execution_count": null,
   "id": "256979ff",
   "metadata": {},
   "outputs": [],
   "source": [
    "posi = años.index(2014)\n",
    "columnas = M[:,posi]\n",
    "print('El promedio de gasto en salario por industria en el anio 2014 es: ',columnas.mean())"
   ]
  },
  {
   "cell_type": "markdown",
   "id": "6125d109",
   "metadata": {},
   "source": [
    "3. Para el tipo de industria comercio_por_menor, indique el año de mayor gasto para cada una de las industrias.\n"
   ]
  },
  {
   "cell_type": "code",
   "execution_count": null,
   "id": "8ca7217e",
   "metadata": {},
   "outputs": [],
   "source": [
    "industria = \"agriculta\"\n",
    "M_indst = m_industria(industria,orden_tipos_industrias, industrias,tipo_industrias,M)\n",
    "#coercio_por_menor\n",
    "l_indts = tipos_industrias[industria] # [Gra, peces]\n",
    "l_años_indst = []\n",
    "for i in range(M_inst.shape[0]):\n",
    "    inds_tip = l_indts[i] # Granja\n",
    "    fila = M[i,:]\n",
    "    ind = fila.argmax()\n",
    "    anio = años[ind]\n",
    "    print(\"EL año donde se gasto mas de la {} fue {}\".format(inds_tip,anio))\n",
    "    l_años_indst.append(anio)\n",
    "    "
   ]
  },
  {
   "cell_type": "markdown",
   "id": "fd1ee2bf",
   "metadata": {},
   "source": [
    "4. Para la industria \"hospitales\", indique en que años gasto menos en salarios, que el promedio de salarios para dicha industria."
   ]
  },
  {
   "cell_type": "code",
   "execution_count": null,
   "id": "07a364c0",
   "metadata": {},
   "outputs": [],
   "source": [
    "hos = industrias.index('hospitales')\n",
    "\n",
    "fila = M.shape[0]\n",
    "\n",
    "sueldos = M[hos,:]\n",
    "pro = sueldos.mean()\n",
    "vector = sueldos<pro\n",
    "v_anios = np.array(años)\n",
    "años_me= v_anios[vector]"
   ]
  },
  {
   "cell_type": "markdown",
   "id": "385407ed",
   "metadata": {},
   "source": [
    "5. Para los años 2005 a 2010, determine la industria con menor gasto total en salarios, y cuanto gasto"
   ]
  },
  {
   "cell_type": "code",
   "execution_count": null,
   "id": "08e4fb39",
   "metadata": {},
   "outputs": [],
   "source": [
    "ind = años.index(2005)\n",
    "ind2 = años.index(2010)\n",
    "M_anios = M[:,ind:ind2+1]\n",
    "lista_sum = []\n",
    "for i in range(fila):\n",
    "    valor = M_anios[i,:]\n",
    "    suma = valor.sum()\n",
    "    lista_sum.append(suma)\n",
    "v_sumas = np.array(lista_sum)\n",
    "ind = v_sumas.argmin()\n",
    "gasto = lista_sum[ind]\n",
    "industria_menor = industrias[ind]"
   ]
  },
  {
   "cell_type": "code",
   "execution_count": 1,
   "id": "a0d927d2",
   "metadata": {},
   "outputs": [
    {
     "data": {
      "text/plain": [
       "array([1, 2, 0], dtype=int64)"
      ]
     },
     "execution_count": 1,
     "metadata": {},
     "output_type": "execute_result"
    }
   ],
   "source": [
    "import numpy as np\n",
    "a= np.array([100,25,85])\n",
    "a.argsort()"
   ]
  },
  {
   "cell_type": "code",
   "execution_count": null,
   "id": "bfb32c51",
   "metadata": {},
   "outputs": [],
   "source": []
  }
 ],
 "metadata": {
  "kernelspec": {
   "display_name": "Python 3",
   "language": "python",
   "name": "python3"
  },
  "language_info": {
   "codemirror_mode": {
    "name": "ipython",
    "version": 3
   },
   "file_extension": ".py",
   "mimetype": "text/x-python",
   "name": "python",
   "nbconvert_exporter": "python",
   "pygments_lexer": "ipython3",
   "version": "3.9.5"
  }
 },
 "nbformat": 4,
 "nbformat_minor": 5
}
