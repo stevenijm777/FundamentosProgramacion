{
 "cells": [
  {
   "cell_type": "code",
   "execution_count": 1,
   "id": "885dd5b1",
   "metadata": {},
   "outputs": [],
   "source": [
    "import numpy as np"
   ]
  },
  {
   "cell_type": "markdown",
   "id": "1ef0bf8e",
   "metadata": {},
   "source": [
    "            \n",
    "    G    [10, 5, 100, 20, 22, 78, 99, 122],\n",
    "    M    [8, 8, 11, 200, 6, 78, 92, 192],\n",
    "    Q    [18, 8, 11, 3, 6, 78, 92, 192],\n",
    "    C    [8, 8, 11, 6, 6, 100, 92, 34],\n",
    "    T    [8, 65, 11, 200, 6, 7, 92, 69],\n",
    "    P    [8, 43, 11, 500, 6, 25, 92, 12]"
   ]
  },
  {
   "cell_type": "code",
   "execution_count": 9,
   "id": "b136caaf",
   "metadata": {},
   "outputs": [],
   "source": [
    "\n",
    "costa = ['Guayaquil', 'Machala']\n",
    "sierra = ['Quito', 'Cuenca']\n",
    "oriente = ['Tena', 'Puyo']\n",
    "\n",
    "ciudades = costa + sierra + oriente\n",
    "\n",
    "marcas = ['Kia', 'Hyundai', 'Honda', 'Mazda', 'Toyota', 'Audi', 'VW', 'Chevrolet']\n",
    "\n",
    "ventas_autos = np.array([\n",
    "    [10, 5, 100, 20, 22, 78, 99, 122],\n",
    "    [8, 8, 11, 200, 6, 78, 92, 192],\n",
    "    [18, 8, 11, 3, 6, 78, 92, 192],\n",
    "    [8, 8, 11, 6, 6, 100, 92, 34],\n",
    "    [8, 65, 11, 200, 6, 7, 92, 69],\n",
    "    [8, 43, 11, 500, 6, 25, 92, 12]\n",
    "])\n"
   ]
  },
  {
   "cell_type": "code",
   "execution_count": null,
   "id": "14f8eab4",
   "metadata": {},
   "outputs": [],
   "source": [
    "\n",
    "# for fila in ventas_autos:\n",
    "#     for elem in fila:\n",
    "#         print(elem)\n",
    "\n",
    "np.random.seed(5)\n",
    "unidades_defectuosas = np.random.randint(0, 3, ventas_autos.shape)\n",
    "\n",
    "#¿Cual es total de autos vendidos?\n",
    "total = ventas_autos.sum()\n",
    "print('Total autos de autos vendidos %d' %  total)\n",
    "\n",
    "#¿Cual es porcentaje de autos defectusos para cada ciudada/marca? defec / cantidad * 100\n",
    "porc_defectuosos = unidades_defectuosas / ventas_autos * 100\n",
    "#print(porc_defectuosos)\n",
    "\n",
    "#total autos vendidos en region costa\n",
    "total = ventas_autos[:len(costa), : ].sum()\n",
    "print('total ventas costa %d' % total)\n",
    "\n",
    "#total de lventas de carros para cada ciudade\n",
    "ventas_ciudad = ventas_autos.sum(axis=1)\n",
    "print(ventas_ciudad)\n",
    "for i in range(ventas_ciudad.size):\n",
    "    print('Ventas totales en %s: %d' % (ciudades[i], ventas_ciudad[i]))\n",
    "\n",
    "prom_ventas_ciudad = ventas_ciudad.mean()\n",
    "print('Promedio de ventas por ciudad %d' % prom_ventas_ciudad)\n",
    "\n",
    "#ciudad y marca con mas ventas\n",
    "coord = np.unravel_index(ventas_autos.argmax(), ventas_autos.shape)\n",
    "print(coord)\n",
    "print('La ciudad que mas vendio es %s y la marca %s' % (ciudades[coord[0]], marcas[coord[1]]))\n",
    "\n",
    "#las 4 marcas vendidas por ciudad\n",
    "idx_ordenados = ventas_autos.argsort(axis=1)\n",
    "print(ventas_autos)\n",
    "print(idx_ordenados)\n",
    "\n",
    "top_4_idx = idx_ordenados[:, -4:]       #o si top mas pequenos, [:, 0:4]\n",
    "print(top_4_idx)\n",
    "\n",
    "for idx_ciudad in range(top_4_idx.shape[0]):\n",
    "    ciudad = ciudades[idx_ciudad]\n",
    "    print('Marca mas vendida para %s: ' % ciudad)\n",
    "    for j in range(top_4_idx.shape[1]):\n",
    "        idx_col = top_4_idx[idx_ciudad, j]\n",
    "        marca = marcas[ idx_col ]\n",
    "        cantidad = ventas_autos[idx_ciudad, idx_col]\n",
    "        print('- %s: %d' % (marca, cantidad))\n"
   ]
  },
  {
   "cell_type": "code",
   "execution_count": 7,
   "id": "f6f24caf",
   "metadata": {},
   "outputs": [],
   "source": [
    "ventas_autos = np.array([\n",
    "    [10, 5, 100, 20, 22, 78, 99, 122],\n",
    "    [8, 8, 11, 200, 6, 78, 92, 192],\n",
    "    [18, 8, 11, 3, 6, 78, 92, 192],\n",
    "    [8, 8, 11, 6, 6, 100, 92, 34],\n",
    "    [8, 65, 11, 200, 6, 7, 92, 69],\n",
    "    [8, 43, 11, 500, 6, 25, 92, 12]\n",
    "])\n",
    "\n"
   ]
  },
  {
   "cell_type": "code",
   "execution_count": 12,
   "id": "08829e4a",
   "metadata": {},
   "outputs": [
    {
     "data": {
      "text/plain": [
       "48"
      ]
     },
     "execution_count": 12,
     "metadata": {},
     "output_type": "execute_result"
    }
   ],
   "source": [
    "ventas_autos.size"
   ]
  },
  {
   "cell_type": "code",
   "execution_count": 3,
   "id": "9bf1bde8",
   "metadata": {},
   "outputs": [
    {
     "name": "stdout",
     "output_type": "stream",
     "text": [
      "None\n"
     ]
    }
   ],
   "source": [
    "np.random.seed(5)"
   ]
  },
  {
   "cell_type": "code",
   "execution_count": 5,
   "id": "27c9aec5",
   "metadata": {},
   "outputs": [],
   "source": [
    "np.random.seed(5)\n",
    "unidades_defectuosas = np.random.randint(0, 3, ventas_autos.shape)"
   ]
  },
  {
   "cell_type": "code",
   "execution_count": 6,
   "id": "0d7df9ab",
   "metadata": {},
   "outputs": [
    {
     "data": {
      "text/plain": [
       "array([[2, 1, 2, 2, 0, 1, 0, 0],\n",
       "       [2, 0, 2, 0, 0, 1, 1, 0],\n",
       "       [0, 1, 1, 2, 0, 2, 1, 2],\n",
       "       [2, 1, 1, 2, 1, 1, 2, 1],\n",
       "       [2, 0, 2, 1, 2, 0, 0, 0],\n",
       "       [2, 0, 1, 2, 0, 2, 1, 2]])"
      ]
     },
     "execution_count": 6,
     "metadata": {},
     "output_type": "execute_result"
    }
   ],
   "source": [
    "unidades_defectuosas"
   ]
  },
  {
   "cell_type": "code",
   "execution_count": 10,
   "id": "05b41d31",
   "metadata": {
    "scrolled": true
   },
   "outputs": [
    {
     "name": "stdout",
     "output_type": "stream",
     "text": [
      "(5, 3)\n",
      "La ciudad que mas vendio es Puyo y la marca Mazda\n"
     ]
    }
   ],
   "source": [
    "\n",
    "#ciudad y marca con mas ventas\n",
    "coord = np.unravel_index(ventas_autos.argmax(), ventas_autos.shape)\n",
    "print(coord)\n",
    "print('La ciudad que mas vendio es %s y la marca %s' % (ciudades[coord[0]], marcas[coord[1]]))"
   ]
  },
  {
   "cell_type": "code",
   "execution_count": 11,
   "id": "a98ce5e5",
   "metadata": {},
   "outputs": [
    {
     "data": {
      "text/plain": [
       "43"
      ]
     },
     "execution_count": 11,
     "metadata": {},
     "output_type": "execute_result"
    }
   ],
   "source": [
    "ventas_autos.argmax()"
   ]
  },
  {
   "cell_type": "code",
   "execution_count": 26,
   "id": "99b68fcd",
   "metadata": {
    "scrolled": true
   },
   "outputs": [
    {
     "data": {
      "text/plain": [
       "array([2, 4, 0, 1, 0, 3, 0, 1], dtype=int64)"
      ]
     },
     "execution_count": 26,
     "metadata": {},
     "output_type": "execute_result"
    }
   ],
   "source": [
    "\n",
    "M = np.array([\n",
    "    [10, 5, 100, 20, 22, 78, 99, 122],\n",
    "    [8, 8, 11, 500, 6, 78, 92, 192],\n",
    "    [18, 8, 11, 3, 6, 78, 92, 192],\n",
    "    [8, 8, 11, 6, 6, 100, 92, 34],\n",
    "    [8, 65, 11, 200, 6, 7, 92, 69],\n",
    "    [8, 43, 11, 500, 6, 25, 92, 12]\n",
    "])\n",
    "\n",
    "M.argmax(axis = 0)\n"
   ]
  },
  {
   "cell_type": "code",
   "execution_count": 30,
   "id": "9a881cfa",
   "metadata": {},
   "outputs": [
    {
     "data": {
      "text/plain": [
       "array([2, 4, 0, 1, 0, 3, 0, 1], dtype=int64)"
      ]
     },
     "execution_count": 30,
     "metadata": {},
     "output_type": "execute_result"
    }
   ],
   "source": [
    "# columna\n",
    "def inds_max(M):\n",
    "    inds = []\n",
    "    cols = M.shape[1]\n",
    "    for j in range(cols): # 0\n",
    "        col = M[:,j] # [10 8 18 8 8 8]\n",
    "        ind_max = col.argmax() # 2\n",
    "        inds.append(ind_max)\n",
    "    v_inds = np.array(inds)\n",
    "    return v_inds\n",
    "        \n",
    "inds_max(M)       \n",
    "\n",
    "    "
   ]
  },
  {
   "cell_type": "code",
   "execution_count": null,
   "id": "cfa1c2ea",
   "metadata": {},
   "outputs": [],
   "source": [
    "def ind_mayor_Matrix(M)\n",
    "    filas = M.shape()[0]\n",
    "    cols = M.shape()[1]\n",
    "    maxi = M.max()\n",
    "    for i in range(filas):\n",
    "        for j in range(cols):\n",
    "            if M[i,j] == maxi:\n",
    "                return (i,j)\n",
    "            "
   ]
  }
 ],
 "metadata": {
  "kernelspec": {
   "display_name": "Python 3",
   "language": "python",
   "name": "python3"
  },
  "language_info": {
   "codemirror_mode": {
    "name": "ipython",
    "version": 3
   },
   "file_extension": ".py",
   "mimetype": "text/x-python",
   "name": "python",
   "nbconvert_exporter": "python",
   "pygments_lexer": "ipython3",
   "version": "3.9.5"
  }
 },
 "nbformat": 4,
 "nbformat_minor": 5
}
