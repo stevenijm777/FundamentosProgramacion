{
 "cells": [
  {
   "cell_type": "code",
   "execution_count": 2,
   "id": "361fa57c",
   "metadata": {},
   "outputs": [
    {
     "name": "stdout",
     "output_type": "stream",
     "text": [
      "[[ 0.  0. 14. 13.  4. 21.  0.  4.]\n",
      " [12.  6. 17.  9.  0. 15.  6.  3.]\n",
      " [ 2. 22. 14. 15.  1.  6.  0.  2.]\n",
      " [ 2.  8.  3.  4. 22. 15. 13. 20.]\n",
      " [23. 14. 12.  0. 16. 18. 23. 23.]\n",
      " [ 0. 12.  0. 16. 19.  1. 12. 19.]\n",
      " [ 0.  0.  0.  0.  0.  0.  0.  0.]]\n",
      "['20200705' '20200519' '20200705' '20200705' '20200519' '20220523']\n"
     ]
    }
   ],
   "source": [
    "import numpy as np\n",
    "nomArchivo = \"juanmarcet.csv\"\n",
    "f = open(nomArchivo)\n",
    "columnas = f.readline().strip().split(',')  # lapiz,pluma,borrador,regla,cartulina,goma,sacapuntas,escuadra\n",
    "vector_columna = np.array(columnas)\n",
    "f.readline()\n",
    "f.readline()\n",
    "M = np.zeros((1,vector_columna.size))\n",
    "fila = 0\n",
    "listVendedores = []\n",
    "for linea in f: # 20200705,borrador|14;regla|13;cartulina|4;escuadra|4;goma|21\n",
    "    datos = linea.strip().split(\",\")\n",
    "    cod_Vendedor = datos[0]\n",
    "    articulos = datos[1].split(\";\")\n",
    "    listVendedores.append(cod_Vendedor)\n",
    "    for elemento in articulos:\n",
    "        art, cant = elemento.split('|')\n",
    "        cant = int(cant)\n",
    "        M[fila,vector_columna == art] = cant\n",
    "    nuevaFila = np.zeros((1,vector_columna.size))\n",
    "    M = np.concatenate((M, nuevaFila), axis=0)\n",
    "    fila += 1\n",
    "f.close()\n",
    "print(M)\n",
    "print(np.array(listVendedores))\n",
    "\n",
    "\n"
   ]
  },
  {
   "cell_type": "code",
   "execution_count": null,
   "id": "f07316f2",
   "metadata": {},
   "outputs": [],
   "source": [
    "def mas_registrado_mes(M, cod_vendedor, v_vendedores, v_articulos):\n",
    "    areavendedores = M[v_vendedores == cod_vendedor, :]\n",
    "    areaArticulos = np.where(areavendedores > 0, 1, 0)\n",
    "    vectortotales = areaArticulos.sum(axis=0)\n",
    "    indiMaxi = vectortotales.argmax()\n",
    "    return v_articulos(indiMaxi)"
   ]
  }
 ],
 "metadata": {
  "kernelspec": {
   "display_name": "Python 3",
   "language": "python",
   "name": "python3"
  },
  "language_info": {
   "codemirror_mode": {
    "name": "ipython",
    "version": 3
   },
   "file_extension": ".py",
   "mimetype": "text/x-python",
   "name": "python",
   "nbconvert_exporter": "python",
   "pygments_lexer": "ipython3",
   "version": "3.9.5"
  }
 },
 "nbformat": 4,
 "nbformat_minor": 5
}
