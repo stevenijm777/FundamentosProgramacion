{
 "cells": [
  {
   "cell_type": "code",
   "execution_count": 2,
   "id": "fcccdc72",
   "metadata": {},
   "outputs": [
    {
     "name": "stdout",
     "output_type": "stream",
     "text": [
      "[ True False  True False  True]\n",
      "[0 2 4]\n"
     ]
    }
   ],
   "source": [
    "import numpy as np\n",
    "# hacer un funcion promedioProductos(cod, codigos) que recibe un vector de codigos y una lista de codigos, mostrar el promedio de\n",
    "# todo el año de ESOS codigos\n",
    "def promedioProductos(cod, codigos, M):# [100034, 100312, 100021]\n",
    "    v_codigos = np.array(codigos) # [100034 100312 100021]\n",
    "    v_bools = np.isin(cod,v_codigos)\n",
    "    print(v_bools)\n",
    "    indices = np.where(v_bools)\n",
    "    print(indices[0])\n",
    "    for i in indices:\n",
    "        M[i,:]\n",
    "cod = np.array([100034,100312,100021,201245,432198])\n",
    "codigos = [100034, 100021, 432198]\n",
    "promedioProductos(cod, codigos)"
   ]
  },
  {
   "cell_type": "code",
   "execution_count": null,
   "id": "985df14e",
   "metadata": {},
   "outputs": [],
   "source": [
    "L_cod= cod.tolist()\n",
    "for codigo in codigos:\n",
    "    ind = L_cod.index(codigo) "
   ]
  },
  {
   "cell_type": "code",
   "execution_count": 4,
   "id": "36ff5353",
   "metadata": {},
   "outputs": [
    {
     "name": "stdout",
     "output_type": "stream",
     "text": [
      "[[3 2 4 4 2]\n",
      " [2 1 4 3 1]\n",
      " [4 3 1 2 3]\n",
      " [3 3 2 1 1]\n",
      " [3 3 3 1 2]\n",
      " [3 1 3 2 3]\n",
      " [2 3 3 1 4]]\n",
      "[20 16 20 14 16]\n"
     ]
    }
   ],
   "source": [
    "M = np.random.randint(1,5,(7,5))\n",
    "print(M)\n",
    "print(M.sum(axis = 0)) # columnas"
   ]
  },
  {
   "cell_type": "code",
   "execution_count": 5,
   "id": "6fabc4ea",
   "metadata": {},
   "outputs": [
    {
     "name": "stdout",
     "output_type": "stream",
     "text": [
      "[15 11 13 10 12 12 13]\n"
     ]
    }
   ],
   "source": [
    "print(M.sum(axis = 1))"
   ]
  },
  {
   "cell_type": "code",
   "execution_count": null,
   "id": "f96a5b18",
   "metadata": {},
   "outputs": [],
   "source": []
  }
 ],
 "metadata": {
  "kernelspec": {
   "display_name": "Python 3",
   "language": "python",
   "name": "python3"
  },
  "language_info": {
   "codemirror_mode": {
    "name": "ipython",
    "version": 3
   },
   "file_extension": ".py",
   "mimetype": "text/x-python",
   "name": "python",
   "nbconvert_exporter": "python",
   "pygments_lexer": "ipython3",
   "version": "3.9.5"
  }
 },
 "nbformat": 4,
 "nbformat_minor": 5
}
