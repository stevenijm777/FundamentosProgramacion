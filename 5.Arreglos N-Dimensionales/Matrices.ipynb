{
 "cells": [
  {
   "cell_type": "markdown",
   "id": "edab1a93",
   "metadata": {},
   "source": [
    "# Matrices"
   ]
  },
  {
   "cell_type": "code",
   "execution_count": 1,
   "id": "0d92e00d",
   "metadata": {},
   "outputs": [],
   "source": [
    "# Importar Modulo\n",
    "import numpy as np"
   ]
  },
  {
   "cell_type": "code",
   "execution_count": null,
   "id": "2de658c5",
   "metadata": {
    "scrolled": false
   },
   "outputs": [],
   "source": [
    "# iterar por elemento a un matriz\n",
    "for i in range(filas): # [0,1,2] # 0\n",
    "    for j in range(columnas): #[0,1,2,3] # 1\n",
    "        print(Matriz[i,j])"
   ]
  },
  {
   "cell_type": "code",
   "execution_count": null,
   "id": "16965f30",
   "metadata": {},
   "outputs": [],
   "source": [
    "Matriz= np.random.randint(1,10,(3,4))\n",
    "filas = Matriz.shape[0]\n",
    "columnas = Matriz.shape[1]\n",
    "print(filas)\n",
    "print(columnas)\n",
    "print(Matriz)"
   ]
  },
  {
   "cell_type": "code",
   "execution_count": null,
   "id": "c09ab3e1",
   "metadata": {},
   "outputs": [],
   "source": [
    "#recorrer por fila\n",
    "\n",
    "for fila in range(filas):#[0,1,2]\n",
    "    print(Matriz[fila,:])\n",
    "    print()"
   ]
  },
  {
   "cell_type": "code",
   "execution_count": null,
   "id": "f05e03e7",
   "metadata": {
    "scrolled": true
   },
   "outputs": [],
   "source": [
    "#recorrer por columna\n",
    "\n",
    "for columna in range(columnas):#[0,1,2,3]\n",
    "    print(Matriz[:,columna])\n",
    "    print()\n",
    "print(\"#imprimr la columna 2 con todas sus filas\")\n",
    "print(Matriz[:,2])#imprimr la columna 2 con todas sus filas\n"
   ]
  },
  {
   "cell_type": "markdown",
   "id": "e60cf1a0",
   "metadata": {},
   "source": [
    "## Operaciones básicas –Aritméticas.\n",
    "    * a.sum(axis=num_axis)\n",
    "    * a.prod(axis=num_axis)"
   ]
  },
  {
   "cell_type": "code",
   "execution_count": null,
   "id": "5d9d65b1",
   "metadata": {},
   "outputs": [],
   "source": [
    "# Sacar el total por fila \n",
    "l_T_fila = []\n",
    "for fila in range(filas):#[0,1,2]\n",
    "    T_fila = Matriz[fila,:].sum()\n",
    "    l_T_fila.append(T_fila)\n",
    "v_T_fila = np.array(l_T_fila)\n",
    "print(v_T_fila)\n",
    "v_filas = Matriz.sum(axis=1) # axis = 1 para iterar por filas\n",
    "print(\"vector\",v_filas)"
   ]
  },
  {
   "cell_type": "code",
   "execution_count": null,
   "id": "384934d5",
   "metadata": {},
   "outputs": [],
   "source": [
    "# Sacar el total por columna\n",
    "lista = []\n",
    "for columna in range(columnas):#0\n",
    "    total_Col = Matriz[:,columna].sum()\n",
    "    lista.append(total_Col)\n",
    "    print()\n",
    "vector = np.array(lista)\n",
    "print(\"vector\",vector)\n",
    "print(\"por axis = 0\")\n",
    "total_Cols = Matriz.sum(axis=0)\n",
    "print(total_Cols)"
   ]
  },
  {
   "cell_type": "code",
   "execution_count": null,
   "id": "fc0e4506",
   "metadata": {},
   "outputs": [],
   "source": [
    "#LLenar una MAtriz"
   ]
  },
  {
   "cell_type": "markdown",
   "id": "5ff8e6c5",
   "metadata": {},
   "source": [
    "                 Jose             Juan            Pepe\n",
    "             1P    |  2P   | 1P    |  2P    |  1P    |  2P    |\n",
    "Matematicas: 71.73 | 91.68 | 81.71 | 61.89\n",
    "    Fisica : 65.4  | 59.2 "
   ]
  },
  {
   "cell_type": "code",
   "execution_count": 2,
   "id": "9c9df217",
   "metadata": {
    "scrolled": true
   },
   "outputs": [
    {
     "data": {
      "text/plain": [
       "array([[71.73, 91.68, 81.71, 61.89, 21.79, 45.56],\n",
       "       [65.4 , 59.2 , 63.6 , 88.4 , 68.7 , 56.78],\n",
       "       [67.4 , 57.2 , 93.6 , 48.4 , 98.7 , 86.78]])"
      ]
     },
     "execution_count": 2,
     "metadata": {},
     "output_type": "execute_result"
    }
   ],
   "source": [
    "estudiantes = [\"Jose\",\"Pepe\",\"Maria\",\"Marco\",\"Juan\",\"Jhon\"]\n",
    "materias = [\"Matematica\",\"Fisica\",\"Biologia\"]\n",
    "M = np.array([[ 71.73, 91.68, 81.71, 61.89, 21.79, 45.56],\n",
    "            [ 65.4 , 59.2 , 63.6 , 88.4 , 68.7, 56.78 ],\n",
    "             [67.4 , 57.2 , 93.6 , 48.4 , 98.7, 86.78]])\n",
    "M"
   ]
  },
  {
   "cell_type": "code",
   "execution_count": null,
   "id": "d12b5f8e",
   "metadata": {
    "scrolled": true
   },
   "outputs": [],
   "source": [
    "#promedio de cada estudiante\n",
    "M.mean(axis = 0)"
   ]
  },
  {
   "cell_type": "code",
   "execution_count": null,
   "id": "b9dd3e53",
   "metadata": {},
   "outputs": [],
   "source": [
    "# mostrar el estudiante mejor de cada materia\n",
    "inds= M.argmax(axis = 1)\n",
    "v_estudiantes= np.array(estudiantes)\n",
    "v_estudiantes[inds]"
   ]
  },
  {
   "cell_type": "code",
   "execution_count": 5,
   "id": "40668e73",
   "metadata": {
    "scrolled": true
   },
   "outputs": [
    {
     "data": {
      "text/plain": [
       "array([[21.79, 45.56, 61.89, 71.73, 81.71, 91.68],\n",
       "       [56.78, 59.2 , 63.6 , 65.4 , 68.7 , 88.4 ],\n",
       "       [48.4 , 57.2 , 67.4 , 86.78, 93.6 , 98.7 ]])"
      ]
     },
     "execution_count": 5,
     "metadata": {},
     "output_type": "execute_result"
    }
   ],
   "source": [
    "M1 = M.copy()\n",
    "M1.sort(axis =1)\n",
    "M1"
   ]
  },
  {
   "cell_type": "code",
   "execution_count": null,
   "id": "bc10fe62",
   "metadata": {},
   "outputs": [],
   "source": [
    "# quienes pasaron en matematica\n",
    "promFinal = []\n",
    "fila = 0\n",
    "estudiantes = [\"Jose\",\"Juan\",\"Pepe\"]\n",
    "l_Parcial  = [\"1P\",\"2P\"]\n",
    "cont_columna = 0\n",
    "for ind_Est in range(estudiantes): #[0,1,2]\n",
    "    ini_Columna =  ind_Est*len(l_Parcial)\n",
    "    fin_Columna = ini_columna+len(L_parcial)\n",
    "    vector = M[fila,ini_Columna:fin_Columna]\n",
    "    "
   ]
  },
  {
   "cell_type": "code",
   "execution_count": null,
   "id": "6cd2f388",
   "metadata": {},
   "outputs": [],
   "source": [
    "import numpy as np \n",
    "letra_b = np.random.randint(1,15,(5,))\n",
    "letra_i = np.random.randint(16,30,(5,))\n",
    "letra_n = np.random.randint(31,45,(5,))\n",
    "letra_g = np.random.randint(46,60,(5,))\n",
    "letra_o = np.random.randint(61,75,(5,))\n",
    "print(letra_b)\n",
    "print(letra_i)\n",
    "print(letra_n)\n",
    "print(letra_g)\n",
    "print(letra_o)\n",
    "M = np.array(letra_b+letra_i+letra_n+letra_g+letra_o)\n",
    "print(M)"
   ]
  },
  {
   "cell_type": "code",
   "execution_count": 7,
   "id": "29bb75cd",
   "metadata": {},
   "outputs": [
    {
     "ename": "TypeError",
     "evalue": "Field elements must be 2- or 3-tuples, got '2'",
     "output_type": "error",
     "traceback": [
      "\u001b[1;31m---------------------------------------------------------------------------\u001b[0m",
      "\u001b[1;31mTypeError\u001b[0m                                 Traceback (most recent call last)",
      "\u001b[1;32m<ipython-input-7-e5bd9abf5d33>\u001b[0m in \u001b[0;36m<module>\u001b[1;34m\u001b[0m\n\u001b[0;32m      3\u001b[0m \u001b[1;33m[\u001b[0m\u001b[1;36m20\u001b[0m\u001b[1;33m,\u001b[0m\u001b[1;36m20\u001b[0m\u001b[1;33m,\u001b[0m\u001b[1;36m20\u001b[0m\u001b[1;33m,\u001b[0m\u001b[1;36m20\u001b[0m\u001b[1;33m]\u001b[0m\u001b[1;33m,\u001b[0m\u001b[1;33m\u001b[0m\u001b[1;33m\u001b[0m\u001b[0m\n\u001b[0;32m      4\u001b[0m [30,30,30,30]])\n\u001b[1;32m----> 5\u001b[1;33m \u001b[0mB\u001b[0m \u001b[1;33m=\u001b[0m \u001b[0mnp\u001b[0m\u001b[1;33m.\u001b[0m\u001b[0marray\u001b[0m\u001b[1;33m(\u001b[0m\u001b[1;33m[\u001b[0m\u001b[1;36m1\u001b[0m\u001b[1;33m,\u001b[0m\u001b[1;36m2\u001b[0m\u001b[1;33m,\u001b[0m\u001b[1;36m3\u001b[0m\u001b[1;33m,\u001b[0m\u001b[1;36m4\u001b[0m\u001b[1;33m]\u001b[0m\u001b[1;33m,\u001b[0m\u001b[1;33m[\u001b[0m\u001b[1;36m2\u001b[0m\u001b[1;33m,\u001b[0m\u001b[1;36m4\u001b[0m\u001b[1;33m,\u001b[0m\u001b[1;36m6\u001b[0m\u001b[1;33m,\u001b[0m\u001b[1;36m8\u001b[0m\u001b[1;33m]\u001b[0m\u001b[1;33m)\u001b[0m\u001b[1;33m\u001b[0m\u001b[1;33m\u001b[0m\u001b[0m\n\u001b[0m\u001b[0;32m      6\u001b[0m \u001b[0mA\u001b[0m\u001b[1;33m+\u001b[0m\u001b[0mB\u001b[0m\u001b[1;33m\u001b[0m\u001b[1;33m\u001b[0m\u001b[0m\n",
      "\u001b[1;31mTypeError\u001b[0m: Field elements must be 2- or 3-tuples, got '2'"
     ]
    }
   ],
   "source": [
    "A = np.array([[0,0,0,0],\n",
    "[10,10,10,10],\n",
    "[20,20,20,20],\n",
    "[30,30,30,30]])\n",
    "B = np.array([1,2,3,4],[2,4,6,8])\n",
    "A+B"
   ]
  },
  {
   "cell_type": "code",
   "execution_count": 1,
   "id": "d09de2c4",
   "metadata": {},
   "outputs": [
    {
     "ename": "ValueError",
     "evalue": "shape mismatch: objects cannot be broadcast to a single shape",
     "output_type": "error",
     "traceback": [
      "\u001b[1;31m---------------------------------------------------------------------------\u001b[0m",
      "\u001b[1;31mValueError\u001b[0m                                Traceback (most recent call last)",
      "\u001b[1;32m<ipython-input-1-f0ed4b80c74f>\u001b[0m in \u001b[0;36m<module>\u001b[1;34m\u001b[0m\n\u001b[0;32m      2\u001b[0m \u001b[0mC\u001b[0m\u001b[1;33m=\u001b[0m \u001b[0mnp\u001b[0m\u001b[1;33m.\u001b[0m\u001b[0marray\u001b[0m\u001b[1;33m(\u001b[0m\u001b[1;33m[\u001b[0m\u001b[1;34m'CTR-2424'\u001b[0m\u001b[1;33m,\u001b[0m \u001b[1;34m'SKU-5675'\u001b[0m\u001b[1;33m,\u001b[0m \u001b[1;34m'PSS-4542'\u001b[0m\u001b[1;33m]\u001b[0m\u001b[1;33m)\u001b[0m\u001b[1;33m\u001b[0m\u001b[1;33m\u001b[0m\u001b[0m\n\u001b[0;32m      3\u001b[0m \u001b[0mB\u001b[0m \u001b[1;33m=\u001b[0m \u001b[0mnp\u001b[0m\u001b[1;33m.\u001b[0m\u001b[0marray\u001b[0m\u001b[1;33m(\u001b[0m\u001b[1;33m[\u001b[0m\u001b[1;34m'SKU-5675'\u001b[0m\u001b[1;33m,\u001b[0m \u001b[1;34m'PSS-4542'\u001b[0m\u001b[1;33m]\u001b[0m\u001b[1;33m)\u001b[0m\u001b[1;33m\u001b[0m\u001b[1;33m\u001b[0m\u001b[0m\n\u001b[1;32m----> 4\u001b[1;33m \u001b[0mC\u001b[0m\u001b[1;33m==\u001b[0m\u001b[0mB\u001b[0m\u001b[1;33m\u001b[0m\u001b[1;33m\u001b[0m\u001b[0m\n\u001b[0m",
      "\u001b[1;31mValueError\u001b[0m: shape mismatch: objects cannot be broadcast to a single shape"
     ]
    }
   ],
   "source": [
    "import numpy as np\n",
    "C= np.array(['CTR-2424', 'SKU-5675', 'PSS-4542'])\n",
    "B = np.array(['SKU-5675', 'PSS-4542'])\n",
    "C==B"
   ]
  },
  {
   "cell_type": "code",
   "execution_count": null,
   "id": "5997b622",
   "metadata": {},
   "outputs": [],
   "source": []
  }
 ],
 "metadata": {
  "kernelspec": {
   "display_name": "Python 3",
   "language": "python",
   "name": "python3"
  },
  "language_info": {
   "codemirror_mode": {
    "name": "ipython",
    "version": 3
   },
   "file_extension": ".py",
   "mimetype": "text/x-python",
   "name": "python",
   "nbconvert_exporter": "python",
   "pygments_lexer": "ipython3",
   "version": "3.9.5"
  }
 },
 "nbformat": 4,
 "nbformat_minor": 5
}
