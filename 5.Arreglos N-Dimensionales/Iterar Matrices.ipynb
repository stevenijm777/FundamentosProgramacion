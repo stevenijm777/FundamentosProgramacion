{
 "cells": [
  {
   "cell_type": "raw",
   "id": "72d0abb9",
   "metadata": {},
   "source": [
    "Iterar matrices"
   ]
  },
  {
   "cell_type": "code",
   "execution_count": 1,
   "id": "504b394a",
   "metadata": {
    "scrolled": false
   },
   "outputs": [
    {
     "data": {
      "text/plain": [
       "6"
      ]
     },
     "execution_count": 1,
     "metadata": {},
     "output_type": "execute_result"
    }
   ],
   "source": [
    "import numpy as np\n",
    "M = np.random.randint(0,5,(2,3))\n",
    "M.size"
   ]
  },
  {
   "cell_type": "code",
   "execution_count": null,
   "id": "669ee736",
   "metadata": {},
   "outputs": [],
   "source": [
    "# iterar por elemento \n",
    "filas = M.shape[0] # 2\n",
    "cols  = M.shape[1]\n",
    "for i in range(filas): # 0\n",
    "    for j in range(cols):# 0\n",
    "        valor = M[i,j]\n",
    "        if valor ==0:\n",
    "            M[i,j] = -1\n",
    "print(M)"
   ]
  },
  {
   "cell_type": "code",
   "execution_count": null,
   "id": "75f45c81",
   "metadata": {},
   "outputs": [],
   "source": [
    "# iterar una matriz por fila\n",
    "filas= M.shape[0]\n",
    "for i in range(filas):\n",
    "    fila = M[i,:]"
   ]
  },
  {
   "cell_type": "code",
   "execution_count": null,
   "id": "e71a1041",
   "metadata": {},
   "outputs": [],
   "source": [
    "# iterar por columnas\n",
    "cols= M.shape[1]\n",
    "for j in range(cols):\n",
    "    columna = M[:,j]\n",
    "    print(columna)"
   ]
  },
  {
   "cell_type": "code",
   "execution_count": null,
   "id": "daddc3fa",
   "metadata": {},
   "outputs": [],
   "source": [
    "# sumar por fila\n",
    "filas= M.shape[0]\n",
    "total = np.zeros(filas)\n",
    "for i in range(filas):\n",
    "    fila = M[i,:]\n",
    "    total[i] = fila.sum()\n",
    "print(total)"
   ]
  },
  {
   "cell_type": "code",
   "execution_count": null,
   "id": "fabbe811",
   "metadata": {},
   "outputs": [],
   "source": [
    "# sumar por fila con axis\n",
    "total_fila = M.sum(axis = 1)\n",
    "total_fila"
   ]
  },
  {
   "cell_type": "code",
   "execution_count": null,
   "id": "8a54a011",
   "metadata": {},
   "outputs": [],
   "source": [
    "# sumar por cols con axis \n",
    "total_col = M.sum(axis = 0)\n",
    "total_col"
   ]
  },
  {
   "cell_type": "code",
   "execution_count": null,
   "id": "a1675a7e",
   "metadata": {
    "scrolled": true
   },
   "outputs": [],
   "source": [
    "nombres = [\"Jose\",\"Pepe\",\"Maria\",\"lucas\"]\n",
    "materias = [\"matematica\",\"fisica\"]\n",
    "M = np.random.randint(0,100,(4,2))\n",
    "M"
   ]
  },
  {
   "cell_type": "code",
   "execution_count": null,
   "id": "c2d7c19b",
   "metadata": {},
   "outputs": [],
   "source": [
    "# mostrar la maxima nota por materia\n",
    "M.max(axis=0)"
   ]
  },
  {
   "cell_type": "code",
   "execution_count": null,
   "id": "bbbd3242",
   "metadata": {
    "scrolled": true
   },
   "outputs": [],
   "source": [
    "# mostra el prom por estudiante\n",
    "M.mean(axis=1)"
   ]
  },
  {
   "cell_type": "code",
   "execution_count": null,
   "id": "62f9425b",
   "metadata": {
    "scrolled": true
   },
   "outputs": [],
   "source": [
    "matematica = M[:,0]\n",
    "indices = matematica.argsort()\n",
    "v_nombres= np.array(nombres)\n",
    "v_nombres[indices]"
   ]
  },
  {
   "cell_type": "code",
   "execution_count": null,
   "id": "d6542f55",
   "metadata": {},
   "outputs": [],
   "source": []
  }
 ],
 "metadata": {
  "kernelspec": {
   "display_name": "Python 3",
   "language": "python",
   "name": "python3"
  },
  "language_info": {
   "codemirror_mode": {
    "name": "ipython",
    "version": 3
   },
   "file_extension": ".py",
   "mimetype": "text/x-python",
   "name": "python",
   "nbconvert_exporter": "python",
   "pygments_lexer": "ipython3",
   "version": "3.9.5"
  }
 },
 "nbformat": 4,
 "nbformat_minor": 5
}
