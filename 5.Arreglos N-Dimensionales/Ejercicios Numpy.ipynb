{
 "cells": [
  {
   "cell_type": "code",
   "execution_count": 2,
   "id": "123e63d2",
   "metadata": {},
   "outputs": [],
   "source": [
    "import numpy as np"
   ]
  },
  {
   "cell_type": "code",
   "execution_count": 3,
   "id": "6fbbaacf",
   "metadata": {},
   "outputs": [],
   "source": [
    "nombres = [\"Jose\",\"Pepe\",\"Maria\",\"Marco\",\"Juan\",\"Jhon\",\"Nathaly\"]\n",
    "edades = np.array([15,14,19,18,17,20,22])"
   ]
  },
  {
   "cell_type": "code",
   "execution_count": 4,
   "id": "4e7dd4c3",
   "metadata": {
    "scrolled": true
   },
   "outputs": [
    {
     "name": "stdout",
     "output_type": "stream",
     "text": [
      "[False False  True False False False False]\n",
      "19\n"
     ]
    }
   ],
   "source": [
    "# mostrar la edad de Maria\n",
    "v_nombres = np.array(nombres)\n",
    "ind = v_nombres==\"Maria\"\n",
    "print(ind)\n",
    "print(edades[ind][0])"
   ]
  },
  {
   "cell_type": "code",
   "execution_count": 5,
   "id": "c762862c",
   "metadata": {},
   "outputs": [
    {
     "data": {
      "text/plain": [
       "array(['Maria', 'Marco', 'Jhon', 'Nathaly'], dtype='<U7')"
      ]
     },
     "execution_count": 5,
     "metadata": {},
     "output_type": "execute_result"
    }
   ],
   "source": [
    "# mostrar los que son mayores de edad\n",
    "edades>=18\n",
    "V_nombres = np.array(nombres)\n",
    "# vector le puedo indexar un vector bool\n",
    "V_nombres[edades>=18]\n",
    "# mostrar cuantos son mayores de 18\n",
    "print(len(V_nombres[edades>=18]))"
   ]
  },
  {
   "cell_type": "code",
   "execution_count": 6,
   "id": "f3d6c5ae",
   "metadata": {
    "scrolled": true
   },
   "outputs": [
    {
     "data": {
      "text/plain": [
       "'Nathaly'"
      ]
     },
     "execution_count": 6,
     "metadata": {},
     "output_type": "execute_result"
    }
   ],
   "source": [
    "ind = edades.argmax()\n",
    "nombres[ind]"
   ]
  },
  {
   "cell_type": "code",
   "execution_count": 12,
   "id": "ab03cb93",
   "metadata": {
    "scrolled": true
   },
   "outputs": [
    {
     "name": "stdout",
     "output_type": "stream",
     "text": [
      "Nathaly\n",
      "Pepe\n"
     ]
    }
   ],
   "source": [
    "# sacar el mayor(persona)\n",
    "#np.argmax()\n",
    "ind = np.argmax(edades)\n",
    "print(nombres[ind])\n",
    "# sacar el menor(persona) \n",
    "ind2 = np.argmin(edades)\n",
    "print(nombres[ind2])\n"
   ]
  },
  {
   "cell_type": "code",
   "execution_count": 17,
   "id": "72b0a58b",
   "metadata": {
    "scrolled": true
   },
   "outputs": [
    {
     "name": "stdout",
     "output_type": "stream",
     "text": [
      "[1 0 4 3 2 5 6]\n",
      "['Pepe' 'Jose' 'Juan' 'Marco' 'Maria' 'Jhon' 'Nathaly']\n",
      "[14 15 17 18 19 20 22]\n"
     ]
    }
   ],
   "source": [
    "#ordenar de mayor a menor\n",
    "# np.argsort(vector): Devuelve un vector con los indices ordenados del vector de menor a mayor\n",
    "print(np.argsort(edades))\n",
    "indices = np.argsort(edades)\n",
    "# mostrar nombres de menor a mayor\n",
    "v_nombres = np.array(nombres)\n",
    "# a un vector se le puede indexar un vector de indices\n",
    "nombres_ord = v_nombres[indices]\n",
    "print(nombres_ord)\n",
    "print(edades[indices])\n",
    "\n"
   ]
  },
  {
   "cell_type": "code",
   "execution_count": 23,
   "id": "48bb5e39",
   "metadata": {
    "scrolled": true
   },
   "outputs": [
    {
     "data": {
      "text/plain": [
       "array(['Nathaly', 'Jhon', 'Maria', 'Marco', 'Juan'], dtype='<U7')"
      ]
     },
     "execution_count": 23,
     "metadata": {},
     "output_type": "execute_result"
    }
   ],
   "source": [
    "# np.argsort(vector): Devuelve un vector con los indices ordenados del vector de mayor a menor\n",
    "indices2= np.argsort(edades)[::-1]\n",
    "v_nombres[indices2][:3]\n",
    "\n",
    "# top3 \n"
   ]
  },
  {
   "cell_type": "code",
   "execution_count": 30,
   "id": "490e8c06",
   "metadata": {},
   "outputs": [],
   "source": [
    "C = np.array(['CTR-2424', 'SKU-5675', 'PSS-4542'])\n",
    "P = np.array([ 56.65, 32.00, 22.22])\n",
    "D = np.array([0, 50, 10])\n",
    "S = np.array(['Ropa Niños', 'Juguetes', 'Hombre'])\n",
    "\n",
    "def calcularPrecio(codigo,C,P,D):\n",
    "      ind=codigo==C\n",
    "      precio=P[ind]\n",
    "      descuento=D[ind]\n",
    "      precioFin=precio-(precio*(descuento/100))\n",
    "      print(precioFin)\n"
   ]
  },
  {
   "cell_type": "code",
   "execution_count": null,
   "id": "50fd7256",
   "metadata": {},
   "outputs": [],
   "source": []
  }
 ],
 "metadata": {
  "kernelspec": {
   "display_name": "Python 3",
   "language": "python",
   "name": "python3"
  },
  "language_info": {
   "codemirror_mode": {
    "name": "ipython",
    "version": 3
   },
   "file_extension": ".py",
   "mimetype": "text/x-python",
   "name": "python",
   "nbconvert_exporter": "python",
   "pygments_lexer": "ipython3",
   "version": "3.9.5"
  }
 },
 "nbformat": 4,
 "nbformat_minor": 5
}
