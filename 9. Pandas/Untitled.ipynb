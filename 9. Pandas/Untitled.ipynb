{
 "cells": [
  {
   "cell_type": "code",
   "execution_count": null,
   "id": "6fe2489f",
   "metadata": {},
   "outputs": [],
   "source": [
    "import pandas as pd"
   ]
  },
  {
   "cell_type": "code",
   "execution_count": null,
   "id": "81539577",
   "metadata": {},
   "outputs": [],
   "source": [
    "# read file of Excel\n",
    "xls = pd.ExcelFile(nomArchivo)\n",
    "# show sheet of Excel\n",
    "print(xls.sheet_names)\n",
    "# create a DataFrame from sheet\n",
    "df = xls.parse('in')"
   ]
  },
  {
   "cell_type": "code",
   "execution_count": null,
   "id": "21f4e64d",
   "metadata": {},
   "outputs": [],
   "source": [
    "# Eliminar los registros que contengan un valor NaN\n",
    "df2 = pd.DataFrame(df)\n",
    "df2.dropna(how = 'any', inplace = True) # inplace cambio rapido"
   ]
  },
  {
   "cell_type": "code",
   "execution_count": null,
   "id": "0cd69d11",
   "metadata": {},
   "outputs": [],
   "source": [
    "# Elimiar registro buscando por columna\n",
    "columna = df2[df2[\"Nombre\"]!=\"N/A\"]"
   ]
  }
 ],
 "metadata": {
  "kernelspec": {
   "display_name": "Python 3 (ipykernel)",
   "language": "python",
   "name": "python3"
  },
  "language_info": {
   "codemirror_mode": {
    "name": "ipython",
    "version": 3
   },
   "file_extension": ".py",
   "mimetype": "text/x-python",
   "name": "python",
   "nbconvert_exporter": "python",
   "pygments_lexer": "ipython3",
   "version": "3.9.12"
  }
 },
 "nbformat": 4,
 "nbformat_minor": 5
}
