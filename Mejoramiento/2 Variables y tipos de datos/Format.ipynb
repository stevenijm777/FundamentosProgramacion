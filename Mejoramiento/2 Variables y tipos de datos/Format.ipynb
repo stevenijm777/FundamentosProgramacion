{
 "cells": [
  {
   "cell_type": "markdown",
   "id": "f5a0c898",
   "metadata": {},
   "source": [
    "# Format\n",
    "* Es una mejora del método de concatenación usando sustitución.\n",
    "* Retorna una cadena de caracteres sustituyendo los {} por los argumentos correspondientes."
   ]
  },
  {
   "cell_type": "code",
   "execution_count": null,
   "id": "c7ba07e0",
   "metadata": {},
   "outputs": [],
   "source": [
    "estudiante = \"Daniela Avila\"\n",
    "años = 3\n",
    "# \"Estudiante\" estudia en Espol y tiene \"años\" estudiando \n",
    "print(\"{} estudia en Espol y tiene {} años estudiando \".format(estudiante,años))"
   ]
  },
  {
   "cell_type": "markdown",
   "id": "01d20829",
   "metadata": {},
   "source": [
    "Presentar valores con n decimales"
   ]
  },
  {
   "cell_type": "code",
   "execution_count": 1,
   "id": "e6a735cb",
   "metadata": {},
   "outputs": [
    {
     "name": "stdout",
     "output_type": "stream",
     "text": [
      "Precio Final 2.91\n"
     ]
    }
   ],
   "source": [
    "# {:.nf}.format(valor) n es la cantidad de decimales\n",
    "valor = 2.60\n",
    "iva = 0.12\n",
    "total = valor + (valor*iva)\n",
    "print( \"Precio Final {:.2f}\".format(total))"
   ]
  },
  {
   "cell_type": "markdown",
   "id": "274cf947",
   "metadata": {},
   "source": [
    "Crear tablas "
   ]
  },
  {
   "cell_type": "code",
   "execution_count": 2,
   "id": "859ad45c",
   "metadata": {},
   "outputs": [
    {
     "name": "stdout",
     "output_type": "stream",
     "text": [
      "      PRODUCTO              VALOR               SIN IVA       \n"
     ]
    }
   ],
   "source": [
    "# ^ alinear centrado {:^n} n es la cantidad de esapcios que se reserva\n",
    "print(\"{:^20} {:^20} {:^20}\".format(\"PRODUCTO\", \"VALOR\", \"SIN IVA\"))"
   ]
  },
  {
   "cell_type": "code",
   "execution_count": 3,
   "id": "e8f41bb3",
   "metadata": {},
   "outputs": [
    {
     "name": "stdout",
     "output_type": "stream",
     "text": [
      "Capuchino            2.6                  9.22                \n"
     ]
    }
   ],
   "source": [
    "# < alinear a al izquierda {:<n} n es la cantidad de esapcios que se reserva\n",
    "print(\"{:<20} {:<20} {:<20,.2f}\".format(\"Capuchino\", \"2.6\", 9.221351))"
   ]
  },
  {
   "cell_type": "code",
   "execution_count": 4,
   "id": "26391269",
   "metadata": {},
   "outputs": [
    {
     "name": "stdout",
     "output_type": "stream",
     "text": [
      "            Expresso                  3.6                 9.22\n"
     ]
    }
   ],
   "source": [
    "# > alinear a al izquierda {:>n} n es la cantidad de esapcios que se reserva\n",
    "print(\"{:>20} {:>20} {:>20,.2f}\".format(\"Expresso\", \"3.6\", 9.221351))"
   ]
  },
  {
   "cell_type": "markdown",
   "id": "8cfa546c",
   "metadata": {},
   "source": [
    "menu\n",
    "1. Ingrese su nombre\n",
    "2. Ingrese su apellido\n",
    "3. Ingrese su numero de telefono"
   ]
  },
  {
   "cell_type": "code",
   "execution_count": null,
   "id": "2ecac219",
   "metadata": {},
   "outputs": [],
   "source": [
    "print(\n",
    "\"\"\"\n",
    "            menu\n",
    "    1. Ingrese su nombre\n",
    "    2. Ingrese su apellido\n",
    "    3. Ingrese su numero de telefono\n",
    "\"\"\")\n"
   ]
  },
  {
   "cell_type": "markdown",
   "id": "3aab4f88",
   "metadata": {},
   "source": [
    "Referencias\n",
    "https://pyformat.info\n",
    "https://www.geeksforgeeks.org/python-string-format-method/"
   ]
  },
  {
   "cell_type": "code",
   "execution_count": null,
   "id": "c7af398f",
   "metadata": {},
   "outputs": [],
   "source": []
  }
 ],
 "metadata": {
  "kernelspec": {
   "display_name": "Python 3",
   "language": "python",
   "name": "python3"
  },
  "language_info": {
   "codemirror_mode": {
    "name": "ipython",
    "version": 3
   },
   "file_extension": ".py",
   "mimetype": "text/x-python",
   "name": "python",
   "nbconvert_exporter": "python",
   "pygments_lexer": "ipython3",
   "version": "3.9.5"
  }
 },
 "nbformat": 4,
 "nbformat_minor": 5
}
