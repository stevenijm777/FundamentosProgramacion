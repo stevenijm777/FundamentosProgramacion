{
 "cells": [
  {
   "cell_type": "markdown",
   "id": "2dd91cdf",
   "metadata": {},
   "source": [
    "# division entera //"
   ]
  },
  {
   "cell_type": "code",
   "execution_count": null,
   "id": "44d33950",
   "metadata": {},
   "outputs": [],
   "source": [
    "x = 125\n",
    "print(x/2)"
   ]
  },
  {
   "cell_type": "code",
   "execution_count": null,
   "id": "a6f78294",
   "metadata": {},
   "outputs": [],
   "source": [
    "x//2"
   ]
  },
  {
   "cell_type": "code",
   "execution_count": null,
   "id": "d4c667ed",
   "metadata": {
    "scrolled": true
   },
   "outputs": [],
   "source": [
    "1255465//8"
   ]
  },
  {
   "cell_type": "code",
   "execution_count": null,
   "id": "3a1f40a8",
   "metadata": {},
   "outputs": [],
   "source": [
    "150//3"
   ]
  },
  {
   "cell_type": "markdown",
   "id": "985608d8",
   "metadata": {},
   "source": [
    "#Modulo"
   ]
  },
  {
   "cell_type": "code",
   "execution_count": null,
   "id": "5e390543",
   "metadata": {},
   "outputs": [],
   "source": [
    "#%\n",
    "# para saver si un numero es divible para otro\n",
    "num1 = 24\n",
    "num2 = 5\n",
    "# si el modulo de num1%num2 es cero num1 es divisible para num2\n",
    "divisible = num1%num2\n",
    "print(divisible)\n",
    "condicion = num1%num2==0\n",
    "print(condicion)\n"
   ]
  },
  {
   "cell_type": "code",
   "execution_count": null,
   "id": "31d9e899",
   "metadata": {
    "scrolled": true
   },
   "outputs": [],
   "source": [
    "# Para saber los ultimos digitos de un numero\n",
    "numero = 4256\n",
    "print(numero%10)\n",
    "print(numero%100)\n",
    "print(numero%1000)\n",
    "print(numero%10000)"
   ]
  },
  {
   "cell_type": "code",
   "execution_count": null,
   "id": "7b120116",
   "metadata": {},
   "outputs": [],
   "source": [
    "# Para daber si un numero es par o impar\n",
    "# si el num1%2 es 0 entonces es par\n",
    "# si el num1%2 es 1 entonces es impar\n",
    "num1 = 46545\n",
    "print(num1%2)\n",
    "# imprima verdadero si un numero es par si no les imprima falso\n",
    "condicion = num1%2 == 0\n",
    "print(condicion)\n"
   ]
  },
  {
   "cell_type": "code",
   "execution_count": null,
   "id": "3468e1d9",
   "metadata": {},
   "outputs": [],
   "source": []
  }
 ],
 "metadata": {
  "kernelspec": {
   "display_name": "Python 3",
   "language": "python",
   "name": "python3"
  },
  "language_info": {
   "codemirror_mode": {
    "name": "ipython",
    "version": 3
   },
   "file_extension": ".py",
   "mimetype": "text/x-python",
   "name": "python",
   "nbconvert_exporter": "python",
   "pygments_lexer": "ipython3",
   "version": "3.9.5"
  }
 },
 "nbformat": 4,
 "nbformat_minor": 5
}
