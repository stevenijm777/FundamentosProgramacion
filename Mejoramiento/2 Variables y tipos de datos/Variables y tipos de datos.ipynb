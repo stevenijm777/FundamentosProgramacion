{
 "cells": [
  {
   "cell_type": "markdown",
   "id": "ace4e8f2",
   "metadata": {},
   "source": [
    "# Tipos de datos\n",
    "### Numericos\n",
    "* int 5\n",
    "* float 5.5\n",
    "* complex -i\n",
    "### Booleanos\n",
    "* True/False\n",
    "### Strings \n",
    "* \"Hola\"\n",
    "* 'mundo'"
   ]
  },
  {
   "cell_type": "markdown",
   "id": "1886759b",
   "metadata": {},
   "source": [
    "### identificar el tipo de dato\n",
    "* La cantidad de hijos de una pareja.\n",
    "* La matrícula de un estudiante.\n",
    "* número de telefono de una persona.\n",
    "* El kilometraje de un auto."
   ]
  },
  {
   "cell_type": "markdown",
   "id": "05b91adb",
   "metadata": {},
   "source": [
    "# Variables\n",
    "* Sólo puede contener números, letras o el caracter _\n",
    "* No puede iniciar con un número.\n",
    "*  No debe coincidir con una palabra reservada del lenguaje.\n"
   ]
  },
  {
   "cell_type": "code",
   "execution_count": null,
   "id": "21f52a13",
   "metadata": {},
   "outputs": [],
   "source": [
    "# Asignación múltiple:\n",
    "day, month, year = ('miércoles', 'mayo', 2016)\n",
    "# asignación de intercambio:\n",
    "base = 15; altura = 30\n",
    "base, altura = altura, base"
   ]
  },
  {
   "cell_type": "code",
   "execution_count": null,
   "id": "ecef2ba1",
   "metadata": {
    "scrolled": true
   },
   "outputs": [],
   "source": [
    "altura"
   ]
  },
  {
   "cell_type": "markdown",
   "id": "30b3eadd",
   "metadata": {},
   "source": [
    "# Operaciones Artimeticas\n",
    "## Modulo\n",
    "#### Devolver el residuo de una operación"
   ]
  },
  {
   "cell_type": "markdown",
   "id": "5db28bf2",
   "metadata": {},
   "source": [
    "![](division_01.JPG)"
   ]
  },
  {
   "cell_type": "markdown",
   "id": "3de273e9",
   "metadata": {},
   "source": [
    "![](division_02.JPG)"
   ]
  },
  {
   "cell_type": "code",
   "execution_count": null,
   "id": "da27e20d",
   "metadata": {
    "scrolled": true
   },
   "outputs": [],
   "source": [
    "# para saber si un numero es divible para otro\n",
    "num1 = 12\n",
    "num2 = 6\n",
    "# si el modulo de num1%num2 es cero num1 es divisible para num2\n",
    "divisible = num1%num2\n",
    "print(divisible)"
   ]
  },
  {
   "cell_type": "code",
   "execution_count": null,
   "id": "c40f4fe9",
   "metadata": {
    "scrolled": true
   },
   "outputs": [],
   "source": [
    "\n",
    "num = 116546\n",
    "num%100"
   ]
  },
  {
   "cell_type": "code",
   "execution_count": null,
   "id": "fe22860b",
   "metadata": {},
   "outputs": [],
   "source": [
    "# Para saber si un numero es par o impar\n",
    "# si el num%2 es 0 entonces es par\n",
    "# si el num%2 es 1 entonces es impar\n",
    "num = 44\n",
    "print(num%2)\n",
    "# imprima verdadero si un numero es par si no les imprima falso\n",
    "condicion = num%2 == 0\n",
    "print(condicion)\n"
   ]
  },
  {
   "cell_type": "markdown",
   "id": "ac39b1c3",
   "metadata": {},
   "source": [
    "### Crear una funcion en python que pida al usuario una cantidad de segundos y muestre por pantalla la cantidad de horas minutos y segundos, la cantidad de segundos por defecto es 45000"
   ]
  },
  {
   "cell_type": "code",
   "execution_count": null,
   "id": "41e55222",
   "metadata": {},
   "outputs": [],
   "source": [
    "def cant_horas(segundos=45000):#45365\n",
    "    horas = segundos//3600 #12\n",
    "    sobrante_horas = segundos%3600 # 21565\n",
    "    minutos = sobrante_horas//60 # 36\n",
    "    segundos = minutos%60 # 5\n",
    "    return horas,minutos,segundos\n",
    "    \n",
    "    "
   ]
  },
  {
   "cell_type": "markdown",
   "id": "90c29d02",
   "metadata": {},
   "source": [
    "### Crear una Programa que pida una cantidad de segundos y muestre la cantidad de horas y minutos "
   ]
  },
  {
   "cell_type": "code",
   "execution_count": null,
   "id": "1ab56318",
   "metadata": {
    "scrolled": true
   },
   "outputs": [],
   "source": [
    "segundos_user=input(\"Ingrese una cantidad de segundos: \")\n"
   ]
  },
  {
   "cell_type": "code",
   "execution_count": null,
   "id": "74f4db92",
   "metadata": {},
   "outputs": [],
   "source": [
    "horas,minutos,segundos = cant_horas()\n",
    "print(\"{}:{}:{}\".format(horas,minutos,segundos))"
   ]
  },
  {
   "cell_type": "markdown",
   "id": "0887b44e",
   "metadata": {},
   "source": [
    "#### Tema 2 (20 puntos). \n",
    "Un cajero automático requiere de una función billetes(cantidad) que reciba una cantidad de dólares (número entero) y encuentre su equivalente, usando la menor cantidad de billetes de 50, 20, 10, 5, 1, entregando el resultado en una lista."
   ]
  },
  {
   "cell_type": "code",
   "execution_count": null,
   "id": "8266967c",
   "metadata": {},
   "outputs": [],
   "source": [
    "def billetes(cantidad,l_tipos_billetes):# 3 [50,20,10,5,1]\n",
    "    vueltos = [] # [5,1,0,1,3]\n",
    "    for t_billete in l_tipos_billetes: #1\n",
    "        can_t = cantidad//t_billete #1\n",
    "        vueltos.append(can_t)\n",
    "        cantidad = cantidad%t_billete # 0\n",
    "    return vueltos"
   ]
  },
  {
   "cell_type": "code",
   "execution_count": null,
   "id": "1621ab75",
   "metadata": {},
   "outputs": [],
   "source": [
    "l_tipos_billetes = [50,20,10,5,1]"
   ]
  },
  {
   "cell_type": "code",
   "execution_count": null,
   "id": "22bb4222",
   "metadata": {},
   "outputs": [],
   "source": [
    "billetes(278,l_tipos_billetes)"
   ]
  },
  {
   "cell_type": "code",
   "execution_count": 2,
   "id": "1baffbd7",
   "metadata": {},
   "outputs": [],
   "source": [
    "def menu():\n",
    "    print(\"\"\"\n",
    "1. Ingreso de Vehículos\n",
    "2. Ingreso de Ventas por semestre\n",
    "3. Presentar ventas por rango\n",
    "4. Presentar vehículo con mayor venta por semestre\n",
    "5. Salir \n",
    " \"\"\")\n",
    "def submenu():\n",
    "    print(\"\"\"\n",
    "1.- semestre enero-junio\n",
    "2.- semestre junio- diciembre\"\"\")\n",
    "\n",
    "\n",
    "\n"
   ]
  },
  {
   "cell_type": "code",
   "execution_count": null,
   "id": "f765bea4",
   "metadata": {},
   "outputs": [
    {
     "name": "stdout",
     "output_type": "stream",
     "text": [
      "\n",
      "1. Ingreso de Vehículos\n",
      "2. Ingreso de Ventas por semestre\n",
      "3. Presentar ventas por rango\n",
      "4. Presentar vehículo con mayor venta por semestre\n",
      "5. Salir \n",
      " \n",
      "ingrese una opcion: 1\n",
      "ingrese los datos por csvtoyota\n",
      "ingrese una opcion: 2\n",
      "\n",
      "1.- semestre enero-junio\n",
      "2.- semestre junio- diciembre\n",
      "Ingrese semestre1\n",
      "primer semestre: 25,25\n",
      "Ingrese semestre2\n",
      "segundo semestre: 30,25\n"
     ]
    }
   ],
   "source": [
    "# main program\n",
    "menu()\n",
    "desde = 250\n",
    "hasta = 450\n",
    "op = input(\"ingrese una opcion: \")\n",
    "anuales = []\n",
    "primer = []\n",
    "while(not(op=='5')):\n",
    "    if op == '1':\n",
    "        vehiculos= input(\"ingrese los datos por csv\")\n",
    "        #Toyota Camry, Hyundai i10, Chevrolet Grand Vitara SZ\n",
    "        l_vehiculos = vehiculos.split(\",\")# [Toyota Camry, Hyundai i10, Chevrolet Grand Vitara SZ]\n",
    "        op = input(\"ingrese una opcion: \")\n",
    "    if op =='2':\n",
    "        submenu()\n",
    "        semestre = int(input(\"Ingrese semestre\"))\n",
    "        if semestre ==1:\n",
    "            ventas = input(\"primer semestre: \")\n",
    "            primer= ventas.split(\",\")\n",
    "            semestre = int(input(\"Ingrese semestre\"))\n",
    "        if semestre ==2:\n",
    "            ventas = input(\"segundo semestre: \")\n",
    "            segundo = ventas.split(\",\")\n",
    "        while (not(len(l_vehiculos)==len(primer))or not(len(l_vehiculos)==len(segundo)) ):\n",
    "            semestre = int(input(\"Ingrese semestre\"))\n",
    "            if semestre ==1:\n",
    "                ventas = input(\"primer semestre: \")\n",
    "                primer = ventas.split(\",\")\n",
    "            if semestre == 2 :\n",
    "                ventas = input(\"segundo semestre: \")\n",
    "                segundo = ventas.split(\",\")# 12,2,2,32\n",
    "    if op=='3':\n",
    "        for vehiculo in vehiculos:# toyota\n",
    "            ind = vehiculos.index(vehiculo) #0\n",
    "            venta = ventas[ind] #150\n",
    "            ini = input(\"ingrese inicio\")\n",
    "            fin = input(\"ingrese fin\")\n",
    "            if venta >= 250 and ventas<= 400:\n",
    "                anuales.append(vehiculo)\n",
    "    if op=='4':\n",
    "        l_tuplas = []#[(450,hynday),(),()]\n",
    "        for i in range(len(vehiculos)):\n",
    "            vehiculo = vehiculos[i]\n",
    "            venta = ventas[i]\n",
    "            l_tuplas.append(venta,vehiculo)\n",
    "        l_tuplas.sort(reverse=True)\n",
    "        mayor = l_tuplas[0]#(450,hyundai)\n",
    "        vehiculo_mayor = mayor[1]\n",
    "        print(vehiculo_mayor)\n",
    "    op = input(\"ingrese una opcion: \") \n",
    "        \n",
    "            \n",
    "        \n",
    "            \n",
    "        \n",
    "        \n",
    "        "
   ]
  },
  {
   "cell_type": "code",
   "execution_count": null,
   "id": "430e5542",
   "metadata": {},
   "outputs": [],
   "source": []
  },
  {
   "cell_type": "code",
   "execution_count": null,
   "id": "6169ad3a",
   "metadata": {},
   "outputs": [],
   "source": []
  }
 ],
 "metadata": {
  "kernelspec": {
   "display_name": "Python 3 (ipykernel)",
   "language": "python",
   "name": "python3"
  },
  "language_info": {
   "codemirror_mode": {
    "name": "ipython",
    "version": 3
   },
   "file_extension": ".py",
   "mimetype": "text/x-python",
   "name": "python",
   "nbconvert_exporter": "python",
   "pygments_lexer": "ipython3",
   "version": "3.10.0"
  }
 },
 "nbformat": 4,
 "nbformat_minor": 5
}
